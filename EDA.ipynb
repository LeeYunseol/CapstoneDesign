{
 "cells": [
  {
   "cell_type": "markdown",
   "metadata": {},
   "source": [
    "# Import Library"
   ]
  },
  {
   "cell_type": "code",
   "execution_count": 1,
   "metadata": {},
   "outputs": [],
   "source": [
    "import pandas as pd\n",
    "import numpy as np\n",
    "import os"
   ]
  },
  {
   "cell_type": "markdown",
   "metadata": {},
   "source": [
    "# 시작"
   ]
  },
  {
   "cell_type": "code",
   "execution_count": 6,
   "metadata": {},
   "outputs": [
    {
     "name": "stdout",
     "output_type": "stream",
     "text": [
      "현재 폴더 경로 :  C:\\Users\\hyunj\\Dropbox\\종합설계프로젝트\\중요\\데이터\n",
      "변경 후 폴더 경로 :  C:\\Users\\hyunj\\Dropbox\\종합설계프로젝트\\중요\\데이터\n",
      "현재 폴더 파일 :  ['ContainerPersp.csv', 'hanjin.csv']\n",
      "feature 항목 :  Index(['ID', 'VESSEL', 'CONTAINER_NO', 'MCHN_ID', 'MCHN_TP_CD', 'FULL_EMPTY',\n",
      "       'JOB_TYPE', 'POD', 'BLOCK_BAY', 'JOB_START_DT', 'JOB_END_DT'],\n",
      "      dtype='object')\n"
     ]
    },
    {
     "data": {
      "text/html": [
       "<div>\n",
       "<style scoped>\n",
       "    .dataframe tbody tr th:only-of-type {\n",
       "        vertical-align: middle;\n",
       "    }\n",
       "\n",
       "    .dataframe tbody tr th {\n",
       "        vertical-align: top;\n",
       "    }\n",
       "\n",
       "    .dataframe thead th {\n",
       "        text-align: right;\n",
       "    }\n",
       "</style>\n",
       "<table border=\"1\" class=\"dataframe\">\n",
       "  <thead>\n",
       "    <tr style=\"text-align: right;\">\n",
       "      <th></th>\n",
       "      <th>ID</th>\n",
       "      <th>VESSEL</th>\n",
       "      <th>CONTAINER_NO</th>\n",
       "      <th>MCHN_ID</th>\n",
       "      <th>MCHN_TP_CD</th>\n",
       "      <th>FULL_EMPTY</th>\n",
       "      <th>JOB_TYPE</th>\n",
       "      <th>POD</th>\n",
       "      <th>BLOCK_BAY</th>\n",
       "      <th>JOB_START_DT</th>\n",
       "      <th>JOB_END_DT</th>\n",
       "    </tr>\n",
       "  </thead>\n",
       "  <tbody>\n",
       "    <tr>\n",
       "      <th>0</th>\n",
       "      <td>1</td>\n",
       "      <td>ALAP-001/2018</td>\n",
       "      <td>AXIU1484082-2</td>\n",
       "      <td>GC112</td>\n",
       "      <td>QC</td>\n",
       "      <td>F</td>\n",
       "      <td>DS-QUAYSIDE</td>\n",
       "      <td>KRPUS</td>\n",
       "      <td>1B-38</td>\n",
       "      <td>20180131211752</td>\n",
       "      <td>20180131211924</td>\n",
       "    </tr>\n",
       "    <tr>\n",
       "      <th>1</th>\n",
       "      <td>2</td>\n",
       "      <td>ALAP-001/2018</td>\n",
       "      <td>AXIU1484082-2</td>\n",
       "      <td>TC221</td>\n",
       "      <td>TC</td>\n",
       "      <td>F</td>\n",
       "      <td>DS-YARDSIDE</td>\n",
       "      <td>KRPUS</td>\n",
       "      <td>1B-38</td>\n",
       "      <td>20180131213633</td>\n",
       "      <td>20180131213805</td>\n",
       "    </tr>\n",
       "    <tr>\n",
       "      <th>2</th>\n",
       "      <td>3</td>\n",
       "      <td>ALAP-001/2018</td>\n",
       "      <td>AXIU1484082-2</td>\n",
       "      <td>YT511</td>\n",
       "      <td>YT</td>\n",
       "      <td>F</td>\n",
       "      <td>DS-MOVE</td>\n",
       "      <td>KRPUS</td>\n",
       "      <td>1B-38</td>\n",
       "      <td>20180131211924</td>\n",
       "      <td>20180131213633</td>\n",
       "    </tr>\n",
       "    <tr>\n",
       "      <th>3</th>\n",
       "      <td>4</td>\n",
       "      <td>ALAP-001/2018</td>\n",
       "      <td>BEAU2976719-1</td>\n",
       "      <td>GC111</td>\n",
       "      <td>GC</td>\n",
       "      <td>F</td>\n",
       "      <td>LD-QUAYSIDE</td>\n",
       "      <td>CAVAN</td>\n",
       "      <td>2B-19</td>\n",
       "      <td>20180131202120</td>\n",
       "      <td>20180131202353</td>\n",
       "    </tr>\n",
       "    <tr>\n",
       "      <th>4</th>\n",
       "      <td>5</td>\n",
       "      <td>ALAP-001/2018</td>\n",
       "      <td>BEAU2976719-1</td>\n",
       "      <td>TC223</td>\n",
       "      <td>TC</td>\n",
       "      <td>F</td>\n",
       "      <td>LD-YARDSIDE</td>\n",
       "      <td>CAVAN</td>\n",
       "      <td>2B-19</td>\n",
       "      <td>20180131200147</td>\n",
       "      <td>20180131200420</td>\n",
       "    </tr>\n",
       "    <tr>\n",
       "      <th>...</th>\n",
       "      <td>...</td>\n",
       "      <td>...</td>\n",
       "      <td>...</td>\n",
       "      <td>...</td>\n",
       "      <td>...</td>\n",
       "      <td>...</td>\n",
       "      <td>...</td>\n",
       "      <td>...</td>\n",
       "      <td>...</td>\n",
       "      <td>...</td>\n",
       "      <td>...</td>\n",
       "    </tr>\n",
       "    <tr>\n",
       "      <th>424321</th>\n",
       "      <td>424322</td>\n",
       "      <td>SXNW-001/2018</td>\n",
       "      <td>XINU1481982-2</td>\n",
       "      <td>TC225</td>\n",
       "      <td>TC</td>\n",
       "      <td>F</td>\n",
       "      <td>LD-YARDSIDE</td>\n",
       "      <td>CAPRR</td>\n",
       "      <td>3B-43</td>\n",
       "      <td>20180130005307</td>\n",
       "      <td>20180130005540</td>\n",
       "    </tr>\n",
       "    <tr>\n",
       "      <th>424322</th>\n",
       "      <td>424323</td>\n",
       "      <td>SXNW-001/2018</td>\n",
       "      <td>XINU1481982-2</td>\n",
       "      <td>YT505</td>\n",
       "      <td>YT</td>\n",
       "      <td>F</td>\n",
       "      <td>LD-MOVE</td>\n",
       "      <td>CAPRR</td>\n",
       "      <td>3B-43</td>\n",
       "      <td>20180130005540</td>\n",
       "      <td>20180130010743</td>\n",
       "    </tr>\n",
       "    <tr>\n",
       "      <th>424323</th>\n",
       "      <td>424324</td>\n",
       "      <td>SXNW-001/2018</td>\n",
       "      <td>YMLU3166534-1</td>\n",
       "      <td>GC111</td>\n",
       "      <td>GC</td>\n",
       "      <td>F</td>\n",
       "      <td>LD-QUAYSIDE</td>\n",
       "      <td>CAPRR</td>\n",
       "      <td>1D-45</td>\n",
       "      <td>20180129224745</td>\n",
       "      <td>20180129225018</td>\n",
       "    </tr>\n",
       "    <tr>\n",
       "      <th>424324</th>\n",
       "      <td>424325</td>\n",
       "      <td>SXNW-001/2018</td>\n",
       "      <td>YMLU3166534-1</td>\n",
       "      <td>TC242</td>\n",
       "      <td>TC</td>\n",
       "      <td>F</td>\n",
       "      <td>LD-YARDSIDE</td>\n",
       "      <td>CAPRR</td>\n",
       "      <td>1D-45</td>\n",
       "      <td>20180129224307</td>\n",
       "      <td>20180129224540</td>\n",
       "    </tr>\n",
       "    <tr>\n",
       "      <th>424325</th>\n",
       "      <td>424326</td>\n",
       "      <td>SXNW-001/2018</td>\n",
       "      <td>YMLU3166534-1</td>\n",
       "      <td>YT522</td>\n",
       "      <td>YT</td>\n",
       "      <td>F</td>\n",
       "      <td>LD-MOVE</td>\n",
       "      <td>CAPRR</td>\n",
       "      <td>1D-45</td>\n",
       "      <td>20180129224540</td>\n",
       "      <td>20180129224745</td>\n",
       "    </tr>\n",
       "  </tbody>\n",
       "</table>\n",
       "<p>424326 rows × 11 columns</p>\n",
       "</div>"
      ],
      "text/plain": [
       "            ID         VESSEL   CONTAINER_NO MCHN_ID MCHN_TP_CD FULL_EMPTY  \\\n",
       "0            1  ALAP-001/2018  AXIU1484082-2   GC112         QC          F   \n",
       "1            2  ALAP-001/2018  AXIU1484082-2   TC221         TC          F   \n",
       "2            3  ALAP-001/2018  AXIU1484082-2   YT511         YT          F   \n",
       "3            4  ALAP-001/2018  BEAU2976719-1   GC111         GC          F   \n",
       "4            5  ALAP-001/2018  BEAU2976719-1   TC223         TC          F   \n",
       "...        ...            ...            ...     ...        ...        ...   \n",
       "424321  424322  SXNW-001/2018  XINU1481982-2   TC225         TC          F   \n",
       "424322  424323  SXNW-001/2018  XINU1481982-2   YT505         YT          F   \n",
       "424323  424324  SXNW-001/2018  YMLU3166534-1   GC111         GC          F   \n",
       "424324  424325  SXNW-001/2018  YMLU3166534-1   TC242         TC          F   \n",
       "424325  424326  SXNW-001/2018  YMLU3166534-1   YT522         YT          F   \n",
       "\n",
       "           JOB_TYPE    POD BLOCK_BAY    JOB_START_DT      JOB_END_DT  \n",
       "0       DS-QUAYSIDE  KRPUS     1B-38  20180131211752  20180131211924  \n",
       "1       DS-YARDSIDE  KRPUS     1B-38  20180131213633  20180131213805  \n",
       "2           DS-MOVE  KRPUS     1B-38  20180131211924  20180131213633  \n",
       "3       LD-QUAYSIDE  CAVAN     2B-19  20180131202120  20180131202353  \n",
       "4       LD-YARDSIDE  CAVAN     2B-19  20180131200147  20180131200420  \n",
       "...             ...    ...       ...             ...             ...  \n",
       "424321  LD-YARDSIDE  CAPRR     3B-43  20180130005307  20180130005540  \n",
       "424322      LD-MOVE  CAPRR     3B-43  20180130005540  20180130010743  \n",
       "424323  LD-QUAYSIDE  CAPRR     1D-45  20180129224745  20180129225018  \n",
       "424324  LD-YARDSIDE  CAPRR     1D-45  20180129224307  20180129224540  \n",
       "424325      LD-MOVE  CAPRR     1D-45  20180129224540  20180129224745  \n",
       "\n",
       "[424326 rows x 11 columns]"
      ]
     },
     "execution_count": 6,
     "metadata": {},
     "output_type": "execute_result"
    }
   ],
   "source": [
    "cwd = os.getcwd()\n",
    "print('현재 폴더 경로 : ', cwd)\n",
    "# 폴더 위치 변경\n",
    "os.chdir(\"C:\\\\Users\\hyunj\\\\Dropbox\\\\종합설계프로젝트\\\\중요\\\\데이터\")\n",
    "print('변경 후 폴더 경로 : ', cwd)\n",
    "print('현재 폴더 파일 : ', os.listdir())\n",
    "data = pd.read_csv('ContainerPersp.csv', encoding='CP949')\n",
    "print('feature 항목 : ', data.columns)\n",
    "data"
   ]
  },
  {
   "cell_type": "code",
   "execution_count": 10,
   "metadata": {},
   "outputs": [
    {
     "name": "stdout",
     "output_type": "stream",
     "text": [
      "작업 항목 :  ['DS-QUAYSIDE' 'DS-YARDSIDE' 'DS-MOVE' 'LD-QUAYSIDE' 'LD-YARDSIDE'\n",
      " 'LD-MOVE']\n"
     ]
    }
   ],
   "source": [
    "print('작업 항목 : ', data['JOB_TYPE'].unique())"
   ]
  },
  {
   "cell_type": "code",
   "execution_count": 12,
   "metadata": {},
   "outputs": [
    {
     "name": "stdout",
     "output_type": "stream",
     "text": [
      "뭔지는 모르겠지만 중요해보이는 것 아마 장소로 예측 :  ['QC' 'TC' 'YT' 'GC' 'RS' 'TH' nan]\n"
     ]
    }
   ],
   "source": [
    "print('뭔지는 모르겠지만 중요해보이는 것 아마 장소로 예측 : ', data['MCHN_TP_CD'].unique())"
   ]
  },
  {
   "cell_type": "code",
   "execution_count": 14,
   "metadata": {},
   "outputs": [
    {
     "name": "stdout",
     "output_type": "stream",
     "text": [
      "ID              0\n",
      "VESSEL          0\n",
      "CONTAINER_NO    0\n",
      "MCHN_ID         9\n",
      "MCHN_TP_CD      9\n",
      "FULL_EMPTY      0\n",
      "JOB_TYPE        0\n",
      "POD             0\n",
      "BLOCK_BAY       0\n",
      "JOB_START_DT    0\n",
      "JOB_END_DT      0\n",
      "dtype: int64\n"
     ]
    }
   ],
   "source": [
    "print(data.isnull().sum()) # 결측치가 어느정도 있는 것을 확인"
   ]
  }
 ],
 "metadata": {
  "kernelspec": {
   "display_name": "base",
   "language": "python",
   "name": "python3"
  },
  "language_info": {
   "codemirror_mode": {
    "name": "ipython",
    "version": 3
   },
   "file_extension": ".py",
   "mimetype": "text/x-python",
   "name": "python",
   "nbconvert_exporter": "python",
   "pygments_lexer": "ipython3",
   "version": "3.9.13"
  },
  "orig_nbformat": 4,
  "vscode": {
   "interpreter": {
    "hash": "24dbf3889b5bfa303f2e95e38e2b28553e54ae0a5cbdeb46240e6eebb55c4c82"
   }
  }
 },
 "nbformat": 4,
 "nbformat_minor": 2
}
