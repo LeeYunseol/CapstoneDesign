{
 "cells": [
  {
   "attachments": {},
   "cell_type": "markdown",
   "metadata": {},
   "source": [
    "# Import Library"
   ]
  },
  {
   "cell_type": "code",
   "execution_count": 14,
   "metadata": {},
   "outputs": [],
   "source": [
    "import pandas as pd\n",
    "import numpy as np\n",
    "import os\n",
    "from tqdm import tqdm"
   ]
  },
  {
   "attachments": {},
   "cell_type": "markdown",
   "metadata": {},
   "source": [
    "Only DS"
   ]
  },
  {
   "cell_type": "code",
   "execution_count": 15,
   "metadata": {},
   "outputs": [
    {
     "name": "stdout",
     "output_type": "stream",
     "text": [
      "LD의 Feature :  Index(['Case ID', 'Activity', 'Start Timestamp', 'Complete Timestamp',\n",
      "       'Variant', 'Variant index', 'VESSEL', 'MCHN_ID', 'FULL_EMPTY', 'POD',\n",
      "       'BLOCK_BAY'],\n",
      "      dtype='object')\n"
     ]
    },
    {
     "data": {
      "text/html": [
       "<div>\n",
       "<style scoped>\n",
       "    .dataframe tbody tr th:only-of-type {\n",
       "        vertical-align: middle;\n",
       "    }\n",
       "\n",
       "    .dataframe tbody tr th {\n",
       "        vertical-align: top;\n",
       "    }\n",
       "\n",
       "    .dataframe thead th {\n",
       "        text-align: right;\n",
       "    }\n",
       "</style>\n",
       "<table border=\"1\" class=\"dataframe\">\n",
       "  <thead>\n",
       "    <tr style=\"text-align: right;\">\n",
       "      <th></th>\n",
       "      <th>Case ID</th>\n",
       "      <th>Activity</th>\n",
       "      <th>Start Timestamp</th>\n",
       "      <th>Complete Timestamp</th>\n",
       "      <th>Variant</th>\n",
       "      <th>Variant index</th>\n",
       "      <th>VESSEL</th>\n",
       "      <th>MCHN_ID</th>\n",
       "      <th>FULL_EMPTY</th>\n",
       "      <th>POD</th>\n",
       "      <th>BLOCK_BAY</th>\n",
       "    </tr>\n",
       "  </thead>\n",
       "  <tbody>\n",
       "    <tr>\n",
       "      <th>0</th>\n",
       "      <td>CLHU2541691-2</td>\n",
       "      <td>LD-YARDSIDE</td>\n",
       "      <td>2018-01-31 22:40:52.000</td>\n",
       "      <td>2018-01-31 22:43:25.000</td>\n",
       "      <td>Variant 1</td>\n",
       "      <td>1</td>\n",
       "      <td>ALAP-001/2018</td>\n",
       "      <td>TC223</td>\n",
       "      <td>F</td>\n",
       "      <td>CAVAN</td>\n",
       "      <td>2B-13</td>\n",
       "    </tr>\n",
       "    <tr>\n",
       "      <th>1</th>\n",
       "      <td>CLHU2541691-2</td>\n",
       "      <td>LD-MOVE</td>\n",
       "      <td>2018-01-31 22:43:25.000</td>\n",
       "      <td>2018-01-31 22:55:23.000</td>\n",
       "      <td>Variant 1</td>\n",
       "      <td>1</td>\n",
       "      <td>ALAP-001/2018</td>\n",
       "      <td>YT536</td>\n",
       "      <td>F</td>\n",
       "      <td>CAVAN</td>\n",
       "      <td>2B-13</td>\n",
       "    </tr>\n",
       "    <tr>\n",
       "      <th>2</th>\n",
       "      <td>CLHU2541691-2</td>\n",
       "      <td>LD-QUAYSIDE</td>\n",
       "      <td>2018-01-31 22:55:23.000</td>\n",
       "      <td>2018-01-31 22:57:56.000</td>\n",
       "      <td>Variant 1</td>\n",
       "      <td>1</td>\n",
       "      <td>ALAP-001/2018</td>\n",
       "      <td>GC110</td>\n",
       "      <td>F</td>\n",
       "      <td>CAVAN</td>\n",
       "      <td>2B-13</td>\n",
       "    </tr>\n",
       "    <tr>\n",
       "      <th>3</th>\n",
       "      <td>CNIU1183311-1</td>\n",
       "      <td>LD-YARDSIDE</td>\n",
       "      <td>2018-01-31 22:26:15.000</td>\n",
       "      <td>2018-01-31 22:28:48.000</td>\n",
       "      <td>Variant 1</td>\n",
       "      <td>1</td>\n",
       "      <td>ALAP-001/2018</td>\n",
       "      <td>TC221</td>\n",
       "      <td>F</td>\n",
       "      <td>CAVAN</td>\n",
       "      <td>1B-25</td>\n",
       "    </tr>\n",
       "    <tr>\n",
       "      <th>4</th>\n",
       "      <td>CNIU1183311-1</td>\n",
       "      <td>LD-MOVE</td>\n",
       "      <td>2018-01-31 22:28:48.000</td>\n",
       "      <td>2018-01-31 22:29:09.000</td>\n",
       "      <td>Variant 1</td>\n",
       "      <td>1</td>\n",
       "      <td>ALAP-001/2018</td>\n",
       "      <td>YT525</td>\n",
       "      <td>F</td>\n",
       "      <td>CAVAN</td>\n",
       "      <td>1B-25</td>\n",
       "    </tr>\n",
       "  </tbody>\n",
       "</table>\n",
       "</div>"
      ],
      "text/plain": [
       "         Case ID     Activity          Start Timestamp  \\\n",
       "0  CLHU2541691-2  LD-YARDSIDE  2018-01-31 22:40:52.000   \n",
       "1  CLHU2541691-2      LD-MOVE  2018-01-31 22:43:25.000   \n",
       "2  CLHU2541691-2  LD-QUAYSIDE  2018-01-31 22:55:23.000   \n",
       "3  CNIU1183311-1  LD-YARDSIDE  2018-01-31 22:26:15.000   \n",
       "4  CNIU1183311-1      LD-MOVE  2018-01-31 22:28:48.000   \n",
       "\n",
       "        Complete Timestamp    Variant  Variant index         VESSEL MCHN_ID  \\\n",
       "0  2018-01-31 22:43:25.000  Variant 1              1  ALAP-001/2018   TC223   \n",
       "1  2018-01-31 22:55:23.000  Variant 1              1  ALAP-001/2018   YT536   \n",
       "2  2018-01-31 22:57:56.000  Variant 1              1  ALAP-001/2018   GC110   \n",
       "3  2018-01-31 22:28:48.000  Variant 1              1  ALAP-001/2018   TC221   \n",
       "4  2018-01-31 22:29:09.000  Variant 1              1  ALAP-001/2018   YT525   \n",
       "\n",
       "  FULL_EMPTY    POD BLOCK_BAY  \n",
       "0          F  CAVAN     2B-13  \n",
       "1          F  CAVAN     2B-13  \n",
       "2          F  CAVAN     2B-13  \n",
       "3          F  CAVAN     1B-25  \n",
       "4          F  CAVAN     1B-25  "
      ]
     },
     "execution_count": 15,
     "metadata": {},
     "output_type": "execute_result"
    }
   ],
   "source": [
    "cwd = os.getcwd()\n",
    "# 폴더 위치 변경\n",
    "os.chdir(\"C:\\\\Users\\hyunj\\\\Dropbox\\\\종합설계프로젝트\\\\중요\\\\데이터\")\n",
    "\n",
    "data = pd.read_csv('LD.csv', encoding='cp949')\n",
    "print('LD의 Feature : ' , data.columns)\n",
    "data.head()"
   ]
  },
  {
   "cell_type": "code",
   "execution_count": 16,
   "metadata": {},
   "outputs": [
    {
     "name": "stdout",
     "output_type": "stream",
     "text": [
      "LD의 Feature :  Index(['CONTAINER_NO', 'JOB_TYPE', 'JOB_START_DT', 'JOB_END_DT', 'VESSEL',\n",
      "       'MCHN_ID', 'FULL_EMPTY', 'POD', 'BLOCK_BAY'],\n",
      "      dtype='object')\n",
      "LD의 SHAPE :  (125646, 9)\n"
     ]
    },
    {
     "data": {
      "text/html": [
       "<div>\n",
       "<style scoped>\n",
       "    .dataframe tbody tr th:only-of-type {\n",
       "        vertical-align: middle;\n",
       "    }\n",
       "\n",
       "    .dataframe tbody tr th {\n",
       "        vertical-align: top;\n",
       "    }\n",
       "\n",
       "    .dataframe thead th {\n",
       "        text-align: right;\n",
       "    }\n",
       "</style>\n",
       "<table border=\"1\" class=\"dataframe\">\n",
       "  <thead>\n",
       "    <tr style=\"text-align: right;\">\n",
       "      <th></th>\n",
       "      <th>CONTAINER_NO</th>\n",
       "      <th>JOB_TYPE</th>\n",
       "      <th>JOB_START_DT</th>\n",
       "      <th>JOB_END_DT</th>\n",
       "      <th>VESSEL</th>\n",
       "      <th>MCHN_ID</th>\n",
       "      <th>FULL_EMPTY</th>\n",
       "      <th>POD</th>\n",
       "      <th>BLOCK_BAY</th>\n",
       "    </tr>\n",
       "  </thead>\n",
       "  <tbody>\n",
       "    <tr>\n",
       "      <th>0</th>\n",
       "      <td>CLHU2541691-2</td>\n",
       "      <td>LD-YARDSIDE</td>\n",
       "      <td>2018-01-31 22:40:52.000</td>\n",
       "      <td>2018-01-31 22:43:25.000</td>\n",
       "      <td>ALAP-001/2018</td>\n",
       "      <td>TC223</td>\n",
       "      <td>F</td>\n",
       "      <td>CAVAN</td>\n",
       "      <td>2B-13</td>\n",
       "    </tr>\n",
       "    <tr>\n",
       "      <th>1</th>\n",
       "      <td>CLHU2541691-2</td>\n",
       "      <td>LD-MOVE</td>\n",
       "      <td>2018-01-31 22:43:25.000</td>\n",
       "      <td>2018-01-31 22:55:23.000</td>\n",
       "      <td>ALAP-001/2018</td>\n",
       "      <td>YT536</td>\n",
       "      <td>F</td>\n",
       "      <td>CAVAN</td>\n",
       "      <td>2B-13</td>\n",
       "    </tr>\n",
       "    <tr>\n",
       "      <th>2</th>\n",
       "      <td>CLHU2541691-2</td>\n",
       "      <td>LD-QUAYSIDE</td>\n",
       "      <td>2018-01-31 22:55:23.000</td>\n",
       "      <td>2018-01-31 22:57:56.000</td>\n",
       "      <td>ALAP-001/2018</td>\n",
       "      <td>GC110</td>\n",
       "      <td>F</td>\n",
       "      <td>CAVAN</td>\n",
       "      <td>2B-13</td>\n",
       "    </tr>\n",
       "    <tr>\n",
       "      <th>3</th>\n",
       "      <td>CNIU1183311-1</td>\n",
       "      <td>LD-YARDSIDE</td>\n",
       "      <td>2018-01-31 22:26:15.000</td>\n",
       "      <td>2018-01-31 22:28:48.000</td>\n",
       "      <td>ALAP-001/2018</td>\n",
       "      <td>TC221</td>\n",
       "      <td>F</td>\n",
       "      <td>CAVAN</td>\n",
       "      <td>1B-25</td>\n",
       "    </tr>\n",
       "    <tr>\n",
       "      <th>4</th>\n",
       "      <td>CNIU1183311-1</td>\n",
       "      <td>LD-MOVE</td>\n",
       "      <td>2018-01-31 22:28:48.000</td>\n",
       "      <td>2018-01-31 22:29:09.000</td>\n",
       "      <td>ALAP-001/2018</td>\n",
       "      <td>YT525</td>\n",
       "      <td>F</td>\n",
       "      <td>CAVAN</td>\n",
       "      <td>1B-25</td>\n",
       "    </tr>\n",
       "  </tbody>\n",
       "</table>\n",
       "</div>"
      ],
      "text/plain": [
       "    CONTAINER_NO     JOB_TYPE             JOB_START_DT  \\\n",
       "0  CLHU2541691-2  LD-YARDSIDE  2018-01-31 22:40:52.000   \n",
       "1  CLHU2541691-2      LD-MOVE  2018-01-31 22:43:25.000   \n",
       "2  CLHU2541691-2  LD-QUAYSIDE  2018-01-31 22:55:23.000   \n",
       "3  CNIU1183311-1  LD-YARDSIDE  2018-01-31 22:26:15.000   \n",
       "4  CNIU1183311-1      LD-MOVE  2018-01-31 22:28:48.000   \n",
       "\n",
       "                JOB_END_DT         VESSEL MCHN_ID FULL_EMPTY    POD BLOCK_BAY  \n",
       "0  2018-01-31 22:43:25.000  ALAP-001/2018   TC223          F  CAVAN     2B-13  \n",
       "1  2018-01-31 22:55:23.000  ALAP-001/2018   YT536          F  CAVAN     2B-13  \n",
       "2  2018-01-31 22:57:56.000  ALAP-001/2018   GC110          F  CAVAN     2B-13  \n",
       "3  2018-01-31 22:28:48.000  ALAP-001/2018   TC221          F  CAVAN     1B-25  \n",
       "4  2018-01-31 22:29:09.000  ALAP-001/2018   YT525          F  CAVAN     1B-25  "
      ]
     },
     "execution_count": 16,
     "metadata": {},
     "output_type": "execute_result"
    }
   ],
   "source": [
    "# 필요없는 열 삭제 & Feature name 변경\n",
    "data.drop('Variant', axis = 1, inplace = True)\n",
    "data.drop('Variant index', axis = 1, inplace = True)\n",
    "\n",
    "data.rename(columns = {'Case ID':'CONTAINER_NO',\n",
    "                       'Activity':'JOB_TYPE',\n",
    "                       'Start Timestamp': 'JOB_START_DT',\n",
    "                       'Complete Timestamp' : 'JOB_END_DT'},\n",
    "                        inplace=True)\n",
    "print('LD의 Feature : ' , data.columns)\n",
    "print('LD의 SHAPE : ', data.shape)\n",
    "data.head()"
   ]
  },
  {
   "cell_type": "code",
   "execution_count": 17,
   "metadata": {},
   "outputs": [],
   "source": [
    "# 통합할 데이터 호출\n",
    "che_data = pd.read_csv('CHE I perspective.csv')\n",
    "gate_data = pd.read_csv('GI perspective.csv')\n",
    "qc_data = pd.read_csv('QC perspective.csv')\n",
    "\n",
    "gate_data.drop('Variant', axis = 1, inplace = True)\n",
    "gate_data.drop('Variant index', axis = 1, inplace = True)\n",
    "\n",
    "gate_data.rename(columns = {'Case ID':'CONTAINER_NO',\n",
    "                       'Activity':'JOB_TYPE',\n",
    "                       'Start Timestamp': 'JOB_START_DT',\n",
    "                       'Complete Timestamp' : 'JOB_END_DT'},\n",
    "                        inplace=True)"
   ]
  },
  {
   "cell_type": "code",
   "execution_count": 18,
   "metadata": {},
   "outputs": [
    {
     "name": "stdout",
     "output_type": "stream",
     "text": [
      "최종적으로 사용할 데이터 셋의 Column 수는 19\n"
     ]
    }
   ],
   "source": [
    "# 최종 DS csv 파일 - 자세한 것은 파워포인트 참고\n",
    "temp_df = pd.DataFrame(columns=[\"CONTAINER_NO\", \"VESSEL\", \"MCHN_ID\", \"FULL_EMPTY\", \"JOB_TYPE\", \"POD\", \"BLOCK_BAY\", \"JOB_START_DT\", \"JOB_END_DT\",\n",
    "                                \"CHE_ID\", \"ITV_ID\", \"QC_ID\", \"OUTSERVICE\", \"QUEUE_POSITION\", \"H_BOX\",\n",
    "                                \"OUTVESSEL\", \"COUNTRY_NEXTPOD\", \"PORT_NEXTPOD\", \"TML_OUT_DT\"])\n",
    "print('최종적으로 사용할 데이터 셋의 Column 수는' , len(temp_df.columns))\n",
    "\n",
    "# temp에서 추가하고 이를 last에서 concat하는 걸로 - 왜냐하면 temp에서 containerid별로 가져올 것이기 때문에, 이렇게 해주는 이유는 정렬하기 위해서 \n",
    "# (사실 다 추가하고 정렬하면 괜찮지만, 작업 중간 중간에 볼 것이기 때문에 이렇게 함 - 메모리 이슈는 고려하지 않음) \n",
    "last_df = temp_df.copy()"
   ]
  },
  {
   "cell_type": "code",
   "execution_count": 19,
   "metadata": {},
   "outputs": [
    {
     "name": "stdout",
     "output_type": "stream",
     "text": [
      "41882\n"
     ]
    }
   ],
   "source": [
    "unique_container_list = list(data['CONTAINER_NO'].unique())\n",
    "print(len(unique_container_list))"
   ]
  },
  {
   "cell_type": "code",
   "execution_count": 20,
   "metadata": {},
   "outputs": [
    {
     "name": "stdout",
     "output_type": "stream",
     "text": [
      "1\n",
      "3\n",
      "2\n"
     ]
    }
   ],
   "source": [
    "csv_list = [gate_data, che_data, qc_data]\n",
    "\n",
    "for csv in csv_list :\n",
    "    temp = max(csv['CONTAINER_NO'].value_counts())\n",
    "    print(temp)"
   ]
  },
  {
   "cell_type": "code",
   "execution_count": 21,
   "metadata": {},
   "outputs": [
    {
     "name": "stdout",
     "output_type": "stream",
     "text": [
      "36941\n"
     ]
    }
   ],
   "source": [
    "only_gate_data = gate_data[gate_data['CONTAINER_NO'].isin(unique_container_list)]\n",
    "print(len(only_gate_data['CONTAINER_NO'].unique()))\n",
    "value_counts_gate = only_gate_data['CONTAINER_NO'].value_counts()"
   ]
  },
  {
   "cell_type": "code",
   "execution_count": 22,
   "metadata": {},
   "outputs": [
    {
     "name": "stdout",
     "output_type": "stream",
     "text": [
      "41882\n"
     ]
    }
   ],
   "source": [
    "only_che_data = che_data[che_data['CONTAINER_NO'].isin(unique_container_list)]\n",
    "print(len(only_che_data['CONTAINER_NO'].unique()))\n",
    "value_counts_che = only_che_data['CONTAINER_NO'].value_counts()"
   ]
  },
  {
   "cell_type": "code",
   "execution_count": 23,
   "metadata": {},
   "outputs": [
    {
     "data": {
      "text/plain": [
       "36920"
      ]
     },
     "execution_count": 23,
     "metadata": {},
     "output_type": "execute_result"
    }
   ],
   "source": [
    "# GI에 대한 정보가 있는 것들\n",
    "len(value_counts_che[value_counts_che==2])"
   ]
  },
  {
   "cell_type": "code",
   "execution_count": 24,
   "metadata": {},
   "outputs": [
    {
     "name": "stdout",
     "output_type": "stream",
     "text": [
      "41882\n"
     ]
    }
   ],
   "source": [
    "only_qc_data = qc_data[qc_data['CONTAINER_NO'].isin(unique_container_list)]\n",
    "print(len(only_qc_data['CONTAINER_NO'].unique()))\n",
    "value_counts_qc = only_qc_data['CONTAINER_NO'].value_counts()"
   ]
  },
  {
   "attachments": {},
   "cell_type": "markdown",
   "metadata": {},
   "source": [
    "유일하게 che만 2개의 값이 존재할 수 있는 것을 확인 - 하나인 경우는 GI에 대한 정보가 누락된 것임"
   ]
  },
  {
   "cell_type": "code",
   "execution_count": 25,
   "metadata": {},
   "outputs": [],
   "source": [
    "# 데이터 우선 통합 - Container perspective 기준!\n",
    "temp_df = pd.concat([temp_df,data])"
   ]
  },
  {
   "cell_type": "code",
   "execution_count": 26,
   "metadata": {},
   "outputs": [
    {
     "name": "stderr",
     "output_type": "stream",
     "text": [
      "데이터 통합 중: 100%|██████████| 41882/41882 [44:42<00:00, 15.61it/s] \n"
     ]
    }
   ],
   "source": [
    "# perspetive를 비교하면서 매치되지 않는 CONTAINER_NO 개수를 기록하기 위한 변수 선\n",
    "for container in tqdm(unique_container_list, desc = \"데이터 통합 중\") : \n",
    "    criteria_df = temp_df[temp_df['CONTAINER_NO'] == container].reset_index(drop=True)\n",
    "    #! Gate perspective에서 정보 추출 - GO & GI (DS에선 GO!)\n",
    "    gate_temp_df = gate_data[gate_data['CONTAINER_NO'] == container].reset_index(drop=True)\n",
    "    \n",
    "    # container perspective에 있는 CONTAINER_NO가 gate_perspective에 없는 경우도 고려해보아야 함\n",
    "    if len(gate_temp_df) != 0 :\n",
    "        # gate_temp_df의 Gate Out에 대한 정보를 temp_df에 전달\n",
    "        criteria_df = pd.concat([criteria_df, gate_temp_df])\n",
    "        criteria_df = criteria_df.reset_index(drop=True)\n",
    "    \n",
    "    #! CHE I perspective에서 정보 추출 - MOVE\n",
    "    #* CHE I perspective에는 GI, MOVE의 정보가 있음\n",
    "    che_temp_df = che_data[che_data['CONTAINER_NO'] == container].reset_index(drop=True)\n",
    "    \n",
    "    gi_che_temp_df = che_temp_df[che_temp_df['JOB_TYPE'] == \"GI\"].reset_index(drop=True)\n",
    "    move_che_temp_df = che_temp_df[che_temp_df['JOB_TYPE'] == \"LD\"].reset_index(drop=True)\n",
    "    # MOVE와 연관이 있는 것을 확인하였지만, 혹시 모르니 두 개의 ID를 비교하여 정보 추가\n",
    "    # 시간으로 하니 정확한 비교가 안됨\n",
    "    if(len(che_temp_df) != 0) :\n",
    "        # move에 관한 정보가 있으면\n",
    "        if (len(move_che_temp_df) != 0) :\n",
    "            if((criteria_df.loc[2, 'MCHN_ID'] == move_che_temp_df.loc[0, 'QC_ID'])\n",
    "            & (criteria_df.loc[1, 'MCHN_ID'] == move_che_temp_df.loc[0, 'ITV_ID'])) :\n",
    "                che_id = move_che_temp_df.loc[0, 'MCHN_ID']\n",
    "                itv_id = move_che_temp_df.loc[0, 'ITV_ID']\n",
    "                qc_id = move_che_temp_df.loc[0, 'QC_ID']\n",
    "                criteria_df.loc[1, 'CHE_ID'] = che_id\n",
    "                criteria_df.loc[1, 'ITV_ID'] = itv_id\n",
    "                criteria_df.loc[1, 'QC_ID'] = qc_id\n",
    "                \n",
    "        # Gate in에 관한 정보가 있으면\n",
    "        if (len(gi_che_temp_df) != 0) :\n",
    "            che_id = gi_che_temp_df.loc[0, 'MCHN_ID']\n",
    "            itv_id = gi_che_temp_df.loc[0, 'ITV_ID']\n",
    "            criteria_df.loc[3, 'CHE_ID'] = che_id\n",
    "            criteria_df.loc[3, 'ITV_ID'] = itv_id\n",
    "    \n",
    "    #! QC perspective에서 정보 추출 - QUAYSIDE\n",
    "    qc_temp_df = qc_data[qc_data['CONTAINER_NO'] == container].reset_index(drop=True)\n",
    "    \n",
    "    # QUAYSIDE와 연관이 있는 것을 확인하였지만, 혹시 모르니 두 개의 perspective의 ID 비교하기\n",
    "    crane_check = qc_temp_df.loc[0, 'QRANE_NO'] == criteria_df.loc[2, 'MCHN_ID']\n",
    "    mchn_check = qc_temp_df.loc[0, 'MCHN_ID'] == criteria_df.loc[1, 'MCHN_ID']\n",
    "    if (len(qc_temp_df) != 0) :\n",
    "        queue_position = qc_temp_df.loc[0, 'QUEUE_POSITION']\n",
    "        h_box = qc_temp_df.loc[0, 'H_BOX']\n",
    "        criteria_df.loc[2, 'QUEUE_POSITION'] = queue_position\n",
    "        criteria_df.loc[2, 'H_BOX'] = h_box\n",
    "    \n",
    "    #! Vessel perspective은 LD에서 통합할 필요가 없음\n",
    "    \n",
    "    #! 각 정보를 전달한 뒤에 last_df에 concat\n",
    "    last_df = pd.concat([criteria_df, last_df])\n",
    "    last_df = last_df.reset_index(drop=True)\n",
    "    "
   ]
  },
  {
   "cell_type": "code",
   "execution_count": null,
   "metadata": {},
   "outputs": [],
   "source": []
  },
  {
   "cell_type": "code",
   "execution_count": 27,
   "metadata": {},
   "outputs": [],
   "source": [
    "last_df.to_csv('Integrated LD.csv', encoding='cp949', index=False)"
   ]
  },
  {
   "cell_type": "code",
   "execution_count": null,
   "metadata": {},
   "outputs": [],
   "source": []
  },
  {
   "cell_type": "code",
   "execution_count": null,
   "metadata": {},
   "outputs": [],
   "source": []
  }
 ],
 "metadata": {
  "kernelspec": {
   "display_name": "base",
   "language": "python",
   "name": "python3"
  },
  "language_info": {
   "codemirror_mode": {
    "name": "ipython",
    "version": 3
   },
   "file_extension": ".py",
   "mimetype": "text/x-python",
   "name": "python",
   "nbconvert_exporter": "python",
   "pygments_lexer": "ipython3",
   "version": "3.9.13"
  },
  "orig_nbformat": 4,
  "vscode": {
   "interpreter": {
    "hash": "24dbf3889b5bfa303f2e95e38e2b28553e54ae0a5cbdeb46240e6eebb55c4c82"
   }
  }
 },
 "nbformat": 4,
 "nbformat_minor": 2
}
