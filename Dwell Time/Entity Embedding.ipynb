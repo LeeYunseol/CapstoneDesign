{
 "cells": [
  {
   "cell_type": "markdown",
   "metadata": {},
   "source": [
    "# Import Library"
   ]
  },
  {
   "cell_type": "code",
   "execution_count": 281,
   "metadata": {},
   "outputs": [],
   "source": [
    "import pandas as pd\n",
    "import numpy as np\n",
    "import os\n",
    "from tqdm import tqdm\n",
    "from sklearn import metrics, preprocessing\n",
    "from sklearn.ensemble import RandomForestRegressor\n",
    "from sklearn.model_selection import train_test_split\n",
    "from sklearn.metrics import mean_squared_error\n",
    "from sklearn.metrics import mean_absolute_error\n",
    "from sklearn.model_selection import GridSearchCV\n",
    "import tensorflow as tf\n",
    "from sklearn.model_selection import StratifiedKFold\n",
    "from sklearn import metrics, preprocessing\n",
    "from tensorflow.keras import layers\n",
    "from tensorflow.keras import optimizers\n",
    "from tensorflow.keras.models import Model, load_model\n",
    "from tensorflow.keras import callbacks\n",
    "from tensorflow.keras import backend as K\n",
    "from tensorflow.keras import utils\n",
    "import seaborn as sns"
   ]
  },
  {
   "cell_type": "code",
   "execution_count": null,
   "metadata": {},
   "outputs": [],
   "source": []
  },
  {
   "cell_type": "code",
   "execution_count": 282,
   "metadata": {},
   "outputs": [],
   "source": [
    "def create_model(data, catcols):    \n",
    "    inputs = []\n",
    "    outputs = []\n",
    "    for c in catcols:\n",
    "        num_unique_values = int(data[c].nunique())\n",
    "        embed_dim = int(min(np.ceil((num_unique_values)/2), 50))\n",
    "        inp = layers.Input(shape=(1,))\n",
    "        out = layers.Embedding(num_unique_values + 1, embed_dim, name=c)(inp)\n",
    "        out = layers.SpatialDropout1D(0.3)(out)\n",
    "        out = layers.Reshape(target_shape=(embed_dim, ))(out)\n",
    "        inputs.append(inp)\n",
    "        outputs.append(out)\n",
    "    \n",
    "    x = layers.Concatenate()(outputs)\n",
    "    x = layers.BatchNormalization()(x)\n",
    "    \n",
    "    x = layers.Dense(300, activation=\"relu\")(x)\n",
    "    x = layers.Dropout(0.3)(x)\n",
    "    x = layers.BatchNormalization()(x)\n",
    "    \n",
    "    x = layers.Dense(100, activation=\"relu\")(x)\n",
    "    \n",
    "    y = layers.Dense(1, activation=\"sigmoid\")(x)\n",
    "\n",
    "    model = Model(inputs=inputs, outputs=y)\n",
    "    return model"
   ]
  },
  {
   "cell_type": "markdown",
   "metadata": {},
   "source": [
    "# 시작"
   ]
  },
  {
   "cell_type": "code",
   "execution_count": 283,
   "metadata": {},
   "outputs": [
    {
     "name": "stdout",
     "output_type": "stream",
     "text": [
      "현재 폴더 경로 :  C:\\Users\\hyunj\\Dropbox\\종합설계프로젝트\\중요\\데이터\n",
      "변경 후 폴더 경로 :  C:\\Users\\hyunj\\Dropbox\\종합설계프로젝트\\중요\\데이터\n",
      "현재 폴더 파일 :  ['Block perspective.xlsx', 'CHE I perspective.xlsx', 'CHE II perspective.xlsx', 'Container perspective.xlsx', 'ContainerPersp.csv', 'ContainerPerspectiv_DStoLD.csv', 'Data.csv', 'FULL', 'Gate perspective.xlsx', 'hanjin.csv', 'ITV perspective.xlsx', 'POD', 'QC perspective.xlsx', 'Vessel perspective.xlsx', '디스코용 파일.csv', '분포', '분포.csv']\n",
      "feature 항목 :  Index(['Time of DS-QUAYSIDE', 'Time of DS-MOVE', 'Time of DS-YARDSIDE',\n",
      "       'ContainerID', 'DS-VESSEL-ID', 'LD-VESSEL-ID', 'DS-VESSEL-YEAR',\n",
      "       'LD-VESSEL-YEAR', 'LD-POD', 'Full', 'Empty', 'Dwell Time'],\n",
      "      dtype='object')\n",
      "<class 'pandas.core.frame.DataFrame'>\n",
      "RangeIndex: 24892 entries, 0 to 24891\n",
      "Data columns (total 12 columns):\n",
      " #   Column               Non-Null Count  Dtype \n",
      "---  ------               --------------  ----- \n",
      " 0   Time of DS-QUAYSIDE  24892 non-null  int64 \n",
      " 1   Time of DS-MOVE      24892 non-null  int64 \n",
      " 2   Time of DS-YARDSIDE  24892 non-null  int64 \n",
      " 3   ContainerID          24892 non-null  object\n",
      " 4   DS-VESSEL-ID         24892 non-null  object\n",
      " 5   LD-VESSEL-ID         24892 non-null  object\n",
      " 6   DS-VESSEL-YEAR       24892 non-null  int64 \n",
      " 7   LD-VESSEL-YEAR       24892 non-null  int64 \n",
      " 8   LD-POD               24892 non-null  object\n",
      " 9   Full                 24892 non-null  int64 \n",
      " 10  Empty                24892 non-null  int64 \n",
      " 11  Dwell Time           24892 non-null  int64 \n",
      "dtypes: int64(8), object(4)\n",
      "memory usage: 2.3+ MB\n"
     ]
    }
   ],
   "source": [
    "cwd = os.getcwd()\n",
    "print('현재 폴더 경로 : ', cwd)\n",
    "# 폴더 위치 변경\n",
    "os.chdir(\"C:\\\\Users\\hyunj\\\\Dropbox\\\\종합설계프로젝트\\\\중요\\\\데이터\")\n",
    "print('변경 후 폴더 경로 : ', cwd)\n",
    "print('현재 폴더 파일 : ', os.listdir())\n",
    "data = pd.read_csv('Data.csv', encoding='CP949')\n",
    "print('feature 항목 : ', data.columns)\n",
    "data\n",
    "data.info()"
   ]
  },
  {
   "cell_type": "code",
   "execution_count": 284,
   "metadata": {},
   "outputs": [
    {
     "data": {
      "text/html": [
       "<div>\n",
       "<style scoped>\n",
       "    .dataframe tbody tr th:only-of-type {\n",
       "        vertical-align: middle;\n",
       "    }\n",
       "\n",
       "    .dataframe tbody tr th {\n",
       "        vertical-align: top;\n",
       "    }\n",
       "\n",
       "    .dataframe thead th {\n",
       "        text-align: right;\n",
       "    }\n",
       "</style>\n",
       "<table border=\"1\" class=\"dataframe\">\n",
       "  <thead>\n",
       "    <tr style=\"text-align: right;\">\n",
       "      <th></th>\n",
       "      <th>T_DS_MOVE</th>\n",
       "      <th>ContainerID</th>\n",
       "      <th>DS-VESSEL-ID</th>\n",
       "      <th>LD-VESSEL-ID</th>\n",
       "      <th>DS-VESSEL-YEAR</th>\n",
       "      <th>LD-VESSEL-YEAR</th>\n",
       "      <th>LD-POD</th>\n",
       "      <th>Full</th>\n",
       "      <th>Empty</th>\n",
       "      <th>Dwell Time</th>\n",
       "    </tr>\n",
       "  </thead>\n",
       "  <tbody>\n",
       "    <tr>\n",
       "      <th>0</th>\n",
       "      <td>479</td>\n",
       "      <td>BEAU</td>\n",
       "      <td>MAUO</td>\n",
       "      <td>ALAP</td>\n",
       "      <td>2018</td>\n",
       "      <td>2018</td>\n",
       "      <td>CAVAN</td>\n",
       "      <td>1</td>\n",
       "      <td>0</td>\n",
       "      <td>359405</td>\n",
       "    </tr>\n",
       "    <tr>\n",
       "      <th>1</th>\n",
       "      <td>518</td>\n",
       "      <td>BMOU</td>\n",
       "      <td>MAUO</td>\n",
       "      <td>ALAP</td>\n",
       "      <td>2018</td>\n",
       "      <td>2018</td>\n",
       "      <td>USSEA</td>\n",
       "      <td>1</td>\n",
       "      <td>0</td>\n",
       "      <td>345321</td>\n",
       "    </tr>\n",
       "    <tr>\n",
       "      <th>2</th>\n",
       "      <td>957</td>\n",
       "      <td>BMOU</td>\n",
       "      <td>MAUO</td>\n",
       "      <td>ALAP</td>\n",
       "      <td>2018</td>\n",
       "      <td>2018</td>\n",
       "      <td>USSEA</td>\n",
       "      <td>1</td>\n",
       "      <td>0</td>\n",
       "      <td>344666</td>\n",
       "    </tr>\n",
       "    <tr>\n",
       "      <th>3</th>\n",
       "      <td>851</td>\n",
       "      <td>BMOU</td>\n",
       "      <td>MAUO</td>\n",
       "      <td>ALAP</td>\n",
       "      <td>2018</td>\n",
       "      <td>2018</td>\n",
       "      <td>CAVAN</td>\n",
       "      <td>1</td>\n",
       "      <td>0</td>\n",
       "      <td>347916</td>\n",
       "    </tr>\n",
       "    <tr>\n",
       "      <th>4</th>\n",
       "      <td>636</td>\n",
       "      <td>BMOU</td>\n",
       "      <td>MHAH</td>\n",
       "      <td>ALAP</td>\n",
       "      <td>2018</td>\n",
       "      <td>2018</td>\n",
       "      <td>USSEA</td>\n",
       "      <td>1</td>\n",
       "      <td>0</td>\n",
       "      <td>256699</td>\n",
       "    </tr>\n",
       "    <tr>\n",
       "      <th>...</th>\n",
       "      <td>...</td>\n",
       "      <td>...</td>\n",
       "      <td>...</td>\n",
       "      <td>...</td>\n",
       "      <td>...</td>\n",
       "      <td>...</td>\n",
       "      <td>...</td>\n",
       "      <td>...</td>\n",
       "      <td>...</td>\n",
       "      <td>...</td>\n",
       "    </tr>\n",
       "    <tr>\n",
       "      <th>24887</th>\n",
       "      <td>855</td>\n",
       "      <td>TGHU</td>\n",
       "      <td>SFNZ</td>\n",
       "      <td>SFNZ</td>\n",
       "      <td>2018</td>\n",
       "      <td>2018</td>\n",
       "      <td>CNNGB</td>\n",
       "      <td>0</td>\n",
       "      <td>1</td>\n",
       "      <td>32909</td>\n",
       "    </tr>\n",
       "    <tr>\n",
       "      <th>24888</th>\n",
       "      <td>576</td>\n",
       "      <td>TGHU</td>\n",
       "      <td>SFNZ</td>\n",
       "      <td>SFNZ</td>\n",
       "      <td>2018</td>\n",
       "      <td>2018</td>\n",
       "      <td>CNNGB</td>\n",
       "      <td>0</td>\n",
       "      <td>1</td>\n",
       "      <td>31494</td>\n",
       "    </tr>\n",
       "    <tr>\n",
       "      <th>24889</th>\n",
       "      <td>237</td>\n",
       "      <td>TGHU</td>\n",
       "      <td>SFNZ</td>\n",
       "      <td>SFNZ</td>\n",
       "      <td>2018</td>\n",
       "      <td>2018</td>\n",
       "      <td>CNSHA</td>\n",
       "      <td>0</td>\n",
       "      <td>1</td>\n",
       "      <td>36648</td>\n",
       "    </tr>\n",
       "    <tr>\n",
       "      <th>24890</th>\n",
       "      <td>476</td>\n",
       "      <td>TRLU</td>\n",
       "      <td>SFNZ</td>\n",
       "      <td>SFNZ</td>\n",
       "      <td>2018</td>\n",
       "      <td>2018</td>\n",
       "      <td>CNNGB</td>\n",
       "      <td>0</td>\n",
       "      <td>1</td>\n",
       "      <td>35029</td>\n",
       "    </tr>\n",
       "    <tr>\n",
       "      <th>24891</th>\n",
       "      <td>456</td>\n",
       "      <td>TRLU</td>\n",
       "      <td>SFNZ</td>\n",
       "      <td>SFNZ</td>\n",
       "      <td>2018</td>\n",
       "      <td>2018</td>\n",
       "      <td>HKHKG</td>\n",
       "      <td>1</td>\n",
       "      <td>0</td>\n",
       "      <td>3707</td>\n",
       "    </tr>\n",
       "  </tbody>\n",
       "</table>\n",
       "<p>24892 rows × 10 columns</p>\n",
       "</div>"
      ],
      "text/plain": [
       "       T_DS_MOVE ContainerID DS-VESSEL-ID LD-VESSEL-ID  DS-VESSEL-YEAR  \\\n",
       "0            479        BEAU         MAUO         ALAP            2018   \n",
       "1            518        BMOU         MAUO         ALAP            2018   \n",
       "2            957        BMOU         MAUO         ALAP            2018   \n",
       "3            851        BMOU         MAUO         ALAP            2018   \n",
       "4            636        BMOU         MHAH         ALAP            2018   \n",
       "...          ...         ...          ...          ...             ...   \n",
       "24887        855        TGHU         SFNZ         SFNZ            2018   \n",
       "24888        576        TGHU         SFNZ         SFNZ            2018   \n",
       "24889        237        TGHU         SFNZ         SFNZ            2018   \n",
       "24890        476        TRLU         SFNZ         SFNZ            2018   \n",
       "24891        456        TRLU         SFNZ         SFNZ            2018   \n",
       "\n",
       "       LD-VESSEL-YEAR LD-POD  Full  Empty  Dwell Time  \n",
       "0                2018  CAVAN     1      0      359405  \n",
       "1                2018  USSEA     1      0      345321  \n",
       "2                2018  USSEA     1      0      344666  \n",
       "3                2018  CAVAN     1      0      347916  \n",
       "4                2018  USSEA     1      0      256699  \n",
       "...               ...    ...   ...    ...         ...  \n",
       "24887            2018  CNNGB     0      1       32909  \n",
       "24888            2018  CNNGB     0      1       31494  \n",
       "24889            2018  CNSHA     0      1       36648  \n",
       "24890            2018  CNNGB     0      1       35029  \n",
       "24891            2018  HKHKG     1      0        3707  \n",
       "\n",
       "[24892 rows x 10 columns]"
      ]
     },
     "execution_count": 284,
     "metadata": {},
     "output_type": "execute_result"
    }
   ],
   "source": [
    "# 데이터 Column 명 바꾸기 \n",
    "data.rename(columns={'Time of DS-QUAYSIDE' : 'T_DS_QUAYSIDE',\n",
    "                     'Time of DS-MOVE' : 'T_DS_MOVE',\n",
    "                   'Time of DS-YARDSIDE' : 'T_DS_YARDSIDE'}, inplace=True)\n",
    "data.drop(axis=1, columns = ['T_DS_QUAYSIDE', 'T_DS_YARDSIDE'], inplace=True)\n",
    "data"
   ]
  },
  {
   "cell_type": "code",
   "execution_count": 285,
   "metadata": {},
   "outputs": [
    {
     "name": "stdout",
     "output_type": "stream",
     "text": [
      "0\n"
     ]
    }
   ],
   "source": [
    "data.describe()\n",
    "print(data.isnull().sum().sum())"
   ]
  },
  {
   "cell_type": "code",
   "execution_count": 286,
   "metadata": {},
   "outputs": [
    {
     "data": {
      "text/plain": [
       "['T_DS_MOVE',\n",
       " 'ContainerID',\n",
       " 'DS-VESSEL-ID',\n",
       " 'LD-VESSEL-ID',\n",
       " 'DS-VESSEL-YEAR',\n",
       " 'LD-VESSEL-YEAR',\n",
       " 'LD-POD',\n",
       " 'Full',\n",
       " 'Empty']"
      ]
     },
     "execution_count": 286,
     "metadata": {},
     "output_type": "execute_result"
    }
   ],
   "source": [
    "# Label Encodering\n",
    "features = [x for x in data.columns if x not in [ \"Dwell Time\"]]\n",
    "features"
   ]
  },
  {
   "cell_type": "code",
   "execution_count": 287,
   "metadata": {},
   "outputs": [],
   "source": [
    "for feature in features:\n",
    "    lbl_enc = preprocessing.LabelEncoder()\n",
    "    data[feature] = lbl_enc.fit_transform(data[feature].fillna(\"-1\").astype(str).values)"
   ]
  },
  {
   "cell_type": "code",
   "execution_count": 288,
   "metadata": {},
   "outputs": [],
   "source": [
    "# y값 스케일링\n",
    "from sklearn.preprocessing import MinMaxScaler\n",
    "\n",
    "scaler = MinMaxScaler()\n",
    "\n",
    "X = data.iloc[:,:-1]\n",
    "Y = data.iloc[:,-1]\n",
    "\n",
    "X_train, X_test, original_y_train, original_y_test = train_test_split(X,Y,test_size=0.2,random_state=120,shuffle=False)\n",
    "data['Dwell Time'] = scaler.fit_transform(data['Dwell Time'].values.reshape(-1,1))"
   ]
  },
  {
   "cell_type": "code",
   "execution_count": 289,
   "metadata": {},
   "outputs": [
    {
     "name": "stdout",
     "output_type": "stream",
     "text": [
      "Model: \"model_23\"\n",
      "__________________________________________________________________________________________________\n",
      " Layer (type)                   Output Shape         Param #     Connected to                     \n",
      "==================================================================================================\n",
      " input_224 (InputLayer)         [(None, 1)]          0           []                               \n",
      "                                                                                                  \n",
      " input_225 (InputLayer)         [(None, 1)]          0           []                               \n",
      "                                                                                                  \n",
      " input_226 (InputLayer)         [(None, 1)]          0           []                               \n",
      "                                                                                                  \n",
      " input_227 (InputLayer)         [(None, 1)]          0           []                               \n",
      "                                                                                                  \n",
      " input_228 (InputLayer)         [(None, 1)]          0           []                               \n",
      "                                                                                                  \n",
      " input_229 (InputLayer)         [(None, 1)]          0           []                               \n",
      "                                                                                                  \n",
      " input_230 (InputLayer)         [(None, 1)]          0           []                               \n",
      "                                                                                                  \n",
      " input_231 (InputLayer)         [(None, 1)]          0           []                               \n",
      "                                                                                                  \n",
      " input_232 (InputLayer)         [(None, 1)]          0           []                               \n",
      "                                                                                                  \n",
      " T_DS_MOVE (Embedding)          (None, 1, 50)        68000       ['input_224[0][0]']              \n",
      "                                                                                                  \n",
      " ContainerID (Embedding)        (None, 1, 50)        9750        ['input_225[0][0]']              \n",
      "                                                                                                  \n",
      " DS-VESSEL-ID (Embedding)       (None, 1, 42)        3570        ['input_226[0][0]']              \n",
      "                                                                                                  \n",
      " LD-VESSEL-ID (Embedding)       (None, 1, 40)        3240        ['input_227[0][0]']              \n",
      "                                                                                                  \n",
      " DS-VESSEL-YEAR (Embedding)     (None, 1, 1)         3           ['input_228[0][0]']              \n",
      "                                                                                                  \n",
      " LD-VESSEL-YEAR (Embedding)     (None, 1, 1)         3           ['input_229[0][0]']              \n",
      "                                                                                                  \n",
      " LD-POD (Embedding)             (None, 1, 32)        2080        ['input_230[0][0]']              \n",
      "                                                                                                  \n",
      " Full (Embedding)               (None, 1, 1)         3           ['input_231[0][0]']              \n",
      "                                                                                                  \n",
      " Empty (Embedding)              (None, 1, 1)         3           ['input_232[0][0]']              \n",
      "                                                                                                  \n",
      " spatial_dropout1d_221 (Spatial  (None, 1, 50)       0           ['T_DS_MOVE[0][0]']              \n",
      " Dropout1D)                                                                                       \n",
      "                                                                                                  \n",
      " spatial_dropout1d_222 (Spatial  (None, 1, 50)       0           ['ContainerID[0][0]']            \n",
      " Dropout1D)                                                                                       \n",
      "                                                                                                  \n",
      " spatial_dropout1d_223 (Spatial  (None, 1, 42)       0           ['DS-VESSEL-ID[0][0]']           \n",
      " Dropout1D)                                                                                       \n",
      "                                                                                                  \n",
      " spatial_dropout1d_224 (Spatial  (None, 1, 40)       0           ['LD-VESSEL-ID[0][0]']           \n",
      " Dropout1D)                                                                                       \n",
      "                                                                                                  \n",
      " spatial_dropout1d_225 (Spatial  (None, 1, 1)        0           ['DS-VESSEL-YEAR[0][0]']         \n",
      " Dropout1D)                                                                                       \n",
      "                                                                                                  \n",
      " spatial_dropout1d_226 (Spatial  (None, 1, 1)        0           ['LD-VESSEL-YEAR[0][0]']         \n",
      " Dropout1D)                                                                                       \n",
      "                                                                                                  \n",
      " spatial_dropout1d_227 (Spatial  (None, 1, 32)       0           ['LD-POD[0][0]']                 \n",
      " Dropout1D)                                                                                       \n",
      "                                                                                                  \n",
      " spatial_dropout1d_228 (Spatial  (None, 1, 1)        0           ['Full[0][0]']                   \n",
      " Dropout1D)                                                                                       \n",
      "                                                                                                  \n",
      " spatial_dropout1d_229 (Spatial  (None, 1, 1)        0           ['Empty[0][0]']                  \n",
      " Dropout1D)                                                                                       \n",
      "                                                                                                  \n",
      " reshape_221 (Reshape)          (None, 50)           0           ['spatial_dropout1d_221[0][0]']  \n",
      "                                                                                                  \n",
      " reshape_222 (Reshape)          (None, 50)           0           ['spatial_dropout1d_222[0][0]']  \n",
      "                                                                                                  \n",
      " reshape_223 (Reshape)          (None, 42)           0           ['spatial_dropout1d_223[0][0]']  \n",
      "                                                                                                  \n",
      " reshape_224 (Reshape)          (None, 40)           0           ['spatial_dropout1d_224[0][0]']  \n",
      "                                                                                                  \n",
      " reshape_225 (Reshape)          (None, 1)            0           ['spatial_dropout1d_225[0][0]']  \n",
      "                                                                                                  \n",
      " reshape_226 (Reshape)          (None, 1)            0           ['spatial_dropout1d_226[0][0]']  \n",
      "                                                                                                  \n",
      " reshape_227 (Reshape)          (None, 32)           0           ['spatial_dropout1d_227[0][0]']  \n",
      "                                                                                                  \n",
      " reshape_228 (Reshape)          (None, 1)            0           ['spatial_dropout1d_228[0][0]']  \n",
      "                                                                                                  \n",
      " reshape_229 (Reshape)          (None, 1)            0           ['spatial_dropout1d_229[0][0]']  \n",
      "                                                                                                  \n",
      " concatenate_23 (Concatenate)   (None, 218)          0           ['reshape_221[0][0]',            \n",
      "                                                                  'reshape_222[0][0]',            \n",
      "                                                                  'reshape_223[0][0]',            \n",
      "                                                                  'reshape_224[0][0]',            \n",
      "                                                                  'reshape_225[0][0]',            \n",
      "                                                                  'reshape_226[0][0]',            \n",
      "                                                                  'reshape_227[0][0]',            \n",
      "                                                                  'reshape_228[0][0]',            \n",
      "                                                                  'reshape_229[0][0]']            \n",
      "                                                                                                  \n",
      " batch_normalization_70 (BatchN  (None, 218)         872         ['concatenate_23[0][0]']         \n",
      " ormalization)                                                                                    \n",
      "                                                                                                  \n",
      " dense_70 (Dense)               (None, 300)          65700       ['batch_normalization_70[0][0]'] \n",
      "                                                                                                  \n",
      " dropout_47 (Dropout)           (None, 300)          0           ['dense_70[0][0]']               \n",
      "                                                                                                  \n",
      " batch_normalization_71 (BatchN  (None, 300)         1200        ['dropout_47[0][0]']             \n",
      " ormalization)                                                                                    \n",
      "                                                                                                  \n",
      " dense_71 (Dense)               (None, 100)          30100       ['batch_normalization_71[0][0]'] \n",
      "                                                                                                  \n",
      " dense_72 (Dense)               (None, 1)            101         ['dense_71[0][0]']               \n",
      "                                                                                                  \n",
      "==================================================================================================\n",
      "Total params: 184,625\n",
      "Trainable params: 183,589\n",
      "Non-trainable params: 1,036\n",
      "__________________________________________________________________________________________________\n"
     ]
    }
   ],
   "source": [
    "X = data.iloc[:,:-1]\n",
    "Y = data.iloc[:,-1]\n",
    "\n",
    "X_train, X_test, y_train, y_test = train_test_split(X,Y,test_size=0.2,random_state=120, shuffle=False)\n",
    "X_train = X_train.reset_index(drop=True)\n",
    "X_test = X_test.reset_index(drop=True)\n",
    "y_train = y_train.reset_index(drop=True)\n",
    "y_test = y_test.reset_index(drop=True)\n",
    "model = create_model(data, list(X.columns))\n",
    "model.summary()"
   ]
  },
  {
   "cell_type": "code",
   "execution_count": 290,
   "metadata": {},
   "outputs": [
    {
     "name": "stdout",
     "output_type": "stream",
     "text": [
      "Epoch 1/10\n",
      "623/623 [==============================] - 5s 4ms/step - loss: 0.0127\n",
      "Epoch 2/10\n",
      "623/623 [==============================] - 2s 4ms/step - loss: 0.0053\n",
      "Epoch 3/10\n",
      "623/623 [==============================] - 2s 4ms/step - loss: 0.0035\n",
      "Epoch 4/10\n",
      "623/623 [==============================] - 3s 4ms/step - loss: 0.0027\n",
      "Epoch 5/10\n",
      "623/623 [==============================] - 4s 6ms/step - loss: 0.0024\n",
      "Epoch 6/10\n",
      "623/623 [==============================] - 4s 7ms/step - loss: 0.0021\n",
      "Epoch 7/10\n",
      "623/623 [==============================] - 3s 5ms/step - loss: 0.0018\n",
      "Epoch 8/10\n",
      "623/623 [==============================] - 3s 5ms/step - loss: 0.0016\n",
      "Epoch 9/10\n",
      "623/623 [==============================] - 3s 4ms/step - loss: 0.0015\n",
      "Epoch 10/10\n",
      "623/623 [==============================] - 3s 4ms/step - loss: 0.0015\n"
     ]
    },
    {
     "data": {
      "text/plain": [
       "<keras.callbacks.History at 0x17d4c6ddc70>"
      ]
     },
     "execution_count": 290,
     "metadata": {},
     "output_type": "execute_result"
    }
   ],
   "source": [
    "total_columns = list(X.columns)\n",
    "model.compile(loss='mse', optimizer='adam')\n",
    "model.fit([X_train.loc[:, feature].values for feature in total_columns], y_train.values,\n",
    "          epochs = 10)"
   ]
  },
  {
   "cell_type": "code",
   "execution_count": 311,
   "metadata": {},
   "outputs": [
    {
     "name": "stdout",
     "output_type": "stream",
     "text": [
      "623/623 [==============================] - 1s 2ms/step\n",
      "156/156 [==============================] - 0s 2ms/step\n",
      "Train MSE :  4698443863.165347\n",
      "Train RMSE :  68545.19577012927\n",
      "Test MSE :  57889773211.141045\n",
      "Test RMSE :  240602.9368298339\n",
      "train_MAE:  46757.03606606708\n",
      "test_MAE:  173353.06879754344\n"
     ]
    }
   ],
   "source": [
    "from sklearn.metrics import mean_squared_error \n",
    "\n",
    "y_pred_train = model.predict([X_train.loc[:, feature].values for feature in total_columns])\n",
    "y_pred_test = model.predict([X_test.loc[:, feature].values for feature in total_columns])\n",
    "\n",
    "\n",
    "\n",
    "y_pred_train = scaler.inverse_transform(y_pred_train.reshape(-1, 1))\n",
    "y_pred_test = scaler.inverse_transform(y_pred_test.reshape(-1,1))\n",
    "\n",
    "mse_train = mean_squared_error(original_y_train.values, y_pred_train)\n",
    "mse_test = mean_squared_error(original_y_test.values, y_pred_test)\n",
    "print(\"Train MSE : \", mse_train)\n",
    "print(\"Train RMSE : \", mse_train**0.5)\n",
    "print(\"Test MSE : \", mse_test)\n",
    "print(\"Test RMSE : \", mse_test**0.5)\n",
    "\n",
    "mae_train = mean_absolute_error(original_y_train,y_pred_train)\n",
    "mae_test = mean_absolute_error(original_y_test,y_pred_test)\n",
    "print('train_MAE: ',mae_train)\n",
    "print('test_MAE: ',mae_test)"
   ]
  },
  {
   "cell_type": "code",
   "execution_count": 308,
   "metadata": {},
   "outputs": [
    {
     "data": {
      "text/plain": [
       "array([628983.2 , 658078.06, 585705.  , 652964.56, 663700.6 , 646617.94,\n",
       "       645744.8 , 639953.4 , 647878.44, 575926.1 , 886453.25, 899822.06,\n",
       "       780268.94, 767705.25, 836934.5 , 916985.5 , 793095.5 , 600137.1 ,\n",
       "       823670.2 , 732517.25], dtype=float32)"
      ]
     },
     "execution_count": 308,
     "metadata": {},
     "output_type": "execute_result"
    }
   ],
   "source": [
    "y_pred_test.reshape(-1)[:20]"
   ]
  },
  {
   "cell_type": "code",
   "execution_count": 309,
   "metadata": {},
   "outputs": [
    {
     "data": {
      "text/plain": [
       "array([614285, 498889, 617559, 498306, 496793, 497168, 498325, 513224,\n",
       "       511690, 604530, 839925, 826751, 661428, 662090, 658385, 629512,\n",
       "       658965, 596485, 819308, 725222], dtype=int64)"
      ]
     },
     "execution_count": 309,
     "metadata": {},
     "output_type": "execute_result"
    }
   ],
   "source": [
    "original_y_test.values[:20]"
   ]
  },
  {
   "cell_type": "code",
   "execution_count": 307,
   "metadata": {},
   "outputs": [
    {
     "ename": "KeyError",
     "evalue": "0",
     "output_type": "error",
     "traceback": [
      "\u001b[1;31m---------------------------------------------------------------------------\u001b[0m",
      "\u001b[1;31mKeyError\u001b[0m                                  Traceback (most recent call last)",
      "\u001b[1;32mc:\\Users\\hyunj\\Anaconda3\\lib\\site-packages\\pandas\\core\\indexes\\base.py\u001b[0m in \u001b[0;36mget_loc\u001b[1;34m(self, key, method, tolerance)\u001b[0m\n\u001b[0;32m   3628\u001b[0m             \u001b[1;32mtry\u001b[0m\u001b[1;33m:\u001b[0m\u001b[1;33m\u001b[0m\u001b[1;33m\u001b[0m\u001b[0m\n\u001b[1;32m-> 3629\u001b[1;33m                 \u001b[1;32mreturn\u001b[0m \u001b[0mself\u001b[0m\u001b[1;33m.\u001b[0m\u001b[0m_engine\u001b[0m\u001b[1;33m.\u001b[0m\u001b[0mget_loc\u001b[0m\u001b[1;33m(\u001b[0m\u001b[0mcasted_key\u001b[0m\u001b[1;33m)\u001b[0m\u001b[1;33m\u001b[0m\u001b[1;33m\u001b[0m\u001b[0m\n\u001b[0m\u001b[0;32m   3630\u001b[0m             \u001b[1;32mexcept\u001b[0m \u001b[0mKeyError\u001b[0m \u001b[1;32mas\u001b[0m \u001b[0merr\u001b[0m\u001b[1;33m:\u001b[0m\u001b[1;33m\u001b[0m\u001b[1;33m\u001b[0m\u001b[0m\n",
      "\u001b[1;32mc:\\Users\\hyunj\\Anaconda3\\lib\\site-packages\\pandas\\_libs\\index.pyx\u001b[0m in \u001b[0;36mpandas._libs.index.IndexEngine.get_loc\u001b[1;34m()\u001b[0m\n",
      "\u001b[1;32mc:\\Users\\hyunj\\Anaconda3\\lib\\site-packages\\pandas\\_libs\\index.pyx\u001b[0m in \u001b[0;36mpandas._libs.index.IndexEngine.get_loc\u001b[1;34m()\u001b[0m\n",
      "\u001b[1;32mpandas\\_libs\\hashtable_class_helper.pxi\u001b[0m in \u001b[0;36mpandas._libs.hashtable.Int64HashTable.get_item\u001b[1;34m()\u001b[0m\n",
      "\u001b[1;32mpandas\\_libs\\hashtable_class_helper.pxi\u001b[0m in \u001b[0;36mpandas._libs.hashtable.Int64HashTable.get_item\u001b[1;34m()\u001b[0m\n",
      "\u001b[1;31mKeyError\u001b[0m: 0",
      "\nThe above exception was the direct cause of the following exception:\n",
      "\u001b[1;31mKeyError\u001b[0m                                  Traceback (most recent call last)",
      "\u001b[1;32m~\\AppData\\Local\\Temp\\ipykernel_17416\\2101623112.py\u001b[0m in \u001b[0;36m<module>\u001b[1;34m\u001b[0m\n\u001b[0;32m      1\u001b[0m \u001b[0mx\u001b[0m \u001b[1;33m=\u001b[0m \u001b[0mdict\u001b[0m\u001b[1;33m(\u001b[0m\u001b[1;33m)\u001b[0m\u001b[1;33m\u001b[0m\u001b[1;33m\u001b[0m\u001b[0m\n\u001b[0;32m      2\u001b[0m \u001b[1;32mfor\u001b[0m \u001b[0mi\u001b[0m \u001b[1;32min\u001b[0m \u001b[0mrange\u001b[0m\u001b[1;33m(\u001b[0m\u001b[1;36m20\u001b[0m\u001b[1;33m)\u001b[0m \u001b[1;33m:\u001b[0m\u001b[1;33m\u001b[0m\u001b[1;33m\u001b[0m\u001b[0m\n\u001b[1;32m----> 3\u001b[1;33m     \u001b[0mprint\u001b[0m\u001b[1;33m(\u001b[0m\u001b[0my_pred_test\u001b[0m\u001b[1;33m.\u001b[0m\u001b[0mreshape\u001b[0m\u001b[1;33m(\u001b[0m\u001b[1;33m-\u001b[0m\u001b[1;36m1\u001b[0m\u001b[1;33m)\u001b[0m\u001b[1;33m[\u001b[0m\u001b[0mi\u001b[0m\u001b[1;33m]\u001b[0m\u001b[1;33m,\u001b[0m \u001b[1;34m\"mmm\"\u001b[0m\u001b[1;33m,\u001b[0m \u001b[0moriginal_y_test\u001b[0m\u001b[1;33m[\u001b[0m\u001b[0mi\u001b[0m\u001b[1;33m]\u001b[0m\u001b[1;33m)\u001b[0m\u001b[1;33m\u001b[0m\u001b[1;33m\u001b[0m\u001b[0m\n\u001b[0m",
      "\u001b[1;32mc:\\Users\\hyunj\\Anaconda3\\lib\\site-packages\\pandas\\core\\series.py\u001b[0m in \u001b[0;36m__getitem__\u001b[1;34m(self, key)\u001b[0m\n\u001b[0;32m    956\u001b[0m \u001b[1;33m\u001b[0m\u001b[0m\n\u001b[0;32m    957\u001b[0m         \u001b[1;32melif\u001b[0m \u001b[0mkey_is_scalar\u001b[0m\u001b[1;33m:\u001b[0m\u001b[1;33m\u001b[0m\u001b[1;33m\u001b[0m\u001b[0m\n\u001b[1;32m--> 958\u001b[1;33m             \u001b[1;32mreturn\u001b[0m \u001b[0mself\u001b[0m\u001b[1;33m.\u001b[0m\u001b[0m_get_value\u001b[0m\u001b[1;33m(\u001b[0m\u001b[0mkey\u001b[0m\u001b[1;33m)\u001b[0m\u001b[1;33m\u001b[0m\u001b[1;33m\u001b[0m\u001b[0m\n\u001b[0m\u001b[0;32m    959\u001b[0m \u001b[1;33m\u001b[0m\u001b[0m\n\u001b[0;32m    960\u001b[0m         \u001b[1;32mif\u001b[0m \u001b[0mis_hashable\u001b[0m\u001b[1;33m(\u001b[0m\u001b[0mkey\u001b[0m\u001b[1;33m)\u001b[0m\u001b[1;33m:\u001b[0m\u001b[1;33m\u001b[0m\u001b[1;33m\u001b[0m\u001b[0m\n",
      "\u001b[1;32mc:\\Users\\hyunj\\Anaconda3\\lib\\site-packages\\pandas\\core\\series.py\u001b[0m in \u001b[0;36m_get_value\u001b[1;34m(self, label, takeable)\u001b[0m\n\u001b[0;32m   1067\u001b[0m \u001b[1;33m\u001b[0m\u001b[0m\n\u001b[0;32m   1068\u001b[0m         \u001b[1;31m# Similar to Index.get_value, but we do not fall back to positional\u001b[0m\u001b[1;33m\u001b[0m\u001b[1;33m\u001b[0m\u001b[0m\n\u001b[1;32m-> 1069\u001b[1;33m         \u001b[0mloc\u001b[0m \u001b[1;33m=\u001b[0m \u001b[0mself\u001b[0m\u001b[1;33m.\u001b[0m\u001b[0mindex\u001b[0m\u001b[1;33m.\u001b[0m\u001b[0mget_loc\u001b[0m\u001b[1;33m(\u001b[0m\u001b[0mlabel\u001b[0m\u001b[1;33m)\u001b[0m\u001b[1;33m\u001b[0m\u001b[1;33m\u001b[0m\u001b[0m\n\u001b[0m\u001b[0;32m   1070\u001b[0m         \u001b[1;32mreturn\u001b[0m \u001b[0mself\u001b[0m\u001b[1;33m.\u001b[0m\u001b[0mindex\u001b[0m\u001b[1;33m.\u001b[0m\u001b[0m_get_values_for_loc\u001b[0m\u001b[1;33m(\u001b[0m\u001b[0mself\u001b[0m\u001b[1;33m,\u001b[0m \u001b[0mloc\u001b[0m\u001b[1;33m,\u001b[0m \u001b[0mlabel\u001b[0m\u001b[1;33m)\u001b[0m\u001b[1;33m\u001b[0m\u001b[1;33m\u001b[0m\u001b[0m\n\u001b[0;32m   1071\u001b[0m \u001b[1;33m\u001b[0m\u001b[0m\n",
      "\u001b[1;32mc:\\Users\\hyunj\\Anaconda3\\lib\\site-packages\\pandas\\core\\indexes\\base.py\u001b[0m in \u001b[0;36mget_loc\u001b[1;34m(self, key, method, tolerance)\u001b[0m\n\u001b[0;32m   3629\u001b[0m                 \u001b[1;32mreturn\u001b[0m \u001b[0mself\u001b[0m\u001b[1;33m.\u001b[0m\u001b[0m_engine\u001b[0m\u001b[1;33m.\u001b[0m\u001b[0mget_loc\u001b[0m\u001b[1;33m(\u001b[0m\u001b[0mcasted_key\u001b[0m\u001b[1;33m)\u001b[0m\u001b[1;33m\u001b[0m\u001b[1;33m\u001b[0m\u001b[0m\n\u001b[0;32m   3630\u001b[0m             \u001b[1;32mexcept\u001b[0m \u001b[0mKeyError\u001b[0m \u001b[1;32mas\u001b[0m \u001b[0merr\u001b[0m\u001b[1;33m:\u001b[0m\u001b[1;33m\u001b[0m\u001b[1;33m\u001b[0m\u001b[0m\n\u001b[1;32m-> 3631\u001b[1;33m                 \u001b[1;32mraise\u001b[0m \u001b[0mKeyError\u001b[0m\u001b[1;33m(\u001b[0m\u001b[0mkey\u001b[0m\u001b[1;33m)\u001b[0m \u001b[1;32mfrom\u001b[0m \u001b[0merr\u001b[0m\u001b[1;33m\u001b[0m\u001b[1;33m\u001b[0m\u001b[0m\n\u001b[0m\u001b[0;32m   3632\u001b[0m             \u001b[1;32mexcept\u001b[0m \u001b[0mTypeError\u001b[0m\u001b[1;33m:\u001b[0m\u001b[1;33m\u001b[0m\u001b[1;33m\u001b[0m\u001b[0m\n\u001b[0;32m   3633\u001b[0m                 \u001b[1;31m# If we have a listlike key, _check_indexing_error will raise\u001b[0m\u001b[1;33m\u001b[0m\u001b[1;33m\u001b[0m\u001b[0m\n",
      "\u001b[1;31mKeyError\u001b[0m: 0"
     ]
    }
   ],
   "source": []
  },
  {
   "cell_type": "markdown",
   "metadata": {},
   "source": []
  }
 ],
 "metadata": {
  "kernelspec": {
   "display_name": "base",
   "language": "python",
   "name": "python3"
  },
  "language_info": {
   "codemirror_mode": {
    "name": "ipython",
    "version": 3
   },
   "file_extension": ".py",
   "mimetype": "text/x-python",
   "name": "python",
   "nbconvert_exporter": "python",
   "pygments_lexer": "ipython3",
   "version": "3.9.13"
  },
  "orig_nbformat": 4,
  "vscode": {
   "interpreter": {
    "hash": "24dbf3889b5bfa303f2e95e38e2b28553e54ae0a5cbdeb46240e6eebb55c4c82"
   }
  }
 },
 "nbformat": 4,
 "nbformat_minor": 2
}
