{
 "cells": [
  {
   "attachments": {},
   "cell_type": "markdown",
   "metadata": {},
   "source": [
    "# Import Library"
   ]
  },
  {
   "cell_type": "code",
   "execution_count": 55,
   "metadata": {},
   "outputs": [],
   "source": [
    "import pandas as pd\n",
    "import numpy as np\n",
    "import os\n",
    "from tqdm import tqdm"
   ]
  },
  {
   "attachments": {},
   "cell_type": "markdown",
   "metadata": {},
   "source": [
    "Only DS"
   ]
  },
  {
   "cell_type": "code",
   "execution_count": 56,
   "metadata": {},
   "outputs": [
    {
     "name": "stdout",
     "output_type": "stream",
     "text": [
      "DS의 Feature :  Index(['Case ID', 'Activity', 'Start Timestamp', 'Complete Timestamp',\n",
      "       'Variant', 'Variant index', 'VESSEL', 'MCHN_ID', 'FULL_EMPTY', 'POD',\n",
      "       'BLOCK_BAY'],\n",
      "      dtype='object')\n"
     ]
    },
    {
     "data": {
      "text/html": [
       "<div>\n",
       "<style scoped>\n",
       "    .dataframe tbody tr th:only-of-type {\n",
       "        vertical-align: middle;\n",
       "    }\n",
       "\n",
       "    .dataframe tbody tr th {\n",
       "        vertical-align: top;\n",
       "    }\n",
       "\n",
       "    .dataframe thead th {\n",
       "        text-align: right;\n",
       "    }\n",
       "</style>\n",
       "<table border=\"1\" class=\"dataframe\">\n",
       "  <thead>\n",
       "    <tr style=\"text-align: right;\">\n",
       "      <th></th>\n",
       "      <th>Case ID</th>\n",
       "      <th>Activity</th>\n",
       "      <th>Start Timestamp</th>\n",
       "      <th>Complete Timestamp</th>\n",
       "      <th>Variant</th>\n",
       "      <th>Variant index</th>\n",
       "      <th>VESSEL</th>\n",
       "      <th>MCHN_ID</th>\n",
       "      <th>FULL_EMPTY</th>\n",
       "      <th>POD</th>\n",
       "      <th>BLOCK_BAY</th>\n",
       "    </tr>\n",
       "  </thead>\n",
       "  <tbody>\n",
       "    <tr>\n",
       "      <th>0</th>\n",
       "      <td>AXIU1484082-2</td>\n",
       "      <td>DS-QUAYSIDE</td>\n",
       "      <td>2018-01-31 21:17:52.000</td>\n",
       "      <td>2018-01-31 21:19:24.000</td>\n",
       "      <td>Variant 1</td>\n",
       "      <td>1</td>\n",
       "      <td>ALAP-001/2018</td>\n",
       "      <td>GC112</td>\n",
       "      <td>F</td>\n",
       "      <td>KRPUS</td>\n",
       "      <td>1B-38</td>\n",
       "    </tr>\n",
       "    <tr>\n",
       "      <th>1</th>\n",
       "      <td>AXIU1484082-2</td>\n",
       "      <td>DS-MOVE</td>\n",
       "      <td>2018-01-31 21:19:24.000</td>\n",
       "      <td>2018-01-31 21:36:33.000</td>\n",
       "      <td>Variant 1</td>\n",
       "      <td>1</td>\n",
       "      <td>ALAP-001/2018</td>\n",
       "      <td>YT511</td>\n",
       "      <td>F</td>\n",
       "      <td>KRPUS</td>\n",
       "      <td>1B-38</td>\n",
       "    </tr>\n",
       "    <tr>\n",
       "      <th>2</th>\n",
       "      <td>AXIU1484082-2</td>\n",
       "      <td>DS-YARDSIDE</td>\n",
       "      <td>2018-01-31 21:36:33.000</td>\n",
       "      <td>2018-01-31 21:38:05.000</td>\n",
       "      <td>Variant 1</td>\n",
       "      <td>1</td>\n",
       "      <td>ALAP-001/2018</td>\n",
       "      <td>TC221</td>\n",
       "      <td>F</td>\n",
       "      <td>KRPUS</td>\n",
       "      <td>1B-38</td>\n",
       "    </tr>\n",
       "    <tr>\n",
       "      <th>3</th>\n",
       "      <td>BGBU5060490-3</td>\n",
       "      <td>DS-QUAYSIDE</td>\n",
       "      <td>2018-01-31 20:57:48.000</td>\n",
       "      <td>2018-01-31 20:59:20.000</td>\n",
       "      <td>Variant 1</td>\n",
       "      <td>1</td>\n",
       "      <td>ALAP-001/2018</td>\n",
       "      <td>GC109</td>\n",
       "      <td>F</td>\n",
       "      <td>KRPUS</td>\n",
       "      <td>3F-69</td>\n",
       "    </tr>\n",
       "    <tr>\n",
       "      <th>4</th>\n",
       "      <td>BGBU5060490-3</td>\n",
       "      <td>DS-MOVE</td>\n",
       "      <td>2018-01-31 20:59:20.000</td>\n",
       "      <td>2018-01-31 21:11:32.000</td>\n",
       "      <td>Variant 1</td>\n",
       "      <td>1</td>\n",
       "      <td>ALAP-001/2018</td>\n",
       "      <td>YT538</td>\n",
       "      <td>F</td>\n",
       "      <td>KRPUS</td>\n",
       "      <td>3F-69</td>\n",
       "    </tr>\n",
       "  </tbody>\n",
       "</table>\n",
       "</div>"
      ],
      "text/plain": [
       "         Case ID     Activity          Start Timestamp  \\\n",
       "0  AXIU1484082-2  DS-QUAYSIDE  2018-01-31 21:17:52.000   \n",
       "1  AXIU1484082-2      DS-MOVE  2018-01-31 21:19:24.000   \n",
       "2  AXIU1484082-2  DS-YARDSIDE  2018-01-31 21:36:33.000   \n",
       "3  BGBU5060490-3  DS-QUAYSIDE  2018-01-31 20:57:48.000   \n",
       "4  BGBU5060490-3      DS-MOVE  2018-01-31 20:59:20.000   \n",
       "\n",
       "        Complete Timestamp    Variant  Variant index         VESSEL MCHN_ID  \\\n",
       "0  2018-01-31 21:19:24.000  Variant 1              1  ALAP-001/2018   GC112   \n",
       "1  2018-01-31 21:36:33.000  Variant 1              1  ALAP-001/2018   YT511   \n",
       "2  2018-01-31 21:38:05.000  Variant 1              1  ALAP-001/2018   TC221   \n",
       "3  2018-01-31 20:59:20.000  Variant 1              1  ALAP-001/2018   GC109   \n",
       "4  2018-01-31 21:11:32.000  Variant 1              1  ALAP-001/2018   YT538   \n",
       "\n",
       "  FULL_EMPTY    POD BLOCK_BAY  \n",
       "0          F  KRPUS     1B-38  \n",
       "1          F  KRPUS     1B-38  \n",
       "2          F  KRPUS     1B-38  \n",
       "3          F  KRPUS     3F-69  \n",
       "4          F  KRPUS     3F-69  "
      ]
     },
     "execution_count": 56,
     "metadata": {},
     "output_type": "execute_result"
    }
   ],
   "source": [
    "cwd = os.getcwd()\n",
    "# 폴더 위치 변경\n",
    "os.chdir(\"C:\\\\Users\\hyunj\\\\Dropbox\\\\종합설계프로젝트\\\\중요\\\\데이터\")\n",
    "\n",
    "data = pd.read_csv('DS.csv', encoding='cp949')\n",
    "print('DS의 Feature : ' , data.columns)\n",
    "data.head()"
   ]
  },
  {
   "cell_type": "code",
   "execution_count": 57,
   "metadata": {},
   "outputs": [
    {
     "name": "stdout",
     "output_type": "stream",
     "text": [
      "DS의 Feature :  Index(['CONTAINER_NO', 'JOB_TYPE', 'JOB_START_DT', 'JOB_END_DT', 'VESSEL',\n",
      "       'MCHN_ID', 'FULL_EMPTY', 'POD', 'BLOCK_BAY'],\n",
      "      dtype='object')\n",
      "DS의 SHAPE :  (148959, 9)\n"
     ]
    },
    {
     "data": {
      "text/html": [
       "<div>\n",
       "<style scoped>\n",
       "    .dataframe tbody tr th:only-of-type {\n",
       "        vertical-align: middle;\n",
       "    }\n",
       "\n",
       "    .dataframe tbody tr th {\n",
       "        vertical-align: top;\n",
       "    }\n",
       "\n",
       "    .dataframe thead th {\n",
       "        text-align: right;\n",
       "    }\n",
       "</style>\n",
       "<table border=\"1\" class=\"dataframe\">\n",
       "  <thead>\n",
       "    <tr style=\"text-align: right;\">\n",
       "      <th></th>\n",
       "      <th>CONTAINER_NO</th>\n",
       "      <th>JOB_TYPE</th>\n",
       "      <th>JOB_START_DT</th>\n",
       "      <th>JOB_END_DT</th>\n",
       "      <th>VESSEL</th>\n",
       "      <th>MCHN_ID</th>\n",
       "      <th>FULL_EMPTY</th>\n",
       "      <th>POD</th>\n",
       "      <th>BLOCK_BAY</th>\n",
       "    </tr>\n",
       "  </thead>\n",
       "  <tbody>\n",
       "    <tr>\n",
       "      <th>0</th>\n",
       "      <td>AXIU1484082-2</td>\n",
       "      <td>DS-QUAYSIDE</td>\n",
       "      <td>2018-01-31 21:17:52.000</td>\n",
       "      <td>2018-01-31 21:19:24.000</td>\n",
       "      <td>ALAP-001/2018</td>\n",
       "      <td>GC112</td>\n",
       "      <td>F</td>\n",
       "      <td>KRPUS</td>\n",
       "      <td>1B-38</td>\n",
       "    </tr>\n",
       "    <tr>\n",
       "      <th>1</th>\n",
       "      <td>AXIU1484082-2</td>\n",
       "      <td>DS-MOVE</td>\n",
       "      <td>2018-01-31 21:19:24.000</td>\n",
       "      <td>2018-01-31 21:36:33.000</td>\n",
       "      <td>ALAP-001/2018</td>\n",
       "      <td>YT511</td>\n",
       "      <td>F</td>\n",
       "      <td>KRPUS</td>\n",
       "      <td>1B-38</td>\n",
       "    </tr>\n",
       "    <tr>\n",
       "      <th>2</th>\n",
       "      <td>AXIU1484082-2</td>\n",
       "      <td>DS-YARDSIDE</td>\n",
       "      <td>2018-01-31 21:36:33.000</td>\n",
       "      <td>2018-01-31 21:38:05.000</td>\n",
       "      <td>ALAP-001/2018</td>\n",
       "      <td>TC221</td>\n",
       "      <td>F</td>\n",
       "      <td>KRPUS</td>\n",
       "      <td>1B-38</td>\n",
       "    </tr>\n",
       "    <tr>\n",
       "      <th>3</th>\n",
       "      <td>BGBU5060490-3</td>\n",
       "      <td>DS-QUAYSIDE</td>\n",
       "      <td>2018-01-31 20:57:48.000</td>\n",
       "      <td>2018-01-31 20:59:20.000</td>\n",
       "      <td>ALAP-001/2018</td>\n",
       "      <td>GC109</td>\n",
       "      <td>F</td>\n",
       "      <td>KRPUS</td>\n",
       "      <td>3F-69</td>\n",
       "    </tr>\n",
       "    <tr>\n",
       "      <th>4</th>\n",
       "      <td>BGBU5060490-3</td>\n",
       "      <td>DS-MOVE</td>\n",
       "      <td>2018-01-31 20:59:20.000</td>\n",
       "      <td>2018-01-31 21:11:32.000</td>\n",
       "      <td>ALAP-001/2018</td>\n",
       "      <td>YT538</td>\n",
       "      <td>F</td>\n",
       "      <td>KRPUS</td>\n",
       "      <td>3F-69</td>\n",
       "    </tr>\n",
       "  </tbody>\n",
       "</table>\n",
       "</div>"
      ],
      "text/plain": [
       "    CONTAINER_NO     JOB_TYPE             JOB_START_DT  \\\n",
       "0  AXIU1484082-2  DS-QUAYSIDE  2018-01-31 21:17:52.000   \n",
       "1  AXIU1484082-2      DS-MOVE  2018-01-31 21:19:24.000   \n",
       "2  AXIU1484082-2  DS-YARDSIDE  2018-01-31 21:36:33.000   \n",
       "3  BGBU5060490-3  DS-QUAYSIDE  2018-01-31 20:57:48.000   \n",
       "4  BGBU5060490-3      DS-MOVE  2018-01-31 20:59:20.000   \n",
       "\n",
       "                JOB_END_DT         VESSEL MCHN_ID FULL_EMPTY    POD BLOCK_BAY  \n",
       "0  2018-01-31 21:19:24.000  ALAP-001/2018   GC112          F  KRPUS     1B-38  \n",
       "1  2018-01-31 21:36:33.000  ALAP-001/2018   YT511          F  KRPUS     1B-38  \n",
       "2  2018-01-31 21:38:05.000  ALAP-001/2018   TC221          F  KRPUS     1B-38  \n",
       "3  2018-01-31 20:59:20.000  ALAP-001/2018   GC109          F  KRPUS     3F-69  \n",
       "4  2018-01-31 21:11:32.000  ALAP-001/2018   YT538          F  KRPUS     3F-69  "
      ]
     },
     "execution_count": 57,
     "metadata": {},
     "output_type": "execute_result"
    }
   ],
   "source": [
    "# 필요없는 열 삭제 & Feature name 변경\n",
    "data.drop('Variant', axis = 1, inplace = True)\n",
    "data.drop('Variant index', axis = 1, inplace = True)\n",
    "\n",
    "data.rename(columns = {'Case ID':'CONTAINER_NO',\n",
    "                       'Activity':'JOB_TYPE',\n",
    "                       'Start Timestamp': 'JOB_START_DT',\n",
    "                       'Complete Timestamp' : 'JOB_END_DT'},\n",
    "                        inplace=True)\n",
    "print('DS의 Feature : ' , data.columns)\n",
    "print('DS의 SHAPE : ', data.shape)\n",
    "data.head()"
   ]
  },
  {
   "cell_type": "code",
   "execution_count": 58,
   "metadata": {},
   "outputs": [],
   "source": [
    "# 통합할 데이터 호출\n",
    "che_data = pd.read_csv('CHE I perspective.csv')\n",
    "gate_data = pd.read_csv('Gate perspective.csv')\n",
    "qc_data = pd.read_csv('QC perspective.csv')\n",
    "vessel_data = pd.read_csv('Vessel perspective.csv')"
   ]
  },
  {
   "cell_type": "code",
   "execution_count": 59,
   "metadata": {},
   "outputs": [
    {
     "name": "stdout",
     "output_type": "stream",
     "text": [
      "최종적으로 사용할 데이터 셋의 Column 수는 19\n"
     ]
    }
   ],
   "source": [
    "# 최종 DS csv 파일 - 자세한 것은 파워포인트 참고\n",
    "temp_df = pd.DataFrame(columns=[\"CONTAINER_NO\", \"VESSEL\", \"MCHN_ID\", \"FULL_EMPTY\", \"JOB_TYPE\", \"POD\", \"BLOCK_BAY\", \"JOB_START_DT\", \"JOB_END_DT\",\n",
    "                                \"CHE_ID\", \"ITV_ID\", \"QC_ID\", \"OUTSERVICE\", \"QUEUE_POSITION\", \"H_BOX\",\n",
    "                                \"OUTVESSEL\", \"COUNTRY_NEXTPOD\", \"PORT_NEXTPOD\", \"TML_OUT_DT\"])\n",
    "print('최종적으로 사용할 데이터 셋의 Column 수는' , len(temp_df.columns))\n",
    "\n",
    "# temp에서 추가하고 이를 last에서 concat하는 걸로 - 왜냐하면 temp에서 containerid별로 가져올 것이기 때문에, 이렇게 해주는 이유는 정렬하기 위해서 \n",
    "# (사실 다 추가하고 정렬하면 괜찮지만, 작업 중간 중간에 볼 것이기 때문에 이렇게 함 - 메모리 이슈는 고려하지 않음) \n",
    "last_df = temp_df.copy()"
   ]
  },
  {
   "cell_type": "code",
   "execution_count": 60,
   "metadata": {},
   "outputs": [
    {
     "name": "stdout",
     "output_type": "stream",
     "text": [
      "49653\n"
     ]
    }
   ],
   "source": [
    "unique_container_list = list(data['CONTAINER_NO'].unique())\n",
    "print(len(unique_container_list))"
   ]
  },
  {
   "cell_type": "code",
   "execution_count": 61,
   "metadata": {},
   "outputs": [],
   "source": [
    "# 데이터 우선 통합 - Container perspective 기준!\n",
    "temp_df = pd.concat([temp_df,data])"
   ]
  },
  {
   "cell_type": "code",
   "execution_count": 62,
   "metadata": {},
   "outputs": [
    {
     "name": "stderr",
     "output_type": "stream",
     "text": [
      "데이터 통합 중:   3%|▎         | 1273/49653 [00:18<11:40, 69.07it/s]\n"
     ]
    },
    {
     "ename": "KeyboardInterrupt",
     "evalue": "",
     "output_type": "error",
     "traceback": [
      "\u001b[1;31m---------------------------------------------------------------------------\u001b[0m",
      "\u001b[1;31mKeyboardInterrupt\u001b[0m                         Traceback (most recent call last)",
      "\u001b[1;32m~\\AppData\\Local\\Temp\\ipykernel_4448\\3078006179.py\u001b[0m in \u001b[0;36m<module>\u001b[1;34m\u001b[0m\n\u001b[0;32m      1\u001b[0m \u001b[1;32mfor\u001b[0m \u001b[0mcontainer\u001b[0m \u001b[1;32min\u001b[0m \u001b[0mtqdm\u001b[0m\u001b[1;33m(\u001b[0m\u001b[0munique_container_list\u001b[0m\u001b[1;33m,\u001b[0m \u001b[0mdesc\u001b[0m \u001b[1;33m=\u001b[0m \u001b[1;34m\"데이터 통합 중\"\u001b[0m\u001b[1;33m)\u001b[0m \u001b[1;33m:\u001b[0m\u001b[1;33m\u001b[0m\u001b[1;33m\u001b[0m\u001b[0m\n\u001b[1;32m----> 2\u001b[1;33m     \u001b[0mtemp_df\u001b[0m \u001b[1;33m=\u001b[0m \u001b[0mlast_df\u001b[0m\u001b[1;33m[\u001b[0m\u001b[0mlast_df\u001b[0m\u001b[1;33m[\u001b[0m\u001b[1;34m'CONTAINER_NO'\u001b[0m\u001b[1;33m]\u001b[0m \u001b[1;33m==\u001b[0m \u001b[0mcontainer\u001b[0m\u001b[1;33m]\u001b[0m\u001b[1;33m.\u001b[0m\u001b[0mreset_index\u001b[0m\u001b[1;33m(\u001b[0m\u001b[0mdrop\u001b[0m\u001b[1;33m=\u001b[0m\u001b[1;32mTrue\u001b[0m\u001b[1;33m)\u001b[0m\u001b[1;33m\u001b[0m\u001b[1;33m\u001b[0m\u001b[0m\n\u001b[0m\u001b[0;32m      3\u001b[0m     \u001b[1;31m# Gate perspective에서 정보 추출 - GO & GI\u001b[0m\u001b[1;33m\u001b[0m\u001b[1;33m\u001b[0m\u001b[0m\n\u001b[0;32m      4\u001b[0m     \u001b[1;31m# CHE I perspective에서 정보 추출 - MOVE\u001b[0m\u001b[1;33m\u001b[0m\u001b[1;33m\u001b[0m\u001b[0m\n\u001b[0;32m      5\u001b[0m     \u001b[1;31m# QC perspective에서 정보 추출 - QUAYSIDE\u001b[0m\u001b[1;33m\u001b[0m\u001b[1;33m\u001b[0m\u001b[0m\n",
      "\u001b[1;32mc:\\Users\\hyunj\\Anaconda3\\lib\\site-packages\\pandas\\core\\frame.py\u001b[0m in \u001b[0;36m__getitem__\u001b[1;34m(self, key)\u001b[0m\n\u001b[0;32m   3494\u001b[0m         \u001b[1;31m# Do we have a (boolean) 1d indexer?\u001b[0m\u001b[1;33m\u001b[0m\u001b[1;33m\u001b[0m\u001b[0m\n\u001b[0;32m   3495\u001b[0m         \u001b[1;32mif\u001b[0m \u001b[0mcom\u001b[0m\u001b[1;33m.\u001b[0m\u001b[0mis_bool_indexer\u001b[0m\u001b[1;33m(\u001b[0m\u001b[0mkey\u001b[0m\u001b[1;33m)\u001b[0m\u001b[1;33m:\u001b[0m\u001b[1;33m\u001b[0m\u001b[1;33m\u001b[0m\u001b[0m\n\u001b[1;32m-> 3496\u001b[1;33m             \u001b[1;32mreturn\u001b[0m \u001b[0mself\u001b[0m\u001b[1;33m.\u001b[0m\u001b[0m_getitem_bool_array\u001b[0m\u001b[1;33m(\u001b[0m\u001b[0mkey\u001b[0m\u001b[1;33m)\u001b[0m\u001b[1;33m\u001b[0m\u001b[1;33m\u001b[0m\u001b[0m\n\u001b[0m\u001b[0;32m   3497\u001b[0m \u001b[1;33m\u001b[0m\u001b[0m\n\u001b[0;32m   3498\u001b[0m         \u001b[1;31m# We are left with two options: a single key, and a collection of keys,\u001b[0m\u001b[1;33m\u001b[0m\u001b[1;33m\u001b[0m\u001b[0m\n",
      "\u001b[1;32mc:\\Users\\hyunj\\Anaconda3\\lib\\site-packages\\pandas\\core\\frame.py\u001b[0m in \u001b[0;36m_getitem_bool_array\u001b[1;34m(self, key)\u001b[0m\n\u001b[0;32m   3548\u001b[0m         \u001b[1;31m# be reindexed to match DataFrame rows\u001b[0m\u001b[1;33m\u001b[0m\u001b[1;33m\u001b[0m\u001b[0m\n\u001b[0;32m   3549\u001b[0m         \u001b[0mkey\u001b[0m \u001b[1;33m=\u001b[0m \u001b[0mcheck_bool_indexer\u001b[0m\u001b[1;33m(\u001b[0m\u001b[0mself\u001b[0m\u001b[1;33m.\u001b[0m\u001b[0mindex\u001b[0m\u001b[1;33m,\u001b[0m \u001b[0mkey\u001b[0m\u001b[1;33m)\u001b[0m\u001b[1;33m\u001b[0m\u001b[1;33m\u001b[0m\u001b[0m\n\u001b[1;32m-> 3550\u001b[1;33m         \u001b[0mindexer\u001b[0m \u001b[1;33m=\u001b[0m \u001b[0mkey\u001b[0m\u001b[1;33m.\u001b[0m\u001b[0mnonzero\u001b[0m\u001b[1;33m(\u001b[0m\u001b[1;33m)\u001b[0m\u001b[1;33m[\u001b[0m\u001b[1;36m0\u001b[0m\u001b[1;33m]\u001b[0m\u001b[1;33m\u001b[0m\u001b[1;33m\u001b[0m\u001b[0m\n\u001b[0m\u001b[0;32m   3551\u001b[0m         \u001b[1;32mreturn\u001b[0m \u001b[0mself\u001b[0m\u001b[1;33m.\u001b[0m\u001b[0m_take_with_is_copy\u001b[0m\u001b[1;33m(\u001b[0m\u001b[0mindexer\u001b[0m\u001b[1;33m,\u001b[0m \u001b[0maxis\u001b[0m\u001b[1;33m=\u001b[0m\u001b[1;36m0\u001b[0m\u001b[1;33m)\u001b[0m\u001b[1;33m\u001b[0m\u001b[1;33m\u001b[0m\u001b[0m\n\u001b[0;32m   3552\u001b[0m \u001b[1;33m\u001b[0m\u001b[0m\n",
      "\u001b[1;31mKeyboardInterrupt\u001b[0m: "
     ]
    }
   ],
   "source": [
    "# perspetive를 비교하면서 매치되지 않는 CONTAINER_NO 개수를 기록하기 위한 변수 선\n",
    "exception_number = 0\n",
    "\n",
    "for container in tqdm(unique_container_list, desc = \"데이터 통합 중\") : \n",
    "    criteria_df = temp_df[temp_df['CONTAINER_NO'] == container].reset_index(drop=True)\n",
    "    #! Gate perspective에서 정보 추출 - GO & GI (DS에선 GO!)\n",
    "    gate_temp_df = gate_data[gate_data['CONTAINER_NO'] == container].reset_index(drop=True)\n",
    "    \n",
    "    # container perspective에 있는 CONTAINER_NO가 gate_perspective에 없는 경우도 고려해보아야 함\n",
    "    if len(gate_temp_df) == 0 :\n",
    "        exception_number += 1\n",
    "        print(container + \"에서 CONTAINER_NO가 매치되지 않는 문제점 발생\")\n",
    "        # 일단 그래도 추가하는 걸로 \n",
    "    \n",
    "    else :\n",
    "        # gate_temp_df의 GO에 대한 정보를 temp_df에 전달 후 \n",
    "        \n",
    "    \n",
    "    \n",
    "    # CHE I perspective에서 정보 추출 - MOVE\n",
    "    # QC perspective에서 정보 추출 - QUAYSIDE\n",
    "    # Vessel perspective에서 정보 추출(Vessel은 DS에서만 사용) - DS_QUAYSIDE\n",
    "    \n",
    "    # 각 정보를 전달한 뒤에 last_df에 concat해주기"
   ]
  },
  {
   "cell_type": "code",
   "execution_count": null,
   "metadata": {},
   "outputs": [],
   "source": [
    "last_df.to_csv('확인.csv', encoding='cp949', index=False)"
   ]
  },
  {
   "cell_type": "code",
   "execution_count": null,
   "metadata": {},
   "outputs": [],
   "source": []
  },
  {
   "cell_type": "code",
   "execution_count": null,
   "metadata": {},
   "outputs": [],
   "source": []
  },
  {
   "cell_type": "code",
   "execution_count": null,
   "metadata": {},
   "outputs": [],
   "source": []
  },
  {
   "cell_type": "code",
   "execution_count": null,
   "metadata": {},
   "outputs": [],
   "source": []
  }
 ],
 "metadata": {
  "kernelspec": {
   "display_name": "base",
   "language": "python",
   "name": "python3"
  },
  "language_info": {
   "codemirror_mode": {
    "name": "ipython",
    "version": 3
   },
   "file_extension": ".py",
   "mimetype": "text/x-python",
   "name": "python",
   "nbconvert_exporter": "python",
   "pygments_lexer": "ipython3",
   "version": "3.9.13"
  },
  "orig_nbformat": 4,
  "vscode": {
   "interpreter": {
    "hash": "24dbf3889b5bfa303f2e95e38e2b28553e54ae0a5cbdeb46240e6eebb55c4c82"
   }
  }
 },
 "nbformat": 4,
 "nbformat_minor": 2
}
