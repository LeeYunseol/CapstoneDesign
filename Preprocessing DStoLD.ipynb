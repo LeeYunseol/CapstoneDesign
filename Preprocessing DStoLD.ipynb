{
 "cells": [
  {
   "cell_type": "markdown",
   "metadata": {},
   "source": [
    "# Import Library"
   ]
  },
  {
   "cell_type": "code",
   "execution_count": 1,
   "metadata": {},
   "outputs": [],
   "source": [
    "import pandas as pd\n",
    "import numpy as np\n",
    "import os\n",
    "from tqdm import tqdm"
   ]
  },
  {
   "cell_type": "markdown",
   "metadata": {},
   "source": [
    "# 시작"
   ]
  },
  {
   "cell_type": "code",
   "execution_count": 2,
   "metadata": {},
   "outputs": [
    {
     "name": "stdout",
     "output_type": "stream",
     "text": [
      "현재 폴더 경로 :  c:\\Users\\hyunj\\Desktop\\종합설계프로젝트\n",
      "변경 후 폴더 경로 :  c:\\Users\\hyunj\\Desktop\\종합설계프로젝트\n",
      "현재 폴더 파일 :  ['Integrated DS.csv', 'Integrated DStoLD.csv', 'Integrated LD.csv']\n"
     ]
    },
    {
     "name": "stderr",
     "output_type": "stream",
     "text": [
      "C:\\Users\\hyunj\\AppData\\Local\\Temp\\ipykernel_10840\\1463662871.py:7: DtypeWarning: Columns (12) have mixed types. Specify dtype option on import or set low_memory=False.\n",
      "  data = pd.read_csv('Integrated DStoLD.csv', encoding='CP949')\n"
     ]
    },
    {
     "name": "stdout",
     "output_type": "stream",
     "text": [
      "feature 항목 :  Index(['CONTAINER_NO', 'VESSEL', 'MCHN_ID', 'FULL_EMPTY', 'JOB_TYPE', 'POD',\n",
      "       'BLOCK_BAY', 'JOB_START_DT', 'JOB_END_DT', 'CHE_ID', 'ITV_ID', 'QC_ID',\n",
      "       'OUTSERVICE', 'QUEUE_POSITION', 'H_BOX', 'OUTVESSEL', 'COUNTRY_NEXTPOD',\n",
      "       'PORT_NEXTPOD', 'TML_OUT_DT', 'Unnamed: 0'],\n",
      "      dtype='object')\n"
     ]
    },
    {
     "data": {
      "text/html": [
       "<div>\n",
       "<style scoped>\n",
       "    .dataframe tbody tr th:only-of-type {\n",
       "        vertical-align: middle;\n",
       "    }\n",
       "\n",
       "    .dataframe tbody tr th {\n",
       "        vertical-align: top;\n",
       "    }\n",
       "\n",
       "    .dataframe thead th {\n",
       "        text-align: right;\n",
       "    }\n",
       "</style>\n",
       "<table border=\"1\" class=\"dataframe\">\n",
       "  <thead>\n",
       "    <tr style=\"text-align: right;\">\n",
       "      <th></th>\n",
       "      <th>CONTAINER_NO</th>\n",
       "      <th>VESSEL</th>\n",
       "      <th>MCHN_ID</th>\n",
       "      <th>FULL_EMPTY</th>\n",
       "      <th>JOB_TYPE</th>\n",
       "      <th>POD</th>\n",
       "      <th>BLOCK_BAY</th>\n",
       "      <th>JOB_START_DT</th>\n",
       "      <th>JOB_END_DT</th>\n",
       "      <th>CHE_ID</th>\n",
       "      <th>ITV_ID</th>\n",
       "      <th>QC_ID</th>\n",
       "      <th>OUTSERVICE</th>\n",
       "      <th>QUEUE_POSITION</th>\n",
       "      <th>H_BOX</th>\n",
       "      <th>OUTVESSEL</th>\n",
       "      <th>COUNTRY_NEXTPOD</th>\n",
       "      <th>PORT_NEXTPOD</th>\n",
       "      <th>TML_OUT_DT</th>\n",
       "      <th>Unnamed: 0</th>\n",
       "    </tr>\n",
       "  </thead>\n",
       "  <tbody>\n",
       "    <tr>\n",
       "      <th>0</th>\n",
       "      <td>TRLU8938070-9</td>\n",
       "      <td>SFNZ-001/2018</td>\n",
       "      <td>GC102</td>\n",
       "      <td>F</td>\n",
       "      <td>DS-QUAYSIDE</td>\n",
       "      <td>HKHKG</td>\n",
       "      <td>3A-13</td>\n",
       "      <td>2018-01-11 08:05:42.000</td>\n",
       "      <td>2018-01-11 08:07:14.000</td>\n",
       "      <td>NaN</td>\n",
       "      <td>NaN</td>\n",
       "      <td>NaN</td>\n",
       "      <td>NaN</td>\n",
       "      <td>21D-D</td>\n",
       "      <td>1018.0</td>\n",
       "      <td>NaN</td>\n",
       "      <td>NaN</td>\n",
       "      <td>NaN</td>\n",
       "      <td>NaN</td>\n",
       "      <td>NaN</td>\n",
       "    </tr>\n",
       "    <tr>\n",
       "      <th>1</th>\n",
       "      <td>TRLU8938070-9</td>\n",
       "      <td>SFNZ-001/2018</td>\n",
       "      <td>YT570</td>\n",
       "      <td>F</td>\n",
       "      <td>DS-MOVE</td>\n",
       "      <td>HKHKG</td>\n",
       "      <td>3A-13</td>\n",
       "      <td>2018-01-11 08:07:14.000</td>\n",
       "      <td>2018-01-11 08:14:50.000</td>\n",
       "      <td>TC215</td>\n",
       "      <td>YT570</td>\n",
       "      <td>GC101</td>\n",
       "      <td>NaN</td>\n",
       "      <td>NaN</td>\n",
       "      <td>NaN</td>\n",
       "      <td>NaN</td>\n",
       "      <td>NaN</td>\n",
       "      <td>NaN</td>\n",
       "      <td>NaN</td>\n",
       "      <td>NaN</td>\n",
       "    </tr>\n",
       "    <tr>\n",
       "      <th>2</th>\n",
       "      <td>TRLU8938070-9</td>\n",
       "      <td>SFNZ-001/2018</td>\n",
       "      <td>TC215</td>\n",
       "      <td>F</td>\n",
       "      <td>DS-YARDSIDE</td>\n",
       "      <td>HKHKG</td>\n",
       "      <td>3A-13</td>\n",
       "      <td>2018-01-11 08:14:50.000</td>\n",
       "      <td>2018-01-11 08:16:22.000</td>\n",
       "      <td>NaN</td>\n",
       "      <td>NaN</td>\n",
       "      <td>NaN</td>\n",
       "      <td>NaN</td>\n",
       "      <td>NaN</td>\n",
       "      <td>NaN</td>\n",
       "      <td>NaN</td>\n",
       "      <td>NaN</td>\n",
       "      <td>NaN</td>\n",
       "      <td>NaN</td>\n",
       "      <td>NaN</td>\n",
       "    </tr>\n",
       "    <tr>\n",
       "      <th>3</th>\n",
       "      <td>TRLU8938070-9</td>\n",
       "      <td>SFNZ-001/2018</td>\n",
       "      <td>TC216</td>\n",
       "      <td>F</td>\n",
       "      <td>LD-YARDSIDE</td>\n",
       "      <td>HKHKG</td>\n",
       "      <td>3A-13</td>\n",
       "      <td>2018-01-11 09:18:09.000</td>\n",
       "      <td>2018-01-11 09:20:42.000</td>\n",
       "      <td>NaN</td>\n",
       "      <td>NaN</td>\n",
       "      <td>NaN</td>\n",
       "      <td>NaN</td>\n",
       "      <td>NaN</td>\n",
       "      <td>NaN</td>\n",
       "      <td>NaN</td>\n",
       "      <td>NaN</td>\n",
       "      <td>NaN</td>\n",
       "      <td>NaN</td>\n",
       "      <td>NaN</td>\n",
       "    </tr>\n",
       "    <tr>\n",
       "      <th>4</th>\n",
       "      <td>TRLU8938070-9</td>\n",
       "      <td>SFNZ-001/2018</td>\n",
       "      <td>YT539</td>\n",
       "      <td>F</td>\n",
       "      <td>LD-MOVE</td>\n",
       "      <td>HKHKG</td>\n",
       "      <td>3A-13</td>\n",
       "      <td>2018-01-11 09:20:42.000</td>\n",
       "      <td>2018-01-11 09:50:51.000</td>\n",
       "      <td>TC216</td>\n",
       "      <td>YT539</td>\n",
       "      <td>GC101</td>\n",
       "      <td>NaN</td>\n",
       "      <td>NaN</td>\n",
       "      <td>NaN</td>\n",
       "      <td>NaN</td>\n",
       "      <td>NaN</td>\n",
       "      <td>NaN</td>\n",
       "      <td>NaN</td>\n",
       "      <td>NaN</td>\n",
       "    </tr>\n",
       "    <tr>\n",
       "      <th>...</th>\n",
       "      <td>...</td>\n",
       "      <td>...</td>\n",
       "      <td>...</td>\n",
       "      <td>...</td>\n",
       "      <td>...</td>\n",
       "      <td>...</td>\n",
       "      <td>...</td>\n",
       "      <td>...</td>\n",
       "      <td>...</td>\n",
       "      <td>...</td>\n",
       "      <td>...</td>\n",
       "      <td>...</td>\n",
       "      <td>...</td>\n",
       "      <td>...</td>\n",
       "      <td>...</td>\n",
       "      <td>...</td>\n",
       "      <td>...</td>\n",
       "      <td>...</td>\n",
       "      <td>...</td>\n",
       "      <td>...</td>\n",
       "    </tr>\n",
       "    <tr>\n",
       "      <th>149399</th>\n",
       "      <td>BEAU2976719-1</td>\n",
       "      <td>MAUO-001/2018</td>\n",
       "      <td>YT586</td>\n",
       "      <td>F</td>\n",
       "      <td>DS-MOVE</td>\n",
       "      <td>KRPUS</td>\n",
       "      <td>2B-19</td>\n",
       "      <td>2018-01-27 16:02:11.000</td>\n",
       "      <td>2018-01-27 16:10:10.000</td>\n",
       "      <td>TC223</td>\n",
       "      <td>YT586</td>\n",
       "      <td>GC111</td>\n",
       "      <td>NaN</td>\n",
       "      <td>NaN</td>\n",
       "      <td>NaN</td>\n",
       "      <td>NaN</td>\n",
       "      <td>NaN</td>\n",
       "      <td>NaN</td>\n",
       "      <td>NaN</td>\n",
       "      <td>NaN</td>\n",
       "    </tr>\n",
       "    <tr>\n",
       "      <th>149400</th>\n",
       "      <td>BEAU2976719-1</td>\n",
       "      <td>MAUO-001/2018</td>\n",
       "      <td>TC223</td>\n",
       "      <td>F</td>\n",
       "      <td>DS-YARDSIDE</td>\n",
       "      <td>KRPUS</td>\n",
       "      <td>2B-19</td>\n",
       "      <td>2018-01-27 16:10:10.000</td>\n",
       "      <td>2018-01-27 16:11:42.000</td>\n",
       "      <td>NaN</td>\n",
       "      <td>NaN</td>\n",
       "      <td>NaN</td>\n",
       "      <td>NaN</td>\n",
       "      <td>NaN</td>\n",
       "      <td>NaN</td>\n",
       "      <td>NaN</td>\n",
       "      <td>NaN</td>\n",
       "      <td>NaN</td>\n",
       "      <td>NaN</td>\n",
       "      <td>NaN</td>\n",
       "    </tr>\n",
       "    <tr>\n",
       "      <th>149401</th>\n",
       "      <td>BEAU2976719-1</td>\n",
       "      <td>ALAP-001/2018</td>\n",
       "      <td>TC223</td>\n",
       "      <td>F</td>\n",
       "      <td>LD-YARDSIDE</td>\n",
       "      <td>CAVAN</td>\n",
       "      <td>2B-19</td>\n",
       "      <td>2018-01-31 20:01:47.000</td>\n",
       "      <td>2018-01-31 20:04:20.000</td>\n",
       "      <td>NaN</td>\n",
       "      <td>NaN</td>\n",
       "      <td>NaN</td>\n",
       "      <td>NaN</td>\n",
       "      <td>NaN</td>\n",
       "      <td>NaN</td>\n",
       "      <td>NaN</td>\n",
       "      <td>NaN</td>\n",
       "      <td>NaN</td>\n",
       "      <td>NaN</td>\n",
       "      <td>NaN</td>\n",
       "    </tr>\n",
       "    <tr>\n",
       "      <th>149402</th>\n",
       "      <td>BEAU2976719-1</td>\n",
       "      <td>ALAP-001/2018</td>\n",
       "      <td>YT511</td>\n",
       "      <td>F</td>\n",
       "      <td>LD-MOVE</td>\n",
       "      <td>CAVAN</td>\n",
       "      <td>2B-19</td>\n",
       "      <td>2018-01-31 20:04:20.000</td>\n",
       "      <td>2018-01-31 20:21:20.000</td>\n",
       "      <td>TC223</td>\n",
       "      <td>YT511</td>\n",
       "      <td>GC111</td>\n",
       "      <td>NaN</td>\n",
       "      <td>NaN</td>\n",
       "      <td>NaN</td>\n",
       "      <td>NaN</td>\n",
       "      <td>NaN</td>\n",
       "      <td>NaN</td>\n",
       "      <td>NaN</td>\n",
       "      <td>NaN</td>\n",
       "    </tr>\n",
       "    <tr>\n",
       "      <th>149403</th>\n",
       "      <td>BEAU2976719-1</td>\n",
       "      <td>ALAP-001/2018</td>\n",
       "      <td>GC111</td>\n",
       "      <td>F</td>\n",
       "      <td>LD-QUAYSIDE</td>\n",
       "      <td>CAVAN</td>\n",
       "      <td>2B-19</td>\n",
       "      <td>2018-01-31 20:21:20.000</td>\n",
       "      <td>2018-01-31 20:23:53.000</td>\n",
       "      <td>NaN</td>\n",
       "      <td>NaN</td>\n",
       "      <td>NaN</td>\n",
       "      <td>NaN</td>\n",
       "      <td>34H-L</td>\n",
       "      <td>531.0</td>\n",
       "      <td>NaN</td>\n",
       "      <td>NaN</td>\n",
       "      <td>NaN</td>\n",
       "      <td>NaN</td>\n",
       "      <td>NaN</td>\n",
       "    </tr>\n",
       "  </tbody>\n",
       "</table>\n",
       "<p>149404 rows × 20 columns</p>\n",
       "</div>"
      ],
      "text/plain": [
       "         CONTAINER_NO         VESSEL MCHN_ID FULL_EMPTY     JOB_TYPE    POD  \\\n",
       "0       TRLU8938070-9  SFNZ-001/2018   GC102          F  DS-QUAYSIDE  HKHKG   \n",
       "1       TRLU8938070-9  SFNZ-001/2018   YT570          F      DS-MOVE  HKHKG   \n",
       "2       TRLU8938070-9  SFNZ-001/2018   TC215          F  DS-YARDSIDE  HKHKG   \n",
       "3       TRLU8938070-9  SFNZ-001/2018   TC216          F  LD-YARDSIDE  HKHKG   \n",
       "4       TRLU8938070-9  SFNZ-001/2018   YT539          F      LD-MOVE  HKHKG   \n",
       "...               ...            ...     ...        ...          ...    ...   \n",
       "149399  BEAU2976719-1  MAUO-001/2018   YT586          F      DS-MOVE  KRPUS   \n",
       "149400  BEAU2976719-1  MAUO-001/2018   TC223          F  DS-YARDSIDE  KRPUS   \n",
       "149401  BEAU2976719-1  ALAP-001/2018   TC223          F  LD-YARDSIDE  CAVAN   \n",
       "149402  BEAU2976719-1  ALAP-001/2018   YT511          F      LD-MOVE  CAVAN   \n",
       "149403  BEAU2976719-1  ALAP-001/2018   GC111          F  LD-QUAYSIDE  CAVAN   \n",
       "\n",
       "       BLOCK_BAY             JOB_START_DT               JOB_END_DT CHE_ID  \\\n",
       "0          3A-13  2018-01-11 08:05:42.000  2018-01-11 08:07:14.000    NaN   \n",
       "1          3A-13  2018-01-11 08:07:14.000  2018-01-11 08:14:50.000  TC215   \n",
       "2          3A-13  2018-01-11 08:14:50.000  2018-01-11 08:16:22.000    NaN   \n",
       "3          3A-13  2018-01-11 09:18:09.000  2018-01-11 09:20:42.000    NaN   \n",
       "4          3A-13  2018-01-11 09:20:42.000  2018-01-11 09:50:51.000  TC216   \n",
       "...          ...                      ...                      ...    ...   \n",
       "149399     2B-19  2018-01-27 16:02:11.000  2018-01-27 16:10:10.000  TC223   \n",
       "149400     2B-19  2018-01-27 16:10:10.000  2018-01-27 16:11:42.000    NaN   \n",
       "149401     2B-19  2018-01-31 20:01:47.000  2018-01-31 20:04:20.000    NaN   \n",
       "149402     2B-19  2018-01-31 20:04:20.000  2018-01-31 20:21:20.000  TC223   \n",
       "149403     2B-19  2018-01-31 20:21:20.000  2018-01-31 20:23:53.000    NaN   \n",
       "\n",
       "       ITV_ID  QC_ID OUTSERVICE QUEUE_POSITION   H_BOX OUTVESSEL  \\\n",
       "0         NaN    NaN        NaN          21D-D  1018.0       NaN   \n",
       "1       YT570  GC101        NaN            NaN     NaN       NaN   \n",
       "2         NaN    NaN        NaN            NaN     NaN       NaN   \n",
       "3         NaN    NaN        NaN            NaN     NaN       NaN   \n",
       "4       YT539  GC101        NaN            NaN     NaN       NaN   \n",
       "...       ...    ...        ...            ...     ...       ...   \n",
       "149399  YT586  GC111        NaN            NaN     NaN       NaN   \n",
       "149400    NaN    NaN        NaN            NaN     NaN       NaN   \n",
       "149401    NaN    NaN        NaN            NaN     NaN       NaN   \n",
       "149402  YT511  GC111        NaN            NaN     NaN       NaN   \n",
       "149403    NaN    NaN        NaN          34H-L   531.0       NaN   \n",
       "\n",
       "       COUNTRY_NEXTPOD PORT_NEXTPOD  TML_OUT_DT  Unnamed: 0  \n",
       "0                  NaN          NaN         NaN         NaN  \n",
       "1                  NaN          NaN         NaN         NaN  \n",
       "2                  NaN          NaN         NaN         NaN  \n",
       "3                  NaN          NaN         NaN         NaN  \n",
       "4                  NaN          NaN         NaN         NaN  \n",
       "...                ...          ...         ...         ...  \n",
       "149399             NaN          NaN         NaN         NaN  \n",
       "149400             NaN          NaN         NaN         NaN  \n",
       "149401             NaN          NaN         NaN         NaN  \n",
       "149402             NaN          NaN         NaN         NaN  \n",
       "149403             NaN          NaN         NaN         NaN  \n",
       "\n",
       "[149404 rows x 20 columns]"
      ]
     },
     "execution_count": 2,
     "metadata": {},
     "output_type": "execute_result"
    }
   ],
   "source": [
    "cwd = os.getcwd()\n",
    "print('현재 폴더 경로 : ', cwd)\n",
    "# 폴더 위치 변경\n",
    "os.chdir(\"C:\\\\Users\\hyunj\\\\Dropbox\\\\종합설계프로젝트\\\\중요\\\\데이터\\\\통합\")\n",
    "print('변경 후 폴더 경로 : ', cwd)\n",
    "print('현재 폴더 파일 : ', os.listdir())\n",
    "data = pd.read_csv('Integrated DStoLD.csv', encoding='CP949')\n",
    "print('feature 항목 : ', data.columns)\n",
    "data"
   ]
  },
  {
   "cell_type": "code",
   "execution_count": 4,
   "metadata": {},
   "outputs": [
    {
     "name": "stdout",
     "output_type": "stream",
     "text": [
      "<class 'pandas.core.frame.DataFrame'>\n",
      "RangeIndex: 149404 entries, 0 to 149403\n",
      "Data columns (total 19 columns):\n",
      " #   Column           Non-Null Count   Dtype  \n",
      "---  ------           --------------   -----  \n",
      " 0   CONTAINER_NO     149404 non-null  object \n",
      " 1   VESSEL           149404 non-null  object \n",
      " 2   MCHN_ID          149400 non-null  object \n",
      " 3   FULL_EMPTY       149404 non-null  object \n",
      " 4   JOB_TYPE         149404 non-null  object \n",
      " 5   POD              149404 non-null  object \n",
      " 6   BLOCK_BAY        149400 non-null  object \n",
      " 7   JOB_START_DT     149400 non-null  object \n",
      " 8   JOB_END_DT       149404 non-null  object \n",
      " 9   CHE_ID           49800 non-null   object \n",
      " 10  ITV_ID           49800 non-null   object \n",
      " 11  QC_ID            49800 non-null   object \n",
      " 12  OUTSERVICE       4 non-null       object \n",
      " 13  QUEUE_POSITION   49800 non-null   object \n",
      " 14  H_BOX            49800 non-null   float64\n",
      " 15  OUTVESSEL        21181 non-null   object \n",
      " 16  COUNTRY_NEXTPOD  21181 non-null   object \n",
      " 17  PORT_NEXTPOD     21181 non-null   object \n",
      " 18  TML_OUT_DT       21181 non-null   float64\n",
      "dtypes: float64(2), object(17)\n",
      "memory usage: 21.7+ MB\n"
     ]
    }
   ],
   "source": [
    "data.drop('Unnamed: 0', axis = 1, inplace=True)\n",
    "data.info()"
   ]
  },
  {
   "cell_type": "code",
   "execution_count": 5,
   "metadata": {},
   "outputs": [
    {
     "data": {
      "text/plain": [
       "CONTAINER_NO            0\n",
       "VESSEL                  0\n",
       "MCHN_ID                 4\n",
       "FULL_EMPTY              0\n",
       "JOB_TYPE                0\n",
       "POD                     0\n",
       "BLOCK_BAY               4\n",
       "JOB_START_DT            4\n",
       "JOB_END_DT              0\n",
       "CHE_ID              99604\n",
       "ITV_ID              99604\n",
       "QC_ID               99604\n",
       "OUTSERVICE         149400\n",
       "QUEUE_POSITION      99604\n",
       "H_BOX               99604\n",
       "OUTVESSEL          128223\n",
       "COUNTRY_NEXTPOD    128223\n",
       "PORT_NEXTPOD       128223\n",
       "TML_OUT_DT         128223\n",
       "dtype: int64"
      ]
     },
     "execution_count": 5,
     "metadata": {},
     "output_type": "execute_result"
    }
   ],
   "source": [
    "data.isnull().sum()"
   ]
  },
  {
   "attachments": {},
   "cell_type": "markdown",
   "metadata": {},
   "source": [
    "# 데이터 전처리"
   ]
  },
  {
   "cell_type": "code",
   "execution_count": 10,
   "metadata": {},
   "outputs": [
    {
     "name": "stdout",
     "output_type": "stream",
     "text": [
      "결측치 데이터 삭제하기 전의 container id 개수 :  24900\n"
     ]
    },
    {
     "name": "stderr",
     "output_type": "stream",
     "text": [
      "결측치 제거중: 100%|██████████| 24900/24900 [10:02<00:00, 41.36it/s]\n"
     ]
    }
   ],
   "source": [
    "# Nan 데이터 삭제\n",
    "'''\n",
    "data.dropna(axis=0, inplace=True)\n",
    "data.shape\n",
    "!이렇게 해버리면 데이터 개수가 424317개가 된다 -> 이러면 6으로 나누어 떨어지지 않아서 문제가 발생한다 \n",
    "! 그렇기 때문에 for으로 해서 없애버리기 container id를 없애버리기\n",
    "'''\n",
    "print(\"결측치 데이터 삭제하기 전의 container id 개수 : \", len(data['CONTAINER_NO'].unique()))\n",
    "container_list = list(data['CONTAINER_NO'].unique())\n",
    "\n",
    "# train 데이터 생성\n",
    "train_df = pd.DataFrame(columns=data.columns)\n",
    "\n",
    "for container in tqdm(container_list, \"결측치 제거중\") :\n",
    "    temp_df = data[data['CONTAINER_NO'] == container].reset_index(drop=True)    \n",
    "    num_nan = temp_df['JOB_START_DT'].isnull().sum().sum()\n",
    "    # 만약에 결측치가 있다면, 그 container id는 train data에 포함시키지 않는다\n",
    "    # 다른 Feature에 결측치가 있는 것은 상관없지만, JOB_START_DT에는 결측치가 있으면 분석이 안되기 때문에 삭제\n",
    "    if num_nan == 0 :\n",
    "        train_df = pd.concat([train_df, temp_df])\n",
    "\n",
    "        "
   ]
  },
  {
   "cell_type": "code",
   "execution_count": 12,
   "metadata": {},
   "outputs": [
    {
     "name": "stdout",
     "output_type": "stream",
     "text": [
      "결측치 데이터 삭제한 뒤의 container id 개수 :  24896\n",
      "전체 데이터 개수 :  (149376, 19)\n",
      "결측치 개수 :  1160076\n"
     ]
    }
   ],
   "source": [
    "print(\"결측치 데이터 삭제한 뒤의 container id 개수 : \", len(train_df['CONTAINER_NO'].unique()))\n",
    "print(\"전체 데이터 개수 : \", train_df.shape)\n",
    "print(\"결측치 개수 : \", train_df.isnull().sum().sum())"
   ]
  },
  {
   "cell_type": "code",
   "execution_count": 15,
   "metadata": {},
   "outputs": [
    {
     "name": "stdout",
     "output_type": "stream",
     "text": [
      "<class 'pandas.core.frame.DataFrame'>\n",
      "RangeIndex: 149404 entries, 0 to 149403\n",
      "Data columns (total 19 columns):\n",
      " #   Column           Non-Null Count   Dtype         \n",
      "---  ------           --------------   -----         \n",
      " 0   CONTAINER_NO     149404 non-null  object        \n",
      " 1   VESSEL           149404 non-null  object        \n",
      " 2   MCHN_ID          149400 non-null  object        \n",
      " 3   FULL_EMPTY       149404 non-null  object        \n",
      " 4   JOB_TYPE         149404 non-null  object        \n",
      " 5   POD              149404 non-null  object        \n",
      " 6   BLOCK_BAY        149400 non-null  object        \n",
      " 7   JOB_START_DT     149400 non-null  datetime64[ns]\n",
      " 8   JOB_END_DT       149404 non-null  datetime64[ns]\n",
      " 9   CHE_ID           49800 non-null   object        \n",
      " 10  ITV_ID           49800 non-null   object        \n",
      " 11  QC_ID            49800 non-null   object        \n",
      " 12  OUTSERVICE       4 non-null       object        \n",
      " 13  QUEUE_POSITION   49800 non-null   object        \n",
      " 14  H_BOX            49800 non-null   float64       \n",
      " 15  OUTVESSEL        21181 non-null   object        \n",
      " 16  COUNTRY_NEXTPOD  21181 non-null   object        \n",
      " 17  PORT_NEXTPOD     21181 non-null   object        \n",
      " 18  TML_OUT_DT       21181 non-null   datetime64[ns]\n",
      "dtypes: datetime64[ns](3), float64(1), object(15)\n",
      "memory usage: 21.7+ MB\n"
     ]
    }
   ],
   "source": [
    "data['JOB_START_DT'] = pd.to_datetime(data['JOB_START_DT'])\n",
    "data['JOB_END_DT'] = pd.to_datetime(data['JOB_END_DT'])\n",
    "data['TML_OUT_DT'] = pd.to_datetime(data['TML_OUT_DT'])\n",
    "data.info()"
   ]
  },
  {
   "cell_type": "code",
   "execution_count": 47,
   "metadata": {},
   "outputs": [
    {
     "name": "stderr",
     "output_type": "stream",
     "text": [
      "학습할 데이터 생성 중:   1%|          | 173/24900 [00:02<06:20, 65.02it/s]"
     ]
    },
    {
     "name": "stdout",
     "output_type": "stream",
     "text": [
      "TCNU7514310-4 의 경우 6개의 BLOCK_BAY가 일치하지 않습니다\n"
     ]
    },
    {
     "name": "stderr",
     "output_type": "stream",
     "text": [
      "학습할 데이터 생성 중:   1%|          | 230/24900 [00:03<05:14, 78.44it/s]"
     ]
    },
    {
     "name": "stdout",
     "output_type": "stream",
     "text": [
      "TTNU9928170-1 의 경우 6개의 BLOCK_BAY가 일치하지 않습니다\n",
      "MSKU0800781-1 의 경우 6개의 BLOCK_BAY가 일치하지 않습니다\n",
      "MRKU6076769-1 의 경우 6개의 BLOCK_BAY가 일치하지 않습니다\n",
      "MRKU4389450-1 의 경우 6개의 BLOCK_BAY가 일치하지 않습니다\n"
     ]
    },
    {
     "name": "stderr",
     "output_type": "stream",
     "text": [
      "학습할 데이터 생성 중:   1%|          | 246/24900 [00:03<05:17, 77.61it/s]"
     ]
    },
    {
     "name": "stdout",
     "output_type": "stream",
     "text": [
      "MRKU2465525-1 의 경우 6개의 BLOCK_BAY가 일치하지 않습니다\n"
     ]
    },
    {
     "name": "stderr",
     "output_type": "stream",
     "text": [
      "학습할 데이터 생성 중:   2%|▏         | 398/24900 [00:05<05:18, 76.88it/s]"
     ]
    },
    {
     "name": "stdout",
     "output_type": "stream",
     "text": [
      "MNBU3586120-1 의 경우 6개의 BLOCK_BAY가 일치하지 않습니다\n",
      "CAIU7230624-1 의 경우 6개의 BLOCK_BAY가 일치하지 않습니다\n"
     ]
    },
    {
     "name": "stderr",
     "output_type": "stream",
     "text": [
      "학습할 데이터 생성 중:   2%|▏         | 439/24900 [00:06<05:13, 78.02it/s]"
     ]
    },
    {
     "name": "stdout",
     "output_type": "stream",
     "text": [
      "MSKU8239384-2 의 경우 6개의 BLOCK_BAY가 일치하지 않습니다\n"
     ]
    },
    {
     "name": "stderr",
     "output_type": "stream",
     "text": [
      "학습할 데이터 생성 중:   2%|▏         | 487/24900 [00:06<05:29, 74.04it/s]"
     ]
    },
    {
     "name": "stdout",
     "output_type": "stream",
     "text": [
      "CAIU8056923-3 의 경우 6개의 BLOCK_BAY가 일치하지 않습니다\n",
      "TGHU9187116-1 의 경우 6개의 BLOCK_BAY가 일치하지 않습니다\n"
     ]
    },
    {
     "name": "stderr",
     "output_type": "stream",
     "text": [
      "학습할 데이터 생성 중:   2%|▏         | 527/24900 [00:07<05:24, 75.17it/s]"
     ]
    },
    {
     "name": "stdout",
     "output_type": "stream",
     "text": [
      "TCLU9250734-1 의 경우 6개의 BLOCK_BAY가 일치하지 않습니다\n"
     ]
    },
    {
     "name": "stderr",
     "output_type": "stream",
     "text": [
      "학습할 데이터 생성 중:   2%|▏         | 568/24900 [00:07<05:17, 76.72it/s]"
     ]
    },
    {
     "name": "stdout",
     "output_type": "stream",
     "text": [
      "PONU7447399-1 의 경우 6개의 BLOCK_BAY가 일치하지 않습니다\n",
      "PONU1780118-1 의 경우 6개의 BLOCK_BAY가 일치하지 않습니다\n"
     ]
    },
    {
     "name": "stderr",
     "output_type": "stream",
     "text": [
      "학습할 데이터 생성 중:   2%|▏         | 608/24900 [00:08<05:24, 74.97it/s]"
     ]
    },
    {
     "name": "stdout",
     "output_type": "stream",
     "text": [
      "MWCU6963111-2 의 경우 6개의 BLOCK_BAY가 일치하지 않습니다\n"
     ]
    },
    {
     "name": "stderr",
     "output_type": "stream",
     "text": [
      "학습할 데이터 생성 중:   3%|▎         | 648/24900 [00:08<05:29, 73.58it/s]"
     ]
    },
    {
     "name": "stdout",
     "output_type": "stream",
     "text": [
      "MSKU6970240-1 의 경우 6개의 BLOCK_BAY가 일치하지 않습니다\n",
      "MSKU6800080-1 의 경우 6개의 BLOCK_BAY가 일치하지 않습니다\n"
     ]
    },
    {
     "name": "stderr",
     "output_type": "stream",
     "text": [
      "학습할 데이터 생성 중:   3%|▎         | 777/24900 [00:10<05:08, 78.08it/s]"
     ]
    },
    {
     "name": "stdout",
     "output_type": "stream",
     "text": [
      "MRKU4993579-1 의 경우 6개의 BLOCK_BAY가 일치하지 않습니다\n",
      "MRKU4118675-1 의 경우 6개의 BLOCK_BAY가 일치하지 않습니다\n"
     ]
    },
    {
     "name": "stderr",
     "output_type": "stream",
     "text": [
      "학습할 데이터 생성 중:   3%|▎         | 842/24900 [00:11<05:16, 76.10it/s]"
     ]
    },
    {
     "name": "stdout",
     "output_type": "stream",
     "text": [
      "MRKU0768163-1 의 경우 6개의 BLOCK_BAY가 일치하지 않습니다\n",
      "MNBU3904073-1 의 경우 6개의 BLOCK_BAY가 일치하지 않습니다\n",
      "MNBU3904068-1 의 경우 6개의 BLOCK_BAY가 일치하지 않습니다\n"
     ]
    },
    {
     "name": "stderr",
     "output_type": "stream",
     "text": [
      "학습할 데이터 생성 중:   3%|▎         | 867/24900 [00:11<05:11, 77.21it/s]"
     ]
    },
    {
     "name": "stdout",
     "output_type": "stream",
     "text": [
      "MNBU3903987-1 의 경우 6개의 BLOCK_BAY가 일치하지 않습니다\n",
      "MNBU3903950-1 의 경우 6개의 BLOCK_BAY가 일치하지 않습니다\n",
      "MNBU3903858-1 의 경우 6개의 BLOCK_BAY가 일치하지 않습니다\n",
      "MNBU3883155-1 의 경우 6개의 BLOCK_BAY가 일치하지 않습니다\n",
      "MNBU0408110-2 의 경우 6개의 BLOCK_BAY가 일치하지 않습니다\n"
     ]
    },
    {
     "name": "stderr",
     "output_type": "stream",
     "text": [
      "학습할 데이터 생성 중:   4%|▍         | 970/24900 [00:13<05:27, 72.97it/s]"
     ]
    },
    {
     "name": "stdout",
     "output_type": "stream",
     "text": [
      "TRLU6765490-1 의 경우 6개의 BLOCK_BAY가 일치하지 않습니다\n",
      "TRIU8085033-1 의 경우 6개의 BLOCK_BAY가 일치하지 않습니다\n"
     ]
    },
    {
     "name": "stderr",
     "output_type": "stream",
     "text": [
      "학습할 데이터 생성 중:   4%|▍         | 1026/24900 [00:13<05:20, 74.38it/s]"
     ]
    },
    {
     "name": "stdout",
     "output_type": "stream",
     "text": [
      "TCNU7042549-1 의 경우 6개의 BLOCK_BAY가 일치하지 않습니다\n"
     ]
    },
    {
     "name": "stderr",
     "output_type": "stream",
     "text": [
      "학습할 데이터 생성 중:   4%|▍         | 1074/24900 [00:14<05:19, 74.59it/s]"
     ]
    },
    {
     "name": "stdout",
     "output_type": "stream",
     "text": [
      "MSKU0731398-1 의 경우 6개의 BLOCK_BAY가 일치하지 않습니다\n",
      "MSCU9184604-1 의 경우 6개의 BLOCK_BAY가 일치하지 않습니다\n"
     ]
    },
    {
     "name": "stderr",
     "output_type": "stream",
     "text": [
      "학습할 데이터 생성 중:   4%|▍         | 1090/24900 [00:14<05:21, 74.12it/s]"
     ]
    },
    {
     "name": "stdout",
     "output_type": "stream",
     "text": [
      "MSCU8516129-1 의 경우 6개의 BLOCK_BAY가 일치하지 않습니다\n",
      "MSCU7469974-1 의 경우 6개의 BLOCK_BAY가 일치하지 않습니다\n",
      "MSCU7465259-1 의 경우 6개의 BLOCK_BAY가 일치하지 않습니다\n"
     ]
    },
    {
     "name": "stderr",
     "output_type": "stream",
     "text": [
      "학습할 데이터 생성 중:   4%|▍         | 1106/24900 [00:15<05:40, 69.80it/s]"
     ]
    },
    {
     "name": "stdout",
     "output_type": "stream",
     "text": [
      "MSCU5789942-1 의 경우 6개의 BLOCK_BAY가 일치하지 않습니다\n"
     ]
    },
    {
     "name": "stderr",
     "output_type": "stream",
     "text": [
      "학습할 데이터 생성 중:   5%|▍         | 1159/24900 [00:15<05:51, 67.51it/s]"
     ]
    },
    {
     "name": "stdout",
     "output_type": "stream",
     "text": [
      "MNBU3900550-1 의 경우 6개의 BLOCK_BAY가 일치하지 않습니다\n",
      "MNBU3900524-1 의 경우 6개의 BLOCK_BAY가 일치하지 않습니다\n"
     ]
    },
    {
     "name": "stderr",
     "output_type": "stream",
     "text": [
      "학습할 데이터 생성 중:   5%|▍         | 1198/24900 [00:16<05:30, 71.74it/s]"
     ]
    },
    {
     "name": "stdout",
     "output_type": "stream",
     "text": [
      "MNBU3887016-1 의 경우 6개의 BLOCK_BAY가 일치하지 않습니다\n",
      "MNBU3354531-1 의 경우 6개의 BLOCK_BAY가 일치하지 않습니다\n",
      "MEDU9127431-1 의 경우 6개의 BLOCK_BAY가 일치하지 않습니다\n"
     ]
    },
    {
     "name": "stderr",
     "output_type": "stream",
     "text": [
      "학습할 데이터 생성 중:   5%|▍         | 1230/24900 [00:16<05:19, 74.02it/s]"
     ]
    },
    {
     "name": "stdout",
     "output_type": "stream",
     "text": [
      "MEDU4700535-1 의 경우 6개의 BLOCK_BAY가 일치하지 않습니다\n",
      "MEDU4025123-1 의 경우 6개의 BLOCK_BAY가 일치하지 않습니다\n"
     ]
    },
    {
     "name": "stderr",
     "output_type": "stream",
     "text": [
      "학습할 데이터 생성 중:   5%|▌         | 1287/24900 [00:17<05:11, 75.68it/s]"
     ]
    },
    {
     "name": "stdout",
     "output_type": "stream",
     "text": [
      "GLDU7491118-1 의 경우 6개의 BLOCK_BAY가 일치하지 않습니다\n"
     ]
    },
    {
     "name": "stderr",
     "output_type": "stream",
     "text": [
      "학습할 데이터 생성 중:   5%|▌         | 1319/24900 [00:18<05:08, 76.55it/s]"
     ]
    },
    {
     "name": "stdout",
     "output_type": "stream",
     "text": [
      "DFSU6870444-1 의 경우 6개의 BLOCK_BAY가 일치하지 않습니다\n",
      "DAYU6708865-1 의 경우 6개의 BLOCK_BAY가 일치하지 않습니다\n",
      "CXRU1206938-1 의 경우 6개의 BLOCK_BAY가 일치하지 않습니다\n"
     ]
    },
    {
     "name": "stderr",
     "output_type": "stream",
     "text": [
      "학습할 데이터 생성 중:   6%|▌         | 1375/24900 [00:18<05:19, 73.70it/s]"
     ]
    },
    {
     "name": "stdout",
     "output_type": "stream",
     "text": [
      "BMOU5927332-1 의 경우 6개의 BLOCK_BAY가 일치하지 않습니다\n",
      "BMOU5634740-1 의 경우 6개의 BLOCK_BAY가 일치하지 않습니다\n"
     ]
    },
    {
     "name": "stderr",
     "output_type": "stream",
     "text": [
      "학습할 데이터 생성 중:   6%|▌         | 1463/24900 [00:20<05:20, 73.21it/s]"
     ]
    },
    {
     "name": "stdout",
     "output_type": "stream",
     "text": [
      "MRKU6271662-3 의 경우 6개의 BLOCK_BAY가 일치하지 않습니다\n",
      "MRKU1022878-2 의 경우 6개의 BLOCK_BAY가 일치하지 않습니다\n"
     ]
    },
    {
     "name": "stderr",
     "output_type": "stream",
     "text": [
      "학습할 데이터 생성 중:   6%|▋         | 1575/24900 [00:21<05:03, 76.82it/s]"
     ]
    },
    {
     "name": "stdout",
     "output_type": "stream",
     "text": [
      "MNBU3017459-1 의 경우 6개의 BLOCK_BAY가 일치하지 않습니다\n",
      "MNBU0105725-2 의 경우 6개의 BLOCK_BAY가 일치하지 않습니다\n"
     ]
    },
    {
     "name": "stderr",
     "output_type": "stream",
     "text": [
      "학습할 데이터 생성 중:   7%|▋         | 1624/24900 [00:22<05:03, 76.69it/s]"
     ]
    },
    {
     "name": "stdout",
     "output_type": "stream",
     "text": [
      "MWMU6348724-1 의 경우 6개의 BLOCK_BAY가 일치하지 않습니다\n",
      "MWCU6765878-1 의 경우 6개의 BLOCK_BAY가 일치하지 않습니다\n",
      "MWCU6755226-2 의 경우 6개의 BLOCK_BAY가 일치하지 않습니다\n"
     ]
    },
    {
     "name": "stderr",
     "output_type": "stream",
     "text": [
      "학습할 데이터 생성 중:   7%|▋         | 1688/24900 [00:23<05:01, 77.03it/s]"
     ]
    },
    {
     "name": "stdout",
     "output_type": "stream",
     "text": [
      "MNBU3841165-1 의 경우 6개의 BLOCK_BAY가 일치하지 않습니다\n",
      "MNBU3840256-1 의 경우 6개의 BLOCK_BAY가 일치하지 않습니다\n",
      "MNBU3817831-1 의 경우 6개의 BLOCK_BAY가 일치하지 않습니다\n",
      "MNBU3803627-1 의 경우 6개의 BLOCK_BAY가 일치하지 않습니다\n",
      "MNBU3549467-1 의 경우 6개의 BLOCK_BAY가 일치하지 않습니다\n",
      "MNBU3503872-1 의 경우 6개의 BLOCK_BAY가 일치하지 않습니다\n",
      "MNBU3438653-1 의 경우 6개의 BLOCK_BAY가 일치하지 않습니다\n"
     ]
    },
    {
     "name": "stderr",
     "output_type": "stream",
     "text": [
      "학습할 데이터 생성 중:   7%|▋         | 1728/24900 [00:23<05:09, 74.87it/s]"
     ]
    },
    {
     "name": "stdout",
     "output_type": "stream",
     "text": [
      "TRHU2206068-1 의 경우 6개의 BLOCK_BAY가 일치하지 않습니다\n",
      "MSCU1744997-1 의 경우 6개의 BLOCK_BAY가 일치하지 않습니다\n",
      "MNBU0007400-1 의 경우 6개의 BLOCK_BAY가 일치하지 않습니다\n",
      "MMAU1238596-1 의 경우 6개의 BLOCK_BAY가 일치하지 않습니다\n"
     ]
    },
    {
     "name": "stderr",
     "output_type": "stream",
     "text": [
      "학습할 데이터 생성 중:   7%|▋         | 1744/24900 [00:23<05:12, 74.03it/s]"
     ]
    },
    {
     "name": "stdout",
     "output_type": "stream",
     "text": [
      "MEDU2127682-1 의 경우 6개의 BLOCK_BAY가 일치하지 않습니다\n"
     ]
    },
    {
     "name": "stderr",
     "output_type": "stream",
     "text": [
      "학습할 데이터 생성 중:   7%|▋         | 1768/24900 [00:24<05:10, 74.58it/s]"
     ]
    },
    {
     "name": "stdout",
     "output_type": "stream",
     "text": [
      "PONU7846552-2 의 경우 6개의 BLOCK_BAY가 일치하지 않습니다\n",
      "MSKU9381238-1 의 경우 6개의 BLOCK_BAY가 일치하지 않습니다\n"
     ]
    },
    {
     "name": "stderr",
     "output_type": "stream",
     "text": [
      "학습할 데이터 생성 중:   7%|▋         | 1784/24900 [00:24<05:17, 72.71it/s]"
     ]
    },
    {
     "name": "stdout",
     "output_type": "stream",
     "text": [
      "MSKU8465951-2 의 경우 6개의 BLOCK_BAY가 일치하지 않습니다\n",
      "MSKU1411871-3 의 경우 6개의 BLOCK_BAY가 일치하지 않습니다\n"
     ]
    },
    {
     "name": "stderr",
     "output_type": "stream",
     "text": [
      "학습할 데이터 생성 중:   7%|▋         | 1808/24900 [00:24<05:19, 72.27it/s]"
     ]
    },
    {
     "name": "stdout",
     "output_type": "stream",
     "text": [
      "MRKU6356651-1 의 경우 6개의 BLOCK_BAY가 일치하지 않습니다\n",
      "MRKU5849904-1 의 경우 6개의 BLOCK_BAY가 일치하지 않습니다\n"
     ]
    },
    {
     "name": "stderr",
     "output_type": "stream",
     "text": [
      "학습할 데이터 생성 중:   7%|▋         | 1846/24900 [00:25<05:38, 68.19it/s]"
     ]
    },
    {
     "name": "stdout",
     "output_type": "stream",
     "text": [
      "MNBU3528079-2 의 경우 6개의 BLOCK_BAY가 일치하지 않습니다\n",
      "MNBU3473490-2 의 경우 6개의 BLOCK_BAY가 일치하지 않습니다\n"
     ]
    },
    {
     "name": "stderr",
     "output_type": "stream",
     "text": [
      "학습할 데이터 생성 중:   8%|▊         | 1869/24900 [00:25<05:35, 68.56it/s]"
     ]
    },
    {
     "name": "stdout",
     "output_type": "stream",
     "text": [
      "MNBU3046225-2 의 경우 6개의 BLOCK_BAY가 일치하지 않습니다\n",
      "MNBU3020869-1 의 경우 6개의 BLOCK_BAY가 일치하지 않습니다\n"
     ]
    },
    {
     "name": "stderr",
     "output_type": "stream",
     "text": [
      "학습할 데이터 생성 중:   8%|▊         | 1911/24900 [00:26<05:50, 65.66it/s]"
     ]
    },
    {
     "name": "stdout",
     "output_type": "stream",
     "text": [
      "PONU0571685-1 의 경우 6개의 BLOCK_BAY가 일치하지 않습니다\n"
     ]
    },
    {
     "name": "stderr",
     "output_type": "stream",
     "text": [
      "학습할 데이터 생성 중:   8%|▊         | 1941/24900 [00:26<05:33, 68.86it/s]"
     ]
    },
    {
     "name": "stdout",
     "output_type": "stream",
     "text": [
      "MNBU9025282-2 의 경우 6개의 BLOCK_BAY가 일치하지 않습니다\n",
      "MNBU3924059-1 의 경우 6개의 BLOCK_BAY가 일치하지 않습니다\n"
     ]
    },
    {
     "name": "stderr",
     "output_type": "stream",
     "text": [
      "학습할 데이터 생성 중:   8%|▊         | 1972/24900 [00:27<05:26, 70.26it/s]"
     ]
    },
    {
     "name": "stdout",
     "output_type": "stream",
     "text": [
      "MNBU3921240-1 의 경우 6개의 BLOCK_BAY가 일치하지 않습니다\n",
      "MNBU3921213-1 의 경우 6개의 BLOCK_BAY가 일치하지 않습니다\n",
      "MNBU3920897-1 의 경우 6개의 BLOCK_BAY가 일치하지 않습니다\n"
     ]
    },
    {
     "name": "stderr",
     "output_type": "stream",
     "text": [
      "학습할 데이터 생성 중:   8%|▊         | 1996/24900 [00:27<05:15, 72.50it/s]"
     ]
    },
    {
     "name": "stdout",
     "output_type": "stream",
     "text": [
      "MNBU3920808-1 의 경우 6개의 BLOCK_BAY가 일치하지 않습니다\n",
      "MNBU3920731-1 의 경우 6개의 BLOCK_BAY가 일치하지 않습니다\n",
      "MNBU3920691-1 의 경우 6개의 BLOCK_BAY가 일치하지 않습니다\n",
      "MNBU3920639-1 의 경우 6개의 BLOCK_BAY가 일치하지 않습니다\n"
     ]
    },
    {
     "name": "stderr",
     "output_type": "stream",
     "text": [
      "학습할 데이터 생성 중:   8%|▊         | 2028/24900 [00:28<05:12, 73.20it/s]"
     ]
    },
    {
     "name": "stdout",
     "output_type": "stream",
     "text": [
      "MNBU3903420-1 의 경우 6개의 BLOCK_BAY가 일치하지 않습니다\n",
      "MNBU3903415-1 의 경우 6개의 BLOCK_BAY가 일치하지 않습니다\n",
      "MNBU3901731-1 의 경우 6개의 BLOCK_BAY가 일치하지 않습니다\n",
      "MNBU3892141-1 의 경우 6개의 BLOCK_BAY가 일치하지 않습니다\n"
     ]
    },
    {
     "name": "stderr",
     "output_type": "stream",
     "text": [
      "학습할 데이터 생성 중:   8%|▊         | 2051/24900 [00:28<05:38, 67.43it/s]"
     ]
    },
    {
     "name": "stdout",
     "output_type": "stream",
     "text": [
      "MNBU3892049-1 의 경우 6개의 BLOCK_BAY가 일치하지 않습니다\n",
      "MNBU3792970-2 의 경우 6개의 BLOCK_BAY가 일치하지 않습니다\n"
     ]
    },
    {
     "name": "stderr",
     "output_type": "stream",
     "text": [
      "학습할 데이터 생성 중:   9%|▊         | 2130/24900 [00:29<05:05, 74.57it/s]"
     ]
    },
    {
     "name": "stdout",
     "output_type": "stream",
     "text": [
      "MRKU8210650-2 의 경우 6개의 BLOCK_BAY가 일치하지 않습니다\n",
      "MRKU4145290-1 의 경우 6개의 BLOCK_BAY가 일치하지 않습니다\n"
     ]
    },
    {
     "name": "stderr",
     "output_type": "stream",
     "text": [
      "학습할 데이터 생성 중:   9%|▊         | 2170/24900 [00:30<05:05, 74.44it/s]"
     ]
    },
    {
     "name": "stdout",
     "output_type": "stream",
     "text": [
      "BMOU2739028-1 의 경우 6개의 BLOCK_BAY가 일치하지 않습니다\n"
     ]
    },
    {
     "name": "stderr",
     "output_type": "stream",
     "text": [
      "학습할 데이터 생성 중:   9%|▉         | 2218/24900 [00:30<05:09, 73.28it/s]"
     ]
    },
    {
     "name": "stdout",
     "output_type": "stream",
     "text": [
      "MSCU5959519-1 의 경우 6개의 BLOCK_BAY가 일치하지 않습니다\n",
      "MSCU5870782-1 의 경우 6개의 BLOCK_BAY가 일치하지 않습니다\n"
     ]
    },
    {
     "name": "stderr",
     "output_type": "stream",
     "text": [
      "학습할 데이터 생성 중:   9%|▉         | 2288/24900 [00:31<05:23, 69.98it/s]"
     ]
    },
    {
     "name": "stdout",
     "output_type": "stream",
     "text": [
      "CAIU7782808-1 의 경우 6개의 BLOCK_BAY가 일치하지 않습니다\n",
      "CAIU7643103-1 의 경우 6개의 BLOCK_BAY가 일치하지 않습니다\n"
     ]
    },
    {
     "name": "stderr",
     "output_type": "stream",
     "text": [
      "학습할 데이터 생성 중:  10%|▉         | 2384/24900 [00:33<07:09, 52.48it/s]"
     ]
    },
    {
     "name": "stdout",
     "output_type": "stream",
     "text": [
      "MWCU6750672-1 의 경우 6개의 BLOCK_BAY가 일치하지 않습니다\n"
     ]
    },
    {
     "name": "stderr",
     "output_type": "stream",
     "text": [
      "학습할 데이터 생성 중:  10%|▉         | 2489/24900 [00:35<05:16, 70.83it/s]\n"
     ]
    },
    {
     "ename": "KeyboardInterrupt",
     "evalue": "",
     "output_type": "error",
     "traceback": [
      "\u001b[1;31m---------------------------------------------------------------------------\u001b[0m",
      "\u001b[1;31mKeyboardInterrupt\u001b[0m                         Traceback (most recent call last)",
      "\u001b[1;32m~\\AppData\\Local\\Temp\\ipykernel_10840\\2668965958.py\u001b[0m in \u001b[0;36m<module>\u001b[1;34m\u001b[0m\n\u001b[0;32m    150\u001b[0m                 \u001b[0mcountry_nextpod\u001b[0m\u001b[1;33m,\u001b[0m \u001b[0mport_nextpod\u001b[0m\u001b[1;33m,\u001b[0m \u001b[0mtml_out_dt\u001b[0m\u001b[1;33m,\u001b[0m \u001b[0mld_day\u001b[0m\u001b[1;33m,\u001b[0m \u001b[0mds_day\u001b[0m\u001b[1;33m,\u001b[0m\u001b[1;33m\u001b[0m\u001b[1;33m\u001b[0m\u001b[0m\n\u001b[0;32m    151\u001b[0m                 dwell_time]\n\u001b[1;32m--> 152\u001b[1;33m     \u001b[0mlast_df\u001b[0m\u001b[1;33m.\u001b[0m\u001b[0mloc\u001b[0m\u001b[1;33m[\u001b[0m\u001b[0mi\u001b[0m\u001b[1;33m,\u001b[0m \u001b[1;33m:\u001b[0m\u001b[1;33m]\u001b[0m \u001b[1;33m=\u001b[0m \u001b[0mrow_list\u001b[0m\u001b[1;33m\u001b[0m\u001b[1;33m\u001b[0m\u001b[0m\n\u001b[0m\u001b[0;32m    153\u001b[0m     \u001b[0mi\u001b[0m \u001b[1;33m+=\u001b[0m \u001b[1;36m1\u001b[0m\u001b[1;33m\u001b[0m\u001b[1;33m\u001b[0m\u001b[0m\n",
      "\u001b[1;32mc:\\Users\\hyunj\\Anaconda3\\lib\\site-packages\\pandas\\core\\indexing.py\u001b[0m in \u001b[0;36m__setitem__\u001b[1;34m(self, key, value)\u001b[0m\n\u001b[0;32m    714\u001b[0m \u001b[1;33m\u001b[0m\u001b[0m\n\u001b[0;32m    715\u001b[0m         \u001b[0miloc\u001b[0m \u001b[1;33m=\u001b[0m \u001b[0mself\u001b[0m \u001b[1;32mif\u001b[0m \u001b[0mself\u001b[0m\u001b[1;33m.\u001b[0m\u001b[0mname\u001b[0m \u001b[1;33m==\u001b[0m \u001b[1;34m\"iloc\"\u001b[0m \u001b[1;32melse\u001b[0m \u001b[0mself\u001b[0m\u001b[1;33m.\u001b[0m\u001b[0mobj\u001b[0m\u001b[1;33m.\u001b[0m\u001b[0miloc\u001b[0m\u001b[1;33m\u001b[0m\u001b[1;33m\u001b[0m\u001b[0m\n\u001b[1;32m--> 716\u001b[1;33m         \u001b[0miloc\u001b[0m\u001b[1;33m.\u001b[0m\u001b[0m_setitem_with_indexer\u001b[0m\u001b[1;33m(\u001b[0m\u001b[0mindexer\u001b[0m\u001b[1;33m,\u001b[0m \u001b[0mvalue\u001b[0m\u001b[1;33m,\u001b[0m \u001b[0mself\u001b[0m\u001b[1;33m.\u001b[0m\u001b[0mname\u001b[0m\u001b[1;33m)\u001b[0m\u001b[1;33m\u001b[0m\u001b[1;33m\u001b[0m\u001b[0m\n\u001b[0m\u001b[0;32m    717\u001b[0m \u001b[1;33m\u001b[0m\u001b[0m\n\u001b[0;32m    718\u001b[0m     \u001b[1;32mdef\u001b[0m \u001b[0m_validate_key\u001b[0m\u001b[1;33m(\u001b[0m\u001b[0mself\u001b[0m\u001b[1;33m,\u001b[0m \u001b[0mkey\u001b[0m\u001b[1;33m,\u001b[0m \u001b[0maxis\u001b[0m\u001b[1;33m:\u001b[0m \u001b[0mint\u001b[0m\u001b[1;33m)\u001b[0m\u001b[1;33m:\u001b[0m\u001b[1;33m\u001b[0m\u001b[1;33m\u001b[0m\u001b[0m\n",
      "\u001b[1;32mc:\\Users\\hyunj\\Anaconda3\\lib\\site-packages\\pandas\\core\\indexing.py\u001b[0m in \u001b[0;36m_setitem_with_indexer\u001b[1;34m(self, indexer, value, name)\u001b[0m\n\u001b[0;32m   1665\u001b[0m                     \u001b[0mtaker\u001b[0m\u001b[1;33m[\u001b[0m\u001b[1;33m-\u001b[0m\u001b[1;36m1\u001b[0m\u001b[1;33m]\u001b[0m \u001b[1;33m=\u001b[0m \u001b[1;33m-\u001b[0m\u001b[1;36m1\u001b[0m\u001b[1;33m\u001b[0m\u001b[1;33m\u001b[0m\u001b[0m\n\u001b[0;32m   1666\u001b[0m                     \u001b[0mreindexers\u001b[0m \u001b[1;33m=\u001b[0m \u001b[1;33m{\u001b[0m\u001b[0mi\u001b[0m\u001b[1;33m:\u001b[0m \u001b[1;33m(\u001b[0m\u001b[0mlabels\u001b[0m\u001b[1;33m,\u001b[0m \u001b[0mtaker\u001b[0m\u001b[1;33m)\u001b[0m\u001b[1;33m}\u001b[0m\u001b[1;33m\u001b[0m\u001b[1;33m\u001b[0m\u001b[0m\n\u001b[1;32m-> 1667\u001b[1;33m                     new_obj = self.obj._reindex_with_indexers(\n\u001b[0m\u001b[0;32m   1668\u001b[0m                         \u001b[0mreindexers\u001b[0m\u001b[1;33m,\u001b[0m \u001b[0mallow_dups\u001b[0m\u001b[1;33m=\u001b[0m\u001b[1;32mTrue\u001b[0m\u001b[1;33m\u001b[0m\u001b[1;33m\u001b[0m\u001b[0m\n\u001b[0;32m   1669\u001b[0m                     )\n",
      "\u001b[1;32mc:\\Users\\hyunj\\Anaconda3\\lib\\site-packages\\pandas\\core\\generic.py\u001b[0m in \u001b[0;36m_reindex_with_indexers\u001b[1;34m(self, reindexers, fill_value, copy, allow_dups)\u001b[0m\n\u001b[0;32m   5030\u001b[0m \u001b[1;33m\u001b[0m\u001b[0m\n\u001b[0;32m   5031\u001b[0m             \u001b[1;31m# TODO: speed up on homogeneous DataFrame objects (see _reindex_multi)\u001b[0m\u001b[1;33m\u001b[0m\u001b[1;33m\u001b[0m\u001b[0m\n\u001b[1;32m-> 5032\u001b[1;33m             new_data = new_data.reindex_indexer(\n\u001b[0m\u001b[0;32m   5033\u001b[0m                 \u001b[0mindex\u001b[0m\u001b[1;33m,\u001b[0m\u001b[1;33m\u001b[0m\u001b[1;33m\u001b[0m\u001b[0m\n\u001b[0;32m   5034\u001b[0m                 \u001b[0mindexer\u001b[0m\u001b[1;33m,\u001b[0m\u001b[1;33m\u001b[0m\u001b[1;33m\u001b[0m\u001b[0m\n",
      "\u001b[1;32mc:\\Users\\hyunj\\Anaconda3\\lib\\site-packages\\pandas\\core\\internals\\managers.py\u001b[0m in \u001b[0;36mreindex_indexer\u001b[1;34m(self, new_axis, indexer, axis, fill_value, allow_dups, copy, consolidate, only_slice, use_na_proxy)\u001b[0m\n\u001b[0;32m    687\u001b[0m             )\n\u001b[0;32m    688\u001b[0m         \u001b[1;32melse\u001b[0m\u001b[1;33m:\u001b[0m\u001b[1;33m\u001b[0m\u001b[1;33m\u001b[0m\u001b[0m\n\u001b[1;32m--> 689\u001b[1;33m             new_blocks = [\n\u001b[0m\u001b[0;32m    690\u001b[0m                 blk.take_nd(\n\u001b[0;32m    691\u001b[0m                     \u001b[0mindexer\u001b[0m\u001b[1;33m,\u001b[0m\u001b[1;33m\u001b[0m\u001b[1;33m\u001b[0m\u001b[0m\n",
      "\u001b[1;32mc:\\Users\\hyunj\\Anaconda3\\lib\\site-packages\\pandas\\core\\internals\\managers.py\u001b[0m in \u001b[0;36m<listcomp>\u001b[1;34m(.0)\u001b[0m\n\u001b[0;32m    688\u001b[0m         \u001b[1;32melse\u001b[0m\u001b[1;33m:\u001b[0m\u001b[1;33m\u001b[0m\u001b[1;33m\u001b[0m\u001b[0m\n\u001b[0;32m    689\u001b[0m             new_blocks = [\n\u001b[1;32m--> 690\u001b[1;33m                 blk.take_nd(\n\u001b[0m\u001b[0;32m    691\u001b[0m                     \u001b[0mindexer\u001b[0m\u001b[1;33m,\u001b[0m\u001b[1;33m\u001b[0m\u001b[1;33m\u001b[0m\u001b[0m\n\u001b[0;32m    692\u001b[0m                     \u001b[0maxis\u001b[0m\u001b[1;33m=\u001b[0m\u001b[1;36m1\u001b[0m\u001b[1;33m,\u001b[0m\u001b[1;33m\u001b[0m\u001b[1;33m\u001b[0m\u001b[0m\n",
      "\u001b[1;32mc:\\Users\\hyunj\\Anaconda3\\lib\\site-packages\\pandas\\core\\internals\\blocks.py\u001b[0m in \u001b[0;36mtake_nd\u001b[1;34m(self, indexer, axis, new_mgr_locs, fill_value)\u001b[0m\n\u001b[0;32m   1137\u001b[0m             \u001b[0mallow_fill\u001b[0m \u001b[1;33m=\u001b[0m \u001b[1;32mTrue\u001b[0m\u001b[1;33m\u001b[0m\u001b[1;33m\u001b[0m\u001b[0m\n\u001b[0;32m   1138\u001b[0m \u001b[1;33m\u001b[0m\u001b[0m\n\u001b[1;32m-> 1139\u001b[1;33m         new_values = algos.take_nd(\n\u001b[0m\u001b[0;32m   1140\u001b[0m             \u001b[0mvalues\u001b[0m\u001b[1;33m,\u001b[0m \u001b[0mindexer\u001b[0m\u001b[1;33m,\u001b[0m \u001b[0maxis\u001b[0m\u001b[1;33m=\u001b[0m\u001b[0maxis\u001b[0m\u001b[1;33m,\u001b[0m \u001b[0mallow_fill\u001b[0m\u001b[1;33m=\u001b[0m\u001b[0mallow_fill\u001b[0m\u001b[1;33m,\u001b[0m \u001b[0mfill_value\u001b[0m\u001b[1;33m=\u001b[0m\u001b[0mfill_value\u001b[0m\u001b[1;33m\u001b[0m\u001b[1;33m\u001b[0m\u001b[0m\n\u001b[0;32m   1141\u001b[0m         )\n",
      "\u001b[1;32mc:\\Users\\hyunj\\Anaconda3\\lib\\site-packages\\pandas\\core\\array_algos\\take.py\u001b[0m in \u001b[0;36mtake_nd\u001b[1;34m(arr, indexer, axis, fill_value, allow_fill)\u001b[0m\n\u001b[0;32m    115\u001b[0m \u001b[1;33m\u001b[0m\u001b[0m\n\u001b[0;32m    116\u001b[0m     \u001b[0marr\u001b[0m \u001b[1;33m=\u001b[0m \u001b[0mnp\u001b[0m\u001b[1;33m.\u001b[0m\u001b[0masarray\u001b[0m\u001b[1;33m(\u001b[0m\u001b[0marr\u001b[0m\u001b[1;33m)\u001b[0m\u001b[1;33m\u001b[0m\u001b[1;33m\u001b[0m\u001b[0m\n\u001b[1;32m--> 117\u001b[1;33m     \u001b[1;32mreturn\u001b[0m \u001b[0m_take_nd_ndarray\u001b[0m\u001b[1;33m(\u001b[0m\u001b[0marr\u001b[0m\u001b[1;33m,\u001b[0m \u001b[0mindexer\u001b[0m\u001b[1;33m,\u001b[0m \u001b[0maxis\u001b[0m\u001b[1;33m,\u001b[0m \u001b[0mfill_value\u001b[0m\u001b[1;33m,\u001b[0m \u001b[0mallow_fill\u001b[0m\u001b[1;33m)\u001b[0m\u001b[1;33m\u001b[0m\u001b[1;33m\u001b[0m\u001b[0m\n\u001b[0m\u001b[0;32m    118\u001b[0m \u001b[1;33m\u001b[0m\u001b[0m\n\u001b[0;32m    119\u001b[0m \u001b[1;33m\u001b[0m\u001b[0m\n",
      "\u001b[1;32mc:\\Users\\hyunj\\Anaconda3\\lib\\site-packages\\pandas\\core\\array_algos\\take.py\u001b[0m in \u001b[0;36m_take_nd_ndarray\u001b[1;34m(arr, indexer, axis, fill_value, allow_fill)\u001b[0m\n\u001b[0;32m    156\u001b[0m         \u001b[0mout\u001b[0m \u001b[1;33m=\u001b[0m \u001b[0mnp\u001b[0m\u001b[1;33m.\u001b[0m\u001b[0mempty\u001b[0m\u001b[1;33m(\u001b[0m\u001b[0mout_shape\u001b[0m\u001b[1;33m,\u001b[0m \u001b[0mdtype\u001b[0m\u001b[1;33m=\u001b[0m\u001b[0mdtype\u001b[0m\u001b[1;33m,\u001b[0m \u001b[0morder\u001b[0m\u001b[1;33m=\u001b[0m\u001b[1;34m\"F\"\u001b[0m\u001b[1;33m)\u001b[0m\u001b[1;33m\u001b[0m\u001b[1;33m\u001b[0m\u001b[0m\n\u001b[0;32m    157\u001b[0m     \u001b[1;32melse\u001b[0m\u001b[1;33m:\u001b[0m\u001b[1;33m\u001b[0m\u001b[1;33m\u001b[0m\u001b[0m\n\u001b[1;32m--> 158\u001b[1;33m         \u001b[0mout\u001b[0m \u001b[1;33m=\u001b[0m \u001b[0mnp\u001b[0m\u001b[1;33m.\u001b[0m\u001b[0mempty\u001b[0m\u001b[1;33m(\u001b[0m\u001b[0mout_shape\u001b[0m\u001b[1;33m,\u001b[0m \u001b[0mdtype\u001b[0m\u001b[1;33m=\u001b[0m\u001b[0mdtype\u001b[0m\u001b[1;33m)\u001b[0m\u001b[1;33m\u001b[0m\u001b[1;33m\u001b[0m\u001b[0m\n\u001b[0m\u001b[0;32m    159\u001b[0m \u001b[1;33m\u001b[0m\u001b[0m\n\u001b[0;32m    160\u001b[0m     func = _get_take_nd_function(\n",
      "\u001b[1;31mKeyboardInterrupt\u001b[0m: "
     ]
    }
   ],
   "source": [
    "# 데이터 프레임을 다시 학습할 수 있도록 데이터를 변환\n",
    "#! 사용한 Feature들은 파워포인트 참고\n",
    "\n",
    "# 여기에서 DWELL TIME은 단순한 STORAGE TIME을 의미해서 작업 시간에 대한 변수도 DS-MOVE 밖에 없음\n",
    "# 빈 데이터 프레임 생성(최종 사용할 데이터)\n",
    "last_df = pd.DataFrame(columns=[\"Time_of_DS_MOVE\", \"CONTAINER_NO\", \"DS_VESSEL_ID\", \"LD_VESSEL_ID\",  \"DS_VESSEL_YEAR\", \"LD_VESSEL_YEAR\", \n",
    "                                \"LD_POD\", \"Full_Empty\", \"LD_BLOCK\", \"LD_BAY\", \"DS_BLOCK\", \"DS_BAY\",\n",
    "                                \"LD_CHE_ID\", \"LD_ITV_ID\", \"LD_QC_ID\", \"DS_CHE_ID\", \"DS_ITV_ID\", \"DS_QC_ID\", \n",
    "                                \"LD_QUEUE_POSITION_NUMBER\", \"LD_QUEUE_POSITION_HACK_DACK\", \"LD_H_BOX\",\n",
    "                                \"DS_QUEUE_POSITION_NUMBER\", \"DS_QUEUE_POSITION_HACK_DACK\", \"DS_H_BOX\", \n",
    "                                \"COUNTRY_NEXTPOD\", \"PORT_NEXTPOD\", \"TML_OUT_DT\",\n",
    "                                \"LD_DAY\", \"DS_DAY\", \"Dwell Time\"])\n",
    "i = 0\n",
    "\n",
    "# Continous Data 변환\n",
    "for container in tqdm(container_list, desc = \"학습할 데이터 생성 중\") : \n",
    "    temp_df = data[data['CONTAINER_NO'] == container].reset_index(drop=True)\n",
    "    # DS-QUAYSIDE : 0 / DS-MOVE : 1 / DS-YARDSIDE : 2 / LD-YARDSIDE : 3 / LD-MOVE : 4 / LD-QUAYSIDE : 5\n",
    "    \n",
    "    #! Time of DS-MOVE 계산\n",
    "    start_DS_MOVE = temp_df[temp_df['JOB_TYPE'] == 'DS-MOVE'].loc[:, 'JOB_START_DT'][1]\n",
    "    end_DS_MOVE = temp_df[temp_df['JOB_TYPE'] == 'DS-MOVE'].loc[:, 'JOB_END_DT'][1]\n",
    "    time_of_DS_MOVE = (end_DS_MOVE - start_DS_MOVE).seconds\n",
    "    \n",
    "    #! Dwell Time(Target) 계산 \n",
    "    end_DS = temp_df[temp_df['JOB_TYPE'] == 'DS-YARDSIDE'].loc[:, 'JOB_END_DT'][2]\n",
    "    start_LD = temp_df[temp_df['JOB_TYPE'] == 'LD-YARDSIDE'].loc[:, 'JOB_START_DT'][3]\n",
    "    dwell_time = (start_LD - end_DS).days * 24 * 60 * 60 + (start_LD - end_DS).seconds\n",
    "    \n",
    "    #! ContainerID\n",
    "    # 혹시 6개의 작업의 Container 들이 다를 수 있으니 이를 확인\n",
    "    if (temp_df.loc[0, \"CONTAINER_NO\"] == temp_df.loc[1, \"CONTAINER_NO\"] == temp_df.loc[2, \"CONTAINER_NO\"] == temp_df.loc[3, \"CONTAINER_NO\"]\n",
    "        == temp_df.loc[4, \"CONTAINER_NO\"] == temp_df.loc[5, \"CONTAINER_NO\"]) :\n",
    "        container_id = temp_df.loc[3, \"CONTAINER_NO\"][:4]\n",
    "    else :\n",
    "        print(container, \"의 경우 컨테이너 ID가 일치하지 않습니다\")\n",
    "        break\n",
    "\n",
    "    #! DS-Vessel ID\n",
    "    # 혹시 3개의 작업에 Vessel 아이디가 다를 수도 있으니 이를 확인\n",
    "    if (temp_df.loc[0, \"VESSEL\"].split(\"/\")[0] == temp_df.loc[1, \"VESSEL\"].split(\"/\")[0] == temp_df.loc[2, \"VESSEL\"].split(\"/\")[0]) :\n",
    "        ds_vessel_id = temp_df.loc[0, \"VESSEL\"][:4]\n",
    "    else :\n",
    "        print(container, \"의 경우 3개의 DS-VESSEL ID가 일치하지 않습니다\")\n",
    "        break\n",
    "    \n",
    "    #! LD-Vessel ID\n",
    "    # 혹시 3개의 작업에 Vessel 아이디가 다를 수도 있으니 이를 확인\n",
    "    if (temp_df.loc[3, \"VESSEL\"].split(\"/\")[0] == temp_df.loc[4, \"VESSEL\"].split(\"/\")[0] == temp_df.loc[5, \"VESSEL\"].split(\"/\")[0]) :\n",
    "        ld_vessel_id = temp_df.loc[4, \"VESSEL\"][:4]\n",
    "    else :\n",
    "        print(container, \"의 경우 3개의 LD-VESSEL ID가 일치하지 않습니다\")\n",
    "        break\n",
    "\n",
    "    #! DS-Vessel Year\n",
    "    # 혹시 3개의 작업에 Vessel Year가 다를 수도 있으니 이를 확인\n",
    "    if (temp_df.loc[0, \"VESSEL\"].split(\"/\")[1] == temp_df.loc[1, \"VESSEL\"].split(\"/\")[1] == temp_df.loc[2, \"VESSEL\"].split(\"/\")[1]) :\n",
    "        ds_vessel_year = temp_df.loc[0, \"VESSEL\"].split(\"/\")[1]\n",
    "    else :\n",
    "        print(container, \"의 경우 3개의 DS-VESSEL 년도가 일치하지 않습니다\")\n",
    "        break\n",
    "    \n",
    "    #! LD-Vessel Year\n",
    "    # 혹시 3개의 작업에 Vessel 아이디가 다를 수도 있으니 이를 확인\n",
    "    if (temp_df.loc[3, \"VESSEL\"].split(\"/\")[1] == temp_df.loc[4, \"VESSEL\"].split(\"/\")[1] == temp_df.loc[5, \"VESSEL\"].split(\"/\")[1]) :\n",
    "        ld_vessel_year = temp_df.loc[4, \"VESSEL\"].split(\"/\")[1]\n",
    "    else :\n",
    "        print(container, \"의 경우 3개의 LD-VESSEL 년도가 일치하지 않습니다\")\n",
    "        break\n",
    "    \n",
    "    #! LD-POD\n",
    "    # 점검\n",
    "    if (temp_df.loc[3, \"POD\"] == temp_df.loc[4, \"POD\"] == temp_df.loc[5, \"POD\"]) :\n",
    "        pod_ld = temp_df.loc[3, \"POD\"]\n",
    "    else :\n",
    "        print(container, \"의 경우 3개의 LD의 POD가 일치하지 않습니다\")\n",
    "        break\n",
    "    \n",
    "    #! FULL / EMPTY\n",
    "    # 6가지의 경우에 다 같은지 확인\n",
    "    if (temp_df.loc[0, \"FULL_EMPTY\"] == temp_df.loc[1, \"FULL_EMPTY\"] == temp_df.loc[2, \"FULL_EMPTY\"]\n",
    "        == temp_df.loc[3, \"FULL_EMPTY\"] == temp_df.loc[4, \"FULL_EMPTY\"] == temp_df.loc[5, \"FULL_EMPTY\"]) :\n",
    "        full_empty = temp_df.loc[0, \"FULL_EMPTY\"]\n",
    "    else :\n",
    "        print(container, \"의 경우 6개의 FULL/EMPTY가 일치하지 않습니다\")\n",
    "        break\n",
    "    \n",
    "    #! BLOCK_BAY\n",
    "    # 6가지의 경우에 다 같은지 확인\n",
    "    if (temp_df.loc[0, \"BLOCK_BAY\"] == temp_df.loc[1, \"BLOCK_BAY\"] == temp_df.loc[2, \"BLOCK_BAY\"]\n",
    "        == temp_df.loc[3, \"BLOCK_BAY\"] == temp_df.loc[4, \"BLOCK_BAY\"] == temp_df.loc[5, \"BLOCK_BAY\"]) :\n",
    "        \n",
    "        # P1 P2 P3 의 값이 있는 것을 확인\n",
    "        if(\"-\" in temp_df.loc[0, \"BLOCK_BAY\"]) : \n",
    "            temp_block_bay = temp_df.loc[0, \"BLOCK_BAY\"].split('-')\n",
    "            block = str(int(temp_block_bay[0][:-1])) + temp_block_bay[0][-1]\n",
    "            bay = temp_block_bay[1]\n",
    "        else :\n",
    "            block = temp_df.loc[0, \"BLOCK_BAY\"]\n",
    "            bay = temp_df.loc[0, \"BLOCK_BAY\"]\n",
    "    \n",
    "    else :\n",
    "        print(container, \"의 경우 6개의 BLOCK_BAY가 일치하지 않습니다\")\n",
    "        continue\n",
    "    \n",
    "    #! LD_CHE_ID, LD_ITV_ID, LD_QC_ID, DS_CHE_ID, DS_ITV_ID, DS_QC_ID\n",
    "    # 이미 이전까지 이 데이터셋을 통합하는데 문제 없다고 판단함\n",
    "    ld_che_id = temp_df.loc[3, \"MCHN_ID\"] # = LD_YARDSIDE의 장비\n",
    "    ld_itv_id = temp_df.loc[4, \"MCHN_ID\"] # = LD_MOVE의 장비\n",
    "    ld_qc_id = temp_df.loc[5, \"MCHN_ID\"] # = LD_QUAYSIDE의 장비\n",
    "    \n",
    "    ds_che_id = temp_df.loc[2, \"MCHN_ID\"] # = DS_YARDSIDE의 장비\n",
    "    ds_itv_id = temp_df.loc[1, \"MCHN_ID\"] # = DS_MOVE의 장비\n",
    "    ds_qc_id = temp_df.loc[0, \"MCHN_ID\"] # = DS_QUAYSIDE의 장비\n",
    "    \n",
    "    #! LD_QUEUEPOSITION & DS_QUEUEPOSITION & COUNTRY_NEXTPOD & PORT_NEXTPOD & TML_DT_OUT\n",
    "    ld_temp = temp_df.loc[5, \"QUEUE_POSITION\"].split(\"-\")[0]\n",
    "    ld_queue_position_number = ld_temp[:2]\n",
    "    ld_queue_position_hack_deck = ld_temp[2]\n",
    "    ld_h_box = temp_df.loc[5, \"H_BOX\"]\n",
    "    \n",
    "    ds_temp = temp_df.loc[0, \"QUEUE_POSITION\"].split(\"-\")[0]\n",
    "    ds_queue_position_number = ds_temp[:2]\n",
    "    ds_queue_position_hack_deck = ds_temp[2]\n",
    "    ds_h_box = temp_df.loc[0, \"H_BOX\"]\n",
    "    \n",
    "    #  결측치가 아니면 값을 넣어주겠다\n",
    "    if (temp_df.loc[0, \"COUNTRY_NEXTPOD\"] != -1) :\n",
    "        country_nextpod = temp_df.loc[0, \"COUNTRY_NEXTPOD\"]\n",
    "    else : \n",
    "        country_nextpod = np.nan\n",
    "        \n",
    "    if (temp_df.loc[0, \"PORT_NEXTPOD\"] != -1) :\n",
    "        port_nextpod = temp_df.loc[0, \"PORT_NEXTPOD\"]\n",
    "    else :\n",
    "        port_nextpod = np.nan\n",
    "        \n",
    "    if (temp_df.loc[0, \"TML_OUT_DT\"] != -1) :\n",
    "        tml_out_dt = temp_df.loc[0, \"TML_OUT_DT\"]\n",
    "    else :\n",
    "        tml_out_dt = np.nan\n",
    "\n",
    "    #! 요일\n",
    "    ld_day = temp_df.loc[4, 'JOB_START_DT'].day_name()\n",
    "    ds_day = temp_df.loc[0, \"JOB_START_DT\"].day_name()\n",
    "    \n",
    "    #! 전처리한 값 집어넣어주기\n",
    "    row_list = [time_of_DS_MOVE, container_id, ds_vessel_id, ld_vessel_id, ds_vessel_year, ld_vessel_year, pod_ld, full_empty, \n",
    "                ld_block, ld_bay, ds_block, ds_bay, ld_che_id, ld_itv_id, ld_qc_id, ds_che_id, ds_itv_id, ds_qc_id, \n",
    "                ld_queue_position_number, ld_queue_position_hack_deck, ld_h_box, ds_queue_position_number, ds_queue_position_hack_deck, ds_h_box,\n",
    "                country_nextpod, port_nextpod, tml_out_dt, ld_day, ds_day,\n",
    "                dwell_time]\n",
    "    last_df.loc[i, :] = row_list\n",
    "    i += 1"
   ]
  },
  {
   "cell_type": "code",
   "execution_count": 43,
   "metadata": {},
   "outputs": [
    {
     "data": {
      "text/plain": [
       "'12321321'"
      ]
     },
     "execution_count": 43,
     "metadata": {},
     "output_type": "execute_result"
    }
   ],
   "source": [
    "sex = \"12321321A\"\n",
    "sex[:-1]"
   ]
  },
  {
   "cell_type": "code",
   "execution_count": 67,
   "metadata": {},
   "outputs": [
    {
     "name": "stdout",
     "output_type": "stream",
     "text": [
      "<class 'pandas.core.frame.DataFrame'>\n",
      "Int64Index: 24892 entries, 0 to 24891\n",
      "Data columns (total 12 columns):\n",
      " #   Column               Non-Null Count  Dtype \n",
      "---  ------               --------------  ----- \n",
      " 0   Time of DS-QUAYSIDE  24892 non-null  object\n",
      " 1   Time of DS-MOVE      24892 non-null  object\n",
      " 2   Time of DS-YARDSIDE  24892 non-null  object\n",
      " 3   ContainerID          24892 non-null  object\n",
      " 4   DS-VESSEL-ID         24892 non-null  object\n",
      " 5   LD-VESSEL-ID         24892 non-null  object\n",
      " 6   DS-VESSEL-YEAR       24892 non-null  object\n",
      " 7   LD-VESSEL-YEAR       24892 non-null  object\n",
      " 8   LD-POD               24892 non-null  object\n",
      " 9   Full                 24892 non-null  object\n",
      " 10  Empty                24892 non-null  object\n",
      " 11  Dwell Time           24892 non-null  object\n",
      "dtypes: object(12)\n",
      "memory usage: 3.0+ MB\n"
     ]
    }
   ],
   "source": [
    "last_df.info()\n",
    "last_df.to_csv('Data.csv', index=False, encoding='CP949')"
   ]
  },
  {
   "cell_type": "code",
   "execution_count": null,
   "metadata": {},
   "outputs": [],
   "source": []
  }
 ],
 "metadata": {
  "kernelspec": {
   "display_name": "base",
   "language": "python",
   "name": "python3"
  },
  "language_info": {
   "codemirror_mode": {
    "name": "ipython",
    "version": 3
   },
   "file_extension": ".py",
   "mimetype": "text/x-python",
   "name": "python",
   "nbconvert_exporter": "python",
   "pygments_lexer": "ipython3",
   "version": "3.9.13"
  },
  "orig_nbformat": 4,
  "vscode": {
   "interpreter": {
    "hash": "24dbf3889b5bfa303f2e95e38e2b28553e54ae0a5cbdeb46240e6eebb55c4c82"
   }
  }
 },
 "nbformat": 4,
 "nbformat_minor": 2
}
