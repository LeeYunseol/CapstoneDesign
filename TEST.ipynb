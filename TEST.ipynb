{
 "cells": [
  {
   "cell_type": "code",
   "execution_count": 5,
   "metadata": {},
   "outputs": [
    {
     "name": "stdout",
     "output_type": "stream",
     "text": [
      "현재 폴더 경로 :  c:\\Users\\hyunj\\Desktop\\종합설계프로젝트\n",
      "변경 후 폴더 경로 :  c:\\Users\\hyunj\\Desktop\\종합설계프로젝트\n",
      "현재 폴더 파일 :  ['Block perspective.csv', 'CHE I perspective.csv', 'CHE II perspective.csv', 'Container Data.csv', 'Container DS Data.csv', 'Container DS perspective.csv', 'Container LD perspective.csv', 'Container perspective.csv', 'Crawling DS Container.csv', 'Data.csv', 'DS.csv', 'DStoLD.csv', 'Dwell Time', 'Gate perspective.csv', 'GI perspective.csv', 'GO perspective.csv', 'ITV perspective.csv', 'LD.csv', 'Outlier DS.csv', 'Outlier LD.csv', 'QC perspective.csv', 'Vessel perspective.csv', 'Weather.csv', '이상치.csv']\n",
      "feature 항목 :  Index(['Unnamed: 0', 'VESSEL', 'CONTAINER_NO', 'MCHN_ID', 'MCHN_TP_CD',\n",
      "       'FULL_EMPTY', 'JOB_TYPE', 'POD', 'BLOCK_BAY', 'JOB_START_DT',\n",
      "       'JOB_END_DT'],\n",
      "      dtype='object')\n"
     ]
    }
   ],
   "source": [
    "from datetime import datetime, timedelta\n",
    "import pandas as pd\n",
    "import numpy as np\n",
    "import os\n",
    "from tqdm import tqdm\n",
    "\n",
    "cwd = os.getcwd()\n",
    "print('현재 폴더 경로 : ', cwd)\n",
    "# 폴더 위치 변경\n",
    "os.chdir(\"C:\\\\Users\\hyunj\\\\Dropbox\\\\종합설계프로젝트\\\\중요\\\\데이터\\\\\")\n",
    "print('변경 후 폴더 경로 : ', cwd)\n",
    "print('현재 폴더 파일 : ', os.listdir())\n",
    "data = pd.read_csv('Container DS perspective.csv')\n",
    "print('feature 항목 : ', data.columns)\n",
    "data\n",
    "\n",
    "# 데이터 프레임 Datetime 변환\n",
    "data['JOB_START_DT'] = data['JOB_START_DT'].astype('str')\n",
    "data['JOB_END_DT'] = data['JOB_END_DT'].astype('str')\n",
    "\n",
    "data['JOB_START_DT'] = pd.to_datetime(data['JOB_START_DT'])\n",
    "data['JOB_END_DT'] = pd.to_datetime(data['JOB_END_DT'])"
   ]
  },
  {
   "cell_type": "code",
   "execution_count": 6,
   "metadata": {},
   "outputs": [
    {
     "name": "stdout",
     "output_type": "stream",
     "text": [
      "2018-01-31 20:59:20\n",
      "2018-01-31 20:39:20\n"
     ]
    }
   ],
   "source": [
    "temp = data.loc[5, \"JOB_START_DT\"]\n",
    "print(temp)\n",
    "test = temp - timedelta(minutes=20)\n",
    "print(test)"
   ]
  }
 ],
 "metadata": {
  "kernelspec": {
   "display_name": "base",
   "language": "python",
   "name": "python3"
  },
  "language_info": {
   "codemirror_mode": {
    "name": "ipython",
    "version": 3
   },
   "file_extension": ".py",
   "mimetype": "text/x-python",
   "name": "python",
   "nbconvert_exporter": "python",
   "pygments_lexer": "ipython3",
   "version": "3.9.13"
  },
  "orig_nbformat": 4
 },
 "nbformat": 4,
 "nbformat_minor": 2
}
