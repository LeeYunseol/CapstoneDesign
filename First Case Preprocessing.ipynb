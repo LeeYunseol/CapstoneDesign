{
 "cells": [
  {
   "attachments": {},
   "cell_type": "markdown",
   "metadata": {},
   "source": [
    "# 순수 DS만 전처리 - DS-MOVE ~ DS-YARSIDE"
   ]
  },
  {
   "cell_type": "code",
   "execution_count": 2,
   "metadata": {},
   "outputs": [
    {
     "name": "stdout",
     "output_type": "stream",
     "text": [
      "현재 폴더 경로 :  c:\\Users\\hyunj\\Desktop\\종합설계프로젝트\n",
      "변경 후 폴더 경로 :  c:\\Users\\hyunj\\Desktop\\종합설계프로젝트\n",
      "현재 폴더 파일 :  ['Block perspective.csv', 'CHE I perspective.csv', 'CHE II perspective.csv', 'Container Data.csv', 'Container DS perspective.csv', 'Container LD perspective.csv', 'Container perspective.csv', 'Data.csv', 'DS.csv', 'DStoLD.csv', 'Dwell Time', 'Gate perspective.csv', 'GI perspective.csv', 'GO perspective.csv', 'ITV perspective.csv', 'LD.csv', 'QC perspective.csv', 'Vessel perspective.csv', 'Weather.csv']\n",
      "feature 항목 :  Index(['Unnamed: 0', 'VESSEL', 'CONTAINER_NO', 'MCHN_ID', 'MCHN_TP_CD',\n",
      "       'FULL_EMPTY', 'JOB_TYPE', 'POD', 'BLOCK_BAY', 'JOB_START_DT',\n",
      "       'JOB_END_DT'],\n",
      "      dtype='object')\n"
     ]
    },
    {
     "data": {
      "text/html": [
       "<div>\n",
       "<style scoped>\n",
       "    .dataframe tbody tr th:only-of-type {\n",
       "        vertical-align: middle;\n",
       "    }\n",
       "\n",
       "    .dataframe tbody tr th {\n",
       "        vertical-align: top;\n",
       "    }\n",
       "\n",
       "    .dataframe thead th {\n",
       "        text-align: right;\n",
       "    }\n",
       "</style>\n",
       "<table border=\"1\" class=\"dataframe\">\n",
       "  <thead>\n",
       "    <tr style=\"text-align: right;\">\n",
       "      <th></th>\n",
       "      <th>Unnamed: 0</th>\n",
       "      <th>VESSEL</th>\n",
       "      <th>CONTAINER_NO</th>\n",
       "      <th>MCHN_ID</th>\n",
       "      <th>MCHN_TP_CD</th>\n",
       "      <th>FULL_EMPTY</th>\n",
       "      <th>JOB_TYPE</th>\n",
       "      <th>POD</th>\n",
       "      <th>BLOCK_BAY</th>\n",
       "      <th>JOB_START_DT</th>\n",
       "      <th>JOB_END_DT</th>\n",
       "    </tr>\n",
       "  </thead>\n",
       "  <tbody>\n",
       "    <tr>\n",
       "      <th>0</th>\n",
       "      <td>1</td>\n",
       "      <td>ALAP-001/2018</td>\n",
       "      <td>AXIU1484082-2</td>\n",
       "      <td>GC112</td>\n",
       "      <td>QC</td>\n",
       "      <td>F</td>\n",
       "      <td>DS-QUAYSIDE</td>\n",
       "      <td>KRPUS</td>\n",
       "      <td>1B-38</td>\n",
       "      <td>20180131211752</td>\n",
       "      <td>20180131211924</td>\n",
       "    </tr>\n",
       "    <tr>\n",
       "      <th>1</th>\n",
       "      <td>2</td>\n",
       "      <td>ALAP-001/2018</td>\n",
       "      <td>AXIU1484082-2</td>\n",
       "      <td>TC221</td>\n",
       "      <td>TC</td>\n",
       "      <td>F</td>\n",
       "      <td>DS-YARDSIDE</td>\n",
       "      <td>KRPUS</td>\n",
       "      <td>1B-38</td>\n",
       "      <td>20180131213633</td>\n",
       "      <td>20180131213805</td>\n",
       "    </tr>\n",
       "    <tr>\n",
       "      <th>2</th>\n",
       "      <td>3</td>\n",
       "      <td>ALAP-001/2018</td>\n",
       "      <td>AXIU1484082-2</td>\n",
       "      <td>YT511</td>\n",
       "      <td>YT</td>\n",
       "      <td>F</td>\n",
       "      <td>DS-MOVE</td>\n",
       "      <td>KRPUS</td>\n",
       "      <td>1B-38</td>\n",
       "      <td>20180131211924</td>\n",
       "      <td>20180131213633</td>\n",
       "    </tr>\n",
       "    <tr>\n",
       "      <th>3</th>\n",
       "      <td>7</td>\n",
       "      <td>ALAP-001/2018</td>\n",
       "      <td>BGBU5060490-3</td>\n",
       "      <td>GC109</td>\n",
       "      <td>QC</td>\n",
       "      <td>F</td>\n",
       "      <td>DS-QUAYSIDE</td>\n",
       "      <td>KRPUS</td>\n",
       "      <td>3F-69</td>\n",
       "      <td>20180131205748</td>\n",
       "      <td>20180131205920</td>\n",
       "    </tr>\n",
       "    <tr>\n",
       "      <th>4</th>\n",
       "      <td>8</td>\n",
       "      <td>ALAP-001/2018</td>\n",
       "      <td>BGBU5060490-3</td>\n",
       "      <td>TC266</td>\n",
       "      <td>TC</td>\n",
       "      <td>F</td>\n",
       "      <td>DS-YARDSIDE</td>\n",
       "      <td>KRPUS</td>\n",
       "      <td>3F-69</td>\n",
       "      <td>20180131211132</td>\n",
       "      <td>20180131211304</td>\n",
       "    </tr>\n",
       "    <tr>\n",
       "      <th>...</th>\n",
       "      <td>...</td>\n",
       "      <td>...</td>\n",
       "      <td>...</td>\n",
       "      <td>...</td>\n",
       "      <td>...</td>\n",
       "      <td>...</td>\n",
       "      <td>...</td>\n",
       "      <td>...</td>\n",
       "      <td>...</td>\n",
       "      <td>...</td>\n",
       "      <td>...</td>\n",
       "    </tr>\n",
       "    <tr>\n",
       "      <th>223759</th>\n",
       "      <td>424301</td>\n",
       "      <td>SXNW-001/2018</td>\n",
       "      <td>UESU4153686-1</td>\n",
       "      <td>TC231</td>\n",
       "      <td>TC</td>\n",
       "      <td>F</td>\n",
       "      <td>DS-YARDSIDE</td>\n",
       "      <td>KRPUS</td>\n",
       "      <td>1C-10</td>\n",
       "      <td>20180129203032</td>\n",
       "      <td>20180129203204</td>\n",
       "    </tr>\n",
       "    <tr>\n",
       "      <th>223760</th>\n",
       "      <td>424302</td>\n",
       "      <td>SXNW-001/2018</td>\n",
       "      <td>UESU4153686-1</td>\n",
       "      <td>YT526</td>\n",
       "      <td>YT</td>\n",
       "      <td>F</td>\n",
       "      <td>DS-MOVE</td>\n",
       "      <td>KRPUS</td>\n",
       "      <td>1C-10</td>\n",
       "      <td>20180129201812</td>\n",
       "      <td>20180129203032</td>\n",
       "    </tr>\n",
       "    <tr>\n",
       "      <th>223761</th>\n",
       "      <td>424303</td>\n",
       "      <td>SXNW-001/2018</td>\n",
       "      <td>UESU4586161-1</td>\n",
       "      <td>GC110</td>\n",
       "      <td>QC</td>\n",
       "      <td>F</td>\n",
       "      <td>DS-QUAYSIDE</td>\n",
       "      <td>KRPUS</td>\n",
       "      <td>2B-74</td>\n",
       "      <td>20180129201945</td>\n",
       "      <td>20180129202117</td>\n",
       "    </tr>\n",
       "    <tr>\n",
       "      <th>223762</th>\n",
       "      <td>424304</td>\n",
       "      <td>SXNW-001/2018</td>\n",
       "      <td>UESU4586161-1</td>\n",
       "      <td>TC224</td>\n",
       "      <td>TC</td>\n",
       "      <td>F</td>\n",
       "      <td>DS-YARDSIDE</td>\n",
       "      <td>KRPUS</td>\n",
       "      <td>2B-74</td>\n",
       "      <td>20180129203317</td>\n",
       "      <td>20180129203449</td>\n",
       "    </tr>\n",
       "    <tr>\n",
       "      <th>223763</th>\n",
       "      <td>424305</td>\n",
       "      <td>SXNW-001/2018</td>\n",
       "      <td>UESU4586161-1</td>\n",
       "      <td>YT529</td>\n",
       "      <td>YT</td>\n",
       "      <td>F</td>\n",
       "      <td>DS-MOVE</td>\n",
       "      <td>KRPUS</td>\n",
       "      <td>2B-74</td>\n",
       "      <td>20180129202117</td>\n",
       "      <td>20180129203317</td>\n",
       "    </tr>\n",
       "  </tbody>\n",
       "</table>\n",
       "<p>223764 rows × 11 columns</p>\n",
       "</div>"
      ],
      "text/plain": [
       "        Unnamed: 0         VESSEL   CONTAINER_NO MCHN_ID MCHN_TP_CD  \\\n",
       "0                1  ALAP-001/2018  AXIU1484082-2   GC112         QC   \n",
       "1                2  ALAP-001/2018  AXIU1484082-2   TC221         TC   \n",
       "2                3  ALAP-001/2018  AXIU1484082-2   YT511         YT   \n",
       "3                7  ALAP-001/2018  BGBU5060490-3   GC109         QC   \n",
       "4                8  ALAP-001/2018  BGBU5060490-3   TC266         TC   \n",
       "...            ...            ...            ...     ...        ...   \n",
       "223759      424301  SXNW-001/2018  UESU4153686-1   TC231         TC   \n",
       "223760      424302  SXNW-001/2018  UESU4153686-1   YT526         YT   \n",
       "223761      424303  SXNW-001/2018  UESU4586161-1   GC110         QC   \n",
       "223762      424304  SXNW-001/2018  UESU4586161-1   TC224         TC   \n",
       "223763      424305  SXNW-001/2018  UESU4586161-1   YT529         YT   \n",
       "\n",
       "       FULL_EMPTY     JOB_TYPE    POD BLOCK_BAY    JOB_START_DT  \\\n",
       "0               F  DS-QUAYSIDE  KRPUS     1B-38  20180131211752   \n",
       "1               F  DS-YARDSIDE  KRPUS     1B-38  20180131213633   \n",
       "2               F      DS-MOVE  KRPUS     1B-38  20180131211924   \n",
       "3               F  DS-QUAYSIDE  KRPUS     3F-69  20180131205748   \n",
       "4               F  DS-YARDSIDE  KRPUS     3F-69  20180131211132   \n",
       "...           ...          ...    ...       ...             ...   \n",
       "223759          F  DS-YARDSIDE  KRPUS     1C-10  20180129203032   \n",
       "223760          F      DS-MOVE  KRPUS     1C-10  20180129201812   \n",
       "223761          F  DS-QUAYSIDE  KRPUS     2B-74  20180129201945   \n",
       "223762          F  DS-YARDSIDE  KRPUS     2B-74  20180129203317   \n",
       "223763          F      DS-MOVE  KRPUS     2B-74  20180129202117   \n",
       "\n",
       "            JOB_END_DT  \n",
       "0       20180131211924  \n",
       "1       20180131213805  \n",
       "2       20180131213633  \n",
       "3       20180131205920  \n",
       "4       20180131211304  \n",
       "...                ...  \n",
       "223759  20180129203204  \n",
       "223760  20180129203032  \n",
       "223761  20180129202117  \n",
       "223762  20180129203449  \n",
       "223763  20180129203317  \n",
       "\n",
       "[223764 rows x 11 columns]"
      ]
     },
     "execution_count": 2,
     "metadata": {},
     "output_type": "execute_result"
    }
   ],
   "source": [
    "import pandas as pd\n",
    "import numpy as np\n",
    "import os\n",
    "from tqdm import tqdm\n",
    "\n",
    "cwd = os.getcwd()\n",
    "print('현재 폴더 경로 : ', cwd)\n",
    "# 폴더 위치 변경\n",
    "os.chdir(\"C:\\\\Users\\hyunj\\\\Dropbox\\\\종합설계프로젝트\\\\중요\\\\데이터\\\\\")\n",
    "print('변경 후 폴더 경로 : ', cwd)\n",
    "print('현재 폴더 파일 : ', os.listdir())\n",
    "data = pd.read_csv('Container DS perspective.csv')\n",
    "print('feature 항목 : ', data.columns)\n",
    "data"
   ]
  },
  {
   "cell_type": "code",
   "execution_count": 3,
   "metadata": {},
   "outputs": [],
   "source": [
    "#! 이거는 케이스 2에서\n",
    "# Gate perspective에서 연결되지 못하는 DS만 추출\n",
    "\n",
    "gate_data = pd.read_csv('GO perspective.csv')\n",
    "\n",
    "gate_data.drop('Variant', axis = 1, inplace = True)\n",
    "gate_data.drop('Variant index', axis = 1, inplace = True)\n",
    "\n",
    "gate_data.rename(columns = {'Case ID':'CONTAINER_NO',\n",
    "                       'Activity':'JOB_TYPE',\n",
    "                       'Start Timestamp': 'JOB_START_DT',\n",
    "                       'Complete Timestamp' : 'JOB_END_DT'},\n",
    "                        inplace=True)"
   ]
  },
  {
   "cell_type": "code",
   "execution_count": 8,
   "metadata": {},
   "outputs": [
    {
     "name": "stdout",
     "output_type": "stream",
     "text": [
      "74550\n",
      "148950\n"
     ]
    },
    {
     "name": "stderr",
     "output_type": "stream",
     "text": [
      "C:\\Users\\hyunj\\AppData\\Local\\Temp\\ipykernel_19572\\3794368618.py:10: DtypeWarning: Columns (12) have mixed types. Specify dtype option on import or set low_memory=False.\n",
      "  integrated_ds_to_ld = pd.read_csv('C:/Users/hyunj/Dropbox/종합설계프로젝트/중요/데이터/Dwell Time/통합/Integrated DStoLD.csv', encoding='CP949')\n"
     ]
    },
    {
     "name": "stdout",
     "output_type": "stream",
     "text": [
      "74700\n"
     ]
    }
   ],
   "source": [
    "# DS의 컨테이너 ID\n",
    "total_unique_container_list = list(data['CONTAINER_NO'].unique())\n",
    "print(len(total_unique_container_list))\n",
    "\n",
    "#! 이전에 통합한 순수 DS와 DS to LD 호출\n",
    "# 다행히... 예전에 코딩해놔서 다행이네... 아닌거같은데? 이거 쓰면 더 어려울거같은데?\n",
    "integrated_ds = pd.read_csv('C:/Users/hyunj/Dropbox/종합설계프로젝트/중요/데이터/Dwell Time/통합/Integrated DS.csv', encoding='CP949')\n",
    "integrated_ds = integrated_ds[integrated_ds['JOB_TYPE'].str.startswith('DS')]\n",
    "print(len(integrated_ds))\n",
    "integrated_ds_to_ld = pd.read_csv('C:/Users/hyunj/Dropbox/종합설계프로젝트/중요/데이터/Dwell Time/통합/Integrated DStoLD.csv', encoding='CP949')\n",
    "integrated_ds_to_ld = integrated_ds_to_ld[integrated_ds_to_ld['JOB_TYPE'].str.startswith('DS')]\n",
    "print(len(integrated_ds_to_ld))\n",
    "\n",
    "compare_df = pd.concat([integrated_ds, integrated_ds_to_ld])\n",
    "compare_container_list = list(compare_df['CONTAINER_NO'].unique())"
   ]
  },
  {
   "cell_type": "code",
   "execution_count": 10,
   "metadata": {},
   "outputs": [
    {
     "name": "stdout",
     "output_type": "stream",
     "text": [
      "74550\n"
     ]
    }
   ],
   "source": [
    "data = compare_df[compare_df['CONTAINER_NO'].isin(total_unique_container_list)]\n",
    "print(len(data['CONTAINER_NO'].unique()))"
   ]
  },
  {
   "cell_type": "code",
   "execution_count": 26,
   "metadata": {},
   "outputs": [
    {
     "name": "stderr",
     "output_type": "stream",
     "text": [
      "데이터 통합 중: 100%|██████████| 74550/74550 [20:15<00:00, 61.35it/s]  \n"
     ]
    }
   ],
   "source": [
    "# DS MOVING TIME 분포 확인\n",
    "moving_time_list = []\n",
    "\n",
    "for container in tqdm(total_unique_container_list, desc = \"데이터 통합 중\") : \n",
    "    temp_df = data[data['CONTAINER_NO'] == container].reset_index(drop=True)\n",
    "    # YARDSIDE의 작업이 끝나는 시간 - MOVE가 시작하는 시간\n",
    "    start_time = temp_df.loc[1, 'JOB_START_DT']\n",
    "    end_time = temp_df.loc[2, \"JOB_END_DT\"]\n",
    "    moving_time = (end_time - start_time).seconds / 60\n",
    "    moving_time_list.append(moving_time)\n",
    "    "
   ]
  },
  {
   "cell_type": "code",
   "execution_count": 28,
   "metadata": {},
   "outputs": [
    {
     "data": {
      "image/png": "[encoded data removed]",
      "text/plain": [
       "<Figure size 500x500 with 1 Axes>"
      ]
     },
     "metadata": {},
     "output_type": "display_data"
    }
   ],
   "source": [
    "# 분포 확인\n",
    "import matplotlib.pyplot as plt\n",
    "import seaborn as sns\n",
    "sns.displot(moving_time_list, rug=True)\n",
    "plt.show()"
   ]
  },
  {
   "cell_type": "code",
   "execution_count": 33,
   "metadata": {},
   "outputs": [
    {
     "data": {
      "image/png": "[encoded data removed]",
      "text/plain": [
       "<Figure size 640x480 with 1 Axes>"
      ]
     },
     "metadata": {},
     "output_type": "display_data"
    }
   ],
   "source": [
    "n, bins, patches = plt.hist(moving_time_list, bins=100)\n",
    "plt.show()"
   ]
  },
  {
   "cell_type": "code",
   "execution_count": 34,
   "metadata": {},
   "outputs": [
    {
     "data": {
      "image/png": "[encoded data removed]",
      "text/plain": [
       "<Figure size 640x480 with 1 Axes>"
      ]
     },
     "metadata": {},
     "output_type": "display_data"
    }
   ],
   "source": [
    "# 박스 플롯 - 근데 이거는 한 곳에서 나온 경우가 아니기 떄문에 박스 플롯을 통하여 이상치라고 하면 안됨\n",
    "plt.boxplot(moving_time_list)\n",
    "plt.show()"
   ]
  }
 ],
 "metadata": {
  "kernelspec": {
   "display_name": "base",
   "language": "python",
   "name": "python3"
  },
  "language_info": {
   "codemirror_mode": {
    "name": "ipython",
    "version": 3
   },
   "file_extension": ".py",
   "mimetype": "text/x-python",
   "name": "python",
   "nbconvert_exporter": "python",
   "pygments_lexer": "ipython3",
   "version": "3.9.13"
  },
  "orig_nbformat": 4
 },
 "nbformat": 4,
 "nbformat_minor": 2
}
