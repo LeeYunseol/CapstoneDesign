{
 "cells": [
  {
   "cell_type": "code",
   "execution_count": null,
   "metadata": {},
   "outputs": [],
   "source": [
    "import pandas as pd\n",
    "import numpy as np\n",
    "import os\n",
    "from tqdm import tqdm\n",
    "# selenium의 webdriver를 사용하기 위한 import\n",
    "from selenium import webdriver\n",
    "from selenium.webdriver.common.by import By\n",
    "# selenium으로 무엇인가 입력하기 위한 import\n",
    "from selenium.webdriver.common.keys import Keys\n",
    "from selenium.webdriver.support.ui import Select\n",
    "# 페이지 로딩을 기다리는데에 사용할 time 모듈 import\n",
    "import time"
   ]
  }
 ],
 "metadata": {
  "kernelspec": {
   "display_name": "base",
   "language": "python",
   "name": "python3"
  },
  "language_info": {
   "name": "python",
   "version": "3.9.13"
  },
  "orig_nbformat": 4
 },
 "nbformat": 4,
 "nbformat_minor": 2
}
