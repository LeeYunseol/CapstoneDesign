{
 "cells": [
  {
   "cell_type": "code",
   "execution_count": 29,
   "metadata": {},
   "outputs": [
    {
     "name": "stdout",
     "output_type": "stream",
     "text": [
      "현재 폴더 경로 :  C:\\Users\\hyunj\\Dropbox\\종합설계프로젝트\\중요\\데이터\n",
      "변경 후 폴더 경로 :  C:\\Users\\hyunj\\Dropbox\\종합설계프로젝트\\중요\\데이터\n",
      "현재 폴더 파일 :  ['Block perspective.csv', 'CHE I perspective.csv', 'CHE II perspective.csv', 'Container Data.csv', 'Container DS Data.csv', 'Container DS perspective.csv', 'Container LD perspective.csv', 'Container perspective.csv', 'Crawling DS Container.csv', 'Data.csv', 'DS.csv', 'DStoLD.csv', 'Dwell Time', 'Gate perspective.csv', 'GI perspective.csv', 'GO perspective.csv', 'ITV perspective.csv', 'LD.csv', 'Outlier DS.csv', 'Outlier LD.csv', 'QC perspective.csv', 'Training Case 1.csv', 'Vessel perspective.csv', 'Weather.csv', '이상치.csv']\n",
      "feature 항목 :  Index(['CONTAINER_NO', 'VESSEL_ID', 'COUNTRY_POD', 'CITY_POD', 'Full/Empty',\n",
      "       'BLOCK', 'BAY', 'YC_ID', 'YT_ID', 'QC_ID', 'QUEUE_POSITION_NUMBER',\n",
      "       'QUEUE_POSITION_HACK_DACK', 'H_BOX', 'WEIGHT', 'SIZE', 'FREEZE', 'IMDG',\n",
      "       'UNNO', 'CARGO_MANAGEMENT_NUM', 'SEAL_NUM', 'COMPANY', 'IMPORT/EXPORT',\n",
      "       'T/S', 'TEMPERATURE', 'HUMIDITY', 'RAIN', 'WIND_SPEED', 'PRECIPITATION',\n",
      "       'DAY', 'TRUCK IN PROCESS', 'Moving Time'],\n",
      "      dtype='object')\n"
     ]
    },
    {
     "data": {
      "text/html": [
       "<div>\n",
       "<style scoped>\n",
       "    .dataframe tbody tr th:only-of-type {\n",
       "        vertical-align: middle;\n",
       "    }\n",
       "\n",
       "    .dataframe tbody tr th {\n",
       "        vertical-align: top;\n",
       "    }\n",
       "\n",
       "    .dataframe thead th {\n",
       "        text-align: right;\n",
       "    }\n",
       "</style>\n",
       "<table border=\"1\" class=\"dataframe\">\n",
       "  <thead>\n",
       "    <tr style=\"text-align: right;\">\n",
       "      <th></th>\n",
       "      <th>CONTAINER_NO</th>\n",
       "      <th>VESSEL_ID</th>\n",
       "      <th>COUNTRY_POD</th>\n",
       "      <th>CITY_POD</th>\n",
       "      <th>Full/Empty</th>\n",
       "      <th>BLOCK</th>\n",
       "      <th>BAY</th>\n",
       "      <th>YC_ID</th>\n",
       "      <th>YT_ID</th>\n",
       "      <th>QC_ID</th>\n",
       "      <th>...</th>\n",
       "      <th>IMPORT/EXPORT</th>\n",
       "      <th>T/S</th>\n",
       "      <th>TEMPERATURE</th>\n",
       "      <th>HUMIDITY</th>\n",
       "      <th>RAIN</th>\n",
       "      <th>WIND_SPEED</th>\n",
       "      <th>PRECIPITATION</th>\n",
       "      <th>DAY</th>\n",
       "      <th>TRUCK IN PROCESS</th>\n",
       "      <th>Moving Time</th>\n",
       "    </tr>\n",
       "  </thead>\n",
       "  <tbody>\n",
       "    <tr>\n",
       "      <th>0</th>\n",
       "      <td>UESU</td>\n",
       "      <td>SXNW</td>\n",
       "      <td>KR</td>\n",
       "      <td>PUS</td>\n",
       "      <td>F</td>\n",
       "      <td>2B</td>\n",
       "      <td>74</td>\n",
       "      <td>TC224</td>\n",
       "      <td>YT529</td>\n",
       "      <td>GC110</td>\n",
       "      <td>...</td>\n",
       "      <td>T/S Local</td>\n",
       "      <td>자부두</td>\n",
       "      <td>-1.9</td>\n",
       "      <td>30.7</td>\n",
       "      <td>0</td>\n",
       "      <td>2.4</td>\n",
       "      <td>0.0</td>\n",
       "      <td>Monday</td>\n",
       "      <td>60</td>\n",
       "      <td>15.066667</td>\n",
       "    </tr>\n",
       "    <tr>\n",
       "      <th>1</th>\n",
       "      <td>UESU</td>\n",
       "      <td>SXNW</td>\n",
       "      <td>KR</td>\n",
       "      <td>PUS</td>\n",
       "      <td>F</td>\n",
       "      <td>1C</td>\n",
       "      <td>10</td>\n",
       "      <td>TC231</td>\n",
       "      <td>YT526</td>\n",
       "      <td>GC109</td>\n",
       "      <td>...</td>\n",
       "      <td>T/S Import</td>\n",
       "      <td>타부두</td>\n",
       "      <td>-1.9</td>\n",
       "      <td>30.7</td>\n",
       "      <td>0</td>\n",
       "      <td>2.4</td>\n",
       "      <td>0.0</td>\n",
       "      <td>Monday</td>\n",
       "      <td>55</td>\n",
       "      <td>15.400000</td>\n",
       "    </tr>\n",
       "    <tr>\n",
       "      <th>2</th>\n",
       "      <td>TRLU</td>\n",
       "      <td>SXNW</td>\n",
       "      <td>KR</td>\n",
       "      <td>PUS</td>\n",
       "      <td>F</td>\n",
       "      <td>1F</td>\n",
       "      <td>40</td>\n",
       "      <td>TC261</td>\n",
       "      <td>YT504</td>\n",
       "      <td>GC111</td>\n",
       "      <td>...</td>\n",
       "      <td>T/S Import</td>\n",
       "      <td>타부두</td>\n",
       "      <td>-1.9</td>\n",
       "      <td>30.7</td>\n",
       "      <td>0</td>\n",
       "      <td>2.4</td>\n",
       "      <td>0.0</td>\n",
       "      <td>Monday</td>\n",
       "      <td>49</td>\n",
       "      <td>14.916667</td>\n",
       "    </tr>\n",
       "    <tr>\n",
       "      <th>3</th>\n",
       "      <td>TNZU</td>\n",
       "      <td>SXNW</td>\n",
       "      <td>KR</td>\n",
       "      <td>PUS</td>\n",
       "      <td>F</td>\n",
       "      <td>2C</td>\n",
       "      <td>98</td>\n",
       "      <td>TC234</td>\n",
       "      <td>YT505</td>\n",
       "      <td>GC112</td>\n",
       "      <td>...</td>\n",
       "      <td>T/S Local</td>\n",
       "      <td>자부두</td>\n",
       "      <td>-2.6</td>\n",
       "      <td>32.7</td>\n",
       "      <td>0</td>\n",
       "      <td>2.4</td>\n",
       "      <td>0.0</td>\n",
       "      <td>Monday</td>\n",
       "      <td>23</td>\n",
       "      <td>11.483333</td>\n",
       "    </tr>\n",
       "    <tr>\n",
       "      <th>4</th>\n",
       "      <td>TGHU</td>\n",
       "      <td>SXNW</td>\n",
       "      <td>KR</td>\n",
       "      <td>PUS</td>\n",
       "      <td>F</td>\n",
       "      <td>1F</td>\n",
       "      <td>80</td>\n",
       "      <td>TC262</td>\n",
       "      <td>YT527</td>\n",
       "      <td>GC111</td>\n",
       "      <td>...</td>\n",
       "      <td>T/S Import</td>\n",
       "      <td>타부두</td>\n",
       "      <td>-1.1</td>\n",
       "      <td>28.5</td>\n",
       "      <td>0</td>\n",
       "      <td>2.3</td>\n",
       "      <td>0.0</td>\n",
       "      <td>Monday</td>\n",
       "      <td>59</td>\n",
       "      <td>17.716667</td>\n",
       "    </tr>\n",
       "    <tr>\n",
       "      <th>...</th>\n",
       "      <td>...</td>\n",
       "      <td>...</td>\n",
       "      <td>...</td>\n",
       "      <td>...</td>\n",
       "      <td>...</td>\n",
       "      <td>...</td>\n",
       "      <td>...</td>\n",
       "      <td>...</td>\n",
       "      <td>...</td>\n",
       "      <td>...</td>\n",
       "      <td>...</td>\n",
       "      <td>...</td>\n",
       "      <td>...</td>\n",
       "      <td>...</td>\n",
       "      <td>...</td>\n",
       "      <td>...</td>\n",
       "      <td>...</td>\n",
       "      <td>...</td>\n",
       "      <td>...</td>\n",
       "      <td>...</td>\n",
       "      <td>...</td>\n",
       "    </tr>\n",
       "    <tr>\n",
       "      <th>73568</th>\n",
       "      <td>BMOU</td>\n",
       "      <td>MHAH</td>\n",
       "      <td>KR</td>\n",
       "      <td>PUS</td>\n",
       "      <td>F</td>\n",
       "      <td>3B</td>\n",
       "      <td>87</td>\n",
       "      <td>TC226</td>\n",
       "      <td>YT540</td>\n",
       "      <td>GC111</td>\n",
       "      <td>...</td>\n",
       "      <td>T/S Local</td>\n",
       "      <td>자부두</td>\n",
       "      <td>0.1</td>\n",
       "      <td>44.3</td>\n",
       "      <td>0</td>\n",
       "      <td>1.9</td>\n",
       "      <td>0.0</td>\n",
       "      <td>Saturday</td>\n",
       "      <td>15</td>\n",
       "      <td>13.666667</td>\n",
       "    </tr>\n",
       "    <tr>\n",
       "      <th>73569</th>\n",
       "      <td>BMOU</td>\n",
       "      <td>MAUO</td>\n",
       "      <td>KR</td>\n",
       "      <td>PUS</td>\n",
       "      <td>F</td>\n",
       "      <td>1B</td>\n",
       "      <td>87</td>\n",
       "      <td>TC222</td>\n",
       "      <td>YT552</td>\n",
       "      <td>GC111</td>\n",
       "      <td>...</td>\n",
       "      <td>T/S Local</td>\n",
       "      <td>자부두</td>\n",
       "      <td>-2.4</td>\n",
       "      <td>41.0</td>\n",
       "      <td>0</td>\n",
       "      <td>0.6</td>\n",
       "      <td>0.0</td>\n",
       "      <td>Saturday</td>\n",
       "      <td>50</td>\n",
       "      <td>17.250000</td>\n",
       "    </tr>\n",
       "    <tr>\n",
       "      <th>73570</th>\n",
       "      <td>BMOU</td>\n",
       "      <td>MAUO</td>\n",
       "      <td>KR</td>\n",
       "      <td>PUS</td>\n",
       "      <td>F</td>\n",
       "      <td>2B</td>\n",
       "      <td>83</td>\n",
       "      <td>TC224</td>\n",
       "      <td>YT560</td>\n",
       "      <td>GC112</td>\n",
       "      <td>...</td>\n",
       "      <td>T/S Local</td>\n",
       "      <td>자부두</td>\n",
       "      <td>-3.2</td>\n",
       "      <td>50.5</td>\n",
       "      <td>0</td>\n",
       "      <td>0.6</td>\n",
       "      <td>0.0</td>\n",
       "      <td>Saturday</td>\n",
       "      <td>37</td>\n",
       "      <td>19.016667</td>\n",
       "    </tr>\n",
       "    <tr>\n",
       "      <th>73571</th>\n",
       "      <td>BMOU</td>\n",
       "      <td>MAUO</td>\n",
       "      <td>KR</td>\n",
       "      <td>PUS</td>\n",
       "      <td>F</td>\n",
       "      <td>3B</td>\n",
       "      <td>87</td>\n",
       "      <td>TC226</td>\n",
       "      <td>YT588</td>\n",
       "      <td>GC109</td>\n",
       "      <td>...</td>\n",
       "      <td>T/S Local</td>\n",
       "      <td>자부두</td>\n",
       "      <td>-3.2</td>\n",
       "      <td>50.5</td>\n",
       "      <td>0</td>\n",
       "      <td>0.6</td>\n",
       "      <td>0.0</td>\n",
       "      <td>Saturday</td>\n",
       "      <td>42</td>\n",
       "      <td>11.700000</td>\n",
       "    </tr>\n",
       "    <tr>\n",
       "      <th>73572</th>\n",
       "      <td>BEAU</td>\n",
       "      <td>MAUO</td>\n",
       "      <td>KR</td>\n",
       "      <td>PUS</td>\n",
       "      <td>F</td>\n",
       "      <td>2B</td>\n",
       "      <td>19</td>\n",
       "      <td>TC223</td>\n",
       "      <td>YT586</td>\n",
       "      <td>GC111</td>\n",
       "      <td>...</td>\n",
       "      <td>T/S Local</td>\n",
       "      <td>자부두</td>\n",
       "      <td>4.4</td>\n",
       "      <td>20.0</td>\n",
       "      <td>0</td>\n",
       "      <td>1.4</td>\n",
       "      <td>0.0</td>\n",
       "      <td>Saturday</td>\n",
       "      <td>23</td>\n",
       "      <td>11.050000</td>\n",
       "    </tr>\n",
       "  </tbody>\n",
       "</table>\n",
       "<p>73573 rows × 31 columns</p>\n",
       "</div>"
      ],
      "text/plain": [
       "      CONTAINER_NO VESSEL_ID COUNTRY_POD CITY_POD Full/Empty BLOCK BAY  YC_ID  \\\n",
       "0             UESU      SXNW          KR      PUS          F    2B  74  TC224   \n",
       "1             UESU      SXNW          KR      PUS          F    1C  10  TC231   \n",
       "2             TRLU      SXNW          KR      PUS          F    1F  40  TC261   \n",
       "3             TNZU      SXNW          KR      PUS          F    2C  98  TC234   \n",
       "4             TGHU      SXNW          KR      PUS          F    1F  80  TC262   \n",
       "...            ...       ...         ...      ...        ...   ...  ..    ...   \n",
       "73568         BMOU      MHAH          KR      PUS          F    3B  87  TC226   \n",
       "73569         BMOU      MAUO          KR      PUS          F    1B  87  TC222   \n",
       "73570         BMOU      MAUO          KR      PUS          F    2B  83  TC224   \n",
       "73571         BMOU      MAUO          KR      PUS          F    3B  87  TC226   \n",
       "73572         BEAU      MAUO          KR      PUS          F    2B  19  TC223   \n",
       "\n",
       "       YT_ID  QC_ID  ...  IMPORT/EXPORT  T/S  TEMPERATURE  HUMIDITY  RAIN  \\\n",
       "0      YT529  GC110  ...      T/S Local  자부두         -1.9      30.7     0   \n",
       "1      YT526  GC109  ...     T/S Import  타부두         -1.9      30.7     0   \n",
       "2      YT504  GC111  ...     T/S Import  타부두         -1.9      30.7     0   \n",
       "3      YT505  GC112  ...      T/S Local  자부두         -2.6      32.7     0   \n",
       "4      YT527  GC111  ...     T/S Import  타부두         -1.1      28.5     0   \n",
       "...      ...    ...  ...            ...  ...          ...       ...   ...   \n",
       "73568  YT540  GC111  ...      T/S Local  자부두          0.1      44.3     0   \n",
       "73569  YT552  GC111  ...      T/S Local  자부두         -2.4      41.0     0   \n",
       "73570  YT560  GC112  ...      T/S Local  자부두         -3.2      50.5     0   \n",
       "73571  YT588  GC109  ...      T/S Local  자부두         -3.2      50.5     0   \n",
       "73572  YT586  GC111  ...      T/S Local  자부두          4.4      20.0     0   \n",
       "\n",
       "       WIND_SPEED  PRECIPITATION       DAY TRUCK IN PROCESS Moving Time  \n",
       "0             2.4            0.0    Monday               60   15.066667  \n",
       "1             2.4            0.0    Monday               55   15.400000  \n",
       "2             2.4            0.0    Monday               49   14.916667  \n",
       "3             2.4            0.0    Monday               23   11.483333  \n",
       "4             2.3            0.0    Monday               59   17.716667  \n",
       "...           ...            ...       ...              ...         ...  \n",
       "73568         1.9            0.0  Saturday               15   13.666667  \n",
       "73569         0.6            0.0  Saturday               50   17.250000  \n",
       "73570         0.6            0.0  Saturday               37   19.016667  \n",
       "73571         0.6            0.0  Saturday               42   11.700000  \n",
       "73572         1.4            0.0  Saturday               23   11.050000  \n",
       "\n",
       "[73573 rows x 31 columns]"
      ]
     },
     "execution_count": 29,
     "metadata": {},
     "output_type": "execute_result"
    }
   ],
   "source": [
    "from datetime import datetime, timedelta\n",
    "import pandas as pd\n",
    "import numpy as np\n",
    "import os\n",
    "from tqdm import tqdm\n",
    "import matplotlib.pyplot as plt\n",
    "import seaborn as sns\n",
    "cwd = os.getcwd()\n",
    "print('현재 폴더 경로 : ', cwd)\n",
    "# 폴더 위치 변경\n",
    "os.chdir(\"C:\\\\Users\\hyunj\\\\Dropbox\\\\종합설계프로젝트\\\\중요\\\\데이터\\\\\")\n",
    "print('변경 후 폴더 경로 : ', cwd)\n",
    "print('현재 폴더 파일 : ', os.listdir())\n",
    "data = pd.read_csv('Training Case 1.csv', encoding='CP949')\n",
    "print('feature 항목 : ', data.columns)\n",
    "data"
   ]
  },
  {
   "cell_type": "code",
   "execution_count": 30,
   "metadata": {},
   "outputs": [
    {
     "data": {
      "text/plain": [
       "count    73573.000000\n",
       "mean        13.257351\n",
       "std          5.198065\n",
       "min          3.216667\n",
       "25%          9.433333\n",
       "50%         13.416667\n",
       "75%         15.866667\n",
       "max        523.166667\n",
       "Name: Moving Time, dtype: float64"
      ]
     },
     "execution_count": 30,
     "metadata": {},
     "output_type": "execute_result"
    }
   ],
   "source": [
    "data['Moving Time'].describe()"
   ]
  },
  {
   "cell_type": "code",
   "execution_count": 31,
   "metadata": {},
   "outputs": [
    {
     "data": {
      "image/png": "[encoded data removed]",
      "text/plain": [
       "<Figure size 640x480 with 1 Axes>"
      ]
     },
     "metadata": {},
     "output_type": "display_data"
    }
   ],
   "source": [
    "plt.boxplot(data['Moving Time'], sym=\"bo\")\n",
    "plt.title('Before Preprocessing of Outlier')\n",
    "#plt.xticks([1], ['MOving Time'])\n",
    "\n",
    "plt.show()"
   ]
  },
  {
   "cell_type": "code",
   "execution_count": 32,
   "metadata": {},
   "outputs": [
    {
     "data": {
      "text/plain": [
       "<AxesSubplot:ylabel='Moving Time'>"
      ]
     },
     "execution_count": 32,
     "metadata": {},
     "output_type": "execute_result"
    },
    {
     "data": {
      "image/png": "[encoded data removed]",
      "text/plain": [
       "<Figure size 640x480 with 1 Axes>"
      ]
     },
     "metadata": {},
     "output_type": "display_data"
    }
   ],
   "source": [
    "sns.boxplot(data=data, y='Moving Time')\n"
   ]
  },
  {
   "cell_type": "code",
   "execution_count": 33,
   "metadata": {},
   "outputs": [],
   "source": [
    "def get_outlier(df=None, column=None, weight=1.5):\n",
    "    # target 값과 상관관계가 높은 열을 우선적으로 진행\n",
    "    quantile_25 = np.percentile(df[column].values, 25)\n",
    "    quantile_75 = np.percentile(df[column].values, 75)\n",
    "\n",
    "    IQR = quantile_75 - quantile_25\n",
    "    IQR_weight = IQR*weight\n",
    "    \n",
    "    lowest = quantile_25 - IQR_weight\n",
    "    highest = quantile_75 + IQR_weight\n",
    "    \n",
    "    outlier_idx = df[column][ (df[column] < lowest) | (df[column] > highest) ].index\n",
    "    return outlier_idx"
   ]
  },
  {
   "cell_type": "code",
   "execution_count": 34,
   "metadata": {},
   "outputs": [],
   "source": [
    "# 이상치 전처리 \n",
    " \n",
    "outlier_idx = get_outlier(df=data, column='Moving Time', weight=1.5)\n",
    "data.drop(outlier_idx, axis=0, inplace=True)\n"
   ]
  },
  {
   "cell_type": "code",
   "execution_count": 35,
   "metadata": {},
   "outputs": [
    {
     "name": "stdout",
     "output_type": "stream",
     "text": [
      "(72646, 31)\n"
     ]
    }
   ],
   "source": [
    "print(data.shape)"
   ]
  },
  {
   "cell_type": "code",
   "execution_count": 36,
   "metadata": {},
   "outputs": [
    {
     "data": {
      "text/plain": [
       "count    72646.000000\n",
       "mean        12.999237\n",
       "std          4.018751\n",
       "min          3.216667\n",
       "25%          9.400000\n",
       "50%         13.350000\n",
       "75%         15.750000\n",
       "max         25.516667\n",
       "Name: Moving Time, dtype: float64"
      ]
     },
     "execution_count": 36,
     "metadata": {},
     "output_type": "execute_result"
    }
   ],
   "source": [
    "data['Moving Time'].describe()"
   ]
  },
  {
   "cell_type": "code",
   "execution_count": 37,
   "metadata": {},
   "outputs": [
    {
     "data": {
      "image/png": "[encoded data removed]",
      "text/plain": [
       "<Figure size 640x480 with 1 Axes>"
      ]
     },
     "metadata": {},
     "output_type": "display_data"
    }
   ],
   "source": [
    "plt.boxplot(data['Moving Time'], sym=\"bo\")\n",
    "plt.title('After Preprocessing of Outlier')\n",
    "#plt.xticks([1], ['MOving Time'])\n",
    "\n",
    "plt.show()"
   ]
  },
  {
   "cell_type": "code",
   "execution_count": 40,
   "metadata": {},
   "outputs": [
    {
     "name": "stderr",
     "output_type": "stream",
     "text": [
      "c:\\Users\\hyunj\\Anaconda3\\lib\\site-packages\\seaborn\\distributions.py:2619: FutureWarning: `distplot` is a deprecated function and will be removed in a future version. Please adapt your code to use either `displot` (a figure-level function with similar flexibility) or `histplot` (an axes-level function for histograms).\n",
      "  warnings.warn(msg, FutureWarning)\n",
      "c:\\Users\\hyunj\\Anaconda3\\lib\\site-packages\\seaborn\\distributions.py:2103: FutureWarning: The `axis` variable is no longer used and will be removed. Instead, assign variables directly to `x` or `y`.\n",
      "  warnings.warn(msg, FutureWarning)\n"
     ]
    },
    {
     "data": {
      "image/png": "[encoded data removed]",
      "text/plain": [
       "<Figure size 640x480 with 1 Axes>"
      ]
     },
     "metadata": {},
     "output_type": "display_data"
    }
   ],
   "source": [
    "sns.distplot(data['Moving Time'], kde=True, rug=True)\n",
    "plt.title(\"After Preprocessing of Outlier\")\n",
    "plt.show()"
   ]
  }
 ],
 "metadata": {
  "kernelspec": {
   "display_name": "base",
   "language": "python",
   "name": "python3"
  },
  "language_info": {
   "codemirror_mode": {
    "name": "ipython",
    "version": 3
   },
   "file_extension": ".py",
   "mimetype": "text/x-python",
   "name": "python",
   "nbconvert_exporter": "python",
   "pygments_lexer": "ipython3",
   "version": "3.9.13"
  },
  "orig_nbformat": 4
 },
 "nbformat": 4,
 "nbformat_minor": 2
}
