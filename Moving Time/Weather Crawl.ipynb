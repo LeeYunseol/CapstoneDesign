{
 "cells": [
  {
   "attachments": {},
   "cell_type": "markdown",
   "metadata": {},
   "source": [
    "# Import Library"
   ]
  },
  {
   "cell_type": "code",
   "execution_count": 18,
   "metadata": {},
   "outputs": [],
   "source": [
    "import pandas as pd\n",
    "import numpy as np\n",
    "import os\n",
    "from tqdm import tqdm\n",
    "# selenium의 webdriver를 사용하기 위한 import\n",
    "from selenium import webdriver\n",
    "from selenium.webdriver.common.by import By\n",
    "# selenium으로 무엇인가 입력하기 위한 import\n",
    "from selenium.webdriver.common.keys import Keys\n",
    "from selenium.webdriver.support.ui import Select\n",
    "# 페이지 로딩을 기다리는데에 사용할 time 모듈 import\n",
    "import time"
   ]
  },
  {
   "attachments": {},
   "cell_type": "markdown",
   "metadata": {},
   "source": [
    "크롤링 - 날씨 정보"
   ]
  },
  {
   "cell_type": "code",
   "execution_count": 19,
   "metadata": {},
   "outputs": [],
   "source": [
    "# 폴더 경로 변경\n",
    "os.chdir(\"C:\\\\Users\\hyunj\\\\Dropbox\\\\종합설계프로젝트\\\\중요\\\\데이터\\\\\")"
   ]
  },
  {
   "cell_type": "code",
   "execution_count": 29,
   "metadata": {},
   "outputs": [
    {
     "ename": "NoSuchElementException",
     "evalue": "Message: no such element: Unable to locate element: {\"method\":\"css selector\",\"selector\":\"[name=\"db\"]\"}\n  (Session info: chrome=110.0.5481.178)\nStacktrace:\nBacktrace:\n\t(No symbol) [0x00DF37D3]\n\t(No symbol) [0x00D88B81]\n\t(No symbol) [0x00C8B36D]\n\t(No symbol) [0x00CBD382]\n\t(No symbol) [0x00CBD4BB]\n\t(No symbol) [0x00CF3302]\n\t(No symbol) [0x00CDB464]\n\t(No symbol) [0x00CF1215]\n\t(No symbol) [0x00CDB216]\n\t(No symbol) [0x00CB0D97]\n\t(No symbol) [0x00CB253D]\n\tGetHandleVerifier [0x0106ABF2+2510930]\n\tGetHandleVerifier [0x01098EC1+2700065]\n\tGetHandleVerifier [0x0109C86C+2714828]\n\tGetHandleVerifier [0x00EA3480+645344]\n\t(No symbol) [0x00D90FD2]\n\t(No symbol) [0x00D96C68]\n\t(No symbol) [0x00D96D4B]\n\t(No symbol) [0x00DA0D6B]\n\tBaseThreadInitThunk [0x76267D69+25]\n\tRtlInitializeExceptionChain [0x7768BB9B+107]\n\tRtlClearBits [0x7768BB1F+191]\n",
     "output_type": "error",
     "traceback": [
      "\u001b[1;31m---------------------------------------------------------------------------\u001b[0m",
      "\u001b[1;31mNoSuchElementException\u001b[0m                    Traceback (most recent call last)",
      "\u001b[1;32m~\\AppData\\Local\\Temp\\ipykernel_28324\\157066488.py\u001b[0m in \u001b[0;36m<module>\u001b[1;34m\u001b[0m\n\u001b[0;32m     10\u001b[0m \u001b[1;33m\u001b[0m\u001b[0m\n\u001b[0;32m     11\u001b[0m \u001b[1;31m# 시간대 변경 - 60분\u001b[0m\u001b[1;33m\u001b[0m\u001b[1;33m\u001b[0m\u001b[0m\n\u001b[1;32m---> 12\u001b[1;33m \u001b[0mselect_box\u001b[0m \u001b[1;33m=\u001b[0m \u001b[0mSelect\u001b[0m\u001b[1;33m(\u001b[0m\u001b[0mdriver\u001b[0m\u001b[1;33m.\u001b[0m\u001b[0mfind_element\u001b[0m\u001b[1;33m(\u001b[0m\u001b[0mBy\u001b[0m\u001b[1;33m.\u001b[0m\u001b[0mNAME\u001b[0m\u001b[1;33m,\u001b[0m \u001b[1;34m'db'\u001b[0m\u001b[1;33m)\u001b[0m\u001b[1;33m)\u001b[0m\u001b[1;33m\u001b[0m\u001b[1;33m\u001b[0m\u001b[0m\n\u001b[0m\u001b[0;32m     13\u001b[0m \u001b[0mtime\u001b[0m\u001b[1;33m.\u001b[0m\u001b[0msleep\u001b[0m\u001b[1;33m(\u001b[0m\u001b[1;36m1\u001b[0m\u001b[1;33m)\u001b[0m\u001b[1;33m\u001b[0m\u001b[1;33m\u001b[0m\u001b[0m\n\u001b[0;32m     14\u001b[0m \u001b[0mselect_box\u001b[0m\u001b[1;33m.\u001b[0m\u001b[0mselect_by_visible_text\u001b[0m\u001b[1;33m(\u001b[0m\u001b[1;34m'관측:60분간격'\u001b[0m\u001b[1;33m)\u001b[0m\u001b[1;33m\u001b[0m\u001b[1;33m\u001b[0m\u001b[0m\n",
      "\u001b[1;32mc:\\Users\\hyunj\\Anaconda3\\lib\\site-packages\\selenium\\webdriver\\remote\\webdriver.py\u001b[0m in \u001b[0;36mfind_element\u001b[1;34m(self, by, value)\u001b[0m\n\u001b[0;32m    828\u001b[0m             \u001b[0mvalue\u001b[0m \u001b[1;33m=\u001b[0m \u001b[1;34mf'[name=\"{value}\"]'\u001b[0m\u001b[1;33m\u001b[0m\u001b[1;33m\u001b[0m\u001b[0m\n\u001b[0;32m    829\u001b[0m \u001b[1;33m\u001b[0m\u001b[0m\n\u001b[1;32m--> 830\u001b[1;33m         \u001b[1;32mreturn\u001b[0m \u001b[0mself\u001b[0m\u001b[1;33m.\u001b[0m\u001b[0mexecute\u001b[0m\u001b[1;33m(\u001b[0m\u001b[0mCommand\u001b[0m\u001b[1;33m.\u001b[0m\u001b[0mFIND_ELEMENT\u001b[0m\u001b[1;33m,\u001b[0m \u001b[1;33m{\u001b[0m\u001b[1;34m\"using\"\u001b[0m\u001b[1;33m:\u001b[0m \u001b[0mby\u001b[0m\u001b[1;33m,\u001b[0m \u001b[1;34m\"value\"\u001b[0m\u001b[1;33m:\u001b[0m \u001b[0mvalue\u001b[0m\u001b[1;33m}\u001b[0m\u001b[1;33m)\u001b[0m\u001b[1;33m[\u001b[0m\u001b[1;34m\"value\"\u001b[0m\u001b[1;33m]\u001b[0m\u001b[1;33m\u001b[0m\u001b[1;33m\u001b[0m\u001b[0m\n\u001b[0m\u001b[0;32m    831\u001b[0m \u001b[1;33m\u001b[0m\u001b[0m\n\u001b[0;32m    832\u001b[0m     \u001b[1;32mdef\u001b[0m \u001b[0mfind_elements\u001b[0m\u001b[1;33m(\u001b[0m\u001b[0mself\u001b[0m\u001b[1;33m,\u001b[0m \u001b[0mby\u001b[0m\u001b[1;33m=\u001b[0m\u001b[0mBy\u001b[0m\u001b[1;33m.\u001b[0m\u001b[0mID\u001b[0m\u001b[1;33m,\u001b[0m \u001b[0mvalue\u001b[0m\u001b[1;33m:\u001b[0m \u001b[0mOptional\u001b[0m\u001b[1;33m[\u001b[0m\u001b[0mstr\u001b[0m\u001b[1;33m]\u001b[0m \u001b[1;33m=\u001b[0m \u001b[1;32mNone\u001b[0m\u001b[1;33m)\u001b[0m \u001b[1;33m->\u001b[0m \u001b[0mList\u001b[0m\u001b[1;33m[\u001b[0m\u001b[0mWebElement\u001b[0m\u001b[1;33m]\u001b[0m\u001b[1;33m:\u001b[0m\u001b[1;33m\u001b[0m\u001b[1;33m\u001b[0m\u001b[0m\n",
      "\u001b[1;32mc:\\Users\\hyunj\\Anaconda3\\lib\\site-packages\\selenium\\webdriver\\remote\\webdriver.py\u001b[0m in \u001b[0;36mexecute\u001b[1;34m(self, driver_command, params)\u001b[0m\n\u001b[0;32m    438\u001b[0m         \u001b[0mresponse\u001b[0m \u001b[1;33m=\u001b[0m \u001b[0mself\u001b[0m\u001b[1;33m.\u001b[0m\u001b[0mcommand_executor\u001b[0m\u001b[1;33m.\u001b[0m\u001b[0mexecute\u001b[0m\u001b[1;33m(\u001b[0m\u001b[0mdriver_command\u001b[0m\u001b[1;33m,\u001b[0m \u001b[0mparams\u001b[0m\u001b[1;33m)\u001b[0m\u001b[1;33m\u001b[0m\u001b[1;33m\u001b[0m\u001b[0m\n\u001b[0;32m    439\u001b[0m         \u001b[1;32mif\u001b[0m \u001b[0mresponse\u001b[0m\u001b[1;33m:\u001b[0m\u001b[1;33m\u001b[0m\u001b[1;33m\u001b[0m\u001b[0m\n\u001b[1;32m--> 440\u001b[1;33m             \u001b[0mself\u001b[0m\u001b[1;33m.\u001b[0m\u001b[0merror_handler\u001b[0m\u001b[1;33m.\u001b[0m\u001b[0mcheck_response\u001b[0m\u001b[1;33m(\u001b[0m\u001b[0mresponse\u001b[0m\u001b[1;33m)\u001b[0m\u001b[1;33m\u001b[0m\u001b[1;33m\u001b[0m\u001b[0m\n\u001b[0m\u001b[0;32m    441\u001b[0m             \u001b[0mresponse\u001b[0m\u001b[1;33m[\u001b[0m\u001b[1;34m\"value\"\u001b[0m\u001b[1;33m]\u001b[0m \u001b[1;33m=\u001b[0m \u001b[0mself\u001b[0m\u001b[1;33m.\u001b[0m\u001b[0m_unwrap_value\u001b[0m\u001b[1;33m(\u001b[0m\u001b[0mresponse\u001b[0m\u001b[1;33m.\u001b[0m\u001b[0mget\u001b[0m\u001b[1;33m(\u001b[0m\u001b[1;34m\"value\"\u001b[0m\u001b[1;33m,\u001b[0m \u001b[1;32mNone\u001b[0m\u001b[1;33m)\u001b[0m\u001b[1;33m)\u001b[0m\u001b[1;33m\u001b[0m\u001b[1;33m\u001b[0m\u001b[0m\n\u001b[0;32m    442\u001b[0m             \u001b[1;32mreturn\u001b[0m \u001b[0mresponse\u001b[0m\u001b[1;33m\u001b[0m\u001b[1;33m\u001b[0m\u001b[0m\n",
      "\u001b[1;32mc:\\Users\\hyunj\\Anaconda3\\lib\\site-packages\\selenium\\webdriver\\remote\\errorhandler.py\u001b[0m in \u001b[0;36mcheck_response\u001b[1;34m(self, response)\u001b[0m\n\u001b[0;32m    243\u001b[0m                 \u001b[0malert_text\u001b[0m \u001b[1;33m=\u001b[0m \u001b[0mvalue\u001b[0m\u001b[1;33m[\u001b[0m\u001b[1;34m\"alert\"\u001b[0m\u001b[1;33m]\u001b[0m\u001b[1;33m.\u001b[0m\u001b[0mget\u001b[0m\u001b[1;33m(\u001b[0m\u001b[1;34m\"text\"\u001b[0m\u001b[1;33m)\u001b[0m\u001b[1;33m\u001b[0m\u001b[1;33m\u001b[0m\u001b[0m\n\u001b[0;32m    244\u001b[0m             \u001b[1;32mraise\u001b[0m \u001b[0mexception_class\u001b[0m\u001b[1;33m(\u001b[0m\u001b[0mmessage\u001b[0m\u001b[1;33m,\u001b[0m \u001b[0mscreen\u001b[0m\u001b[1;33m,\u001b[0m \u001b[0mstacktrace\u001b[0m\u001b[1;33m,\u001b[0m \u001b[0malert_text\u001b[0m\u001b[1;33m)\u001b[0m  \u001b[1;31m# type: ignore[call-arg]  # mypy is not smart enough here\u001b[0m\u001b[1;33m\u001b[0m\u001b[1;33m\u001b[0m\u001b[0m\n\u001b[1;32m--> 245\u001b[1;33m         \u001b[1;32mraise\u001b[0m \u001b[0mexception_class\u001b[0m\u001b[1;33m(\u001b[0m\u001b[0mmessage\u001b[0m\u001b[1;33m,\u001b[0m \u001b[0mscreen\u001b[0m\u001b[1;33m,\u001b[0m \u001b[0mstacktrace\u001b[0m\u001b[1;33m)\u001b[0m\u001b[1;33m\u001b[0m\u001b[1;33m\u001b[0m\u001b[0m\n\u001b[0m",
      "\u001b[1;31mNoSuchElementException\u001b[0m: Message: no such element: Unable to locate element: {\"method\":\"css selector\",\"selector\":\"[name=\"db\"]\"}\n  (Session info: chrome=110.0.5481.178)\nStacktrace:\nBacktrace:\n\t(No symbol) [0x00DF37D3]\n\t(No symbol) [0x00D88B81]\n\t(No symbol) [0x00C8B36D]\n\t(No symbol) [0x00CBD382]\n\t(No symbol) [0x00CBD4BB]\n\t(No symbol) [0x00CF3302]\n\t(No symbol) [0x00CDB464]\n\t(No symbol) [0x00CF1215]\n\t(No symbol) [0x00CDB216]\n\t(No symbol) [0x00CB0D97]\n\t(No symbol) [0x00CB253D]\n\tGetHandleVerifier [0x0106ABF2+2510930]\n\tGetHandleVerifier [0x01098EC1+2700065]\n\tGetHandleVerifier [0x0109C86C+2714828]\n\tGetHandleVerifier [0x00EA3480+645344]\n\t(No symbol) [0x00D90FD2]\n\t(No symbol) [0x00D96C68]\n\t(No symbol) [0x00D96D4B]\n\t(No symbol) [0x00DA0D6B]\n\tBaseThreadInitThunk [0x76267D69+25]\n\tRtlInitializeExceptionChain [0x7768BB9B+107]\n\tRtlClearBits [0x7768BB1F+191]\n"
     ]
    }
   ],
   "source": [
    "from selenium import webdriver\n",
    "from selenium.webdriver.chrome.service import Service\n",
    "from webdriver_manager.chrome import ChromeDriverManager\n",
    "\n",
    "# 기상청 홈페이지에서 진해구 1시간씩 날씨 크롤링\n",
    "\n",
    "driver = webdriver.Chrome(service=Service(ChromeDriverManager().install()))\n",
    "driver.get('https://www.weather.go.kr/plus/land/current/aws_table_popup.jsp')\n",
    "time.sleep(1)\n",
    "\n",
    "# 시간대 변경 - 60분\n",
    "select_box = Select(driver.find_element(By.NAME, 'db'))\n",
    "time.sleep(1)\n",
    "select_box.select_by_visible_text('관측:60분간격')\n",
    "driver.find_element(By.XPATH, '//*[@id=\"frm\"]/fieldset/input[1]').click()\n",
    "\n",
    "# 창원 지역으로 클릭\n",
    "driver.find_element(By.XPATH, '//*[@id=\"s155\"]').click()\n",
    "\n",
    "\n",
    "for container, vessel in tqdm(container_vessel_dic.items(), desc=\"크롤링 중~\") :\n",
    "    # 전체 동작은 컨테이너 번호 입력 -> 조회 버튼 클릭 -> 해당 VESSEL 클릭 -> 조회 버튼을 클릭하지 않아도 값이 바\n",
    "    \n",
    "    container_temp = container[:-2]\n",
    "    container_search_box = driver.find_element(By.XPATH, '//*[@id=\"txtCntrNo\"]')\n",
    "    container_search_box.send_keys(container_temp)\n",
    "    # container_search_box.send_keys(Keys.RETURN)\n",
    "    \n",
    "    # 조회 버튼 클릭\n",
    "    driver.find_element(By.XPATH, '//*[@id=\"btnSearch\"]').click()\n",
    "    \n",
    "    # Vessel 입력\n",
    "    select_box = Select(driver.find_element(By.XPATH, '//*[@id=\"selVesselVoyage\"]'))\n",
    "    time.sleep(0.2) # 안 쉬어주면 오류 발생\n",
    "    \n",
    "    # 우리 데이터에는 있지만 홈페이지에는 없는 경우가 있음 이에 대해서는 패스해서 계속 크롤링을 하게 하였\n",
    "    try :\n",
    "        select_box.select_by_visible_text(vessel)\n",
    "        # 검색어 초기화\n",
    "        container_search_box.clear()\n",
    "        # 값 추출\n",
    "        size = driver.find_element(By.XPATH, '//*[@id=\"tblDetail\"]/tbody/tr[4]/td[2]').text\n",
    "        weight = driver.find_element(By.XPATH, '//*[@id=\"tblDetail\"]/tbody/tr[5]/td[4]').text\n",
    "        freeze = driver.find_element(By.XPATH, '//*[@id=\"tblDetail\"]/tbody/tr[7]/td[2]').text\n",
    "        imdg = driver.find_element(By.XPATH, '//*[@id=\"tblDetail\"]/tbody/tr[6]/td[2]').text\n",
    "        unno = driver.find_element(By.XPATH, '//*[@id=\"tblDetail\"]/tbody/tr[6]/td[4]').text\n",
    "        \n",
    "        company = driver.find_element(By.XPATH, '//*[@id=\"tblDetail\"]/tbody/tr[4]/td[4]').text\n",
    "        import_or_export = driver.find_element(By.XPATH, '//*[@id=\"tblDetail\"]/tbody/tr[3]/td[4]').text\n",
    "        cargo_managemnet_no = driver.find_element(By.XPATH, '//*[@id=\"tblDetail\"]/tbody/tr[12]/td[2]').text\n",
    "        seal_no = driver.find_element(By.XPATH, '//*[@id=\"tblDetail\"]/tbody/tr[9]/td[2]').text\n",
    "        t_s = driver.find_element(By.XPATH, '//*[@id=\"tblDetail\"]/tbody/tr[5]/td[2]').text\n",
    "        \n",
    "        # 값 입력\n",
    "        #! 너무 많은 시간 복잡도\n",
    "        # indexs = data.index[(data['Container ID'] == container)]\n",
    "        # for index in indexs :\n",
    "        index = data.index[(data['CONTAINER_NO'] == container)]\n",
    "        data.loc[index, \"SIZE\"] = size\n",
    "        data.loc[index, 'WEIGHT'] = weight\n",
    "        data.loc[index, 'FREEZE'] = freeze\n",
    "        data.loc[index, 'IMDG'] = imdg\n",
    "        data.loc[index, 'UNNO'] = unno\n",
    "        data.loc[index, \"COMPANY\"] = company\n",
    "        data.loc[index, \"IMPORT/EXPORT\"] = import_or_export\n",
    "        data.loc[index, \"CARGO MANAGEMENT NUMBER\"] = cargo_managemnet_no\n",
    "        data.loc[index, \"SEAL NUMBER\"] = seal_no\n",
    "        data.loc[index, \"T/S\"] = t_s\n",
    "        \n",
    "    except :\n",
    "        exception_number += 1\n",
    "        exception_number_list.append(container)\n",
    "        container_search_box.clear()"
   ]
  }
 ],
 "metadata": {
  "kernelspec": {
   "display_name": "base",
   "language": "python",
   "name": "python3"
  },
  "language_info": {
   "codemirror_mode": {
    "name": "ipython",
    "version": 3
   },
   "file_extension": ".py",
   "mimetype": "text/x-python",
   "name": "python",
   "nbconvert_exporter": "python",
   "pygments_lexer": "ipython3",
   "version": "3.9.13"
  },
  "orig_nbformat": 4
 },
 "nbformat": 4,
 "nbformat_minor": 2
}
