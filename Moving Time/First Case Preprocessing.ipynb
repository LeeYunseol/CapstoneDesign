{
 "cells": [
  {
   "attachments": {},
   "cell_type": "markdown",
   "metadata": {},
   "source": [
    "# 순수 DS만 전처리 - DS-MOVE ~ DS-YARSIDE"
   ]
  },
  {
   "cell_type": "code",
   "execution_count": 14,
   "metadata": {},
   "outputs": [
    {
     "name": "stdout",
     "output_type": "stream",
     "text": [
      "현재 폴더 경로 :  C:\\Users\\hyunj\\Dropbox\\종합설계프로젝트\\중요\\데이터\n",
      "변경 후 폴더 경로 :  C:\\Users\\hyunj\\Dropbox\\종합설계프로젝트\\중요\\데이터\n",
      "현재 폴더 파일 :  ['Block perspective.csv', 'CHE I perspective.csv', 'CHE II perspective.csv', 'Container Data.csv', 'Container DS Data.csv', 'Container DS perspective.csv', 'Container LD perspective.csv', 'Container perspective.csv', 'Crawling DS Container.csv', 'Data.csv', 'DS.csv', 'DStoLD.csv', 'Dwell Time', 'Gate perspective.csv', 'GI perspective.csv', 'GO perspective.csv', 'ITV perspective.csv', 'LD.csv', 'Outlier DS.csv', 'Outlier LD.csv', 'QC perspective.csv', 'Vessel perspective.csv', 'Weather.csv', '이상치.csv']\n",
      "feature 항목 :  Index(['Unnamed: 0', 'VESSEL', 'CONTAINER_NO', 'MCHN_ID', 'MCHN_TP_CD',\n",
      "       'FULL_EMPTY', 'JOB_TYPE', 'POD', 'BLOCK_BAY', 'JOB_START_DT',\n",
      "       'JOB_END_DT'],\n",
      "      dtype='object')\n"
     ]
    },
    {
     "data": {
      "text/html": [
       "<div>\n",
       "<style scoped>\n",
       "    .dataframe tbody tr th:only-of-type {\n",
       "        vertical-align: middle;\n",
       "    }\n",
       "\n",
       "    .dataframe tbody tr th {\n",
       "        vertical-align: top;\n",
       "    }\n",
       "\n",
       "    .dataframe thead th {\n",
       "        text-align: right;\n",
       "    }\n",
       "</style>\n",
       "<table border=\"1\" class=\"dataframe\">\n",
       "  <thead>\n",
       "    <tr style=\"text-align: right;\">\n",
       "      <th></th>\n",
       "      <th>Unnamed: 0</th>\n",
       "      <th>VESSEL</th>\n",
       "      <th>CONTAINER_NO</th>\n",
       "      <th>MCHN_ID</th>\n",
       "      <th>MCHN_TP_CD</th>\n",
       "      <th>FULL_EMPTY</th>\n",
       "      <th>JOB_TYPE</th>\n",
       "      <th>POD</th>\n",
       "      <th>BLOCK_BAY</th>\n",
       "      <th>JOB_START_DT</th>\n",
       "      <th>JOB_END_DT</th>\n",
       "    </tr>\n",
       "  </thead>\n",
       "  <tbody>\n",
       "    <tr>\n",
       "      <th>0</th>\n",
       "      <td>1</td>\n",
       "      <td>ALAP-001/2018</td>\n",
       "      <td>AXIU1484082-2</td>\n",
       "      <td>GC112</td>\n",
       "      <td>QC</td>\n",
       "      <td>F</td>\n",
       "      <td>DS-QUAYSIDE</td>\n",
       "      <td>KRPUS</td>\n",
       "      <td>1B-38</td>\n",
       "      <td>20180131211752</td>\n",
       "      <td>20180131211924</td>\n",
       "    </tr>\n",
       "    <tr>\n",
       "      <th>1</th>\n",
       "      <td>2</td>\n",
       "      <td>ALAP-001/2018</td>\n",
       "      <td>AXIU1484082-2</td>\n",
       "      <td>TC221</td>\n",
       "      <td>TC</td>\n",
       "      <td>F</td>\n",
       "      <td>DS-YARDSIDE</td>\n",
       "      <td>KRPUS</td>\n",
       "      <td>1B-38</td>\n",
       "      <td>20180131213633</td>\n",
       "      <td>20180131213805</td>\n",
       "    </tr>\n",
       "    <tr>\n",
       "      <th>2</th>\n",
       "      <td>3</td>\n",
       "      <td>ALAP-001/2018</td>\n",
       "      <td>AXIU1484082-2</td>\n",
       "      <td>YT511</td>\n",
       "      <td>YT</td>\n",
       "      <td>F</td>\n",
       "      <td>DS-MOVE</td>\n",
       "      <td>KRPUS</td>\n",
       "      <td>1B-38</td>\n",
       "      <td>20180131211924</td>\n",
       "      <td>20180131213633</td>\n",
       "    </tr>\n",
       "    <tr>\n",
       "      <th>3</th>\n",
       "      <td>7</td>\n",
       "      <td>ALAP-001/2018</td>\n",
       "      <td>BGBU5060490-3</td>\n",
       "      <td>GC109</td>\n",
       "      <td>QC</td>\n",
       "      <td>F</td>\n",
       "      <td>DS-QUAYSIDE</td>\n",
       "      <td>KRPUS</td>\n",
       "      <td>3F-69</td>\n",
       "      <td>20180131205748</td>\n",
       "      <td>20180131205920</td>\n",
       "    </tr>\n",
       "    <tr>\n",
       "      <th>4</th>\n",
       "      <td>8</td>\n",
       "      <td>ALAP-001/2018</td>\n",
       "      <td>BGBU5060490-3</td>\n",
       "      <td>TC266</td>\n",
       "      <td>TC</td>\n",
       "      <td>F</td>\n",
       "      <td>DS-YARDSIDE</td>\n",
       "      <td>KRPUS</td>\n",
       "      <td>3F-69</td>\n",
       "      <td>20180131211132</td>\n",
       "      <td>20180131211304</td>\n",
       "    </tr>\n",
       "    <tr>\n",
       "      <th>...</th>\n",
       "      <td>...</td>\n",
       "      <td>...</td>\n",
       "      <td>...</td>\n",
       "      <td>...</td>\n",
       "      <td>...</td>\n",
       "      <td>...</td>\n",
       "      <td>...</td>\n",
       "      <td>...</td>\n",
       "      <td>...</td>\n",
       "      <td>...</td>\n",
       "      <td>...</td>\n",
       "    </tr>\n",
       "    <tr>\n",
       "      <th>223759</th>\n",
       "      <td>424301</td>\n",
       "      <td>SXNW-001/2018</td>\n",
       "      <td>UESU4153686-1</td>\n",
       "      <td>TC231</td>\n",
       "      <td>TC</td>\n",
       "      <td>F</td>\n",
       "      <td>DS-YARDSIDE</td>\n",
       "      <td>KRPUS</td>\n",
       "      <td>1C-10</td>\n",
       "      <td>20180129203032</td>\n",
       "      <td>20180129203204</td>\n",
       "    </tr>\n",
       "    <tr>\n",
       "      <th>223760</th>\n",
       "      <td>424302</td>\n",
       "      <td>SXNW-001/2018</td>\n",
       "      <td>UESU4153686-1</td>\n",
       "      <td>YT526</td>\n",
       "      <td>YT</td>\n",
       "      <td>F</td>\n",
       "      <td>DS-MOVE</td>\n",
       "      <td>KRPUS</td>\n",
       "      <td>1C-10</td>\n",
       "      <td>20180129201812</td>\n",
       "      <td>20180129203032</td>\n",
       "    </tr>\n",
       "    <tr>\n",
       "      <th>223761</th>\n",
       "      <td>424303</td>\n",
       "      <td>SXNW-001/2018</td>\n",
       "      <td>UESU4586161-1</td>\n",
       "      <td>GC110</td>\n",
       "      <td>QC</td>\n",
       "      <td>F</td>\n",
       "      <td>DS-QUAYSIDE</td>\n",
       "      <td>KRPUS</td>\n",
       "      <td>2B-74</td>\n",
       "      <td>20180129201945</td>\n",
       "      <td>20180129202117</td>\n",
       "    </tr>\n",
       "    <tr>\n",
       "      <th>223762</th>\n",
       "      <td>424304</td>\n",
       "      <td>SXNW-001/2018</td>\n",
       "      <td>UESU4586161-1</td>\n",
       "      <td>TC224</td>\n",
       "      <td>TC</td>\n",
       "      <td>F</td>\n",
       "      <td>DS-YARDSIDE</td>\n",
       "      <td>KRPUS</td>\n",
       "      <td>2B-74</td>\n",
       "      <td>20180129203317</td>\n",
       "      <td>20180129203449</td>\n",
       "    </tr>\n",
       "    <tr>\n",
       "      <th>223763</th>\n",
       "      <td>424305</td>\n",
       "      <td>SXNW-001/2018</td>\n",
       "      <td>UESU4586161-1</td>\n",
       "      <td>YT529</td>\n",
       "      <td>YT</td>\n",
       "      <td>F</td>\n",
       "      <td>DS-MOVE</td>\n",
       "      <td>KRPUS</td>\n",
       "      <td>2B-74</td>\n",
       "      <td>20180129202117</td>\n",
       "      <td>20180129203317</td>\n",
       "    </tr>\n",
       "  </tbody>\n",
       "</table>\n",
       "<p>223764 rows × 11 columns</p>\n",
       "</div>"
      ],
      "text/plain": [
       "        Unnamed: 0         VESSEL   CONTAINER_NO MCHN_ID MCHN_TP_CD  \\\n",
       "0                1  ALAP-001/2018  AXIU1484082-2   GC112         QC   \n",
       "1                2  ALAP-001/2018  AXIU1484082-2   TC221         TC   \n",
       "2                3  ALAP-001/2018  AXIU1484082-2   YT511         YT   \n",
       "3                7  ALAP-001/2018  BGBU5060490-3   GC109         QC   \n",
       "4                8  ALAP-001/2018  BGBU5060490-3   TC266         TC   \n",
       "...            ...            ...            ...     ...        ...   \n",
       "223759      424301  SXNW-001/2018  UESU4153686-1   TC231         TC   \n",
       "223760      424302  SXNW-001/2018  UESU4153686-1   YT526         YT   \n",
       "223761      424303  SXNW-001/2018  UESU4586161-1   GC110         QC   \n",
       "223762      424304  SXNW-001/2018  UESU4586161-1   TC224         TC   \n",
       "223763      424305  SXNW-001/2018  UESU4586161-1   YT529         YT   \n",
       "\n",
       "       FULL_EMPTY     JOB_TYPE    POD BLOCK_BAY    JOB_START_DT  \\\n",
       "0               F  DS-QUAYSIDE  KRPUS     1B-38  20180131211752   \n",
       "1               F  DS-YARDSIDE  KRPUS     1B-38  20180131213633   \n",
       "2               F      DS-MOVE  KRPUS     1B-38  20180131211924   \n",
       "3               F  DS-QUAYSIDE  KRPUS     3F-69  20180131205748   \n",
       "4               F  DS-YARDSIDE  KRPUS     3F-69  20180131211132   \n",
       "...           ...          ...    ...       ...             ...   \n",
       "223759          F  DS-YARDSIDE  KRPUS     1C-10  20180129203032   \n",
       "223760          F      DS-MOVE  KRPUS     1C-10  20180129201812   \n",
       "223761          F  DS-QUAYSIDE  KRPUS     2B-74  20180129201945   \n",
       "223762          F  DS-YARDSIDE  KRPUS     2B-74  20180129203317   \n",
       "223763          F      DS-MOVE  KRPUS     2B-74  20180129202117   \n",
       "\n",
       "            JOB_END_DT  \n",
       "0       20180131211924  \n",
       "1       20180131213805  \n",
       "2       20180131213633  \n",
       "3       20180131205920  \n",
       "4       20180131211304  \n",
       "...                ...  \n",
       "223759  20180129203204  \n",
       "223760  20180129203032  \n",
       "223761  20180129202117  \n",
       "223762  20180129203449  \n",
       "223763  20180129203317  \n",
       "\n",
       "[223764 rows x 11 columns]"
      ]
     },
     "execution_count": 14,
     "metadata": {},
     "output_type": "execute_result"
    }
   ],
   "source": [
    "import pandas as pd\n",
    "import numpy as np\n",
    "import os\n",
    "from tqdm import tqdm\n",
    "from datetime import datetime, timedelta\n",
    "cwd = os.getcwd()\n",
    "print('현재 폴더 경로 : ', cwd)\n",
    "# 폴더 위치 변경\n",
    "os.chdir(\"C:\\\\Users\\hyunj\\\\Dropbox\\\\종합설계프로젝트\\\\중요\\\\데이터\\\\\")\n",
    "print('변경 후 폴더 경로 : ', cwd)\n",
    "print('현재 폴더 파일 : ', os.listdir())\n",
    "data = pd.read_csv('Container DS perspective.csv')\n",
    "print('feature 항목 : ', data.columns)\n",
    "data"
   ]
  },
  {
   "cell_type": "code",
   "execution_count": 2,
   "metadata": {},
   "outputs": [
    {
     "name": "stdout",
     "output_type": "stream",
     "text": [
      "74553\n"
     ]
    }
   ],
   "source": [
    "# 이상치 데이터 걸려내기\n",
    "outlier_ds = pd.read_csv('Outlier DS.csv', encoding= 'CP949')\n",
    "oulier_list = list(outlier_ds['Case ID'].unique())\n",
    "\n",
    "data = data[~data['CONTAINER_NO'].isin(oulier_list)]\n",
    "print(len(data['CONTAINER_NO'].unique()))"
   ]
  },
  {
   "cell_type": "markdown",
   "metadata": {},
   "source": [
    "이제야 비로소 74533개!!!!"
   ]
  },
  {
   "cell_type": "code",
   "execution_count": 3,
   "metadata": {},
   "outputs": [
    {
     "name": "stderr",
     "output_type": "stream",
     "text": [
      "C:\\Users\\hyunj\\AppData\\Local\\Temp\\ipykernel_23176\\1036344252.py:2: SettingWithCopyWarning: \n",
      "A value is trying to be set on a copy of a slice from a DataFrame.\n",
      "Try using .loc[row_indexer,col_indexer] = value instead\n",
      "\n",
      "See the caveats in the documentation: https://pandas.pydata.org/pandas-docs/stable/user_guide/indexing.html#returning-a-view-versus-a-copy\n",
      "  data['JOB_START_DT'] = data['JOB_START_DT'].astype('str')\n",
      "C:\\Users\\hyunj\\AppData\\Local\\Temp\\ipykernel_23176\\1036344252.py:3: SettingWithCopyWarning: \n",
      "A value is trying to be set on a copy of a slice from a DataFrame.\n",
      "Try using .loc[row_indexer,col_indexer] = value instead\n",
      "\n",
      "See the caveats in the documentation: https://pandas.pydata.org/pandas-docs/stable/user_guide/indexing.html#returning-a-view-versus-a-copy\n",
      "  data['JOB_END_DT'] = data['JOB_END_DT'].astype('str')\n",
      "C:\\Users\\hyunj\\AppData\\Local\\Temp\\ipykernel_23176\\1036344252.py:5: SettingWithCopyWarning: \n",
      "A value is trying to be set on a copy of a slice from a DataFrame.\n",
      "Try using .loc[row_indexer,col_indexer] = value instead\n",
      "\n",
      "See the caveats in the documentation: https://pandas.pydata.org/pandas-docs/stable/user_guide/indexing.html#returning-a-view-versus-a-copy\n",
      "  data['JOB_START_DT'] = pd.to_datetime(data['JOB_START_DT'])\n",
      "C:\\Users\\hyunj\\AppData\\Local\\Temp\\ipykernel_23176\\1036344252.py:6: SettingWithCopyWarning: \n",
      "A value is trying to be set on a copy of a slice from a DataFrame.\n",
      "Try using .loc[row_indexer,col_indexer] = value instead\n",
      "\n",
      "See the caveats in the documentation: https://pandas.pydata.org/pandas-docs/stable/user_guide/indexing.html#returning-a-view-versus-a-copy\n",
      "  data['JOB_END_DT'] = pd.to_datetime(data['JOB_END_DT'])\n"
     ]
    }
   ],
   "source": [
    "# 데이터 프레임 Datetime 변환\n",
    "data['JOB_START_DT'] = data['JOB_START_DT'].astype('str')\n",
    "data['JOB_END_DT'] = data['JOB_END_DT'].astype('str')\n",
    "\n",
    "data['JOB_START_DT'] = pd.to_datetime(data['JOB_START_DT'])\n",
    "data['JOB_END_DT'] = pd.to_datetime(data['JOB_END_DT'])"
   ]
  },
  {
   "cell_type": "code",
   "execution_count": 25,
   "metadata": {},
   "outputs": [
    {
     "name": "stdout",
     "output_type": "stream",
     "text": [
      "<class 'pandas.core.frame.DataFrame'>\n",
      "Int64Index: 223644 entries, 0 to 149400\n",
      "Data columns (total 20 columns):\n",
      " #   Column           Non-Null Count   Dtype         \n",
      "---  ------           --------------   -----         \n",
      " 0   CONTAINER_NO     223644 non-null  object        \n",
      " 1   VESSEL           223644 non-null  object        \n",
      " 2   MCHN_ID          223644 non-null  object        \n",
      " 3   FULL_EMPTY       223644 non-null  object        \n",
      " 4   JOB_TYPE         223644 non-null  object        \n",
      " 5   POD              223644 non-null  object        \n",
      " 6   BLOCK_BAY        223644 non-null  object        \n",
      " 7   JOB_START_DT     223644 non-null  datetime64[ns]\n",
      " 8   JOB_END_DT       223644 non-null  datetime64[ns]\n",
      " 9   CHE_ID           74547 non-null   object        \n",
      " 10  ITV_ID           74547 non-null   object        \n",
      " 11  QC_ID            74547 non-null   object        \n",
      " 12  OUTSERVICE       0 non-null       object        \n",
      " 13  QUEUE_POSITION   74548 non-null   object        \n",
      " 14  H_BOX            74548 non-null   float64       \n",
      " 15  OUTVESSEL        26687 non-null   object        \n",
      " 16  COUNTRY_NEXTPOD  26687 non-null   object        \n",
      " 17  PORT_NEXTPOD     26687 non-null   object        \n",
      " 18  TML_OUT_DT       25999 non-null   float64       \n",
      " 19  Unnamed: 0       0 non-null       float64       \n",
      "dtypes: datetime64[ns](2), float64(3), object(15)\n",
      "memory usage: 35.8+ MB\n"
     ]
    }
   ],
   "source": [
    "data.info()"
   ]
  },
  {
   "cell_type": "code",
   "execution_count": 5,
   "metadata": {},
   "outputs": [
    {
     "name": "stderr",
     "output_type": "stream",
     "text": [
      "1월 1일부터 1월 31일까지 데이터 추출 중: 100%|██████████| 74553/74553 [33:39<00:00, 36.91it/s]  \n"
     ]
    }
   ],
   "source": [
    "from datetime import datetime\n",
    "start_time = datetime(2017, 1, 1)\n",
    "end_time = datetime(2018, 2, 1)\n",
    "\n",
    "# 1월 1일부터 1월 31일까지 데이터 정제\n",
    "for_integrated_df = pd.DataFrame(columns=data.columns)\n",
    "for container in tqdm(list(data['CONTAINER_NO'].unique()), desc = \"1월 1일부터 1월 31일까지 데이터 추출 중\") :\n",
    "    temp = data[data['CONTAINER_NO'] == container].reset_index(drop=True)\n",
    "    if((temp.loc[0, \"JOB_START_DT\"] > start_time) and (temp.loc[2,\"JOB_END_DT\"] < end_time)) :\n",
    "        for_integrated_df = pd.concat([for_integrated_df, temp])\n",
    "dtd = for_integrated_df['CONTAINER_NO'].value_counts()"
   ]
  },
  {
   "cell_type": "code",
   "execution_count": 15,
   "metadata": {},
   "outputs": [],
   "source": [
    "data = for_integrated_df.copy()"
   ]
  },
  {
   "attachments": {},
   "cell_type": "markdown",
   "metadata": {},
   "source": [
    "74551개"
   ]
  },
  {
   "cell_type": "code",
   "execution_count": 7,
   "metadata": {},
   "outputs": [],
   "source": [
    "#! 이거는 케이스 2에서\n",
    "# Gate perspective에서 연결되지 못하는 DS만 추출\n",
    "\n",
    "gate_data = pd.read_csv('GO perspective.csv')\n",
    "\n",
    "gate_data.drop('Variant', axis = 1, inplace = True)\n",
    "gate_data.drop('Variant index', axis = 1, inplace = True)\n",
    "\n",
    "gate_data.rename(columns = {'Case ID':'CONTAINER_NO',\n",
    "                       'Activity':'JOB_TYPE',\n",
    "                       'Start Timestamp': 'JOB_START_DT',\n",
    "                       'Complete Timestamp' : 'JOB_END_DT'},\n",
    "                        inplace=True)"
   ]
  },
  {
   "cell_type": "code",
   "execution_count": 16,
   "metadata": {},
   "outputs": [
    {
     "name": "stdout",
     "output_type": "stream",
     "text": [
      "74551\n",
      "148950\n",
      "74700\n"
     ]
    },
    {
     "name": "stderr",
     "output_type": "stream",
     "text": [
      "C:\\Users\\hyunj\\AppData\\Local\\Temp\\ipykernel_23176\\3794368618.py:10: DtypeWarning: Columns (12) have mixed types. Specify dtype option on import or set low_memory=False.\n",
      "  integrated_ds_to_ld = pd.read_csv('C:/Users/hyunj/Dropbox/종합설계프로젝트/중요/데이터/Dwell Time/통합/Integrated DStoLD.csv', encoding='CP949')\n"
     ]
    }
   ],
   "source": [
    "# DS의 컨테이너 ID\n",
    "total_unique_container_list = list(data['CONTAINER_NO'].unique())\n",
    "print(len(total_unique_container_list))\n",
    "\n",
    "#! 이전에 통합한 순수 DS와 DS to LD 호출\n",
    "# 다행히... 예전에 코딩해놔서 다행이네... 아닌거같은데? 이거 쓰면 더 어려울거같은데?\n",
    "integrated_ds = pd.read_csv('C:/Users/hyunj/Dropbox/종합설계프로젝트/중요/데이터/Dwell Time/통합/Integrated DS.csv', encoding='CP949')\n",
    "integrated_ds = integrated_ds[integrated_ds['JOB_TYPE'].str.startswith('DS')]\n",
    "print(len(integrated_ds))\n",
    "integrated_ds_to_ld = pd.read_csv('C:/Users/hyunj/Dropbox/종합설계프로젝트/중요/데이터/Dwell Time/통합/Integrated DStoLD.csv', encoding='CP949')\n",
    "integrated_ds_to_ld = integrated_ds_to_ld[integrated_ds_to_ld['JOB_TYPE'].str.startswith('DS')]\n",
    "print(len(integrated_ds_to_ld))\n",
    "\n",
    "compare_df = pd.concat([integrated_ds, integrated_ds_to_ld])\n",
    "compare_container_list = list(compare_df['CONTAINER_NO'].unique())"
   ]
  },
  {
   "cell_type": "code",
   "execution_count": 24,
   "metadata": {},
   "outputs": [],
   "source": [
    "# 크롤링한 컨테이너 정보 호출\n",
    "crawling_ds_container = pd.read_csv('Crawling DS Container.csv', encoding='CP949')\n",
    "\n",
    "# 크롤링한 날씨 정보 호출\n",
    "crawling_weather = pd.read_csv('Weather.csv', encoding='CP949')\n",
    "\n",
    "# 데이트타임 변환\n",
    "crawling_ds_container['JOB_START_DT'] = crawling_ds_container['JOB_START_DT'].astype('str')\n",
    "crawling_ds_container['JOB_END_DT'] = crawling_ds_container['JOB_END_DT'].astype('str')\n",
    "crawling_ds_container['JOB_START_DT'] = pd.to_datetime(crawling_ds_container['JOB_START_DT'])\n",
    "crawling_ds_container['JOB_END_DT'] = pd.to_datetime(crawling_ds_container['JOB_END_DT'])\n",
    "\n",
    "crawling_weather['일시'] = crawling_weather['일시'].astype('str')\n",
    "crawling_weather['일시'] = pd.to_datetime(crawling_weather['일시'])\n",
    "\n",
    "crawling_weather['DAY'] = crawling_weather['일시'].dt.day\n",
    "crawling_weather['TIME'] = crawling_weather['일시'].dt.hour\n",
    "\n",
    "#! 이상하게 concat이나 merge하면 원하는 의도가 안 나옴\n",
    "# compare_df = pd.concat(compare_df, crawling_ds_container, on='CONTAINER_NO')"
   ]
  },
  {
   "cell_type": "code",
   "execution_count": 10,
   "metadata": {},
   "outputs": [
    {
     "name": "stdout",
     "output_type": "stream",
     "text": [
      "<class 'pandas.core.frame.DataFrame'>\n",
      "RangeIndex: 745 entries, 0 to 744\n",
      "Data columns (total 12 columns):\n",
      " #   Column     Non-Null Count  Dtype         \n",
      "---  ------     --------------  -----         \n",
      " 0   지점         745 non-null    int64         \n",
      " 1   지점명        745 non-null    object        \n",
      " 2   일시         745 non-null    datetime64[ns]\n",
      " 3   기온(°C)     745 non-null    float64       \n",
      " 4   풍향(deg)    745 non-null    float64       \n",
      " 5   풍속(m/s)    745 non-null    float64       \n",
      " 6   강수량(mm)    745 non-null    float64       \n",
      " 7   현지기압(hPa)  0 non-null      float64       \n",
      " 8   해면기압(hPa)  0 non-null      float64       \n",
      " 9   습도(%)      745 non-null    float64       \n",
      " 10  DAY        745 non-null    int64         \n",
      " 11  TIME       745 non-null    int64         \n",
      "dtypes: datetime64[ns](1), float64(7), int64(3), object(1)\n",
      "memory usage: 70.0+ KB\n"
     ]
    }
   ],
   "source": [
    "crawling_weather.info()"
   ]
  },
  {
   "cell_type": "code",
   "execution_count": 20,
   "metadata": {},
   "outputs": [
    {
     "name": "stdout",
     "output_type": "stream",
     "text": [
      "74548\n"
     ]
    }
   ],
   "source": [
    "data = compare_df[compare_df['CONTAINER_NO'].isin(total_unique_container_list)]\n",
    "print(len(data['CONTAINER_NO'].unique()))"
   ]
  },
  {
   "cell_type": "code",
   "execution_count": 23,
   "metadata": {},
   "outputs": [
    {
     "name": "stderr",
     "output_type": "stream",
     "text": [
      "C:\\Users\\hyunj\\AppData\\Local\\Temp\\ipykernel_23176\\1036344252.py:2: SettingWithCopyWarning: \n",
      "A value is trying to be set on a copy of a slice from a DataFrame.\n",
      "Try using .loc[row_indexer,col_indexer] = value instead\n",
      "\n",
      "See the caveats in the documentation: https://pandas.pydata.org/pandas-docs/stable/user_guide/indexing.html#returning-a-view-versus-a-copy\n",
      "  data['JOB_START_DT'] = data['JOB_START_DT'].astype('str')\n",
      "C:\\Users\\hyunj\\AppData\\Local\\Temp\\ipykernel_23176\\1036344252.py:3: SettingWithCopyWarning: \n",
      "A value is trying to be set on a copy of a slice from a DataFrame.\n",
      "Try using .loc[row_indexer,col_indexer] = value instead\n",
      "\n",
      "See the caveats in the documentation: https://pandas.pydata.org/pandas-docs/stable/user_guide/indexing.html#returning-a-view-versus-a-copy\n",
      "  data['JOB_END_DT'] = data['JOB_END_DT'].astype('str')\n",
      "C:\\Users\\hyunj\\AppData\\Local\\Temp\\ipykernel_23176\\1036344252.py:5: SettingWithCopyWarning: \n",
      "A value is trying to be set on a copy of a slice from a DataFrame.\n",
      "Try using .loc[row_indexer,col_indexer] = value instead\n",
      "\n",
      "See the caveats in the documentation: https://pandas.pydata.org/pandas-docs/stable/user_guide/indexing.html#returning-a-view-versus-a-copy\n",
      "  data['JOB_START_DT'] = pd.to_datetime(data['JOB_START_DT'])\n",
      "C:\\Users\\hyunj\\AppData\\Local\\Temp\\ipykernel_23176\\1036344252.py:6: SettingWithCopyWarning: \n",
      "A value is trying to be set on a copy of a slice from a DataFrame.\n",
      "Try using .loc[row_indexer,col_indexer] = value instead\n",
      "\n",
      "See the caveats in the documentation: https://pandas.pydata.org/pandas-docs/stable/user_guide/indexing.html#returning-a-view-versus-a-copy\n",
      "  data['JOB_END_DT'] = pd.to_datetime(data['JOB_END_DT'])\n"
     ]
    }
   ],
   "source": [
    "# 데이터 프레임 Datetime 변환\n",
    "data['JOB_START_DT'] = data['JOB_START_DT'].astype('str')\n",
    "data['JOB_END_DT'] = data['JOB_END_DT'].astype('str')\n",
    "\n",
    "data['JOB_START_DT'] = pd.to_datetime(data['JOB_START_DT'])\n",
    "data['JOB_END_DT'] = pd.to_datetime(data['JOB_END_DT'])"
   ]
  },
  {
   "cell_type": "code",
   "execution_count": 27,
   "metadata": {},
   "outputs": [
    {
     "name": "stdout",
     "output_type": "stream",
     "text": [
      "<class 'pandas.core.frame.DataFrame'>\n",
      "RangeIndex: 74548 entries, 0 to 74547\n",
      "Data columns (total 20 columns):\n",
      " #   Column           Non-Null Count  Dtype         \n",
      "---  ------           --------------  -----         \n",
      " 0   CONTAINER_NO     74548 non-null  object        \n",
      " 1   VESSEL           74548 non-null  object        \n",
      " 2   MCHN_ID          74548 non-null  object        \n",
      " 3   FULL_EMPTY       74548 non-null  object        \n",
      " 4   JOB_TYPE         74548 non-null  object        \n",
      " 5   POD              74548 non-null  object        \n",
      " 6   BLOCK_BAY        74548 non-null  object        \n",
      " 7   JOB_START_DT     74548 non-null  datetime64[ns]\n",
      " 8   JOB_END_DT       74548 non-null  datetime64[ns]\n",
      " 9   CHE_ID           74547 non-null  object        \n",
      " 10  ITV_ID           74547 non-null  object        \n",
      " 11  QC_ID            74547 non-null  object        \n",
      " 12  OUTSERVICE       0 non-null      object        \n",
      " 13  QUEUE_POSITION   0 non-null      object        \n",
      " 14  H_BOX            0 non-null      float64       \n",
      " 15  OUTVESSEL        0 non-null      object        \n",
      " 16  COUNTRY_NEXTPOD  0 non-null      object        \n",
      " 17  PORT_NEXTPOD     0 non-null      object        \n",
      " 18  TML_OUT_DT       0 non-null      float64       \n",
      " 19  Unnamed: 0       0 non-null      float64       \n",
      "dtypes: datetime64[ns](2), float64(3), object(15)\n",
      "memory usage: 11.4+ MB\n"
     ]
    }
   ],
   "source": [
    "# TIP 계산하기 위한 DS-MOVE 집합\n",
    "ds_move_df = data[data['JOB_TYPE'] == 'DS-MOVE'].reset_index(drop=True)\n",
    "ds_move_df.info()"
   ]
  },
  {
   "cell_type": "code",
   "execution_count": 42,
   "metadata": {},
   "outputs": [
    {
     "name": "stderr",
     "output_type": "stream",
     "text": [
      "학습할 데이터 생성 중~:   0%|          | 356/74548 [00:22<1:39:51, 12.38it/s]"
     ]
    },
    {
     "name": "stdout",
     "output_type": "stream",
     "text": [
      "CAIU6162865-1 은 크롤링되지 않았습니다.\n"
     ]
    },
    {
     "name": "stderr",
     "output_type": "stream",
     "text": [
      "학습할 데이터 생성 중~:   0%|          | 361/74548 [00:22<1:28:16, 14.01it/s]"
     ]
    },
    {
     "name": "stdout",
     "output_type": "stream",
     "text": [
      "BSIU9289550-1 은 크롤링되지 않았습니다.\n"
     ]
    },
    {
     "name": "stderr",
     "output_type": "stream",
     "text": [
      "학습할 데이터 생성 중~:   1%|          | 927/74548 [00:54<1:08:32, 17.90it/s]"
     ]
    },
    {
     "name": "stdout",
     "output_type": "stream",
     "text": [
      "PONU0502447-1 은 크롤링되지 않았습니다.\n",
      "PONU0494383-1 은 크롤링되지 않았습니다.\n"
     ]
    },
    {
     "name": "stderr",
     "output_type": "stream",
     "text": [
      "학습할 데이터 생성 중~:   2%|▏         | 1674/74548 [01:34<56:09, 21.63it/s]  "
     ]
    },
    {
     "name": "stdout",
     "output_type": "stream",
     "text": [
      "SEGU5830680-1 은 크롤링되지 않았습니다.\n",
      "SEGU5783736-1 은 크롤링되지 않았습니다.\n",
      "SEGU5697480-1 은 크롤링되지 않았습니다.\n",
      "SEGU5567280-1 은 크롤링되지 않았습니다.\n"
     ]
    },
    {
     "name": "stderr",
     "output_type": "stream",
     "text": [
      "학습할 데이터 생성 중~:   3%|▎         | 2020/74548 [01:54<56:11, 21.51it/s]  "
     ]
    },
    {
     "name": "stdout",
     "output_type": "stream",
     "text": [
      "TCLU3529491-2 은 크롤링되지 않았습니다.\n",
      "TCLU3513160-6 은 크롤링되지 않았습니다.\n",
      "TCLU3447182-3 은 크롤링되지 않았습니다.\n"
     ]
    },
    {
     "name": "stderr",
     "output_type": "stream",
     "text": [
      "학습할 데이터 생성 중~:   4%|▍         | 2989/74548 [02:47<1:11:21, 16.71it/s]"
     ]
    },
    {
     "name": "stdout",
     "output_type": "stream",
     "text": [
      "MSKU0216994-2 은 크롤링되지 않았습니다.\n"
     ]
    },
    {
     "name": "stderr",
     "output_type": "stream",
     "text": [
      "학습할 데이터 생성 중~:   4%|▍         | 3329/74548 [03:10<58:43, 20.21it/s]  "
     ]
    },
    {
     "name": "stdout",
     "output_type": "stream",
     "text": [
      "TGBU5379192-1 은 크롤링되지 않았습니다.\n",
      "TGBU5325935-1 은 크롤링되지 않았습니다.\n",
      "TEMU9504923-1 은 크롤링되지 않았습니다.\n",
      "TEMU9365957-1 은 크롤링되지 않았습니다.\n"
     ]
    },
    {
     "name": "stderr",
     "output_type": "stream",
     "text": [
      "학습할 데이터 생성 중~:   6%|▌         | 4157/74548 [03:54<1:00:53, 19.27it/s]"
     ]
    },
    {
     "name": "stdout",
     "output_type": "stream",
     "text": [
      "MRKU5052130-1 은 크롤링되지 않았습니다.\n",
      "MRKU4968560-1 은 크롤링되지 않았습니다.\n"
     ]
    },
    {
     "name": "stderr",
     "output_type": "stream",
     "text": [
      "학습할 데이터 생성 중~:   6%|▌         | 4163/74548 [03:54<57:29, 20.40it/s]  "
     ]
    },
    {
     "name": "stdout",
     "output_type": "stream",
     "text": [
      "MRKU4959255-1 은 크롤링되지 않았습니다.\n"
     ]
    },
    {
     "name": "stderr",
     "output_type": "stream",
     "text": [
      "학습할 데이터 생성 중~:   8%|▊         | 5767/74548 [05:20<45:44, 25.06it/s]  "
     ]
    },
    {
     "name": "stdout",
     "output_type": "stream",
     "text": [
      "MSCU6689167-1 은 크롤링되지 않았습니다.\n",
      "MSCU6688047-1 은 크롤링되지 않았습니다.\n",
      "MSCU6667722-1 은 크롤링되지 않았습니다.\n",
      "MSCU6635089-1 은 크롤링되지 않았습니다.\n"
     ]
    },
    {
     "name": "stderr",
     "output_type": "stream",
     "text": [
      "학습할 데이터 생성 중~:   8%|▊         | 6106/74548 [05:37<55:11, 20.67it/s]  "
     ]
    },
    {
     "name": "stdout",
     "output_type": "stream",
     "text": [
      "MAEU4648452-1 은 크롤링되지 않았습니다.\n"
     ]
    },
    {
     "name": "stderr",
     "output_type": "stream",
     "text": [
      "학습할 데이터 생성 중~:   9%|▊         | 6363/74548 [05:50<55:43, 20.39it/s]  "
     ]
    },
    {
     "name": "stdout",
     "output_type": "stream",
     "text": [
      "CICU5032619-1 은 크롤링되지 않았습니다.\n"
     ]
    },
    {
     "name": "stderr",
     "output_type": "stream",
     "text": [
      "학습할 데이터 생성 중~:   9%|▉         | 7001/74548 [06:21<1:04:34, 17.43it/s]"
     ]
    },
    {
     "name": "stdout",
     "output_type": "stream",
     "text": [
      "SUDU7716439-3 은 크롤링되지 않았습니다.\n"
     ]
    },
    {
     "name": "stderr",
     "output_type": "stream",
     "text": [
      "학습할 데이터 생성 중~:  10%|▉         | 7168/74548 [06:29<53:02, 21.17it/s]  "
     ]
    },
    {
     "name": "stdout",
     "output_type": "stream",
     "text": [
      "SEGU1080627-14 은 크롤링되지 않았습니다.\n"
     ]
    },
    {
     "name": "stderr",
     "output_type": "stream",
     "text": [
      "학습할 데이터 생성 중~:  12%|█▏        | 8840/74548 [07:55<46:01, 23.80it/s]  "
     ]
    },
    {
     "name": "stdout",
     "output_type": "stream",
     "text": [
      "MEDU2669235-1 은 크롤링되지 않았습니다.\n",
      "MEDU2641900-1 은 크롤링되지 않았습니다.\n",
      "MEDU2634748-1 은 크롤링되지 않았습니다.\n",
      "MEDU2606941-3 은 크롤링되지 않았습니다.\n"
     ]
    },
    {
     "name": "stderr",
     "output_type": "stream",
     "text": [
      "학습할 데이터 생성 중~:  12%|█▏        | 9261/74548 [08:18<1:02:25, 17.43it/s]"
     ]
    },
    {
     "name": "stdout",
     "output_type": "stream",
     "text": [
      "UETU2596077-1 은 크롤링되지 않았습니다.\n",
      "UETU2595846-1 은 크롤링되지 않았습니다.\n"
     ]
    },
    {
     "name": "stderr",
     "output_type": "stream",
     "text": [
      "학습할 데이터 생성 중~:  13%|█▎        | 10044/74548 [09:02<58:12, 18.47it/s]  "
     ]
    },
    {
     "name": "stdout",
     "output_type": "stream",
     "text": [
      "MEDU2633968-1 은 크롤링되지 않았습니다.\n",
      "MEDU2370136-1 은 크롤링되지 않았습니다.\n",
      "MEDU2347310-2 은 크롤링되지 않았습니다.\n"
     ]
    },
    {
     "name": "stderr",
     "output_type": "stream",
     "text": [
      "학습할 데이터 생성 중~:  14%|█▍        | 10775/74548 [09:42<49:04, 21.66it/s]  "
     ]
    },
    {
     "name": "stdout",
     "output_type": "stream",
     "text": [
      "MRKU4535302-1 은 크롤링되지 않았습니다.\n",
      "MRKU4521546-3 은 크롤링되지 않았습니다.\n",
      "MRKU4321363-1 은 크롤링되지 않았습니다.\n"
     ]
    },
    {
     "name": "stderr",
     "output_type": "stream",
     "text": [
      "학습할 데이터 생성 중~:  14%|█▍        | 10781/74548 [09:42<47:35, 22.33it/s]"
     ]
    },
    {
     "name": "stdout",
     "output_type": "stream",
     "text": [
      "MRKU4266461-2 은 크롤링되지 않았습니다.\n",
      "MRKU4177301-2 은 크롤링되지 않았습니다.\n",
      "MRKU4146194-6 은 크롤링되지 않았습니다.\n"
     ]
    },
    {
     "name": "stderr",
     "output_type": "stream",
     "text": [
      "학습할 데이터 생성 중~:  15%|█▍        | 10881/74548 [09:48<46:57, 22.60it/s]  "
     ]
    },
    {
     "name": "stdout",
     "output_type": "stream",
     "text": [
      "MNBU0364855-2 은 크롤링되지 않았습니다.\n",
      "MNBU0331743-2 은 크롤링되지 않았습니다.\n",
      "MNBU0326937-2 은 크롤링되지 않았습니다.\n"
     ]
    },
    {
     "name": "stderr",
     "output_type": "stream",
     "text": [
      "학습할 데이터 생성 중~:  16%|█▌        | 12079/74548 [10:53<55:46, 18.67it/s]  "
     ]
    },
    {
     "name": "stdout",
     "output_type": "stream",
     "text": [
      "CADU7019763-1 은 크롤링되지 않았습니다.\n"
     ]
    },
    {
     "name": "stderr",
     "output_type": "stream",
     "text": [
      "학습할 데이터 생성 중~:  16%|█▋        | 12217/74548 [11:00<49:01, 21.19it/s]  "
     ]
    },
    {
     "name": "stdout",
     "output_type": "stream",
     "text": [
      "MRKU9421555-2 은 크롤링되지 않았습니다.\n",
      "MRKU9401311-2 은 크롤링되지 않았습니다.\n"
     ]
    },
    {
     "name": "stderr",
     "output_type": "stream",
     "text": [
      "학습할 데이터 생성 중~:  17%|█▋        | 12703/74548 [11:26<52:45, 19.54it/s]  "
     ]
    },
    {
     "name": "stdout",
     "output_type": "stream",
     "text": [
      "TCLU7178116-1 은 크롤링되지 않았습니다.\n",
      "TCLU7054650-1 은 크롤링되지 않았습니다.\n"
     ]
    },
    {
     "name": "stderr",
     "output_type": "stream",
     "text": [
      "학습할 데이터 생성 중~:  17%|█▋        | 12706/74548 [11:27<51:10, 20.14it/s]"
     ]
    },
    {
     "name": "stdout",
     "output_type": "stream",
     "text": [
      "TCLU6982990-1 은 크롤링되지 않았습니다.\n"
     ]
    },
    {
     "name": "stderr",
     "output_type": "stream",
     "text": [
      "학습할 데이터 생성 중~:  18%|█▊        | 13279/74548 [12:01<59:59, 17.02it/s]  "
     ]
    },
    {
     "name": "stdout",
     "output_type": "stream",
     "text": [
      "MSKU4182531-1 은 크롤링되지 않았습니다.\n",
      "MSKU4085146-1 은 크롤링되지 않았습니다.\n",
      "MSKU4073340-4 은 크롤링되지 않았습니다.\n",
      "MSKU4047803-1 은 크롤링되지 않았습니다.\n"
     ]
    },
    {
     "name": "stderr",
     "output_type": "stream",
     "text": [
      "학습할 데이터 생성 중~:  18%|█▊        | 13286/74548 [12:02<58:15, 17.52it/s]"
     ]
    },
    {
     "name": "stdout",
     "output_type": "stream",
     "text": [
      "MSKU3965609-1 은 크롤링되지 않았습니다.\n"
     ]
    },
    {
     "name": "stderr",
     "output_type": "stream",
     "text": [
      "학습할 데이터 생성 중~:  18%|█▊        | 13296/74548 [12:02<52:50, 19.32it/s]  "
     ]
    },
    {
     "name": "stdout",
     "output_type": "stream",
     "text": [
      "MSKU3865019-1 은 크롤링되지 않았습니다.\n",
      "MSKU3814270-1 은 크롤링되지 않았습니다.\n"
     ]
    },
    {
     "name": "stderr",
     "output_type": "stream",
     "text": [
      "학습할 데이터 생성 중~:  18%|█▊        | 13302/74548 [12:02<48:27, 21.07it/s]"
     ]
    },
    {
     "name": "stdout",
     "output_type": "stream",
     "text": [
      "MSKU3786060-1 은 크롤링되지 않았습니다.\n",
      "MSKU3770994-1 은 크롤링되지 않았습니다.\n",
      "MSKU3759845-1 은 크롤링되지 않았습니다.\n"
     ]
    },
    {
     "name": "stderr",
     "output_type": "stream",
     "text": [
      "학습할 데이터 생성 중~:  18%|█▊        | 13308/74548 [12:03<50:24, 20.25it/s]"
     ]
    },
    {
     "name": "stdout",
     "output_type": "stream",
     "text": [
      "MSKU3612005-1 은 크롤링되지 않았습니다.\n",
      "MSKU3588887-1 은 크롤링되지 않았습니다.\n",
      "MSKU3518112-1 은 크롤링되지 않았습니다.\n"
     ]
    },
    {
     "name": "stderr",
     "output_type": "stream",
     "text": [
      "학습할 데이터 생성 중~:  18%|█▊        | 13314/74548 [12:03<51:33, 19.79it/s]"
     ]
    },
    {
     "name": "stdout",
     "output_type": "stream",
     "text": [
      "MSKU3458899-1 은 크롤링되지 않았습니다.\n",
      "MSKU3378113-1 은 크롤링되지 않았습니다.\n",
      "MSKU3373092-1 은 크롤링되지 않았습니다.\n"
     ]
    },
    {
     "name": "stderr",
     "output_type": "stream",
     "text": [
      "학습할 데이터 생성 중~:  18%|█▊        | 13327/74548 [12:04<51:38, 19.76it/s]"
     ]
    },
    {
     "name": "stdout",
     "output_type": "stream",
     "text": [
      "MSKU3151032-1 은 크롤링되지 않았습니다.\n",
      "MSKU3108967-1 은 크롤링되지 않았습니다.\n"
     ]
    },
    {
     "name": "stderr",
     "output_type": "stream",
     "text": [
      "학습할 데이터 생성 중~:  18%|█▊        | 13336/74548 [12:04<51:07, 19.96it/s]"
     ]
    },
    {
     "name": "stdout",
     "output_type": "stream",
     "text": [
      "MSKU3043819-1 은 크롤링되지 않았습니다.\n",
      "MSKU2983320-1 은 크롤링되지 않았습니다.\n",
      "MSKU2977098-1 은 크롤링되지 않았습니다.\n"
     ]
    },
    {
     "name": "stderr",
     "output_type": "stream",
     "text": [
      "학습할 데이터 생성 중~:  18%|█▊        | 13339/74548 [12:04<57:29, 17.74it/s]"
     ]
    },
    {
     "name": "stdout",
     "output_type": "stream",
     "text": [
      "MSKU2949521-1 은 크롤링되지 않았습니다.\n"
     ]
    },
    {
     "name": "stderr",
     "output_type": "stream",
     "text": [
      "학습할 데이터 생성 중~:  18%|█▊        | 13346/74548 [12:05<57:17, 17.80it/s]  "
     ]
    },
    {
     "name": "stdout",
     "output_type": "stream",
     "text": [
      "MSKU2905307-1 은 크롤링되지 않았습니다.\n",
      "MSKU2811189-1 은 크롤링되지 않았습니다.\n"
     ]
    },
    {
     "name": "stderr",
     "output_type": "stream",
     "text": [
      "학습할 데이터 생성 중~:  18%|█▊        | 13353/74548 [12:05<57:36, 17.71it/s]  "
     ]
    },
    {
     "name": "stdout",
     "output_type": "stream",
     "text": [
      "MSKU2773854-1 은 크롤링되지 않았습니다.\n",
      "MSKU2763178-1 은 크롤링되지 않았습니다.\n"
     ]
    },
    {
     "name": "stderr",
     "output_type": "stream",
     "text": [
      "학습할 데이터 생성 중~:  18%|█▊        | 13359/74548 [12:05<53:13, 19.16it/s]"
     ]
    },
    {
     "name": "stdout",
     "output_type": "stream",
     "text": [
      "MSKU2604601-1 은 크롤링되지 않았습니다.\n"
     ]
    },
    {
     "name": "stderr",
     "output_type": "stream",
     "text": [
      "학습할 데이터 생성 중~:  18%|█▊        | 13367/74548 [12:06<52:36, 19.38it/s]"
     ]
    },
    {
     "name": "stdout",
     "output_type": "stream",
     "text": [
      "MSKU2535049-1 은 크롤링되지 않았습니다.\n",
      "MSKU2499213-2 은 크롤링되지 않았습니다.\n"
     ]
    },
    {
     "name": "stderr",
     "output_type": "stream",
     "text": [
      "학습할 데이터 생성 중~:  18%|█▊        | 13374/74548 [12:06<54:38, 18.66it/s]"
     ]
    },
    {
     "name": "stdout",
     "output_type": "stream",
     "text": [
      "MSKU2350298-1 은 크롤링되지 않았습니다.\n"
     ]
    },
    {
     "name": "stderr",
     "output_type": "stream",
     "text": [
      "학습할 데이터 생성 중~:  18%|█▊        | 13379/74548 [12:06<53:05, 19.20it/s]"
     ]
    },
    {
     "name": "stdout",
     "output_type": "stream",
     "text": [
      "MSKU2313268-1 은 크롤링되지 않았습니다.\n",
      "MSKU2248990-3 은 크롤링되지 않았습니다.\n"
     ]
    },
    {
     "name": "stderr",
     "output_type": "stream",
     "text": [
      "학습할 데이터 생성 중~:  18%|█▊        | 13383/74548 [12:07<1:01:05, 16.69it/s]"
     ]
    },
    {
     "name": "stdout",
     "output_type": "stream",
     "text": [
      "MSKU2185850-1 은 크롤링되지 않았습니다.\n",
      "MSKU2116546-1 은 크롤링되지 않았습니다.\n",
      "MSKU2090565-1 은 크롤링되지 않았습니다.\n"
     ]
    },
    {
     "name": "stderr",
     "output_type": "stream",
     "text": [
      "학습할 데이터 생성 중~:  18%|█▊        | 13401/74548 [12:08<57:24, 17.75it/s]  "
     ]
    },
    {
     "name": "stdout",
     "output_type": "stream",
     "text": [
      "MSKU1744532-1 은 크롤링되지 않았습니다.\n",
      "MSKU1649411-2 은 크롤링되지 않았습니다.\n",
      "MSKU1595300-1 은 크롤링되지 않았습니다.\n"
     ]
    },
    {
     "name": "stderr",
     "output_type": "stream",
     "text": [
      "학습할 데이터 생성 중~:  18%|█▊        | 13412/74548 [12:08<54:01, 18.86it/s]"
     ]
    },
    {
     "name": "stdout",
     "output_type": "stream",
     "text": [
      "MSKU1450435-1 은 크롤링되지 않았습니다.\n"
     ]
    },
    {
     "name": "stderr",
     "output_type": "stream",
     "text": [
      "학습할 데이터 생성 중~:  18%|█▊        | 13417/74548 [12:09<47:58, 21.24it/s]"
     ]
    },
    {
     "name": "stdout",
     "output_type": "stream",
     "text": [
      "MSKU1269242-1 은 크롤링되지 않았습니다.\n",
      "MSKU1206748-1 은 크롤링되지 않았습니다.\n",
      "MSKU1069970-1 은 크롤링되지 않았습니다.\n"
     ]
    },
    {
     "name": "stderr",
     "output_type": "stream",
     "text": [
      "학습할 데이터 생성 중~:  18%|█▊        | 13429/74548 [12:09<47:10, 21.59it/s]"
     ]
    },
    {
     "name": "stdout",
     "output_type": "stream",
     "text": [
      "MSKU1019449-1 은 크롤링되지 않았습니다.\n",
      "MSKU0953374-2 은 크롤링되지 않았습니다.\n",
      "MSKU0938960-2 은 크롤링되지 않았습니다.\n"
     ]
    },
    {
     "name": "stderr",
     "output_type": "stream",
     "text": [
      "학습할 데이터 생성 중~:  18%|█▊        | 13435/74548 [12:09<49:28, 20.59it/s]"
     ]
    },
    {
     "name": "stdout",
     "output_type": "stream",
     "text": [
      "MSKU0914681-1 은 크롤링되지 않았습니다.\n",
      "MSKU0891992-1 은 크롤링되지 않았습니다.\n"
     ]
    },
    {
     "name": "stderr",
     "output_type": "stream",
     "text": [
      "학습할 데이터 생성 중~:  18%|█▊        | 13441/74548 [12:10<50:23, 20.21it/s]"
     ]
    },
    {
     "name": "stdout",
     "output_type": "stream",
     "text": [
      "MSKU0767596-1 은 크롤링되지 않았습니다.\n",
      "MSKU0740595-2 은 크롤링되지 않았습니다.\n"
     ]
    },
    {
     "name": "stderr",
     "output_type": "stream",
     "text": [
      "학습할 데이터 생성 중~:  18%|█▊        | 13446/74548 [12:10<58:57, 17.27it/s]"
     ]
    },
    {
     "name": "stdout",
     "output_type": "stream",
     "text": [
      "MSKU0536827-1 은 크롤링되지 않았습니다.\n",
      "MSKU0467053-3 은 크롤링되지 않았습니다.\n",
      "MSKU0451210-1 은 크롤링되지 않았습니다.\n"
     ]
    },
    {
     "name": "stderr",
     "output_type": "stream",
     "text": [
      "학습할 데이터 생성 중~:  18%|█▊        | 13457/74548 [12:11<49:49, 20.44it/s]"
     ]
    },
    {
     "name": "stdout",
     "output_type": "stream",
     "text": [
      "MSKU0278281-1 은 크롤링되지 않았습니다.\n",
      "MSKU0260256-2 은 크롤링되지 않았습니다.\n",
      "MSKU0196516-1 은 크롤링되지 않았습니다.\n"
     ]
    },
    {
     "name": "stderr",
     "output_type": "stream",
     "text": [
      "학습할 데이터 생성 중~:  18%|█▊        | 13460/74548 [12:11<47:07, 21.60it/s]"
     ]
    },
    {
     "name": "stdout",
     "output_type": "stream",
     "text": [
      "MSKU0192491-1 은 크롤링되지 않았습니다.\n",
      "MSKU0172052-1 은 크롤링되지 않았습니다.\n",
      "MSKU0145397-1 은 크롤링되지 않았습니다.\n"
     ]
    },
    {
     "name": "stderr",
     "output_type": "stream",
     "text": [
      "학습할 데이터 생성 중~:  18%|█▊        | 13466/74548 [12:11<50:05, 20.32it/s]"
     ]
    },
    {
     "name": "stdout",
     "output_type": "stream",
     "text": [
      "MSKU0041957-1 은 크롤링되지 않았습니다.\n",
      "MSCU9942387-2 은 크롤링되지 않았습니다.\n"
     ]
    },
    {
     "name": "stderr",
     "output_type": "stream",
     "text": [
      "학습할 데이터 생성 중~:  18%|█▊        | 13483/74548 [12:12<55:29, 18.34it/s]"
     ]
    },
    {
     "name": "stdout",
     "output_type": "stream",
     "text": [
      "MSCU9568528-3 은 크롤링되지 않았습니다.\n"
     ]
    },
    {
     "name": "stderr",
     "output_type": "stream",
     "text": [
      "학습할 데이터 생성 중~:  18%|█▊        | 13489/74548 [12:12<50:51, 20.01it/s]"
     ]
    },
    {
     "name": "stdout",
     "output_type": "stream",
     "text": [
      "MSCU9342633-1 은 크롤링되지 않았습니다.\n",
      "MSCU9334129-1 은 크롤링되지 않았습니다.\n"
     ]
    },
    {
     "name": "stderr",
     "output_type": "stream",
     "text": [
      "학습할 데이터 생성 중~:  18%|█▊        | 13502/74548 [12:13<54:12, 18.77it/s]"
     ]
    },
    {
     "name": "stdout",
     "output_type": "stream",
     "text": [
      "MSCU8453210-1 은 크롤링되지 않았습니다.\n",
      "MSCU8281596-3 은 크롤링되지 않았습니다.\n"
     ]
    },
    {
     "name": "stderr",
     "output_type": "stream",
     "text": [
      "학습할 데이터 생성 중~:  18%|█▊        | 13511/74548 [12:14<57:49, 17.59it/s]  "
     ]
    },
    {
     "name": "stdout",
     "output_type": "stream",
     "text": [
      "MSCU7929386-1 은 크롤링되지 않았습니다.\n"
     ]
    },
    {
     "name": "stderr",
     "output_type": "stream",
     "text": [
      "학습할 데이터 생성 중~:  18%|█▊        | 13519/74548 [12:14<59:19, 17.15it/s]"
     ]
    },
    {
     "name": "stdout",
     "output_type": "stream",
     "text": [
      "MSCU7503106-1 은 크롤링되지 않았습니다.\n"
     ]
    },
    {
     "name": "stderr",
     "output_type": "stream",
     "text": [
      "학습할 데이터 생성 중~:  18%|█▊        | 13530/74548 [12:15<53:31, 19.00it/s]"
     ]
    },
    {
     "name": "stdout",
     "output_type": "stream",
     "text": [
      "MSCU7172944-1 은 크롤링되지 않았습니다.\n",
      "MSCU7099756-2 은 크롤링되지 않았습니다.\n",
      "MSCU7057745-2 은 크롤링되지 않았습니다.\n",
      "MSCU7037733-1 은 크롤링되지 않았습니다.\n"
     ]
    },
    {
     "name": "stderr",
     "output_type": "stream",
     "text": [
      "학습할 데이터 생성 중~:  18%|█▊        | 13540/74548 [12:15<47:33, 21.38it/s]"
     ]
    },
    {
     "name": "stdout",
     "output_type": "stream",
     "text": [
      "MSCU6275172-1 은 크롤링되지 않았습니다.\n",
      "MSCU6232329-1 은 크롤링되지 않았습니다.\n",
      "MSCU6231894-1 은 크롤링되지 않았습니다.\n",
      "MSCU5988836-1 은 크롤링되지 않았습니다.\n"
     ]
    },
    {
     "name": "stderr",
     "output_type": "stream",
     "text": [
      "학습할 데이터 생성 중~:  18%|█▊        | 13550/74548 [12:15<41:47, 24.33it/s]"
     ]
    },
    {
     "name": "stdout",
     "output_type": "stream",
     "text": [
      "MSCU5875130-1 은 크롤링되지 않았습니다.\n",
      "MSCU5777833-1 은 크롤링되지 않았습니다.\n",
      "MSCU5696963-1 은 크롤링되지 않았습니다.\n",
      "MSCU5654628-1 은 크롤링되지 않았습니다.\n",
      "MSCU5593184-1 은 크롤링되지 않았습니다.\n"
     ]
    },
    {
     "name": "stderr",
     "output_type": "stream",
     "text": [
      "학습할 데이터 생성 중~:  18%|█▊        | 13556/74548 [12:16<42:30, 23.91it/s]"
     ]
    },
    {
     "name": "stdout",
     "output_type": "stream",
     "text": [
      "MSCU4916831-1 은 크롤링되지 않았습니다.\n"
     ]
    },
    {
     "name": "stderr",
     "output_type": "stream",
     "text": [
      "학습할 데이터 생성 중~:  18%|█▊        | 13566/74548 [12:16<59:15, 17.15it/s]"
     ]
    },
    {
     "name": "stdout",
     "output_type": "stream",
     "text": [
      "MSCU3243063-1 은 크롤링되지 않았습니다.\n"
     ]
    },
    {
     "name": "stderr",
     "output_type": "stream",
     "text": [
      "학습할 데이터 생성 중~:  18%|█▊        | 13579/74548 [12:17<59:03, 17.21it/s]  "
     ]
    },
    {
     "name": "stdout",
     "output_type": "stream",
     "text": [
      "MRSU3683381-1 은 크롤링되지 않았습니다.\n"
     ]
    },
    {
     "name": "stderr",
     "output_type": "stream",
     "text": [
      "학습할 데이터 생성 중~:  18%|█▊        | 13594/74548 [12:18<55:56, 18.16it/s]  "
     ]
    },
    {
     "name": "stdout",
     "output_type": "stream",
     "text": [
      "MRSU0253448-1 은 크롤링되지 않았습니다.\n"
     ]
    },
    {
     "name": "stderr",
     "output_type": "stream",
     "text": [
      "학습할 데이터 생성 중~:  18%|█▊        | 13604/74548 [12:19<53:29, 18.99it/s]  "
     ]
    },
    {
     "name": "stdout",
     "output_type": "stream",
     "text": [
      "MRSU0106200-1 은 크롤링되지 않았습니다.\n",
      "MRKU9998423-1 은 크롤링되지 않았습니다.\n"
     ]
    },
    {
     "name": "stderr",
     "output_type": "stream",
     "text": [
      "학습할 데이터 생성 중~:  18%|█▊        | 13615/74548 [12:19<41:03, 24.74it/s]"
     ]
    },
    {
     "name": "stdout",
     "output_type": "stream",
     "text": [
      "MRKU9895019-1 은 크롤링되지 않았습니다.\n",
      "MRKU9889865-1 은 크롤링되지 않았습니다.\n",
      "MRKU9887693-1 은 크롤링되지 않았습니다.\n",
      "MRKU9831924-1 은 크롤링되지 않았습니다.\n",
      "MRKU9757489-1 은 크롤링되지 않았습니다.\n",
      "MRKU9725331-1 은 크롤링되지 않았습니다.\n"
     ]
    },
    {
     "name": "stderr",
     "output_type": "stream",
     "text": [
      "학습할 데이터 생성 중~:  18%|█▊        | 13657/74548 [12:22<59:19, 17.11it/s]  "
     ]
    },
    {
     "name": "stdout",
     "output_type": "stream",
     "text": [
      "MRKU9273020-1 은 크롤링되지 않았습니다.\n"
     ]
    },
    {
     "name": "stderr",
     "output_type": "stream",
     "text": [
      "학습할 데이터 생성 중~:  18%|█▊        | 13715/74548 [12:25<58:14, 17.41it/s]  "
     ]
    },
    {
     "name": "stdout",
     "output_type": "stream",
     "text": [
      "MRKU8537710-3 은 크롤링되지 않았습니다.\n"
     ]
    },
    {
     "name": "stderr",
     "output_type": "stream",
     "text": [
      "학습할 데이터 생성 중~:  19%|█▉        | 14302/74548 [13:00<59:51, 16.78it/s]  "
     ]
    },
    {
     "name": "stdout",
     "output_type": "stream",
     "text": [
      "MAEU4687090-2 은 크롤링되지 않았습니다.\n"
     ]
    },
    {
     "name": "stderr",
     "output_type": "stream",
     "text": [
      "학습할 데이터 생성 중~:  19%|█▉        | 14474/74548 [13:10<56:42, 17.66it/s]  "
     ]
    },
    {
     "name": "stdout",
     "output_type": "stream",
     "text": [
      "HDMU4765005-2 은 크롤링되지 않았습니다.\n"
     ]
    },
    {
     "name": "stderr",
     "output_type": "stream",
     "text": [
      "학습할 데이터 생성 중~:  19%|█▉        | 14492/74548 [13:11<51:50, 19.30it/s]  "
     ]
    },
    {
     "name": "stdout",
     "output_type": "stream",
     "text": [
      "HDMU2657790-1 은 크롤링되지 않았습니다.\n",
      "HDMU2613343-5 은 크롤링되지 않았습니다.\n",
      "HDMU2606508-3 은 크롤링되지 않았습니다.\n"
     ]
    },
    {
     "name": "stderr",
     "output_type": "stream",
     "text": [
      "학습할 데이터 생성 중~:  19%|█▉        | 14497/74548 [13:12<52:34, 19.03it/s]"
     ]
    },
    {
     "name": "stdout",
     "output_type": "stream",
     "text": [
      "HDMU2575346-3 은 크롤링되지 않았습니다.\n",
      "HDMU2510941-1 은 크롤링되지 않았습니다.\n"
     ]
    },
    {
     "name": "stderr",
     "output_type": "stream",
     "text": [
      "학습할 데이터 생성 중~:  20%|█▉        | 14608/74548 [13:18<54:00, 18.50it/s]  "
     ]
    },
    {
     "name": "stdout",
     "output_type": "stream",
     "text": [
      "DRYU4209820-1 은 크롤링되지 않았습니다.\n"
     ]
    },
    {
     "name": "stderr",
     "output_type": "stream",
     "text": [
      "학습할 데이터 생성 중~:  21%|██        | 15481/74548 [14:09<50:22, 19.55it/s]  "
     ]
    },
    {
     "name": "stdout",
     "output_type": "stream",
     "text": [
      "SEGU4350541-1 은 크롤링되지 않았습니다.\n"
     ]
    },
    {
     "name": "stderr",
     "output_type": "stream",
     "text": [
      "학습할 데이터 생성 중~:  21%|██        | 15682/74548 [14:20<52:48, 18.58it/s]  "
     ]
    },
    {
     "name": "stdout",
     "output_type": "stream",
     "text": [
      "MRKU2961079-1 은 크롤링되지 않았습니다.\n"
     ]
    },
    {
     "name": "stderr",
     "output_type": "stream",
     "text": [
      "학습할 데이터 생성 중~:  21%|██▏       | 15975/74548 [14:37<50:34, 19.30it/s]  "
     ]
    },
    {
     "name": "stdout",
     "output_type": "stream",
     "text": [
      "DHDU1570310-1 은 크롤링되지 않았습니다.\n",
      "DHDU1355072-1 은 크롤링되지 않았습니다.\n"
     ]
    },
    {
     "name": "stderr",
     "output_type": "stream",
     "text": [
      "학습할 데이터 생성 중~:  21%|██▏       | 16012/74548 [14:39<57:05, 17.09it/s]  "
     ]
    },
    {
     "name": "stdout",
     "output_type": "stream",
     "text": [
      "CRLU1379564-2 은 크롤링되지 않았습니다.\n"
     ]
    },
    {
     "name": "stderr",
     "output_type": "stream",
     "text": [
      "학습할 데이터 생성 중~:  22%|██▏       | 16365/74548 [14:59<49:13, 19.70it/s]  "
     ]
    },
    {
     "name": "stdout",
     "output_type": "stream",
     "text": [
      "MAEU4199942-2 은 크롤링되지 않았습니다.\n"
     ]
    },
    {
     "name": "stderr",
     "output_type": "stream",
     "text": [
      "학습할 데이터 생성 중~:  22%|██▏       | 16462/74548 [15:04<44:18, 21.85it/s]"
     ]
    },
    {
     "name": "stdout",
     "output_type": "stream",
     "text": [
      "MSKU1697554-2 은 크롤링되지 않았습니다.\n"
     ]
    },
    {
     "name": "stderr",
     "output_type": "stream",
     "text": [
      "학습할 데이터 생성 중~:  22%|██▏       | 16725/74548 [15:18<45:16, 21.28it/s]"
     ]
    },
    {
     "name": "stdout",
     "output_type": "stream",
     "text": [
      "TTNU8124290-1 은 크롤링되지 않았습니다.\n",
      "TTNU8026714-1 은 크롤링되지 않았습니다.\n"
     ]
    },
    {
     "name": "stderr",
     "output_type": "stream",
     "text": [
      "학습할 데이터 생성 중~:  23%|██▎       | 16860/74548 [15:26<54:19, 17.70it/s]"
     ]
    },
    {
     "name": "stdout",
     "output_type": "stream",
     "text": [
      "TEMU3944709-1 은 크롤링되지 않았습니다.\n"
     ]
    },
    {
     "name": "stderr",
     "output_type": "stream",
     "text": [
      "학습할 데이터 생성 중~:  23%|██▎       | 16940/74548 [15:30<47:45, 20.10it/s]"
     ]
    },
    {
     "name": "stdout",
     "output_type": "stream",
     "text": [
      "TCLU2892141-1 은 크롤링되지 않았습니다.\n"
     ]
    },
    {
     "name": "stderr",
     "output_type": "stream",
     "text": [
      "학습할 데이터 생성 중~:  23%|██▎       | 16971/74548 [15:32<45:58, 20.88it/s]"
     ]
    },
    {
     "name": "stdout",
     "output_type": "stream",
     "text": [
      "SZLU9188592-1 은 크롤링되지 않았습니다.\n",
      "SZLU9106784-1 은 크롤링되지 않았습니다.\n",
      "SZLU9100699-1 은 크롤링되지 않았습니다.\n"
     ]
    },
    {
     "name": "stderr",
     "output_type": "stream",
     "text": [
      "학습할 데이터 생성 중~:  23%|██▎       | 16990/74548 [15:33<48:57, 19.60it/s]"
     ]
    },
    {
     "name": "stdout",
     "output_type": "stream",
     "text": [
      "SEGU7635717-1 은 크롤링되지 않았습니다.\n"
     ]
    },
    {
     "name": "stderr",
     "output_type": "stream",
     "text": [
      "학습할 데이터 생성 중~:  23%|██▎       | 17053/74548 [15:36<39:04, 24.53it/s]"
     ]
    },
    {
     "name": "stdout",
     "output_type": "stream",
     "text": [
      "PONU0354083-1 은 크롤링되지 않았습니다.\n",
      "PONU0347818-1 은 크롤링되지 않았습니다.\n",
      "PONU0318039-3 은 크롤링되지 않았습니다.\n",
      "PONU0298689-3 은 크롤링되지 않았습니다.\n",
      "PONU0256111-1 은 크롤링되지 않았습니다.\n",
      "PONU0208448-1 은 크롤링되지 않았습니다.\n",
      "PONU0176968-1 은 크롤링되지 않았습니다.\n"
     ]
    },
    {
     "name": "stderr",
     "output_type": "stream",
     "text": [
      "학습할 데이터 생성 중~:  23%|██▎       | 17059/74548 [15:37<41:34, 23.05it/s]"
     ]
    },
    {
     "name": "stdout",
     "output_type": "stream",
     "text": [
      "PONU0138295-1 은 크롤링되지 않았습니다.\n",
      "PONU0117841-1 은 크롤링되지 않았습니다.\n",
      "PONU0117353-1 은 크롤링되지 않았습니다.\n",
      "PONU0001430-1 은 크롤링되지 않았습니다.\n"
     ]
    },
    {
     "name": "stderr",
     "output_type": "stream",
     "text": [
      "학습할 데이터 생성 중~:  23%|██▎       | 17295/74548 [15:50<51:39, 18.47it/s]  "
     ]
    },
    {
     "name": "stdout",
     "output_type": "stream",
     "text": [
      "MSKU1638799-1 은 크롤링되지 않았습니다.\n"
     ]
    },
    {
     "name": "stderr",
     "output_type": "stream",
     "text": [
      "학습할 데이터 생성 중~:  23%|██▎       | 17357/74548 [15:53<49:11, 19.38it/s]  "
     ]
    },
    {
     "name": "stdout",
     "output_type": "stream",
     "text": [
      "MSCU7316002-1 은 크롤링되지 않았습니다.\n"
     ]
    },
    {
     "name": "stderr",
     "output_type": "stream",
     "text": [
      "학습할 데이터 생성 중~:  23%|██▎       | 17461/74548 [15:59<43:32, 21.85it/s]"
     ]
    },
    {
     "name": "stdout",
     "output_type": "stream",
     "text": [
      "MRKU8756404-1 은 크롤링되지 않았습니다.\n",
      "MRKU8731900-1 은 크롤링되지 않았습니다.\n"
     ]
    },
    {
     "name": "stderr",
     "output_type": "stream",
     "text": [
      "학습할 데이터 생성 중~:  24%|██▎       | 17660/74548 [16:10<52:42, 17.99it/s]  "
     ]
    },
    {
     "name": "stdout",
     "output_type": "stream",
     "text": [
      "MRKU0751664-1 은 크롤링되지 않았습니다.\n",
      "MRKU0596531-1 은 크롤링되지 않았습니다.\n"
     ]
    },
    {
     "name": "stderr",
     "output_type": "stream",
     "text": [
      "학습할 데이터 생성 중~:  24%|██▎       | 17683/74548 [16:11<42:16, 22.42it/s]"
     ]
    },
    {
     "name": "stdout",
     "output_type": "stream",
     "text": [
      "MNBU3469612-1 은 크롤링되지 않았습니다.\n",
      "MNBU3453093-1 은 크롤링되지 않았습니다.\n",
      "MNBU3433707-1 은 크롤링되지 않았습니다.\n",
      "MNBU3414116-1 은 크롤링되지 않았습니다.\n"
     ]
    },
    {
     "name": "stderr",
     "output_type": "stream",
     "text": [
      "학습할 데이터 생성 중~:  24%|██▍       | 17935/74548 [16:26<48:53, 19.30it/s]  "
     ]
    },
    {
     "name": "stdout",
     "output_type": "stream",
     "text": [
      "HDMU6689389-4 은 크롤링되지 않았습니다.\n"
     ]
    },
    {
     "name": "stderr",
     "output_type": "stream",
     "text": [
      "학습할 데이터 생성 중~:  24%|██▍       | 17982/74548 [16:28<50:30, 18.67it/s]"
     ]
    },
    {
     "name": "stdout",
     "output_type": "stream",
     "text": [
      "HDMU2765562-1 은 크롤링되지 않았습니다.\n"
     ]
    },
    {
     "name": "stderr",
     "output_type": "stream",
     "text": [
      "학습할 데이터 생성 중~:  24%|██▍       | 18011/74548 [16:30<40:23, 23.33it/s]"
     ]
    },
    {
     "name": "stdout",
     "output_type": "stream",
     "text": [
      "GLDU7324614-1 은 크롤링되지 않았습니다.\n",
      "GLDU7154360-1 은 크롤링되지 않았습니다.\n",
      "GLDU7099745-1 은 크롤링되지 않았습니다.\n",
      "GLDU7023729-1 은 크롤링되지 않았습니다.\n",
      "GLDU5595432-1 은 크롤링되지 않았습니다.\n"
     ]
    },
    {
     "name": "stderr",
     "output_type": "stream",
     "text": [
      "학습할 데이터 생성 중~:  24%|██▍       | 18216/74548 [16:42<49:05, 19.12it/s]  "
     ]
    },
    {
     "name": "stdout",
     "output_type": "stream",
     "text": [
      "CAIU2435283-1 은 크롤링되지 않았습니다.\n",
      "BSIU9631534-1 은 크롤링되지 않았습니다.\n"
     ]
    },
    {
     "name": "stderr",
     "output_type": "stream",
     "text": [
      "학습할 데이터 생성 중~:  24%|██▍       | 18223/74548 [16:42<50:14, 18.68it/s]"
     ]
    },
    {
     "name": "stdout",
     "output_type": "stream",
     "text": [
      "BSIU9226059-1 은 크롤링되지 않았습니다.\n"
     ]
    },
    {
     "name": "stderr",
     "output_type": "stream",
     "text": [
      "학습할 데이터 생성 중~:  25%|██▍       | 18295/74548 [16:46<50:10, 18.69it/s]  "
     ]
    },
    {
     "name": "stdout",
     "output_type": "stream",
     "text": [
      "TTNU1676301-1 은 크롤링되지 않았습니다.\n",
      "TRLU9695293-12 은 크롤링되지 않았습니다.\n"
     ]
    },
    {
     "name": "stderr",
     "output_type": "stream",
     "text": [
      "학습할 데이터 생성 중~:  25%|██▍       | 18298/74548 [16:46<45:22, 20.66it/s]"
     ]
    },
    {
     "name": "stdout",
     "output_type": "stream",
     "text": [
      "TRLU8277257-1 은 크롤링되지 않았습니다.\n",
      "TRLU8162730-1 은 크롤링되지 않았습니다.\n"
     ]
    },
    {
     "name": "stderr",
     "output_type": "stream",
     "text": [
      "학습할 데이터 생성 중~:  25%|██▍       | 18318/74548 [16:47<53:09, 17.63it/s]  "
     ]
    },
    {
     "name": "stdout",
     "output_type": "stream",
     "text": [
      "TRHU2131210-2 은 크롤링되지 않았습니다.\n"
     ]
    },
    {
     "name": "stderr",
     "output_type": "stream",
     "text": [
      "학습할 데이터 생성 중~:  25%|██▍       | 18349/74548 [16:49<50:38, 18.49it/s]"
     ]
    },
    {
     "name": "stdout",
     "output_type": "stream",
     "text": [
      "TGHU3162867-1 은 크롤링되지 않았습니다.\n"
     ]
    },
    {
     "name": "stderr",
     "output_type": "stream",
     "text": [
      "학습할 데이터 생성 중~:  25%|██▌       | 18726/74548 [17:12<55:16, 16.83it/s]  "
     ]
    },
    {
     "name": "stdout",
     "output_type": "stream",
     "text": [
      "PONU0074117-1 은 크롤링되지 않았습니다.\n"
     ]
    },
    {
     "name": "stderr",
     "output_type": "stream",
     "text": [
      "학습할 데이터 생성 중~:  25%|██▌       | 18881/74548 [17:21<41:10, 22.53it/s]  "
     ]
    },
    {
     "name": "stdout",
     "output_type": "stream",
     "text": [
      "MSKU4179899-1 은 크롤링되지 않았습니다.\n",
      "MSKU4173709-1 은 크롤링되지 않았습니다.\n",
      "MSKU4173442-1 은 크롤링되지 않았습니다.\n",
      "MSKU4129732-1 은 크롤링되지 않았습니다.\n",
      "MSKU4104349-1 은 크롤링되지 않았습니다.\n",
      "MSKU4083312-2 은 크롤링되지 않았습니다.\n"
     ]
    },
    {
     "name": "stderr",
     "output_type": "stream",
     "text": [
      "학습할 데이터 생성 중~:  25%|██▌       | 18884/74548 [17:21<39:56, 23.22it/s]"
     ]
    },
    {
     "name": "stdout",
     "output_type": "stream",
     "text": [
      "MSKU4014414-1 은 크롤링되지 않았습니다.\n",
      "MSKU3846472-1 은 크롤링되지 않았습니다.\n"
     ]
    },
    {
     "name": "stderr",
     "output_type": "stream",
     "text": [
      "학습할 데이터 생성 중~:  25%|██▌       | 18894/74548 [17:21<52:40, 17.61it/s]"
     ]
    },
    {
     "name": "stdout",
     "output_type": "stream",
     "text": [
      "MSKU3318367-1 은 크롤링되지 않았습니다.\n"
     ]
    },
    {
     "name": "stderr",
     "output_type": "stream",
     "text": [
      "학습할 데이터 생성 중~:  26%|██▌       | 19314/74548 [17:46<50:46, 18.13it/s]  "
     ]
    },
    {
     "name": "stdout",
     "output_type": "stream",
     "text": [
      "MEDU2367298-1 은 크롤링되지 않았습니다.\n"
     ]
    },
    {
     "name": "stderr",
     "output_type": "stream",
     "text": [
      "학습할 데이터 생성 중~:  26%|██▌       | 19347/74548 [17:48<48:28, 18.98it/s]"
     ]
    },
    {
     "name": "stdout",
     "output_type": "stream",
     "text": [
      "MAEU6709198-1 은 크롤링되지 않았습니다.\n",
      "MAEU6311748-1 은 크롤링되지 않았습니다.\n"
     ]
    },
    {
     "name": "stderr",
     "output_type": "stream",
     "text": [
      "학습할 데이터 생성 중~:  26%|██▌       | 19358/74548 [17:49<49:59, 18.40it/s]"
     ]
    },
    {
     "name": "stdout",
     "output_type": "stream",
     "text": [
      "IPXU2156374-1 은 크롤링되지 않았습니다.\n",
      "INKU6356813-1 은 크롤링되지 않았습니다.\n"
     ]
    },
    {
     "name": "stderr",
     "output_type": "stream",
     "text": [
      "학습할 데이터 생성 중~:  26%|██▌       | 19393/74548 [17:51<54:57, 16.72it/s]"
     ]
    },
    {
     "name": "stdout",
     "output_type": "stream",
     "text": [
      "HDMU5575967-1 은 크롤링되지 않았습니다.\n"
     ]
    },
    {
     "name": "stderr",
     "output_type": "stream",
     "text": [
      "학습할 데이터 생성 중~:  26%|██▌       | 19398/74548 [17:51<52:06, 17.64it/s]"
     ]
    },
    {
     "name": "stdout",
     "output_type": "stream",
     "text": [
      "HDMU5504074-5 은 크롤링되지 않았습니다.\n",
      "HDMU5492543-1 은 크롤링되지 않았습니다.\n"
     ]
    },
    {
     "name": "stderr",
     "output_type": "stream",
     "text": [
      "학습할 데이터 생성 중~:  26%|██▌       | 19405/74548 [17:52<51:34, 17.82it/s]"
     ]
    },
    {
     "name": "stdout",
     "output_type": "stream",
     "text": [
      "HDMU2790288-1 은 크롤링되지 않았습니다.\n"
     ]
    },
    {
     "name": "stderr",
     "output_type": "stream",
     "text": [
      "학습할 데이터 생성 중~:  26%|██▌       | 19462/74548 [17:55<56:09, 16.35it/s]  "
     ]
    },
    {
     "name": "stdout",
     "output_type": "stream",
     "text": [
      "HASU4083442-1 은 크롤링되지 않았습니다.\n"
     ]
    },
    {
     "name": "stderr",
     "output_type": "stream",
     "text": [
      "학습할 데이터 생성 중~:  26%|██▋       | 19610/74548 [18:04<45:22, 20.18it/s]  "
     ]
    },
    {
     "name": "stdout",
     "output_type": "stream",
     "text": [
      "CRXU6919045-1 은 크롤링되지 않았습니다.\n",
      "CRXU3430683-1 은 크롤링되지 않았습니다.\n",
      "CRXU3357010-1 은 크롤링되지 않았습니다.\n"
     ]
    },
    {
     "name": "stderr",
     "output_type": "stream",
     "text": [
      "학습할 데이터 생성 중~:  26%|██▋       | 19654/74548 [18:07<50:59, 17.94it/s]"
     ]
    },
    {
     "name": "stdout",
     "output_type": "stream",
     "text": [
      "CAIU7669495-1 은 크롤링되지 않았습니다.\n"
     ]
    },
    {
     "name": "stderr",
     "output_type": "stream",
     "text": [
      "학습할 데이터 생성 중~:  26%|██▋       | 19747/74548 [18:12<48:14, 18.93it/s]"
     ]
    },
    {
     "name": "stdout",
     "output_type": "stream",
     "text": [
      "TRLU8841238-12 은 크롤링되지 않았습니다.\n"
     ]
    },
    {
     "name": "stderr",
     "output_type": "stream",
     "text": [
      "학습할 데이터 생성 중~:  27%|██▋       | 19839/74548 [18:17<49:59, 18.24it/s]"
     ]
    },
    {
     "name": "stdout",
     "output_type": "stream",
     "text": [
      "TGHU1435880-1 은 크롤링되지 않았습니다.\n"
     ]
    },
    {
     "name": "stderr",
     "output_type": "stream",
     "text": [
      "학습할 데이터 생성 중~:  27%|██▋       | 19856/74548 [18:18<50:28, 18.06it/s]"
     ]
    },
    {
     "name": "stdout",
     "output_type": "stream",
     "text": [
      "TEMU8468821-1 은 크롤링되지 않았습니다.\n"
     ]
    },
    {
     "name": "stderr",
     "output_type": "stream",
     "text": [
      "학습할 데이터 생성 중~:  27%|██▋       | 20017/74548 [18:28<51:40, 17.59it/s]"
     ]
    },
    {
     "name": "stdout",
     "output_type": "stream",
     "text": [
      "SUDU7924582-1 은 크롤링되지 않았습니다.\n"
     ]
    },
    {
     "name": "stderr",
     "output_type": "stream",
     "text": [
      "학습할 데이터 생성 중~:  27%|██▋       | 20034/74548 [18:29<48:42, 18.66it/s]"
     ]
    },
    {
     "name": "stdout",
     "output_type": "stream",
     "text": [
      "SEGU9440843-1 은 크롤링되지 않았습니다.\n"
     ]
    },
    {
     "name": "stderr",
     "output_type": "stream",
     "text": [
      "학습할 데이터 생성 중~:  27%|██▋       | 20063/74548 [18:30<49:44, 18.26it/s]"
     ]
    },
    {
     "name": "stdout",
     "output_type": "stream",
     "text": [
      "PONU7810415-1 은 크롤링되지 않았습니다.\n"
     ]
    },
    {
     "name": "stderr",
     "output_type": "stream",
     "text": [
      "학습할 데이터 생성 중~:  27%|██▋       | 20116/74548 [18:34<49:52, 18.19it/s]"
     ]
    },
    {
     "name": "stdout",
     "output_type": "stream",
     "text": [
      "MWCU6789782-1 은 크롤링되지 않았습니다.\n"
     ]
    },
    {
     "name": "stderr",
     "output_type": "stream",
     "text": [
      "학습할 데이터 생성 중~:  27%|██▋       | 20137/74548 [18:35<48:10, 18.82it/s]"
     ]
    },
    {
     "name": "stdout",
     "output_type": "stream",
     "text": [
      "MSKU9714072-1 은 크롤링되지 않았습니다.\n",
      "MSKU9698623-1 은 크롤링되지 않았습니다.\n",
      "MSKU9660802-1 은 크롤링되지 않았습니다.\n",
      "MSKU9657178-2 은 크롤링되지 않았습니다.\n",
      "MSKU9643364-1 은 크롤링되지 않았습니다.\n"
     ]
    },
    {
     "name": "stderr",
     "output_type": "stream",
     "text": [
      "학습할 데이터 생성 중~:  27%|██▋       | 20148/74548 [18:35<34:27, 26.31it/s]"
     ]
    },
    {
     "name": "stdout",
     "output_type": "stream",
     "text": [
      "MSKU9642732-1 은 크롤링되지 않았습니다.\n",
      "MSKU9640426-1 은 크롤링되지 않았습니다.\n",
      "MSKU9615104-1 은 크롤링되지 않았습니다.\n",
      "MSKU9555047-1 은 크롤링되지 않았습니다.\n",
      "MSKU9529881-1 은 크롤링되지 않았습니다.\n",
      "MSKU9526563-1 은 크롤링되지 않았습니다.\n",
      "MSKU9470865-1 은 크롤링되지 않았습니다.\n"
     ]
    },
    {
     "name": "stderr",
     "output_type": "stream",
     "text": [
      "학습할 데이터 생성 중~:  27%|██▋       | 20151/74548 [18:35<35:57, 25.21it/s]"
     ]
    },
    {
     "name": "stdout",
     "output_type": "stream",
     "text": [
      "MSKU9467368-1 은 크롤링되지 않았습니다.\n",
      "MSKU9449220-1 은 크롤링되지 않았습니다.\n"
     ]
    },
    {
     "name": "stderr",
     "output_type": "stream",
     "text": [
      "학습할 데이터 생성 중~:  27%|██▋       | 20161/74548 [18:36<41:35, 21.79it/s]"
     ]
    },
    {
     "name": "stdout",
     "output_type": "stream",
     "text": [
      "MSKU9328634-1 은 크롤링되지 않았습니다.\n",
      "MSKU9297087-1 은 크롤링되지 않았습니다.\n",
      "MSKU9268221-1 은 크롤링되지 않았습니다.\n",
      "MSKU9250773-4 은 크롤링되지 않았습니다.\n"
     ]
    },
    {
     "name": "stderr",
     "output_type": "stream",
     "text": [
      "학습할 데이터 생성 중~:  27%|██▋       | 20200/74548 [18:38<49:45, 18.20it/s]"
     ]
    },
    {
     "name": "stdout",
     "output_type": "stream",
     "text": [
      "MSKU7748577-1 은 크롤링되지 않았습니다.\n"
     ]
    },
    {
     "name": "stderr",
     "output_type": "stream",
     "text": [
      "학습할 데이터 생성 중~:  27%|██▋       | 20211/74548 [18:39<49:21, 18.35it/s]"
     ]
    },
    {
     "name": "stdout",
     "output_type": "stream",
     "text": [
      "MSKU7420314-1 은 크롤링되지 않았습니다.\n"
     ]
    },
    {
     "name": "stderr",
     "output_type": "stream",
     "text": [
      "학습할 데이터 생성 중~:  27%|██▋       | 20267/74548 [18:42<49:59, 18.10it/s]"
     ]
    },
    {
     "name": "stdout",
     "output_type": "stream",
     "text": [
      "MSKU5116112-1 은 크롤링되지 않았습니다.\n",
      "MSKU5102530-1 은 크롤링되지 않았습니다.\n"
     ]
    },
    {
     "name": "stderr",
     "output_type": "stream",
     "text": [
      "학습할 데이터 생성 중~:  27%|██▋       | 20336/74548 [18:46<37:59, 23.78it/s]"
     ]
    },
    {
     "name": "stdout",
     "output_type": "stream",
     "text": [
      "MSKU1998809-1 은 크롤링되지 않았습니다.\n",
      "MSKU1864610-1 은 크롤링되지 않았습니다.\n",
      "MSKU1844399-1 은 크롤링되지 않았습니다.\n",
      "MSKU1843319-1 은 크롤링되지 않았습니다.\n",
      "MSKU1831998-1 은 크롤링되지 않았습니다.\n",
      "MSKU1827004-1 은 크롤링되지 않았습니다.\n",
      "MSKU1778023-1 은 크롤링되지 않았습니다.\n",
      "MSKU1763553-1 은 크롤링되지 않았습니다.\n"
     ]
    },
    {
     "name": "stderr",
     "output_type": "stream",
     "text": [
      "학습할 데이터 생성 중~:  27%|██▋       | 20343/74548 [18:46<34:40, 26.05it/s]"
     ]
    },
    {
     "name": "stdout",
     "output_type": "stream",
     "text": [
      "MSKU1746068-2 은 크롤링되지 않았습니다.\n",
      "MSKU1734690-3 은 크롤링되지 않았습니다.\n",
      "MSKU1681814-1 은 크롤링되지 않았습니다.\n",
      "MSKU1668345-1 은 크롤링되지 않았습니다.\n"
     ]
    },
    {
     "name": "stderr",
     "output_type": "stream",
     "text": [
      "학습할 데이터 생성 중~:  28%|██▊       | 20756/74548 [19:10<48:42, 18.41it/s]  "
     ]
    },
    {
     "name": "stdout",
     "output_type": "stream",
     "text": [
      "MRKU0212111-1 은 크롤링되지 않았습니다.\n"
     ]
    },
    {
     "name": "stderr",
     "output_type": "stream",
     "text": [
      "학습할 데이터 생성 중~:  28%|██▊       | 20785/74548 [19:12<46:37, 19.22it/s]"
     ]
    },
    {
     "name": "stdout",
     "output_type": "stream",
     "text": [
      "MNBU3241052-1 은 크롤링되지 않았습니다.\n"
     ]
    },
    {
     "name": "stderr",
     "output_type": "stream",
     "text": [
      "학습할 데이터 생성 중~:  28%|██▊       | 20804/74548 [19:13<51:08, 17.52it/s]"
     ]
    },
    {
     "name": "stdout",
     "output_type": "stream",
     "text": [
      "MNBU0266294-1 은 크롤링되지 않았습니다.\n"
     ]
    },
    {
     "name": "stderr",
     "output_type": "stream",
     "text": [
      "학습할 데이터 생성 중~:  28%|██▊       | 20816/74548 [19:14<53:07, 16.86it/s]"
     ]
    },
    {
     "name": "stdout",
     "output_type": "stream",
     "text": [
      "MMAU1235004-1 은 크롤링되지 않았습니다.\n"
     ]
    },
    {
     "name": "stderr",
     "output_type": "stream",
     "text": [
      "학습할 데이터 생성 중~:  28%|██▊       | 20829/74548 [19:14<37:08, 24.11it/s]"
     ]
    },
    {
     "name": "stdout",
     "output_type": "stream",
     "text": [
      "MIEU2020951-1 은 크롤링되지 않았습니다.\n",
      "MIEU0034107-1 은 크롤링되지 않았습니다.\n",
      "MEDU9087745-1 은 크롤링되지 않았습니다.\n",
      "MEDU9034025-1 은 크롤링되지 않았습니다.\n",
      "MEDU9006846-1 은 크롤링되지 않았습니다.\n",
      "MEDU8994510-1 은 크롤링되지 않았습니다.\n"
     ]
    },
    {
     "name": "stderr",
     "output_type": "stream",
     "text": [
      "학습할 데이터 생성 중~:  28%|██▊       | 20833/74548 [19:15<35:29, 25.23it/s]"
     ]
    },
    {
     "name": "stdout",
     "output_type": "stream",
     "text": [
      "MEDU8854462-1 은 크롤링되지 않았습니다.\n",
      "MEDU8736264-1 은 크롤링되지 않았습니다.\n",
      "MEDU8675955-1 은 크롤링되지 않았습니다.\n"
     ]
    },
    {
     "name": "stderr",
     "output_type": "stream",
     "text": [
      "학습할 데이터 생성 중~:  28%|██▊       | 20839/74548 [19:15<40:18, 22.21it/s]"
     ]
    },
    {
     "name": "stdout",
     "output_type": "stream",
     "text": [
      "MEDU8372223-1 은 크롤링되지 않았습니다.\n",
      "MEDU8310962-1 은 크롤링되지 않았습니다.\n"
     ]
    },
    {
     "name": "stderr",
     "output_type": "stream",
     "text": [
      "학습할 데이터 생성 중~:  28%|██▊       | 20848/74548 [19:15<42:55, 20.85it/s]"
     ]
    },
    {
     "name": "stdout",
     "output_type": "stream",
     "text": [
      "MEDU7634150-1 은 크롤링되지 않았습니다.\n",
      "MEDU7622380-1 은 크롤링되지 않았습니다.\n"
     ]
    },
    {
     "name": "stderr",
     "output_type": "stream",
     "text": [
      "학습할 데이터 생성 중~:  28%|██▊       | 20851/74548 [19:15<41:57, 21.33it/s]"
     ]
    },
    {
     "name": "stdout",
     "output_type": "stream",
     "text": [
      "MEDU7073953-1 은 크롤링되지 않았습니다.\n",
      "MEDU7055585-1 은 크롤링되지 않았습니다.\n"
     ]
    },
    {
     "name": "stderr",
     "output_type": "stream",
     "text": [
      "학습할 데이터 생성 중~:  28%|██▊       | 20868/74548 [19:16<46:02, 19.43it/s]"
     ]
    },
    {
     "name": "stdout",
     "output_type": "stream",
     "text": [
      "MEDU4589360-1 은 크롤링되지 않았습니다.\n",
      "MEDU4215397-1 은 크롤링되지 않았습니다.\n",
      "MEDU4101141-1 은 크롤링되지 않았습니다.\n"
     ]
    },
    {
     "name": "stderr",
     "output_type": "stream",
     "text": [
      "학습할 데이터 생성 중~:  28%|██▊       | 20880/74548 [19:17<40:47, 21.93it/s]"
     ]
    },
    {
     "name": "stdout",
     "output_type": "stream",
     "text": [
      "MEDU3870630-1 은 크롤링되지 않았습니다.\n",
      "MEDU3856837-1 은 크롤링되지 않았습니다.\n",
      "MEDU3799470-1 은 크롤링되지 않았습니다.\n",
      "MEDU3775078-1 은 크롤링되지 않았습니다.\n"
     ]
    },
    {
     "name": "stderr",
     "output_type": "stream",
     "text": [
      "학습할 데이터 생성 중~:  28%|██▊       | 20884/74548 [19:17<38:05, 23.48it/s]"
     ]
    },
    {
     "name": "stdout",
     "output_type": "stream",
     "text": [
      "MEDU3653830-1 은 크롤링되지 않았습니다.\n",
      "MEDU3602724-1 은 크롤링되지 않았습니다.\n",
      "MEDU3574290-1 은 크롤링되지 않았습니다.\n"
     ]
    },
    {
     "name": "stderr",
     "output_type": "stream",
     "text": [
      "학습할 데이터 생성 중~:  28%|██▊       | 20890/74548 [19:17<40:00, 22.35it/s]"
     ]
    },
    {
     "name": "stdout",
     "output_type": "stream",
     "text": [
      "MEDU3064505-1 은 크롤링되지 않았습니다.\n",
      "MEDU2987940-3 은 크롤링되지 않았습니다.\n",
      "MEDU2850639-1 은 크롤링되지 않았습니다.\n",
      "MEDU2734773-1 은 크롤링되지 않았습니다.\n"
     ]
    },
    {
     "name": "stderr",
     "output_type": "stream",
     "text": [
      "학습할 데이터 생성 중~:  28%|██▊       | 20902/74548 [19:18<39:25, 22.67it/s]"
     ]
    },
    {
     "name": "stdout",
     "output_type": "stream",
     "text": [
      "MEDU1955810-4 은 크롤링되지 않았습니다.\n",
      "MEDU1936759-1 은 크롤링되지 않았습니다.\n",
      "MEDU1890386-1 은 크롤링되지 않았습니다.\n"
     ]
    },
    {
     "name": "stderr",
     "output_type": "stream",
     "text": [
      "학습할 데이터 생성 중~:  28%|██▊       | 20908/74548 [19:18<37:42, 23.71it/s]"
     ]
    },
    {
     "name": "stdout",
     "output_type": "stream",
     "text": [
      "MEDU1393902-1 은 크롤링되지 않았습니다.\n",
      "MEDU1132637-1 은 크롤링되지 않았습니다.\n",
      "MEDU1120826-1 은 크롤링되지 않았습니다.\n"
     ]
    },
    {
     "name": "stderr",
     "output_type": "stream",
     "text": [
      "학습할 데이터 생성 중~:  28%|██▊       | 20914/74548 [19:19<44:53, 19.91it/s]"
     ]
    },
    {
     "name": "stdout",
     "output_type": "stream",
     "text": [
      "MAEU6990274-1 은 크롤링되지 않았습니다.\n",
      "MAEU4200874-1 은 크롤링되지 않았습니다.\n",
      "MAEU4197359-1 은 크롤링되지 않았습니다.\n"
     ]
    },
    {
     "name": "stderr",
     "output_type": "stream",
     "text": [
      "학습할 데이터 생성 중~:  28%|██▊       | 20917/74548 [19:19<46:17, 19.31it/s]"
     ]
    },
    {
     "name": "stdout",
     "output_type": "stream",
     "text": [
      "MAEU4195799-1 은 크롤링되지 않았습니다.\n"
     ]
    },
    {
     "name": "stderr",
     "output_type": "stream",
     "text": [
      "학습할 데이터 생성 중~:  28%|██▊       | 20982/74548 [19:22<48:05, 18.56it/s]"
     ]
    },
    {
     "name": "stdout",
     "output_type": "stream",
     "text": [
      "HDMU7413482-6 은 크롤링되지 않았습니다.\n"
     ]
    },
    {
     "name": "stderr",
     "output_type": "stream",
     "text": [
      "학습할 데이터 생성 중~:  28%|██▊       | 20987/74548 [19:23<46:59, 18.99it/s]"
     ]
    },
    {
     "name": "stdout",
     "output_type": "stream",
     "text": [
      "HDMU7204266-2 은 크롤링되지 않았습니다.\n"
     ]
    },
    {
     "name": "stderr",
     "output_type": "stream",
     "text": [
      "학습할 데이터 생성 중~:  28%|██▊       | 21044/74548 [19:26<48:19, 18.45it/s]"
     ]
    },
    {
     "name": "stdout",
     "output_type": "stream",
     "text": [
      "HDMU2709147-1 은 크롤링되지 않았습니다.\n"
     ]
    },
    {
     "name": "stderr",
     "output_type": "stream",
     "text": [
      "학습할 데이터 생성 중~:  28%|██▊       | 21120/74548 [19:30<45:41, 19.49it/s]"
     ]
    },
    {
     "name": "stdout",
     "output_type": "stream",
     "text": [
      "FSCU9921920-1 은 크롤링되지 않았습니다.\n",
      "FSCU9913735-1 은 크롤링되지 않았습니다.\n"
     ]
    },
    {
     "name": "stderr",
     "output_type": "stream",
     "text": [
      "학습할 데이터 생성 중~:  28%|██▊       | 21125/74548 [19:31<46:49, 19.02it/s]"
     ]
    },
    {
     "name": "stdout",
     "output_type": "stream",
     "text": [
      "FSCU7324398-1 은 크롤링되지 않았습니다.\n"
     ]
    },
    {
     "name": "stderr",
     "output_type": "stream",
     "text": [
      "학습할 데이터 생성 중~:  28%|██▊       | 21238/74548 [19:37<46:07, 19.26it/s]"
     ]
    },
    {
     "name": "stdout",
     "output_type": "stream",
     "text": [
      "CLHU2855100-1 은 크롤링되지 않았습니다.\n",
      "CHIU9042873-1 은 크롤링되지 않았습니다.\n"
     ]
    },
    {
     "name": "stderr",
     "output_type": "stream",
     "text": [
      "학습할 데이터 생성 중~:  29%|██▊       | 21337/74548 [19:43<42:34, 20.83it/s]"
     ]
    },
    {
     "name": "stdout",
     "output_type": "stream",
     "text": [
      "BMOU3029150-1 은 크롤링되지 않았습니다.\n",
      "BMOU2650183-3 은 크롤링되지 않았습니다.\n",
      "BMOU2439571-1 은 크롤링되지 않았습니다.\n",
      "BMOU2278190-3 은 크롤링되지 않았습니다.\n",
      "BMOU2090598-1 은 크롤링되지 않았습니다.\n"
     ]
    },
    {
     "name": "stderr",
     "output_type": "stream",
     "text": [
      "학습할 데이터 생성 중~:  29%|██▊       | 21344/74548 [19:43<35:37, 24.89it/s]"
     ]
    },
    {
     "name": "stdout",
     "output_type": "stream",
     "text": [
      "BLKU2557065-1 은 크롤링되지 않았습니다.\n",
      "BLKU2550369-2 은 크롤링되지 않았습니다.\n",
      "BHCU4707994-2 은 크롤링되지 않았습니다.\n",
      "BEAU2067588-2 은 크롤링되지 않았습니다.\n",
      "BEAU2047597-1 은 크롤링되지 않았습니다.\n",
      "BEAU2043816-1 은 크롤링되지 않았습니다.\n"
     ]
    },
    {
     "name": "stderr",
     "output_type": "stream",
     "text": [
      "학습할 데이터 생성 중~:  29%|██▊       | 21353/74548 [19:44<36:10, 24.51it/s]"
     ]
    },
    {
     "name": "stdout",
     "output_type": "stream",
     "text": [
      "AUMU1227790-1 은 크롤링되지 않았습니다.\n",
      "APMU8063765-1 은 크롤링되지 않았습니다.\n",
      "AMFU8671101-1 은 크롤링되지 않았습니다.\n",
      "AMFU3165081-2 은 크롤링되지 않았습니다.\n"
     ]
    },
    {
     "name": "stderr",
     "output_type": "stream",
     "text": [
      "학습할 데이터 생성 중~:  29%|██▊       | 21356/74548 [19:44<43:22, 20.44it/s]"
     ]
    },
    {
     "name": "stdout",
     "output_type": "stream",
     "text": [
      "XINU8148931-1 은 크롤링되지 않았습니다.\n",
      "TTNU8050829-1 은 크롤링되지 않았습니다.\n"
     ]
    },
    {
     "name": "stderr",
     "output_type": "stream",
     "text": [
      "학습할 데이터 생성 중~:  29%|██▊       | 21364/74548 [19:44<34:08, 25.97it/s]"
     ]
    },
    {
     "name": "stdout",
     "output_type": "stream",
     "text": [
      "TTNU5969587-1 은 크롤링되지 않았습니다.\n",
      "TTNU5804400-1 은 크롤링되지 않았습니다.\n",
      "TTNU5488196-1 은 크롤링되지 않았습니다.\n",
      "TTNU5460476-1 은 크롤링되지 않았습니다.\n",
      "TTNU2992496-1 은 크롤링되지 않았습니다.\n",
      "TRLU7206454-1 은 크롤링되지 않았습니다.\n",
      "TRLU7067786-1 은 크롤링되지 않았습니다.\n"
     ]
    },
    {
     "name": "stderr",
     "output_type": "stream",
     "text": [
      "학습할 데이터 생성 중~:  29%|██▊       | 21372/74548 [19:44<30:15, 29.29it/s]"
     ]
    },
    {
     "name": "stdout",
     "output_type": "stream",
     "text": [
      "TRLU7064909-1 은 크롤링되지 않았습니다.\n",
      "TRLU6859644-1 은 크롤링되지 않았습니다.\n",
      "TRLU6749478-2 은 크롤링되지 않았습니다.\n",
      "TRLU6365580-1 은 크롤링되지 않았습니다.\n",
      "TRLU6029380-1 은 크롤링되지 않았습니다.\n",
      "TRLU6022730-1 은 크롤링되지 않았습니다.\n",
      "TRLU6017918-1 은 크롤링되지 않았습니다.\n",
      "TRLU6016531-1 은 크롤링되지 않았습니다.\n"
     ]
    },
    {
     "name": "stderr",
     "output_type": "stream",
     "text": [
      "학습할 데이터 생성 중~:  29%|██▊       | 21376/74548 [19:44<31:14, 28.36it/s]"
     ]
    },
    {
     "name": "stdout",
     "output_type": "stream",
     "text": [
      "TRLU6001700-1 은 크롤링되지 않았습니다.\n",
      "TRIU8985966-2 은 크롤링되지 않았습니다.\n",
      "TRIU8743849-1 은 크롤링되지 않았습니다.\n",
      "TRIU8585569-2 은 크롤링되지 않았습니다.\n",
      "TRIU8274844-1 은 크롤링되지 않았습니다.\n"
     ]
    },
    {
     "name": "stderr",
     "output_type": "stream",
     "text": [
      "학습할 데이터 생성 중~:  29%|██▊       | 21386/74548 [19:45<33:37, 26.35it/s]"
     ]
    },
    {
     "name": "stdout",
     "output_type": "stream",
     "text": [
      "TRHU1964530-1 은 크롤링되지 않았습니다.\n",
      "TRHU1608925-4 은 크롤링되지 않았습니다.\n",
      "TRHU1254164-1 은 크롤링되지 않았습니다.\n",
      "TGHU8793551-1 은 크롤링되지 않았습니다.\n",
      "TGHU8188381-1 은 크롤링되지 않았습니다.\n",
      "TGHU5245723-1 은 크롤링되지 않았습니다.\n",
      "TGHU3519152-1 은 크롤링되지 않았습니다.\n",
      "TGHU3390912-1 은 크롤링되지 않았습니다.\n"
     ]
    },
    {
     "name": "stderr",
     "output_type": "stream",
     "text": [
      "학습할 데이터 생성 중~:  29%|██▊       | 21389/74548 [19:45<35:23, 25.03it/s]"
     ]
    },
    {
     "name": "stdout",
     "output_type": "stream",
     "text": [
      "TGHU3326256-1 은 크롤링되지 않았습니다.\n"
     ]
    },
    {
     "name": "stderr",
     "output_type": "stream",
     "text": [
      "학습할 데이터 생성 중~:  29%|██▉       | 21466/74548 [19:50<55:48, 15.85it/s]  "
     ]
    },
    {
     "name": "stdout",
     "output_type": "stream",
     "text": [
      "SZLU9649020-1 은 크롤링되지 않았습니다.\n"
     ]
    },
    {
     "name": "stderr",
     "output_type": "stream",
     "text": [
      "학습할 데이터 생성 중~:  29%|██▉       | 21469/74548 [19:50<53:26, 16.56it/s]"
     ]
    },
    {
     "name": "stdout",
     "output_type": "stream",
     "text": [
      "SUDU9801421-1 은 크롤링되지 않았습니다.\n"
     ]
    },
    {
     "name": "stderr",
     "output_type": "stream",
     "text": [
      "학습할 데이터 생성 중~:  29%|██▉       | 21536/74548 [19:55<54:25, 16.23it/s]  "
     ]
    },
    {
     "name": "stdout",
     "output_type": "stream",
     "text": [
      "SUDU6695542-1 은 크롤링되지 않았습니다.\n"
     ]
    },
    {
     "name": "stderr",
     "output_type": "stream",
     "text": [
      "학습할 데이터 생성 중~:  29%|██▉       | 21587/74548 [19:59<56:24, 15.65it/s]  "
     ]
    },
    {
     "name": "stdout",
     "output_type": "stream",
     "text": [
      "SEGU6036479-1 은 크롤링되지 않았습니다.\n"
     ]
    },
    {
     "name": "stderr",
     "output_type": "stream",
     "text": [
      "학습할 데이터 생성 중~:  29%|██▉       | 21660/74548 [20:03<54:40, 16.12it/s]  "
     ]
    },
    {
     "name": "stdout",
     "output_type": "stream",
     "text": [
      "MSKU5907622-1 은 크롤링되지 않았습니다.\n"
     ]
    },
    {
     "name": "stderr",
     "output_type": "stream",
     "text": [
      "학습할 데이터 생성 중~:  29%|██▉       | 21679/74548 [20:05<54:43, 16.10it/s]  "
     ]
    },
    {
     "name": "stdout",
     "output_type": "stream",
     "text": [
      "MSKU3230527-1 은 크롤링되지 않았습니다.\n"
     ]
    },
    {
     "name": "stderr",
     "output_type": "stream",
     "text": [
      "학습할 데이터 생성 중~:  29%|██▉       | 21831/74548 [20:15<42:14, 20.80it/s]  "
     ]
    },
    {
     "name": "stdout",
     "output_type": "stream",
     "text": [
      "MNBU0402132-1 은 크롤링되지 않았습니다.\n",
      "MNBU0350419-1 은 크롤링되지 않았습니다.\n",
      "MNBU0308194-1 은 크롤링되지 않았습니다.\n",
      "MNBU0296621-1 은 크롤링되지 않았습니다.\n"
     ]
    },
    {
     "name": "stderr",
     "output_type": "stream",
     "text": [
      "학습할 데이터 생성 중~:  29%|██▉       | 21956/74548 [20:24<55:23, 15.82it/s]  "
     ]
    },
    {
     "name": "stdout",
     "output_type": "stream",
     "text": [
      "HASU4443106-1 은 크롤링되지 않았습니다.\n",
      "HASU4431764-1 은 크롤링되지 않았습니다.\n"
     ]
    },
    {
     "name": "stderr",
     "output_type": "stream",
     "text": [
      "학습할 데이터 생성 중~:  29%|██▉       | 21961/74548 [20:24<56:23, 15.54it/s]"
     ]
    },
    {
     "name": "stdout",
     "output_type": "stream",
     "text": [
      "HASU4405132-2 은 크롤링되지 않았습니다.\n"
     ]
    },
    {
     "name": "stderr",
     "output_type": "stream",
     "text": [
      "학습할 데이터 생성 중~:  30%|██▉       | 22033/74548 [20:29<55:08, 15.87it/s]  "
     ]
    },
    {
     "name": "stdout",
     "output_type": "stream",
     "text": [
      "FSCU7939052-1 은 크롤링되지 않았습니다.\n"
     ]
    },
    {
     "name": "stderr",
     "output_type": "stream",
     "text": [
      "학습할 데이터 생성 중~:  30%|██▉       | 22037/74548 [20:29<53:45, 16.28it/s]"
     ]
    },
    {
     "name": "stdout",
     "output_type": "stream",
     "text": [
      "FCIU4941801-1 은 크롤링되지 않았습니다.\n"
     ]
    },
    {
     "name": "stderr",
     "output_type": "stream",
     "text": [
      "학습할 데이터 생성 중~:  30%|██▉       | 22198/74548 [20:40<47:59, 18.18it/s]  "
     ]
    },
    {
     "name": "stdout",
     "output_type": "stream",
     "text": [
      "TRLU6583730-1 은 크롤링되지 않았습니다.\n"
     ]
    },
    {
     "name": "stderr",
     "output_type": "stream",
     "text": [
      "학습할 데이터 생성 중~:  30%|███       | 22433/74548 [20:54<51:14, 16.95it/s]  "
     ]
    },
    {
     "name": "stdout",
     "output_type": "stream",
     "text": [
      "SEGU4241915-3 은 크롤링되지 않았습니다.\n"
     ]
    },
    {
     "name": "stderr",
     "output_type": "stream",
     "text": [
      "학습할 데이터 생성 중~:  30%|███       | 22690/74548 [21:11<49:24, 17.50it/s]  "
     ]
    },
    {
     "name": "stdout",
     "output_type": "stream",
     "text": [
      "MSKU5652455-1 은 크롤링되지 않았습니다.\n"
     ]
    },
    {
     "name": "stderr",
     "output_type": "stream",
     "text": [
      "학습할 데이터 생성 중~:  30%|███       | 22697/74548 [21:11<51:35, 16.75it/s]"
     ]
    },
    {
     "name": "stdout",
     "output_type": "stream",
     "text": [
      "MSKU5184204-1 은 크롤링되지 않았습니다.\n"
     ]
    },
    {
     "name": "stderr",
     "output_type": "stream",
     "text": [
      "학습할 데이터 생성 중~:  30%|███       | 22718/74548 [21:12<49:21, 17.50it/s]"
     ]
    },
    {
     "name": "stdout",
     "output_type": "stream",
     "text": [
      "MSKU3810931-1 은 크롤링되지 않았습니다.\n"
     ]
    },
    {
     "name": "stderr",
     "output_type": "stream",
     "text": [
      "학습할 데이터 생성 중~:  32%|███▏      | 23625/74548 [22:10<50:02, 16.96it/s]  "
     ]
    },
    {
     "name": "stdout",
     "output_type": "stream",
     "text": [
      "BMOU4193698-1 은 크롤링되지 않았습니다.\n"
     ]
    },
    {
     "name": "stderr",
     "output_type": "stream",
     "text": [
      "학습할 데이터 생성 중~:  32%|███▏      | 23720/74548 [22:16<46:54, 18.06it/s]"
     ]
    },
    {
     "name": "stdout",
     "output_type": "stream",
     "text": [
      "TCNU4279619-1 은 크롤링되지 않았습니다.\n",
      "TCNU4119077-1 은 크롤링되지 않았습니다.\n"
     ]
    },
    {
     "name": "stderr",
     "output_type": "stream",
     "text": [
      "학습할 데이터 생성 중~:  32%|███▏      | 23926/74548 [22:29<45:07, 18.70it/s]"
     ]
    },
    {
     "name": "stdout",
     "output_type": "stream",
     "text": [
      "MSKU0347551-1 은 크롤링되지 않았습니다.\n"
     ]
    },
    {
     "name": "stderr",
     "output_type": "stream",
     "text": [
      "학습할 데이터 생성 중~:  33%|███▎      | 24319/74548 [22:53<48:45, 17.17it/s]  "
     ]
    },
    {
     "name": "stdout",
     "output_type": "stream",
     "text": [
      "DFSU2681885-1 은 크롤링되지 않았습니다.\n"
     ]
    },
    {
     "name": "stderr",
     "output_type": "stream",
     "text": [
      "학습할 데이터 생성 중~:  33%|███▎      | 24522/74548 [23:06<53:48, 15.50it/s]  "
     ]
    },
    {
     "name": "stdout",
     "output_type": "stream",
     "text": [
      "MRKU6430384-2 은 크롤링되지 않았습니다.\n",
      "MRKU6414070-1 은 크롤링되지 않았습니다.\n",
      "MRKU6297435-1 은 크롤링되지 않았습니다.\n",
      "MRKU6108866-2 은 크롤링되지 않았습니다.\n"
     ]
    },
    {
     "name": "stderr",
     "output_type": "stream",
     "text": [
      "학습할 데이터 생성 중~:  34%|███▎      | 25047/74548 [23:38<45:06, 18.29it/s]  "
     ]
    },
    {
     "name": "stdout",
     "output_type": "stream",
     "text": [
      "MSKU9247424-1 은 크롤링되지 않았습니다.\n",
      "MSKU9156751-1 은 크롤링되지 않았습니다.\n"
     ]
    },
    {
     "name": "stderr",
     "output_type": "stream",
     "text": [
      "학습할 데이터 생성 중~:  34%|███▎      | 25138/74548 [23:44<48:43, 16.90it/s]"
     ]
    },
    {
     "name": "stdout",
     "output_type": "stream",
     "text": [
      "MSCU3576260-1 은 크롤링되지 않았습니다.\n"
     ]
    },
    {
     "name": "stderr",
     "output_type": "stream",
     "text": [
      "학습할 데이터 생성 중~:  34%|███▍      | 25469/74548 [24:05<43:01, 19.01it/s]  "
     ]
    },
    {
     "name": "stdout",
     "output_type": "stream",
     "text": [
      "MSKU5228473-1 은 크롤링되지 않았습니다.\n"
     ]
    },
    {
     "name": "stderr",
     "output_type": "stream",
     "text": [
      "학습할 데이터 생성 중~:  34%|███▍      | 25478/74548 [24:06<43:19, 18.88it/s]"
     ]
    },
    {
     "name": "stdout",
     "output_type": "stream",
     "text": [
      "MSKU2536657-3 은 크롤링되지 않았습니다.\n"
     ]
    },
    {
     "name": "stderr",
     "output_type": "stream",
     "text": [
      "학습할 데이터 생성 중~:  35%|███▍      | 25946/74548 [24:33<49:17, 16.44it/s]  "
     ]
    },
    {
     "name": "stdout",
     "output_type": "stream",
     "text": [
      "MSKU8211453-1 은 크롤링되지 않았습니다.\n"
     ]
    },
    {
     "name": "stderr",
     "output_type": "stream",
     "text": [
      "학습할 데이터 생성 중~:  35%|███▍      | 26087/74548 [24:43<46:43, 17.29it/s]"
     ]
    },
    {
     "name": "stdout",
     "output_type": "stream",
     "text": [
      "MEDU4135753-1 은 크롤링되지 않았습니다.\n"
     ]
    },
    {
     "name": "stderr",
     "output_type": "stream",
     "text": [
      "학습할 데이터 생성 중~:  35%|███▌      | 26094/74548 [24:43<46:12, 17.47it/s]"
     ]
    },
    {
     "name": "stdout",
     "output_type": "stream",
     "text": [
      "MEDU3858125-1 은 크롤링되지 않았습니다.\n",
      "MEDU3782056-1 은 크롤링되지 않았습니다.\n"
     ]
    },
    {
     "name": "stderr",
     "output_type": "stream",
     "text": [
      "학습할 데이터 생성 중~:  35%|███▌      | 26098/74548 [24:43<55:42, 14.49it/s]"
     ]
    },
    {
     "name": "stdout",
     "output_type": "stream",
     "text": [
      "MEDU3280490-1 은 크롤링되지 않았습니다.\n"
     ]
    },
    {
     "name": "stderr",
     "output_type": "stream",
     "text": [
      "학습할 데이터 생성 중~:  35%|███▌      | 26100/74548 [24:43<51:37, 15.64it/s]"
     ]
    },
    {
     "name": "stdout",
     "output_type": "stream",
     "text": [
      "MEDU3012060-1 은 크롤링되지 않았습니다.\n",
      "MEDU2819280-2 은 크롤링되지 않았습니다.\n",
      "MEDU2624293-1 은 크롤링되지 않았습니다.\n"
     ]
    },
    {
     "name": "stderr",
     "output_type": "stream",
     "text": [
      "학습할 데이터 생성 중~:  35%|███▌      | 26110/74548 [24:44<36:36, 22.05it/s]"
     ]
    },
    {
     "name": "stdout",
     "output_type": "stream",
     "text": [
      "MEDU2242182-2 은 크롤링되지 않았습니다.\n",
      "MEDU2069591-1 은 크롤링되지 않았습니다.\n",
      "MEDU1865001-1 은 크롤링되지 않았습니다.\n",
      "MEDU1790176-1 은 크롤링되지 않았습니다.\n",
      "MEDU1664835-1 은 크롤링되지 않았습니다.\n",
      "MEDU1213148-4 은 크롤링되지 않았습니다.\n"
     ]
    },
    {
     "name": "stderr",
     "output_type": "stream",
     "text": [
      "학습할 데이터 생성 중~:  35%|███▌      | 26113/74548 [24:44<40:52, 19.75it/s]"
     ]
    },
    {
     "name": "stdout",
     "output_type": "stream",
     "text": [
      "MEDU1029640-1 은 크롤링되지 않았습니다.\n"
     ]
    },
    {
     "name": "stderr",
     "output_type": "stream",
     "text": [
      "학습할 데이터 생성 중~:  35%|███▌      | 26144/74548 [24:46<52:34, 15.35it/s]"
     ]
    },
    {
     "name": "stdout",
     "output_type": "stream",
     "text": [
      "GLDU9458335-1 은 크롤링되지 않았습니다.\n"
     ]
    },
    {
     "name": "stderr",
     "output_type": "stream",
     "text": [
      "학습할 데이터 생성 중~:  35%|███▌      | 26373/74548 [25:01<47:11, 17.01it/s]  "
     ]
    },
    {
     "name": "stdout",
     "output_type": "stream",
     "text": [
      "TGCU0232730-1 은 크롤링되지 않았습니다.\n"
     ]
    },
    {
     "name": "stderr",
     "output_type": "stream",
     "text": [
      "학습할 데이터 생성 중~:  36%|███▌      | 26618/74548 [25:18<49:05, 16.27it/s]"
     ]
    },
    {
     "name": "stdout",
     "output_type": "stream",
     "text": [
      "MSFU8621608-1 은 크롤링되지 않았습니다.\n"
     ]
    },
    {
     "name": "stderr",
     "output_type": "stream",
     "text": [
      "학습할 데이터 생성 중~:  36%|███▌      | 26708/74548 [25:23<36:40, 21.74it/s]"
     ]
    },
    {
     "name": "stdout",
     "output_type": "stream",
     "text": [
      "MSCU6289200-4 은 크롤링되지 않았습니다.\n",
      "MSCU6277323-1 은 크롤링되지 않았습니다.\n",
      "MSCU6276693-1 은 크롤링되지 않았습니다.\n",
      "MSCU6276498-1 은 크롤링되지 않았습니다.\n",
      "MSCU6269375-3 은 크롤링되지 않았습니다.\n"
     ]
    },
    {
     "name": "stderr",
     "output_type": "stream",
     "text": [
      "학습할 데이터 생성 중~:  37%|███▋      | 27250/74548 [25:59<52:16, 15.08it/s]  "
     ]
    },
    {
     "name": "stdout",
     "output_type": "stream",
     "text": [
      "INBU3836009-1 은 크롤링되지 않았습니다.\n"
     ]
    },
    {
     "name": "stderr",
     "output_type": "stream",
     "text": [
      "학습할 데이터 생성 중~:  37%|███▋      | 27431/74548 [26:10<45:22, 17.31it/s]"
     ]
    },
    {
     "name": "stdout",
     "output_type": "stream",
     "text": [
      "FCGU1689788-1 은 크롤링되지 않았습니다.\n"
     ]
    },
    {
     "name": "stderr",
     "output_type": "stream",
     "text": [
      "학습할 데이터 생성 중~:  37%|███▋      | 27633/74548 [26:23<50:19, 15.54it/s]"
     ]
    },
    {
     "name": "stdout",
     "output_type": "stream",
     "text": [
      "AMFU8657079-3 은 크롤링되지 않았습니다.\n"
     ]
    },
    {
     "name": "stderr",
     "output_type": "stream",
     "text": [
      "학습할 데이터 생성 중~:  37%|███▋      | 27642/74548 [26:24<47:42, 16.39it/s]"
     ]
    },
    {
     "name": "stdout",
     "output_type": "stream",
     "text": [
      "TEMU3424570-2 은 크롤링되지 않았습니다.\n"
     ]
    },
    {
     "name": "stderr",
     "output_type": "stream",
     "text": [
      "학습할 데이터 생성 중~:  37%|███▋      | 27923/74548 [26:42<36:44, 21.15it/s]"
     ]
    },
    {
     "name": "stdout",
     "output_type": "stream",
     "text": [
      "TCNU1339144-1 은 크롤링되지 않았습니다.\n",
      "TCNU1338852-1 은 크롤링되지 않았습니다.\n",
      "TCNU1338636-1 은 크롤링되지 않았습니다.\n",
      "TCNU1337835-1 은 크롤링되지 않았습니다.\n",
      "TCNU1337579-1 은 크롤링되지 않았습니다.\n"
     ]
    },
    {
     "name": "stderr",
     "output_type": "stream",
     "text": [
      "학습할 데이터 생성 중~:  38%|███▊      | 28000/74548 [26:46<42:37, 18.20it/s]"
     ]
    },
    {
     "name": "stdout",
     "output_type": "stream",
     "text": [
      "SUDU7479276-2 은 크롤링되지 않았습니다.\n"
     ]
    },
    {
     "name": "stderr",
     "output_type": "stream",
     "text": [
      "학습할 데이터 생성 중~:  38%|███▊      | 28187/74548 [26:57<44:16, 17.45it/s]"
     ]
    },
    {
     "name": "stdout",
     "output_type": "stream",
     "text": [
      "MSCU3018099-1 은 크롤링되지 않았습니다.\n"
     ]
    },
    {
     "name": "stderr",
     "output_type": "stream",
     "text": [
      "학습할 데이터 생성 중~:  38%|███▊      | 28247/74548 [27:01<44:00, 17.53it/s]"
     ]
    },
    {
     "name": "stdout",
     "output_type": "stream",
     "text": [
      "MNBU3565196-1 은 크롤링되지 않았습니다.\n"
     ]
    },
    {
     "name": "stderr",
     "output_type": "stream",
     "text": [
      "학습할 데이터 생성 중~:  38%|███▊      | 28436/74548 [27:12<42:34, 18.05it/s]"
     ]
    },
    {
     "name": "stdout",
     "output_type": "stream",
     "text": [
      "FSCU8355109-1 은 크롤링되지 않았습니다.\n"
     ]
    },
    {
     "name": "stderr",
     "output_type": "stream",
     "text": [
      "학습할 데이터 생성 중~:  38%|███▊      | 28553/74548 [27:19<44:30, 17.22it/s]"
     ]
    },
    {
     "name": "stdout",
     "output_type": "stream",
     "text": [
      "AXIU2013976-1 은 크롤링되지 않았습니다.\n"
     ]
    },
    {
     "name": "stderr",
     "output_type": "stream",
     "text": [
      "학습할 데이터 생성 중~:  38%|███▊      | 28600/74548 [27:22<50:00, 15.31it/s]"
     ]
    },
    {
     "name": "stdout",
     "output_type": "stream",
     "text": [
      "MRKU6213326-1 은 크롤링되지 않았습니다.\n"
     ]
    },
    {
     "name": "stderr",
     "output_type": "stream",
     "text": [
      "학습할 데이터 생성 중~:  38%|███▊      | 28609/74548 [27:23<48:31, 15.78it/s]"
     ]
    },
    {
     "name": "stdout",
     "output_type": "stream",
     "text": [
      "INBU5052310-1 은 크롤링되지 않았습니다.\n"
     ]
    },
    {
     "name": "stderr",
     "output_type": "stream",
     "text": [
      "학습할 데이터 생성 중~:  38%|███▊      | 28682/74548 [27:27<44:27, 17.20it/s]"
     ]
    },
    {
     "name": "stdout",
     "output_type": "stream",
     "text": [
      "TGHU4327766-1 은 크롤링되지 않았습니다.\n"
     ]
    },
    {
     "name": "stderr",
     "output_type": "stream",
     "text": [
      "학습할 데이터 생성 중~:  39%|███▊      | 28745/74548 [27:31<46:03, 16.58it/s]"
     ]
    },
    {
     "name": "stdout",
     "output_type": "stream",
     "text": [
      "TCLU7779837-1 은 크롤링되지 않았습니다.\n"
     ]
    },
    {
     "name": "stderr",
     "output_type": "stream",
     "text": [
      "학습할 데이터 생성 중~:  39%|███▉      | 28918/74548 [27:43<43:56, 17.31it/s]"
     ]
    },
    {
     "name": "stdout",
     "output_type": "stream",
     "text": [
      "MSCU4743058-1 은 크롤링되지 않았습니다.\n",
      "MSCU4725054-1 은 크롤링되지 않았습니다.\n"
     ]
    },
    {
     "name": "stderr",
     "output_type": "stream",
     "text": [
      "학습할 데이터 생성 중~:  39%|███▉      | 29120/74548 [27:56<43:13, 17.52it/s]"
     ]
    },
    {
     "name": "stdout",
     "output_type": "stream",
     "text": [
      "MEDU1385770-1 은 크롤링되지 않았습니다.\n",
      "MEDU1161050-1 은 크롤링되지 않았습니다.\n"
     ]
    },
    {
     "name": "stderr",
     "output_type": "stream",
     "text": [
      "학습할 데이터 생성 중~:  39%|███▉      | 29201/74548 [28:01<45:03, 16.77it/s]  "
     ]
    },
    {
     "name": "stdout",
     "output_type": "stream",
     "text": [
      "FCIU8305069-1 은 크롤링되지 않았습니다.\n"
     ]
    },
    {
     "name": "stderr",
     "output_type": "stream",
     "text": [
      "학습할 데이터 생성 중~:  39%|███▉      | 29282/74548 [28:07<47:32, 15.87it/s]  "
     ]
    },
    {
     "name": "stdout",
     "output_type": "stream",
     "text": [
      "CARU5248852-1 은 크롤링되지 않았습니다.\n"
     ]
    },
    {
     "name": "stderr",
     "output_type": "stream",
     "text": [
      "학습할 데이터 생성 중~:  39%|███▉      | 29423/74548 [28:16<42:11, 17.83it/s]"
     ]
    },
    {
     "name": "stdout",
     "output_type": "stream",
     "text": [
      "TCNU7000841-1 은 크롤링되지 않았습니다.\n",
      "TCNU6962666-4 은 크롤링되지 않았습니다.\n"
     ]
    },
    {
     "name": "stderr",
     "output_type": "stream",
     "text": [
      "학습할 데이터 생성 중~:  39%|███▉      | 29446/74548 [28:18<45:42, 16.45it/s]"
     ]
    },
    {
     "name": "stdout",
     "output_type": "stream",
     "text": [
      "TCKU3697800-1 은 크롤링되지 않았습니다.\n",
      "TCKU3399528-1 은 크롤링되지 않았습니다.\n",
      "TCKU2376370-1 은 크롤링되지 않았습니다.\n"
     ]
    },
    {
     "name": "stderr",
     "output_type": "stream",
     "text": [
      "학습할 데이터 생성 중~:  40%|███▉      | 29555/74548 [28:27<48:16, 15.54it/s]  "
     ]
    },
    {
     "name": "stdout",
     "output_type": "stream",
     "text": [
      "MSKU6430046-1 은 크롤링되지 않았습니다.\n",
      "MSKU6346172-3 은 크롤링되지 않았습니다.\n",
      "MSKU6308336-1 은 크롤링되지 않았습니다.\n"
     ]
    },
    {
     "name": "stderr",
     "output_type": "stream",
     "text": [
      "학습할 데이터 생성 중~:  40%|███▉      | 29621/74548 [28:32<47:00, 15.93it/s]  "
     ]
    },
    {
     "name": "stdout",
     "output_type": "stream",
     "text": [
      "MRSU3922130-1 은 크롤링되지 않았습니다.\n"
     ]
    },
    {
     "name": "stderr",
     "output_type": "stream",
     "text": [
      "학습할 데이터 생성 중~:  40%|███▉      | 29660/74548 [28:34<46:47, 15.99it/s]"
     ]
    },
    {
     "name": "stdout",
     "output_type": "stream",
     "text": [
      "MRKU5482249-1 은 크롤링되지 않았습니다.\n"
     ]
    },
    {
     "name": "stderr",
     "output_type": "stream",
     "text": [
      "학습할 데이터 생성 중~:  40%|███▉      | 29693/74548 [28:36<46:14, 16.17it/s]"
     ]
    },
    {
     "name": "stdout",
     "output_type": "stream",
     "text": [
      "MRKU4035040-1 은 크롤링되지 않았습니다.\n"
     ]
    },
    {
     "name": "stderr",
     "output_type": "stream",
     "text": [
      "학습할 데이터 생성 중~:  40%|███▉      | 29717/74548 [28:38<47:01, 15.89it/s]"
     ]
    },
    {
     "name": "stdout",
     "output_type": "stream",
     "text": [
      "MRKU2318210-1 은 크롤링되지 않았습니다.\n"
     ]
    },
    {
     "name": "stderr",
     "output_type": "stream",
     "text": [
      "학습할 데이터 생성 중~:  40%|████      | 29834/74548 [28:46<45:42, 16.31it/s]"
     ]
    },
    {
     "name": "stdout",
     "output_type": "stream",
     "text": [
      "GLDU9590167-7 은 크롤링되지 않았습니다.\n"
     ]
    },
    {
     "name": "stderr",
     "output_type": "stream",
     "text": [
      "학습할 데이터 생성 중~:  40%|████      | 29838/74548 [28:46<46:17, 16.10it/s]"
     ]
    },
    {
     "name": "stdout",
     "output_type": "stream",
     "text": [
      "GLDU5206063-1 은 크롤링되지 않았습니다.\n"
     ]
    },
    {
     "name": "stderr",
     "output_type": "stream",
     "text": [
      "학습할 데이터 생성 중~:  40%|████      | 30030/74548 [28:59<37:31, 19.77it/s]  "
     ]
    },
    {
     "name": "stdout",
     "output_type": "stream",
     "text": [
      "TGHU1654976-1 은 크롤링되지 않았습니다.\n",
      "TGHU0492309-2 은 크롤링되지 않았습니다.\n",
      "TGCU5026202-2 은 크롤링되지 않았습니다.\n"
     ]
    },
    {
     "name": "stderr",
     "output_type": "stream",
     "text": [
      "학습할 데이터 생성 중~:  41%|████      | 30195/74548 [29:10<38:46, 19.06it/s]"
     ]
    },
    {
     "name": "stdout",
     "output_type": "stream",
     "text": [
      "MSKU6608890-2 은 크롤링되지 않았습니다.\n",
      "MSKU5588314-1 은 크롤링되지 않았습니다.\n"
     ]
    },
    {
     "name": "stderr",
     "output_type": "stream",
     "text": [
      "학습할 데이터 생성 중~:  41%|████      | 30255/74548 [29:13<45:18, 16.30it/s]"
     ]
    },
    {
     "name": "stdout",
     "output_type": "stream",
     "text": [
      "MSCU9491787-1 은 크롤링되지 않았습니다.\n"
     ]
    },
    {
     "name": "stderr",
     "output_type": "stream",
     "text": [
      "학습할 데이터 생성 중~:  41%|████      | 30332/74548 [29:18<42:21, 17.40it/s]"
     ]
    },
    {
     "name": "stdout",
     "output_type": "stream",
     "text": [
      "MSCU7272136-1 은 크롤링되지 않았습니다.\n"
     ]
    },
    {
     "name": "stderr",
     "output_type": "stream",
     "text": [
      "학습할 데이터 생성 중~:  41%|████      | 30395/74548 [29:22<41:53, 17.57it/s]"
     ]
    },
    {
     "name": "stdout",
     "output_type": "stream",
     "text": [
      "MRSU0015389-1 은 크롤링되지 않았습니다.\n"
     ]
    },
    {
     "name": "stderr",
     "output_type": "stream",
     "text": [
      "학습할 데이터 생성 중~:  41%|████▏     | 30760/74548 [29:45<41:46, 17.47it/s]"
     ]
    },
    {
     "name": "stdout",
     "output_type": "stream",
     "text": [
      "EOLU8100472-1 은 크롤링되지 않았습니다.\n",
      "DRYU9114990-4 은 크롤링되지 않았습니다.\n",
      "DRYU9073696-1 은 크롤링되지 않았습니다.\n"
     ]
    },
    {
     "name": "stderr",
     "output_type": "stream",
     "text": [
      "학습할 데이터 생성 중~:  41%|████▏     | 30767/74548 [29:45<39:54, 18.28it/s]"
     ]
    },
    {
     "name": "stdout",
     "output_type": "stream",
     "text": [
      "DRYU2511213-1 은 크롤링되지 않았습니다.\n"
     ]
    },
    {
     "name": "stderr",
     "output_type": "stream",
     "text": [
      "학습할 데이터 생성 중~:  42%|████▏     | 31071/74548 [30:04<42:22, 17.10it/s]"
     ]
    },
    {
     "name": "stdout",
     "output_type": "stream",
     "text": [
      "TCLU2233843-1 은 크롤링되지 않았습니다.\n"
     ]
    },
    {
     "name": "stderr",
     "output_type": "stream",
     "text": [
      "학습할 데이터 생성 중~:  42%|████▏     | 31083/74548 [30:05<54:07, 13.39it/s]"
     ]
    },
    {
     "name": "stdout",
     "output_type": "stream",
     "text": [
      "TCKU2668638-1 은 크롤링되지 않았습니다.\n"
     ]
    },
    {
     "name": "stderr",
     "output_type": "stream",
     "text": [
      "학습할 데이터 생성 중~:  42%|████▏     | 31306/74548 [30:20<43:20, 16.63it/s]  "
     ]
    },
    {
     "name": "stdout",
     "output_type": "stream",
     "text": [
      "MSCU4794292-1 은 크롤링되지 않았습니다.\n"
     ]
    },
    {
     "name": "stderr",
     "output_type": "stream",
     "text": [
      "학습할 데이터 생성 중~:  42%|████▏     | 31584/74548 [30:38<38:39, 18.52it/s]"
     ]
    },
    {
     "name": "stdout",
     "output_type": "stream",
     "text": [
      "MEDU1474012-1 은 크롤링되지 않았습니다.\n",
      "MEDU1416546-1 은 크롤링되지 않았습니다.\n",
      "MEDU1383289-1 은 크롤링되지 않았습니다.\n"
     ]
    },
    {
     "name": "stderr",
     "output_type": "stream",
     "text": [
      "학습할 데이터 생성 중~:  42%|████▏     | 31594/74548 [30:39<38:08, 18.77it/s]"
     ]
    },
    {
     "name": "stdout",
     "output_type": "stream",
     "text": [
      "MEDU1065415-1 은 크롤링되지 않았습니다.\n",
      "MEDU1041115-1 은 크롤링되지 않았습니다.\n",
      "MAEU8364388-1 은 크롤링되지 않았습니다.\n"
     ]
    },
    {
     "name": "stderr",
     "output_type": "stream",
     "text": [
      "학습할 데이터 생성 중~:  42%|████▏     | 31607/74548 [30:40<44:00, 16.27it/s]"
     ]
    },
    {
     "name": "stdout",
     "output_type": "stream",
     "text": [
      "IPXU3143073-1 은 크롤링되지 않았습니다.\n"
     ]
    },
    {
     "name": "stderr",
     "output_type": "stream",
     "text": [
      "학습할 데이터 생성 중~:  42%|████▏     | 31646/74548 [30:42<42:57, 16.65it/s]"
     ]
    },
    {
     "name": "stdout",
     "output_type": "stream",
     "text": [
      "GLDU3692500-1 은 크롤링되지 않았습니다.\n"
     ]
    },
    {
     "name": "stderr",
     "output_type": "stream",
     "text": [
      "학습할 데이터 생성 중~:  43%|████▎     | 31697/74548 [30:46<43:40, 16.35it/s]"
     ]
    },
    {
     "name": "stdout",
     "output_type": "stream",
     "text": [
      "FCIU5938675-1 은 크롤링되지 않았습니다.\n"
     ]
    },
    {
     "name": "stderr",
     "output_type": "stream",
     "text": [
      "학습할 데이터 생성 중~:  43%|████▎     | 31913/74548 [31:00<40:25, 17.58it/s]"
     ]
    },
    {
     "name": "stdout",
     "output_type": "stream",
     "text": [
      "SUDU8725477-1 은 크롤링되지 않았습니다.\n",
      "SUDU7462191-2 은 크롤링되지 않았습니다.\n",
      "SUDU6558072-1 은 크롤링되지 않았습니다.\n"
     ]
    },
    {
     "name": "stderr",
     "output_type": "stream",
     "text": [
      "학습할 데이터 생성 중~:  43%|████▎     | 32004/74548 [31:07<43:50, 16.18it/s]"
     ]
    },
    {
     "name": "stdout",
     "output_type": "stream",
     "text": [
      "MSKU6921097-3 은 크롤링되지 않았습니다.\n",
      "MSKU6878827-3 은 크롤링되지 않았습니다.\n"
     ]
    },
    {
     "name": "stderr",
     "output_type": "stream",
     "text": [
      "학습할 데이터 생성 중~:  43%|████▎     | 32084/74548 [31:12<46:20, 15.27it/s]"
     ]
    },
    {
     "name": "stdout",
     "output_type": "stream",
     "text": [
      "MRSU3756030-2 은 크롤링되지 않았습니다.\n"
     ]
    },
    {
     "name": "stderr",
     "output_type": "stream",
     "text": [
      "학습할 데이터 생성 중~:  43%|████▎     | 32200/74548 [31:21<46:16, 15.25it/s]  "
     ]
    },
    {
     "name": "stdout",
     "output_type": "stream",
     "text": [
      "MRKU2041717-1 은 크롤링되지 않았습니다.\n"
     ]
    },
    {
     "name": "stderr",
     "output_type": "stream",
     "text": [
      "학습할 데이터 생성 중~:  44%|████▍     | 33083/74548 [32:19<41:29, 16.66it/s]  "
     ]
    },
    {
     "name": "stdout",
     "output_type": "stream",
     "text": [
      "MRKU7044658-1 은 크롤링되지 않았습니다.\n"
     ]
    },
    {
     "name": "stderr",
     "output_type": "stream",
     "text": [
      "학습할 데이터 생성 중~:  45%|████▍     | 33310/74548 [32:34<41:04, 16.73it/s]"
     ]
    },
    {
     "name": "stdout",
     "output_type": "stream",
     "text": [
      "MEDU1418153-1 은 크롤링되지 않았습니다.\n"
     ]
    },
    {
     "name": "stderr",
     "output_type": "stream",
     "text": [
      "학습할 데이터 생성 중~:  45%|████▍     | 33323/74548 [32:35<43:55, 15.64it/s]"
     ]
    },
    {
     "name": "stdout",
     "output_type": "stream",
     "text": [
      "MEDU1219911-1 은 크롤링되지 않았습니다.\n"
     ]
    },
    {
     "name": "stderr",
     "output_type": "stream",
     "text": [
      "학습할 데이터 생성 중~:  45%|████▍     | 33519/74548 [32:48<42:54, 15.94it/s]"
     ]
    },
    {
     "name": "stdout",
     "output_type": "stream",
     "text": [
      "DRYU2495581-1 은 크롤링되지 않았습니다.\n"
     ]
    },
    {
     "name": "stderr",
     "output_type": "stream",
     "text": [
      "학습할 데이터 생성 중~:  46%|████▌     | 34380/74548 [33:43<39:42, 16.86it/s]  "
     ]
    },
    {
     "name": "stdout",
     "output_type": "stream",
     "text": [
      "XINU8087543-1 은 크롤링되지 않았습니다.\n"
     ]
    },
    {
     "name": "stderr",
     "output_type": "stream",
     "text": [
      "학습할 데이터 생성 중~:  46%|████▋     | 34622/74548 [34:00<54:49, 12.14it/s]"
     ]
    },
    {
     "name": "stdout",
     "output_type": "stream",
     "text": [
      "TCNU5765620-1 은 크롤링되지 않았습니다.\n"
     ]
    },
    {
     "name": "stderr",
     "output_type": "stream",
     "text": [
      "학습할 데이터 생성 중~:  47%|████▋     | 34777/74548 [34:11<43:45, 15.15it/s]  "
     ]
    },
    {
     "name": "stdout",
     "output_type": "stream",
     "text": [
      "SEGU2776184-1 은 크롤링되지 않았습니다.\n"
     ]
    },
    {
     "name": "stderr",
     "output_type": "stream",
     "text": [
      "학습할 데이터 생성 중~:  47%|████▋     | 34829/74548 [34:14<43:10, 15.33it/s]"
     ]
    },
    {
     "name": "stdout",
     "output_type": "stream",
     "text": [
      "MSKU7916346-1 은 크롤링되지 않았습니다.\n"
     ]
    },
    {
     "name": "stderr",
     "output_type": "stream",
     "text": [
      "학습할 데이터 생성 중~:  47%|████▋     | 35182/74548 [34:39<39:58, 16.42it/s]"
     ]
    },
    {
     "name": "stdout",
     "output_type": "stream",
     "text": [
      "MRKU7535501-1 은 크롤링되지 않았습니다.\n"
     ]
    },
    {
     "name": "stderr",
     "output_type": "stream",
     "text": [
      "학습할 데이터 생성 중~:  47%|████▋     | 35195/74548 [34:39<39:30, 16.60it/s]"
     ]
    },
    {
     "name": "stdout",
     "output_type": "stream",
     "text": [
      "MRKU6877557-1 은 크롤링되지 않았습니다.\n"
     ]
    },
    {
     "name": "stderr",
     "output_type": "stream",
     "text": [
      "학습할 데이터 생성 중~:  47%|████▋     | 35304/74548 [34:47<40:48, 16.03it/s]"
     ]
    },
    {
     "name": "stdout",
     "output_type": "stream",
     "text": [
      "MEDU8892009-1 은 크롤링되지 않았습니다.\n"
     ]
    },
    {
     "name": "stderr",
     "output_type": "stream",
     "text": [
      "학습할 데이터 생성 중~:  48%|████▊     | 35423/74548 [34:55<35:55, 18.15it/s]"
     ]
    },
    {
     "name": "stdout",
     "output_type": "stream",
     "text": [
      "MEDU7077429-1 은 크롤링되지 않았습니다.\n",
      "MEDU7070872-1 은 크롤링되지 않았습니다.\n"
     ]
    },
    {
     "name": "stderr",
     "output_type": "stream",
     "text": [
      "학습할 데이터 생성 중~:  48%|████▊     | 35606/74548 [35:07<41:41, 15.57it/s]"
     ]
    },
    {
     "name": "stdout",
     "output_type": "stream",
     "text": [
      "INKU6517950-2 은 크롤링되지 않았습니다.\n"
     ]
    },
    {
     "name": "stderr",
     "output_type": "stream",
     "text": [
      "학습할 데이터 생성 중~:  48%|████▊     | 35647/74548 [35:10<31:38, 20.49it/s]"
     ]
    },
    {
     "name": "stdout",
     "output_type": "stream",
     "text": [
      "GLDU7387084-1 은 크롤링되지 않았습니다.\n",
      "GLDU7383957-1 은 크롤링되지 않았습니다.\n",
      "GLDU7339770-2 은 크롤링되지 않았습니다.\n",
      "GLDU7325971-1 은 크롤링되지 않았습니다.\n",
      "GLDU7325312-1 은 크롤링되지 않았습니다.\n",
      "GLDU7295394-1 은 크롤링되지 않았습니다.\n"
     ]
    },
    {
     "name": "stderr",
     "output_type": "stream",
     "text": [
      "학습할 데이터 생성 중~:  48%|████▊     | 35653/74548 [35:10<29:42, 21.82it/s]"
     ]
    },
    {
     "name": "stdout",
     "output_type": "stream",
     "text": [
      "GLDU7235902-2 은 크롤링되지 않았습니다.\n",
      "GLDU7132566-1 은 크롤링되지 않았습니다.\n",
      "GLDU5732474-1 은 크롤링되지 않았습니다.\n"
     ]
    },
    {
     "name": "stderr",
     "output_type": "stream",
     "text": [
      "학습할 데이터 생성 중~:  48%|████▊     | 35657/74548 [35:10<25:50, 25.08it/s]"
     ]
    },
    {
     "name": "stdout",
     "output_type": "stream",
     "text": [
      "GLDU5627479-1 은 크롤링되지 않았습니다.\n",
      "GLDU5625270-1 은 크롤링되지 않았습니다.\n",
      "GLDU5613829-1 은 크롤링되지 않았습니다.\n",
      "GLDU5565680-1 은 크롤링되지 않았습니다.\n"
     ]
    },
    {
     "name": "stderr",
     "output_type": "stream",
     "text": [
      "학습할 데이터 생성 중~:  48%|████▊     | 35788/74548 [35:19<39:24, 16.39it/s]"
     ]
    },
    {
     "name": "stdout",
     "output_type": "stream",
     "text": [
      "FCIU2421713-1 은 크롤링되지 않았습니다.\n"
     ]
    },
    {
     "name": "stderr",
     "output_type": "stream",
     "text": [
      "학습할 데이터 생성 중~:  48%|████▊     | 35946/74548 [35:30<45:13, 14.23it/s]"
     ]
    },
    {
     "name": "stdout",
     "output_type": "stream",
     "text": [
      "CARU9788186-1 은 크롤링되지 않았습니다.\n"
     ]
    },
    {
     "name": "stderr",
     "output_type": "stream",
     "text": [
      "학습할 데이터 생성 중~:  49%|████▉     | 36581/74548 [36:12<37:07, 17.04it/s]"
     ]
    },
    {
     "name": "stdout",
     "output_type": "stream",
     "text": [
      "MSKU7239857-1 은 크롤링되지 않았습니다.\n"
     ]
    },
    {
     "name": "stderr",
     "output_type": "stream",
     "text": [
      "학습할 데이터 생성 중~:  49%|████▉     | 36591/74548 [36:13<39:10, 16.15it/s]"
     ]
    },
    {
     "name": "stdout",
     "output_type": "stream",
     "text": [
      "MSKU6646837-1 은 크롤링되지 않았습니다.\n"
     ]
    },
    {
     "name": "stderr",
     "output_type": "stream",
     "text": [
      "학습할 데이터 생성 중~:  49%|████▉     | 36722/74548 [36:21<31:18, 20.14it/s]"
     ]
    },
    {
     "name": "stdout",
     "output_type": "stream",
     "text": [
      "MSKU2200940-2 은 크롤링되지 않았습니다.\n",
      "MSKU2187811-1 은 크롤링되지 않았습니다.\n",
      "MSKU2173720-2 은 크롤링되지 않았습니다.\n",
      "MSKU2121060-1 은 크롤링되지 않았습니다.\n",
      "MSKU2103683-1 은 크롤링되지 않았습니다.\n"
     ]
    },
    {
     "name": "stderr",
     "output_type": "stream",
     "text": [
      "학습할 데이터 생성 중~:  49%|████▉     | 36792/74548 [36:26<38:14, 16.46it/s]"
     ]
    },
    {
     "name": "stdout",
     "output_type": "stream",
     "text": [
      "MSCU6308888-2 은 크롤링되지 않았습니다.\n"
     ]
    },
    {
     "name": "stderr",
     "output_type": "stream",
     "text": [
      "학습할 데이터 생성 중~:  50%|████▉     | 37025/74548 [36:41<32:09, 19.45it/s]"
     ]
    },
    {
     "name": "stdout",
     "output_type": "stream",
     "text": [
      "MRKU3670463-3 은 크롤링되지 않았습니다.\n",
      "MRKU3552706-1 은 크롤링되지 않았습니다.\n",
      "MRKU3420741-1 은 크롤링되지 않았습니다.\n",
      "MRKU3365011-1 은 크롤링되지 않았습니다.\n",
      "MRKU3303302-1 은 크롤링되지 않았습니다.\n"
     ]
    },
    {
     "name": "stderr",
     "output_type": "stream",
     "text": [
      "학습할 데이터 생성 중~:  50%|████▉     | 37133/74548 [36:48<39:46, 15.68it/s]"
     ]
    },
    {
     "name": "stdout",
     "output_type": "stream",
     "text": [
      "MNBU0335950-1 은 크롤링되지 않았습니다.\n"
     ]
    },
    {
     "name": "stderr",
     "output_type": "stream",
     "text": [
      "학습할 데이터 생성 중~:  50%|████▉     | 37156/74548 [36:49<39:06, 15.93it/s]"
     ]
    },
    {
     "name": "stdout",
     "output_type": "stream",
     "text": [
      "MMAU1058871-1 은 크롤링되지 않았습니다.\n"
     ]
    },
    {
     "name": "stderr",
     "output_type": "stream",
     "text": [
      "학습할 데이터 생성 중~:  50%|████▉     | 37180/74548 [36:51<38:47, 16.06it/s]"
     ]
    },
    {
     "name": "stdout",
     "output_type": "stream",
     "text": [
      "MEDU8212396-1 은 크롤링되지 않았습니다.\n"
     ]
    },
    {
     "name": "stderr",
     "output_type": "stream",
     "text": [
      "학습할 데이터 생성 중~:  50%|████▉     | 37201/74548 [36:52<38:24, 16.21it/s]"
     ]
    },
    {
     "name": "stdout",
     "output_type": "stream",
     "text": [
      "MEDU4126279-1 은 크롤링되지 않았습니다.\n"
     ]
    },
    {
     "name": "stderr",
     "output_type": "stream",
     "text": [
      "학습할 데이터 생성 중~:  50%|█████     | 37586/74548 [37:18<37:52, 16.27it/s]"
     ]
    },
    {
     "name": "stdout",
     "output_type": "stream",
     "text": [
      "BMOU2647446-3 은 크롤링되지 않았습니다.\n"
     ]
    },
    {
     "name": "stderr",
     "output_type": "stream",
     "text": [
      "학습할 데이터 생성 중~:  51%|█████     | 37647/74548 [37:22<39:54, 15.41it/s]"
     ]
    },
    {
     "name": "stdout",
     "output_type": "stream",
     "text": [
      "MNBU3538462-1 은 크롤링되지 않았습니다.\n"
     ]
    },
    {
     "name": "stderr",
     "output_type": "stream",
     "text": [
      "학습할 데이터 생성 중~:  51%|█████     | 37831/74548 [37:34<32:28, 18.85it/s]"
     ]
    },
    {
     "name": "stdout",
     "output_type": "stream",
     "text": [
      "TCKU3399359-2 은 크롤링되지 않았습니다.\n",
      "TCKU3234868-1 은 크롤링되지 않았습니다.\n",
      "TCKU2374280-1 은 크롤링되지 않았습니다.\n"
     ]
    },
    {
     "name": "stderr",
     "output_type": "stream",
     "text": [
      "학습할 데이터 생성 중~:  51%|█████     | 37846/74548 [37:35<36:09, 16.92it/s]"
     ]
    },
    {
     "name": "stdout",
     "output_type": "stream",
     "text": [
      "SZLU9109799-1 은 크롤링되지 않았습니다.\n"
     ]
    },
    {
     "name": "stderr",
     "output_type": "stream",
     "text": [
      "학습할 데이터 생성 중~:  51%|█████     | 37944/74548 [37:41<39:28, 15.45it/s]"
     ]
    },
    {
     "name": "stdout",
     "output_type": "stream",
     "text": [
      "MSKU5111698-1 은 크롤링되지 않았습니다.\n"
     ]
    },
    {
     "name": "stderr",
     "output_type": "stream",
     "text": [
      "학습할 데이터 생성 중~:  51%|█████     | 37967/74548 [37:43<37:08, 16.41it/s]"
     ]
    },
    {
     "name": "stdout",
     "output_type": "stream",
     "text": [
      "MSKU2373014-1 은 크롤링되지 않았습니다.\n"
     ]
    },
    {
     "name": "stderr",
     "output_type": "stream",
     "text": [
      "학습할 데이터 생성 중~:  51%|█████     | 38152/74548 [37:55<38:32, 15.74it/s]"
     ]
    },
    {
     "name": "stdout",
     "output_type": "stream",
     "text": [
      "MRKU4623379-2 은 크롤링되지 않았습니다.\n",
      "MRKU4449061-2 은 크롤링되지 않았습니다.\n"
     ]
    },
    {
     "name": "stderr",
     "output_type": "stream",
     "text": [
      "학습할 데이터 생성 중~:  51%|█████▏    | 38252/74548 [38:01<35:03, 17.26it/s]"
     ]
    },
    {
     "name": "stdout",
     "output_type": "stream",
     "text": [
      "MEDU6286867-1 은 크롤링되지 않았습니다.\n"
     ]
    },
    {
     "name": "stderr",
     "output_type": "stream",
     "text": [
      "학습할 데이터 생성 중~:  51%|█████▏    | 38377/74548 [38:09<34:02, 17.71it/s]"
     ]
    },
    {
     "name": "stdout",
     "output_type": "stream",
     "text": [
      "HASU4038320-1 은 크롤링되지 않았습니다.\n",
      "HASU4018597-1 은 크롤링되지 않았습니다.\n",
      "HASU1365946-2 은 크롤링되지 않았습니다.\n"
     ]
    },
    {
     "name": "stderr",
     "output_type": "stream",
     "text": [
      "학습할 데이터 생성 중~:  51%|█████▏    | 38381/74548 [38:10<38:12, 15.78it/s]"
     ]
    },
    {
     "name": "stdout",
     "output_type": "stream",
     "text": [
      "HASU1015594-3 은 크롤링되지 않았습니다.\n",
      "GLDU9717122-1 은 크롤링되지 않았습니다.\n"
     ]
    },
    {
     "name": "stderr",
     "output_type": "stream",
     "text": [
      "학습할 데이터 생성 중~:  52%|█████▏    | 38426/74548 [38:12<37:19, 16.13it/s]"
     ]
    },
    {
     "name": "stdout",
     "output_type": "stream",
     "text": [
      "FSCU6564202-1 은 크롤링되지 않았습니다.\n"
     ]
    },
    {
     "name": "stderr",
     "output_type": "stream",
     "text": [
      "학습할 데이터 생성 중~:  52%|█████▏    | 38517/74548 [38:18<35:06, 17.11it/s]"
     ]
    },
    {
     "name": "stdout",
     "output_type": "stream",
     "text": [
      "CAIU2989942-1 은 크롤링되지 않았습니다.\n"
     ]
    },
    {
     "name": "stderr",
     "output_type": "stream",
     "text": [
      "학습할 데이터 생성 중~:  52%|█████▏    | 38604/74548 [38:24<34:12, 17.51it/s]"
     ]
    },
    {
     "name": "stdout",
     "output_type": "stream",
     "text": [
      "TEMU8994111-1 은 크롤링되지 않았습니다.\n"
     ]
    },
    {
     "name": "stderr",
     "output_type": "stream",
     "text": [
      "학습할 데이터 생성 중~:  52%|█████▏    | 38683/74548 [38:29<33:56, 17.61it/s]"
     ]
    },
    {
     "name": "stdout",
     "output_type": "stream",
     "text": [
      "TEMU0374114-3 은 크롤링되지 않았습니다.\n"
     ]
    },
    {
     "name": "stderr",
     "output_type": "stream",
     "text": [
      "학습할 데이터 생성 중~:  52%|█████▏    | 38688/74548 [38:29<33:07, 18.04it/s]"
     ]
    },
    {
     "name": "stdout",
     "output_type": "stream",
     "text": [
      "TEMU0269628-2 은 크롤링되지 않았습니다.\n"
     ]
    },
    {
     "name": "stderr",
     "output_type": "stream",
     "text": [
      "학습할 데이터 생성 중~:  52%|█████▏    | 38915/74548 [38:43<33:41, 17.63it/s]"
     ]
    },
    {
     "name": "stdout",
     "output_type": "stream",
     "text": [
      "FCIU5983890-1 은 크롤링되지 않았습니다.\n"
     ]
    },
    {
     "name": "stderr",
     "output_type": "stream",
     "text": [
      "학습할 데이터 생성 중~:  52%|█████▏    | 38956/74548 [38:45<34:27, 17.21it/s]"
     ]
    },
    {
     "name": "stdout",
     "output_type": "stream",
     "text": [
      "DFOU6127265-1 은 크롤링되지 않았습니다.\n"
     ]
    },
    {
     "name": "stderr",
     "output_type": "stream",
     "text": [
      "학습할 데이터 생성 중~:  52%|█████▏    | 39112/74548 [38:56<48:45, 12.11it/s]  "
     ]
    },
    {
     "name": "stdout",
     "output_type": "stream",
     "text": [
      "TGHU3200170-1 은 크롤링되지 않았습니다.\n"
     ]
    },
    {
     "name": "stderr",
     "output_type": "stream",
     "text": [
      "학습할 데이터 생성 중~:  53%|█████▎    | 39373/74548 [39:16<41:47, 14.03it/s]  "
     ]
    },
    {
     "name": "stdout",
     "output_type": "stream",
     "text": [
      "MRKU6669996-1 은 크롤링되지 않았습니다.\n"
     ]
    },
    {
     "name": "stderr",
     "output_type": "stream",
     "text": [
      "학습할 데이터 생성 중~:  53%|█████▎    | 39636/74548 [39:34<36:29, 15.95it/s]"
     ]
    },
    {
     "name": "stdout",
     "output_type": "stream",
     "text": [
      "CAIU3177100-1 은 크롤링되지 않았습니다.\n"
     ]
    },
    {
     "name": "stderr",
     "output_type": "stream",
     "text": [
      "학습할 데이터 생성 중~:  53%|█████▎    | 39705/74548 [39:38<25:36, 22.67it/s]"
     ]
    },
    {
     "name": "stdout",
     "output_type": "stream",
     "text": [
      "HDMU6535697-2 은 크롤링되지 않았습니다.\n",
      "HDMU6452735-1 은 크롤링되지 않았습니다.\n",
      "HDMU5590112-3 은 크롤링되지 않았습니다.\n",
      "HDMU5564237-1 은 크롤링되지 않았습니다.\n",
      "HDMU5528625-1 은 크롤링되지 않았습니다.\n"
     ]
    },
    {
     "name": "stderr",
     "output_type": "stream",
     "text": [
      "학습할 데이터 생성 중~:  54%|█████▍    | 40618/74548 [40:36<28:48, 19.63it/s]"
     ]
    },
    {
     "name": "stdout",
     "output_type": "stream",
     "text": [
      "TEMU4384147-1 은 크롤링되지 않았습니다.\n",
      "TEMU4254987-2 은 크롤링되지 않았습니다.\n",
      "TEMU4223348-5 은 크롤링되지 않았습니다.\n",
      "TEMU4223081-1 은 크롤링되지 않았습니다.\n",
      "TEMU4222130-4 은 크롤링되지 않았습니다.\n"
     ]
    },
    {
     "name": "stderr",
     "output_type": "stream",
     "text": [
      "학습할 데이터 생성 중~:  55%|█████▍    | 40789/74548 [40:48<36:47, 15.30it/s]"
     ]
    },
    {
     "name": "stdout",
     "output_type": "stream",
     "text": [
      "SEGU9302680-4 은 크롤링되지 않았습니다.\n"
     ]
    },
    {
     "name": "stderr",
     "output_type": "stream",
     "text": [
      "학습할 데이터 생성 중~:  55%|█████▌    | 41160/74548 [41:13<34:10, 16.28it/s]"
     ]
    },
    {
     "name": "stdout",
     "output_type": "stream",
     "text": [
      "DFSU1879578-1 은 크롤링되지 않았습니다.\n"
     ]
    },
    {
     "name": "stderr",
     "output_type": "stream",
     "text": [
      "학습할 데이터 생성 중~:  55%|█████▌    | 41185/74548 [41:14<30:24, 18.29it/s]"
     ]
    },
    {
     "name": "stdout",
     "output_type": "stream",
     "text": [
      "CXDU2110477-11 은 크롤링되지 않았습니다.\n"
     ]
    },
    {
     "name": "stderr",
     "output_type": "stream",
     "text": [
      "학습할 데이터 생성 중~:  55%|█████▌    | 41300/74548 [41:22<34:19, 16.15it/s]"
     ]
    },
    {
     "name": "stdout",
     "output_type": "stream",
     "text": [
      "BEAU2927036-2 은 크롤링되지 않았습니다.\n"
     ]
    },
    {
     "name": "stderr",
     "output_type": "stream",
     "text": [
      "학습할 데이터 생성 중~:  55%|█████▌    | 41324/74548 [41:24<37:17, 14.85it/s]"
     ]
    },
    {
     "name": "stdout",
     "output_type": "stream",
     "text": [
      "BEAU2598481-1 은 크롤링되지 않았습니다.\n"
     ]
    },
    {
     "name": "stderr",
     "output_type": "stream",
     "text": [
      "학습할 데이터 생성 중~:  55%|█████▌    | 41347/74548 [41:25<33:02, 16.74it/s]"
     ]
    },
    {
     "name": "stdout",
     "output_type": "stream",
     "text": [
      "TEMU8994410-1 은 크롤링되지 않았습니다.\n",
      "TEMU8991771-1 은 크롤링되지 않았습니다.\n"
     ]
    },
    {
     "name": "stderr",
     "output_type": "stream",
     "text": [
      "학습할 데이터 생성 중~:  56%|█████▌    | 41432/74548 [41:30<31:57, 17.27it/s]"
     ]
    },
    {
     "name": "stdout",
     "output_type": "stream",
     "text": [
      "TEMU7797015-2 은 크롤링되지 않았습니다.\n"
     ]
    },
    {
     "name": "stderr",
     "output_type": "stream",
     "text": [
      "학습할 데이터 생성 중~:  56%|█████▌    | 41583/74548 [41:40<34:31, 15.91it/s]"
     ]
    },
    {
     "name": "stdout",
     "output_type": "stream",
     "text": [
      "TRHU2955066-3 은 크롤링되지 않았습니다.\n"
     ]
    },
    {
     "name": "stderr",
     "output_type": "stream",
     "text": [
      "학습할 데이터 생성 중~:  56%|█████▌    | 41600/74548 [41:41<34:00, 16.15it/s]"
     ]
    },
    {
     "name": "stdout",
     "output_type": "stream",
     "text": [
      "TGHU4769161-2 은 크롤링되지 않았습니다.\n"
     ]
    },
    {
     "name": "stderr",
     "output_type": "stream",
     "text": [
      "학습할 데이터 생성 중~:  56%|█████▌    | 41615/74548 [41:42<31:16, 17.55it/s]"
     ]
    },
    {
     "name": "stdout",
     "output_type": "stream",
     "text": [
      "TGHU1499118-5 은 크롤링되지 않았습니다.\n",
      "TGHU0837360-1 은 크롤링되지 않았습니다.\n"
     ]
    },
    {
     "name": "stderr",
     "output_type": "stream",
     "text": [
      "학습할 데이터 생성 중~:  56%|█████▌    | 41652/74548 [41:44<34:42, 15.80it/s]"
     ]
    },
    {
     "name": "stdout",
     "output_type": "stream",
     "text": [
      "TEMU5663423-2 은 크롤링되지 않았습니다.\n",
      "TEMU5533923-4 은 크롤링되지 않았습니다.\n",
      "TEMU5532758-4 은 크롤링되지 않았습니다.\n",
      "TEMU5531176-2 은 크롤링되지 않았습니다.\n"
     ]
    },
    {
     "name": "stderr",
     "output_type": "stream",
     "text": [
      "학습할 데이터 생성 중~:  56%|█████▌    | 41659/74548 [41:44<27:10, 20.17it/s]"
     ]
    },
    {
     "name": "stdout",
     "output_type": "stream",
     "text": [
      "TEMU5526816-1 은 크롤링되지 않았습니다.\n",
      "TEMU5394480-3 은 크롤링되지 않았습니다.\n",
      "TEMU5214757-2 은 크롤링되지 않았습니다.\n",
      "TEMU5211850-3 은 크롤링되지 않았습니다.\n"
     ]
    },
    {
     "name": "stderr",
     "output_type": "stream",
     "text": [
      "학습할 데이터 생성 중~:  56%|█████▌    | 41755/74548 [41:51<35:18, 15.48it/s]"
     ]
    },
    {
     "name": "stdout",
     "output_type": "stream",
     "text": [
      "TEMU0461543-2 은 크롤링되지 않았습니다.\n"
     ]
    },
    {
     "name": "stderr",
     "output_type": "stream",
     "text": [
      "학습할 데이터 생성 중~:  56%|█████▌    | 41922/74548 [42:02<32:44, 16.61it/s]"
     ]
    },
    {
     "name": "stdout",
     "output_type": "stream",
     "text": [
      "SEGU5576390-2 은 크롤링되지 않았습니다.\n",
      "SEGU5566535-3 은 크롤링되지 않았습니다.\n"
     ]
    },
    {
     "name": "stderr",
     "output_type": "stream",
     "text": [
      "학습할 데이터 생성 중~:  56%|█████▌    | 41927/74548 [42:03<31:12, 17.42it/s]"
     ]
    },
    {
     "name": "stdout",
     "output_type": "stream",
     "text": [
      "SEGU5563900-1 은 크롤링되지 않았습니다.\n"
     ]
    },
    {
     "name": "stderr",
     "output_type": "stream",
     "text": [
      "학습할 데이터 생성 중~:  56%|█████▌    | 41933/74548 [42:03<28:12, 19.27it/s]"
     ]
    },
    {
     "name": "stdout",
     "output_type": "stream",
     "text": [
      "SEGU5546020-3 은 크롤링되지 않았습니다.\n",
      "SEGU4798310-2 은 크롤링되지 않았습니다.\n",
      "SEGU4796791-1 은 크롤링되지 않았습니다.\n"
     ]
    },
    {
     "name": "stderr",
     "output_type": "stream",
     "text": [
      "학습할 데이터 생성 중~:  56%|█████▋    | 42010/74548 [42:08<27:12, 19.93it/s]"
     ]
    },
    {
     "name": "stdout",
     "output_type": "stream",
     "text": [
      "SEGU2493203-3 은 크롤링되지 않았습니다.\n",
      "SEGU2491427-4 은 크롤링되지 않았습니다.\n",
      "SEGU2490729-1 은 크롤링되지 않았습니다.\n",
      "SEGU2484897-2 은 크롤링되지 않았습니다.\n",
      "SEGU2484217-2 은 크롤링되지 않았습니다.\n"
     ]
    },
    {
     "name": "stderr",
     "output_type": "stream",
     "text": [
      "학습할 데이터 생성 중~:  56%|█████▋    | 42016/74548 [42:08<22:51, 23.72it/s]"
     ]
    },
    {
     "name": "stdout",
     "output_type": "stream",
     "text": [
      "SEGU2482343-5 은 크롤링되지 않았습니다.\n",
      "SEGU2479864-1 은 크롤링되지 않았습니다.\n",
      "SEGU2478127-4 은 크롤링되지 않았습니다.\n",
      "SEGU2477687-2 은 크롤링되지 않았습니다.\n",
      "SEGU2477250-3 은 크롤링되지 않았습니다.\n"
     ]
    },
    {
     "name": "stderr",
     "output_type": "stream",
     "text": [
      "학습할 데이터 생성 중~:  56%|█████▋    | 42019/74548 [42:08<23:05, 23.48it/s]"
     ]
    },
    {
     "name": "stdout",
     "output_type": "stream",
     "text": [
      "SEGU2475468-1 은 크롤링되지 않았습니다.\n",
      "SEGU2474245-3 은 크롤링되지 않았습니다.\n",
      "SEGU2470527-1 은 크롤링되지 않았습니다.\n"
     ]
    },
    {
     "name": "stderr",
     "output_type": "stream",
     "text": [
      "학습할 데이터 생성 중~:  56%|█████▋    | 42026/74548 [42:09<24:05, 22.49it/s]"
     ]
    },
    {
     "name": "stdout",
     "output_type": "stream",
     "text": [
      "SEGU2466189-1 은 크롤링되지 않았습니다.\n",
      "SEGU2464416-1 은 크롤링되지 않았습니다.\n",
      "SEGU2461783-2 은 크롤링되지 않았습니다.\n",
      "SEGU2457783-1 은 크롤링되지 않았습니다.\n"
     ]
    },
    {
     "name": "stderr",
     "output_type": "stream",
     "text": [
      "학습할 데이터 생성 중~:  56%|█████▋    | 42061/74548 [42:11<32:48, 16.51it/s]"
     ]
    },
    {
     "name": "stdout",
     "output_type": "stream",
     "text": [
      "SEGU2396008-2 은 크롤링되지 않았습니다.\n"
     ]
    },
    {
     "name": "stderr",
     "output_type": "stream",
     "text": [
      "학습할 데이터 생성 중~:  56%|█████▋    | 42097/74548 [42:13<26:46, 20.20it/s]"
     ]
    },
    {
     "name": "stdout",
     "output_type": "stream",
     "text": [
      "SEGU1872943-3 은 크롤링되지 않았습니다.\n",
      "SEGU1871382-2 은 크롤링되지 않았습니다.\n",
      "SEGU1871042-2 은 크롤링되지 않았습니다.\n",
      "SEGU1868162-3 은 크롤링되지 않았습니다.\n",
      "SEGU1866684-3 은 크롤링되지 않았습니다.\n"
     ]
    },
    {
     "name": "stderr",
     "output_type": "stream",
     "text": [
      "학습할 데이터 생성 중~:  57%|█████▋    | 42144/74548 [42:16<34:46, 15.53it/s]"
     ]
    },
    {
     "name": "stdout",
     "output_type": "stream",
     "text": [
      "KMTU7408477-3 은 크롤링되지 않았습니다.\n"
     ]
    },
    {
     "name": "stderr",
     "output_type": "stream",
     "text": [
      "학습할 데이터 생성 중~:  57%|█████▋    | 42165/74548 [42:18<34:37, 15.59it/s]"
     ]
    },
    {
     "name": "stdout",
     "output_type": "stream",
     "text": [
      "KMTU7374340-6 은 크롤링되지 않았습니다.\n"
     ]
    },
    {
     "name": "stderr",
     "output_type": "stream",
     "text": [
      "학습할 데이터 생성 중~:  57%|█████▋    | 42182/74548 [42:19<35:27, 15.22it/s]"
     ]
    },
    {
     "name": "stdout",
     "output_type": "stream",
     "text": [
      "KMTU7335067-4 은 크롤링되지 않았습니다.\n"
     ]
    },
    {
     "name": "stderr",
     "output_type": "stream",
     "text": [
      "학습할 데이터 생성 중~:  57%|█████▋    | 42230/74548 [42:22<33:11, 16.23it/s]"
     ]
    },
    {
     "name": "stdout",
     "output_type": "stream",
     "text": [
      "FCIU6118937-1 은 크롤링되지 않았습니다.\n"
     ]
    },
    {
     "name": "stderr",
     "output_type": "stream",
     "text": [
      "학습할 데이터 생성 중~:  57%|█████▋    | 42271/74548 [42:25<34:09, 15.75it/s]"
     ]
    },
    {
     "name": "stdout",
     "output_type": "stream",
     "text": [
      "DFSU1904407-3 은 크롤링되지 않았습니다.\n"
     ]
    },
    {
     "name": "stderr",
     "output_type": "stream",
     "text": [
      "학습할 데이터 생성 중~:  57%|█████▋    | 42404/74548 [42:34<34:15, 15.64it/s]"
     ]
    },
    {
     "name": "stdout",
     "output_type": "stream",
     "text": [
      "CAIU2726165-5 은 크롤링되지 않았습니다.\n"
     ]
    },
    {
     "name": "stderr",
     "output_type": "stream",
     "text": [
      "학습할 데이터 생성 중~:  57%|█████▋    | 42519/74548 [42:42<33:10, 16.09it/s]"
     ]
    },
    {
     "name": "stdout",
     "output_type": "stream",
     "text": [
      "BEAU2654369-1 은 크롤링되지 않았습니다.\n"
     ]
    },
    {
     "name": "stderr",
     "output_type": "stream",
     "text": [
      "학습할 데이터 생성 중~:  57%|█████▋    | 42645/74548 [42:50<29:43, 17.89it/s]"
     ]
    },
    {
     "name": "stdout",
     "output_type": "stream",
     "text": [
      "SKLU3519265-1 은 크롤링되지 않았습니다.\n"
     ]
    },
    {
     "name": "stderr",
     "output_type": "stream",
     "text": [
      "학습할 데이터 생성 중~:  57%|█████▋    | 42766/74548 [42:57<33:34, 15.78it/s]"
     ]
    },
    {
     "name": "stdout",
     "output_type": "stream",
     "text": [
      "SZLU9653760-2 은 크롤링되지 않았습니다.\n",
      "SEGU6018412-1 은 크롤링되지 않았습니다.\n"
     ]
    },
    {
     "name": "stderr",
     "output_type": "stream",
     "text": [
      "학습할 데이터 생성 중~:  57%|█████▋    | 42802/74548 [43:00<33:09, 15.96it/s]"
     ]
    },
    {
     "name": "stdout",
     "output_type": "stream",
     "text": [
      "HDMU6580802-3 은 크롤링되지 않았습니다.\n"
     ]
    },
    {
     "name": "stderr",
     "output_type": "stream",
     "text": [
      "학습할 데이터 생성 중~:  58%|█████▊    | 43233/74548 [43:28<31:16, 16.69it/s]"
     ]
    },
    {
     "name": "stdout",
     "output_type": "stream",
     "text": [
      "CNSU2004581-2 은 크롤링되지 않았습니다.\n"
     ]
    },
    {
     "name": "stderr",
     "output_type": "stream",
     "text": [
      "학습할 데이터 생성 중~:  58%|█████▊    | 43308/74548 [43:33<29:54, 17.41it/s]"
     ]
    },
    {
     "name": "stdout",
     "output_type": "stream",
     "text": [
      "TTNU5687433-8 은 크롤링되지 않았습니다.\n"
     ]
    },
    {
     "name": "stderr",
     "output_type": "stream",
     "text": [
      "학습할 데이터 생성 중~:  58%|█████▊    | 43343/74548 [43:35<28:45, 18.09it/s]"
     ]
    },
    {
     "name": "stdout",
     "output_type": "stream",
     "text": [
      "TCLU4172557-2 은 크롤링되지 않았습니다.\n"
     ]
    },
    {
     "name": "stderr",
     "output_type": "stream",
     "text": [
      "학습할 데이터 생성 중~:  58%|█████▊    | 43486/74548 [43:43<29:09, 17.76it/s]"
     ]
    },
    {
     "name": "stdout",
     "output_type": "stream",
     "text": [
      "BSIU2323648-3 은 크롤링되지 않았습니다.\n"
     ]
    },
    {
     "name": "stderr",
     "output_type": "stream",
     "text": [
      "학습할 데이터 생성 중~:  58%|█████▊    | 43497/74548 [43:44<29:11, 17.73it/s]"
     ]
    },
    {
     "name": "stdout",
     "output_type": "stream",
     "text": [
      "BEAU2596750-1 은 크롤링되지 않았습니다.\n"
     ]
    },
    {
     "name": "stderr",
     "output_type": "stream",
     "text": [
      "학습할 데이터 생성 중~:  58%|█████▊    | 43528/74548 [43:46<29:53, 17.30it/s]"
     ]
    },
    {
     "name": "stdout",
     "output_type": "stream",
     "text": [
      "TCNU7775058-1 은 크롤링되지 않았습니다.\n"
     ]
    },
    {
     "name": "stderr",
     "output_type": "stream",
     "text": [
      "학습할 데이터 생성 중~:  58%|█████▊    | 43592/74548 [43:50<28:54, 17.84it/s]"
     ]
    },
    {
     "name": "stdout",
     "output_type": "stream",
     "text": [
      "HDMU5221562-2 은 크롤링되지 않았습니다.\n",
      "HDMU5220611-2 은 크롤링되지 않았습니다.\n"
     ]
    },
    {
     "name": "stderr",
     "output_type": "stream",
     "text": [
      "학습할 데이터 생성 중~:  58%|█████▊    | 43595/74548 [43:50<27:50, 18.53it/s]"
     ]
    },
    {
     "name": "stdout",
     "output_type": "stream",
     "text": [
      "HDMU4783380-3 은 크롤링되지 않았습니다.\n"
     ]
    },
    {
     "name": "stderr",
     "output_type": "stream",
     "text": [
      "학습할 데이터 생성 중~:  59%|█████▉    | 43931/74548 [44:13<33:11, 15.37it/s]"
     ]
    },
    {
     "name": "stdout",
     "output_type": "stream",
     "text": [
      "TCKU3630107-1 은 크롤링되지 않았습니다.\n"
     ]
    },
    {
     "name": "stderr",
     "output_type": "stream",
     "text": [
      "학습할 데이터 생성 중~:  59%|█████▉    | 43971/74548 [44:15<32:06, 15.87it/s]"
     ]
    },
    {
     "name": "stdout",
     "output_type": "stream",
     "text": [
      "PONU8247219-1 은 크롤링되지 않았습니다.\n"
     ]
    },
    {
     "name": "stderr",
     "output_type": "stream",
     "text": [
      "학습할 데이터 생성 중~:  60%|█████▉    | 44388/74548 [44:44<33:27, 15.02it/s]"
     ]
    },
    {
     "name": "stdout",
     "output_type": "stream",
     "text": [
      "MSKU1520804-1 은 크롤링되지 않았습니다.\n"
     ]
    },
    {
     "name": "stderr",
     "output_type": "stream",
     "text": [
      "학습할 데이터 생성 중~:  60%|█████▉    | 44441/74548 [44:48<32:05, 15.64it/s]"
     ]
    },
    {
     "name": "stdout",
     "output_type": "stream",
     "text": [
      "MSCU3581559-1 은 크롤링되지 않았습니다.\n",
      "MRSU3774516-1 은 크롤링되지 않았습니다.\n"
     ]
    },
    {
     "name": "stderr",
     "output_type": "stream",
     "text": [
      "학습할 데이터 생성 중~:  60%|█████▉    | 44644/74548 [45:02<33:29, 14.88it/s]"
     ]
    },
    {
     "name": "stdout",
     "output_type": "stream",
     "text": [
      "MRKU4251672-1 은 크롤링되지 않았습니다.\n"
     ]
    },
    {
     "name": "stderr",
     "output_type": "stream",
     "text": [
      "학습할 데이터 생성 중~:  60%|██████    | 44875/74548 [45:18<33:05, 14.95it/s]"
     ]
    },
    {
     "name": "stdout",
     "output_type": "stream",
     "text": [
      "DRYU9027540-1 은 크롤링되지 않았습니다.\n"
     ]
    },
    {
     "name": "stderr",
     "output_type": "stream",
     "text": [
      "학습할 데이터 생성 중~:  60%|██████    | 44991/74548 [45:26<39:07, 12.59it/s]"
     ]
    },
    {
     "name": "stdout",
     "output_type": "stream",
     "text": [
      "MAEU3488350-2 은 크롤링되지 않았습니다.\n"
     ]
    },
    {
     "name": "stderr",
     "output_type": "stream",
     "text": [
      "학습할 데이터 생성 중~:  61%|██████    | 45266/74548 [45:43<26:51, 18.17it/s]"
     ]
    },
    {
     "name": "stdout",
     "output_type": "stream",
     "text": [
      "TEMU0444823-3 은 크롤링되지 않았습니다.\n",
      "TEMU0428313-2 은 크롤링되지 않았습니다.\n"
     ]
    },
    {
     "name": "stderr",
     "output_type": "stream",
     "text": [
      "학습할 데이터 생성 중~:  61%|██████    | 45507/74548 [45:59<30:01, 16.12it/s]"
     ]
    },
    {
     "name": "stdout",
     "output_type": "stream",
     "text": [
      "TCLU5927323-2 은 크롤링되지 않았습니다.\n"
     ]
    },
    {
     "name": "stderr",
     "output_type": "stream",
     "text": [
      "학습할 데이터 생성 중~:  61%|██████    | 45642/74548 [46:08<29:25, 16.38it/s]"
     ]
    },
    {
     "name": "stdout",
     "output_type": "stream",
     "text": [
      "HDMU6433057-2 은 크롤링되지 않았습니다.\n"
     ]
    },
    {
     "name": "stderr",
     "output_type": "stream",
     "text": [
      "학습할 데이터 생성 중~:  61%|██████▏   | 45765/74548 [46:16<28:35, 16.78it/s]"
     ]
    },
    {
     "name": "stdout",
     "output_type": "stream",
     "text": [
      "BEAU2855640-2 은 크롤링되지 않았습니다.\n",
      "BEAU2648690-1 은 크롤링되지 않았습니다.\n"
     ]
    },
    {
     "name": "stderr",
     "output_type": "stream",
     "text": [
      "학습할 데이터 생성 중~:  62%|██████▏   | 45850/74548 [46:21<25:44, 18.58it/s]"
     ]
    },
    {
     "name": "stdout",
     "output_type": "stream",
     "text": [
      "MSKU7330740-1 은 크롤링되지 않았습니다.\n",
      "MSKU7067830-1 은 크롤링되지 않았습니다.\n",
      "MSKU7036058-1 은 크롤링되지 않았습니다.\n",
      "MSKU6375550-2 은 크롤링되지 않았습니다.\n",
      "MSKU6233047-1 은 크롤링되지 않았습니다.\n",
      "MSKU6141383-2 은 크롤링되지 않았습니다.\n"
     ]
    },
    {
     "name": "stderr",
     "output_type": "stream",
     "text": [
      "학습할 데이터 생성 중~:  62%|██████▏   | 46120/74548 [46:40<29:46, 15.91it/s]"
     ]
    },
    {
     "name": "stdout",
     "output_type": "stream",
     "text": [
      "DFSU6708897-1 은 크롤링되지 않았습니다.\n"
     ]
    },
    {
     "name": "stderr",
     "output_type": "stream",
     "text": [
      "학습할 데이터 생성 중~:  63%|██████▎   | 47230/74548 [47:51<21:18, 21.37it/s]"
     ]
    },
    {
     "name": "stdout",
     "output_type": "stream",
     "text": [
      "GESU2639361-2 은 크롤링되지 않았습니다.\n",
      "FSCU8661990-7 은 크롤링되지 않았습니다.\n",
      "FSCU8639213-3 은 크롤링되지 않았습니다.\n",
      "FSCU8098572-4 은 크롤링되지 않았습니다.\n",
      "FSCU8096414-1 은 크롤링되지 않았습니다.\n"
     ]
    },
    {
     "name": "stderr",
     "output_type": "stream",
     "text": [
      "학습할 데이터 생성 중~:  63%|██████▎   | 47311/74548 [47:56<26:27, 17.16it/s]"
     ]
    },
    {
     "name": "stdout",
     "output_type": "stream",
     "text": [
      "BSIU2921439-1 은 크롤링되지 않았습니다.\n"
     ]
    },
    {
     "name": "stderr",
     "output_type": "stream",
     "text": [
      "학습할 데이터 생성 중~:  64%|██████▍   | 47600/74548 [48:15<28:07, 15.97it/s]"
     ]
    },
    {
     "name": "stdout",
     "output_type": "stream",
     "text": [
      "FESU2079667-2 은 크롤링되지 않았습니다.\n"
     ]
    },
    {
     "name": "stderr",
     "output_type": "stream",
     "text": [
      "학습할 데이터 생성 중~:  64%|██████▍   | 47605/74548 [48:15<27:34, 16.29it/s]"
     ]
    },
    {
     "name": "stdout",
     "output_type": "stream",
     "text": [
      "FCIU9952732-8 은 크롤링되지 않았습니다.\n"
     ]
    },
    {
     "name": "stderr",
     "output_type": "stream",
     "text": [
      "학습할 데이터 생성 중~:  64%|██████▍   | 47640/74548 [48:17<27:03, 16.57it/s]"
     ]
    },
    {
     "name": "stdout",
     "output_type": "stream",
     "text": [
      "CCLU7242121-1 은 크롤링되지 않았습니다.\n",
      "CCLU6564099-1 은 크롤링되지 않았습니다.\n"
     ]
    },
    {
     "name": "stderr",
     "output_type": "stream",
     "text": [
      "학습할 데이터 생성 중~:  64%|██████▍   | 47732/74548 [48:23<24:43, 18.08it/s]"
     ]
    },
    {
     "name": "stdout",
     "output_type": "stream",
     "text": [
      "TRHU2980731-2 은 크롤링되지 않았습니다.\n",
      "TRHU2954476-3 은 크롤링되지 않았습니다.\n",
      "TRHU2728355-1 은 크롤링되지 않았습니다.\n"
     ]
    },
    {
     "name": "stderr",
     "output_type": "stream",
     "text": [
      "학습할 데이터 생성 중~:  64%|██████▍   | 47739/74548 [48:24<25:23, 17.59it/s]"
     ]
    },
    {
     "name": "stdout",
     "output_type": "stream",
     "text": [
      "TRHU1801256-3 은 크롤링되지 않았습니다.\n",
      "TRHU1710990-5 은 크롤링되지 않았습니다.\n",
      "TRHU1701200-2 은 크롤링되지 않았습니다.\n"
     ]
    },
    {
     "name": "stderr",
     "output_type": "stream",
     "text": [
      "학습할 데이터 생성 중~:  64%|██████▍   | 48037/74548 [48:44<29:08, 15.17it/s]"
     ]
    },
    {
     "name": "stdout",
     "output_type": "stream",
     "text": [
      "SEGU2275053-5 은 크롤링되지 않았습니다.\n"
     ]
    },
    {
     "name": "stderr",
     "output_type": "stream",
     "text": [
      "학습할 데이터 생성 중~:  64%|██████▍   | 48050/74548 [48:45<25:50, 17.09it/s]"
     ]
    },
    {
     "name": "stdout",
     "output_type": "stream",
     "text": [
      "SEGU1853440-3 은 크롤링되지 않았습니다.\n",
      "SEGU1850034-4 은 크롤링되지 않았습니다.\n"
     ]
    },
    {
     "name": "stderr",
     "output_type": "stream",
     "text": [
      "학습할 데이터 생성 중~:  65%|██████▌   | 48559/74548 [49:20<26:35, 16.29it/s]"
     ]
    },
    {
     "name": "stdout",
     "output_type": "stream",
     "text": [
      "FCIU8821804-1 은 크롤링되지 않았습니다.\n"
     ]
    },
    {
     "name": "stderr",
     "output_type": "stream",
     "text": [
      "학습할 데이터 생성 중~:  66%|██████▌   | 49125/74548 [49:58<22:27, 18.87it/s]"
     ]
    },
    {
     "name": "stdout",
     "output_type": "stream",
     "text": [
      "MSKU7256303-2 은 크롤링되지 않았습니다.\n",
      "MSKU5781663-2 은 크롤링되지 않았습니다.\n",
      "MSKU5563614-2 은 크롤링되지 않았습니다.\n",
      "MSKU5448890-2 은 크롤링되지 않았습니다.\n"
     ]
    },
    {
     "name": "stderr",
     "output_type": "stream",
     "text": [
      "학습할 데이터 생성 중~:  66%|██████▌   | 49131/74548 [49:58<21:08, 20.03it/s]"
     ]
    },
    {
     "name": "stdout",
     "output_type": "stream",
     "text": [
      "MSKU5215244-1 은 크롤링되지 않았습니다.\n",
      "MSKU4335760-2 은 크롤링되지 않았습니다.\n",
      "MSKU3274021-2 은 크롤링되지 않았습니다.\n",
      "MSKU3248207-2 은 크롤링되지 않았습니다.\n",
      "MSKU3112988-2 은 크롤링되지 않았습니다.\n"
     ]
    },
    {
     "name": "stderr",
     "output_type": "stream",
     "text": [
      "학습할 데이터 생성 중~:  66%|██████▌   | 49138/74548 [49:58<18:51, 22.45it/s]"
     ]
    },
    {
     "name": "stdout",
     "output_type": "stream",
     "text": [
      "MSKU2917376-1 은 크롤링되지 않았습니다.\n",
      "MSKU2776154-1 은 크롤링되지 않았습니다.\n"
     ]
    },
    {
     "name": "stderr",
     "output_type": "stream",
     "text": [
      "학습할 데이터 생성 중~:  66%|██████▌   | 49144/74548 [49:59<21:44, 19.47it/s]"
     ]
    },
    {
     "name": "stdout",
     "output_type": "stream",
     "text": [
      "MSKU2036034-2 은 크롤링되지 않았습니다.\n",
      "MSKU1443668-1 은 크롤링되지 않았습니다.\n"
     ]
    },
    {
     "name": "stderr",
     "output_type": "stream",
     "text": [
      "학습할 데이터 생성 중~:  66%|██████▌   | 49147/74548 [49:59<22:23, 18.91it/s]"
     ]
    },
    {
     "name": "stdout",
     "output_type": "stream",
     "text": [
      "MSKU1410807-2 은 크롤링되지 않았습니다.\n"
     ]
    },
    {
     "name": "stderr",
     "output_type": "stream",
     "text": [
      "학습할 데이터 생성 중~:  66%|██████▌   | 49150/74548 [49:59<22:27, 18.85it/s]"
     ]
    },
    {
     "name": "stdout",
     "output_type": "stream",
     "text": [
      "MSKU0451463-1 은 크롤링되지 않았습니다.\n",
      "MRSU3762304-2 은 크롤링되지 않았습니다.\n"
     ]
    },
    {
     "name": "stderr",
     "output_type": "stream",
     "text": [
      "학습할 데이터 생성 중~:  66%|██████▌   | 49154/74548 [49:59<23:48, 17.78it/s]"
     ]
    },
    {
     "name": "stdout",
     "output_type": "stream",
     "text": [
      "MRSU3672448-1 은 크롤링되지 않았습니다.\n"
     ]
    },
    {
     "name": "stderr",
     "output_type": "stream",
     "text": [
      "학습할 데이터 생성 중~:  66%|██████▌   | 49159/74548 [50:00<23:42, 17.84it/s]"
     ]
    },
    {
     "name": "stdout",
     "output_type": "stream",
     "text": [
      "MRSU3442511-2 은 크롤링되지 않았습니다.\n",
      "MRSU3436782-2 은 크롤링되지 않았습니다.\n"
     ]
    },
    {
     "name": "stderr",
     "output_type": "stream",
     "text": [
      "학습할 데이터 생성 중~:  66%|██████▌   | 49164/74548 [50:00<24:07, 17.54it/s]"
     ]
    },
    {
     "name": "stdout",
     "output_type": "stream",
     "text": [
      "MRSU3143090-2 은 크롤링되지 않았습니다.\n"
     ]
    },
    {
     "name": "stderr",
     "output_type": "stream",
     "text": [
      "학습할 데이터 생성 중~:  66%|██████▌   | 49171/74548 [50:00<22:44, 18.60it/s]"
     ]
    },
    {
     "name": "stdout",
     "output_type": "stream",
     "text": [
      "MRKU9472336-2 은 크롤링되지 않았습니다.\n",
      "MRKU9437377-4 은 크롤링되지 않았습니다.\n"
     ]
    },
    {
     "name": "stderr",
     "output_type": "stream",
     "text": [
      "학습할 데이터 생성 중~:  66%|██████▌   | 49228/74548 [50:04<24:48, 17.01it/s]"
     ]
    },
    {
     "name": "stdout",
     "output_type": "stream",
     "text": [
      "MRKU2468463-2 은 크롤링되지 않았습니다.\n"
     ]
    },
    {
     "name": "stderr",
     "output_type": "stream",
     "text": [
      "학습할 데이터 생성 중~:  66%|██████▌   | 49249/74548 [50:05<27:19, 15.43it/s]"
     ]
    },
    {
     "name": "stdout",
     "output_type": "stream",
     "text": [
      "CAXU9968250-3 은 크롤링되지 않았습니다.\n"
     ]
    },
    {
     "name": "stderr",
     "output_type": "stream",
     "text": [
      "학습할 데이터 생성 중~:  67%|██████▋   | 50196/74548 [51:12<26:23, 15.38it/s]"
     ]
    },
    {
     "name": "stdout",
     "output_type": "stream",
     "text": [
      "PONU8228219-1 은 크롤링되지 않았습니다.\n"
     ]
    },
    {
     "name": "stderr",
     "output_type": "stream",
     "text": [
      "학습할 데이터 생성 중~:  68%|██████▊   | 50439/74548 [51:28<26:31, 15.14it/s]"
     ]
    },
    {
     "name": "stdout",
     "output_type": "stream",
     "text": [
      "MRKU3895670-1 은 크롤링되지 않았습니다.\n"
     ]
    },
    {
     "name": "stderr",
     "output_type": "stream",
     "text": [
      "학습할 데이터 생성 중~:  69%|██████▉   | 51613/74548 [52:50<26:01, 14.68it/s]"
     ]
    },
    {
     "name": "stdout",
     "output_type": "stream",
     "text": [
      "MNBU3921234-1 은 크롤링되지 않았습니다.\n",
      "MNBU3921208-1 은 크롤링되지 않았습니다.\n"
     ]
    },
    {
     "name": "stderr",
     "output_type": "stream",
     "text": [
      "학습할 데이터 생성 중~:  69%|██████▉   | 51760/74548 [53:01<24:32, 15.48it/s]"
     ]
    },
    {
     "name": "stdout",
     "output_type": "stream",
     "text": [
      "MSCU7199230-1 은 크롤링되지 않았습니다.\n",
      "MSCU6914437-1 은 크롤링되지 않았습니다.\n"
     ]
    },
    {
     "name": "stderr",
     "output_type": "stream",
     "text": [
      "학습할 데이터 생성 중~:  70%|██████▉   | 52109/74548 [53:26<24:03, 15.54it/s]"
     ]
    },
    {
     "name": "stdout",
     "output_type": "stream",
     "text": [
      "MSKU2823600-3 은 크롤링되지 않았습니다.\n",
      "MSKU2755510-1 은 크롤링되지 않았습니다.\n",
      "MSKU1935020-1 은 크롤링되지 않았습니다.\n",
      "MSKU1934759-1 은 크롤링되지 않았습니다.\n"
     ]
    },
    {
     "name": "stderr",
     "output_type": "stream",
     "text": [
      "학습할 데이터 생성 중~:  70%|███████   | 52412/74548 [53:49<24:52, 14.83it/s]"
     ]
    },
    {
     "name": "stdout",
     "output_type": "stream",
     "text": [
      "SEGU3108045-1 은 크롤링되지 않았습니다.\n"
     ]
    },
    {
     "name": "stderr",
     "output_type": "stream",
     "text": [
      "학습할 데이터 생성 중~:  70%|███████   | 52471/74548 [53:53<22:29, 16.36it/s]"
     ]
    },
    {
     "name": "stdout",
     "output_type": "stream",
     "text": [
      "MWCU6663515-2 은 크롤링되지 않았습니다.\n",
      "MWCU6639226-2 은 크롤링되지 않았습니다.\n"
     ]
    },
    {
     "name": "stderr",
     "output_type": "stream",
     "text": [
      "학습할 데이터 생성 중~:  71%|███████   | 52699/74548 [54:09<24:32, 14.84it/s]"
     ]
    },
    {
     "name": "stdout",
     "output_type": "stream",
     "text": [
      "MRKU2954510-1 은 크롤링되지 않았습니다.\n"
     ]
    },
    {
     "name": "stderr",
     "output_type": "stream",
     "text": [
      "학습할 데이터 생성 중~:  71%|███████   | 52724/74548 [54:11<24:03, 15.12it/s]"
     ]
    },
    {
     "name": "stdout",
     "output_type": "stream",
     "text": [
      "MRKU0778351-1 은 크롤링되지 않았습니다.\n",
      "MRKU0744270-3 은 크롤링되지 않았습니다.\n"
     ]
    },
    {
     "name": "stderr",
     "output_type": "stream",
     "text": [
      "학습할 데이터 생성 중~:  71%|███████   | 52849/74548 [54:20<22:00, 16.43it/s]"
     ]
    },
    {
     "name": "stdout",
     "output_type": "stream",
     "text": [
      "CRLU1341471-1 은 크롤링되지 않았습니다.\n",
      "CRLU1332166-1 은 크롤링되지 않았습니다.\n"
     ]
    },
    {
     "name": "stderr",
     "output_type": "stream",
     "text": [
      "학습할 데이터 생성 중~:  71%|███████▏  | 53121/74548 [54:39<20:09, 17.72it/s]"
     ]
    },
    {
     "name": "stdout",
     "output_type": "stream",
     "text": [
      "MRKU7972944-3 은 크롤링되지 않았습니다.\n",
      "MRKU7829682-2 은 크롤링되지 않았습니다.\n",
      "MRKU7818482-2 은 크롤링되지 않았습니다.\n"
     ]
    },
    {
     "name": "stderr",
     "output_type": "stream",
     "text": [
      "학습할 데이터 생성 중~:  71%|███████▏  | 53286/74548 [54:50<23:53, 14.84it/s]"
     ]
    },
    {
     "name": "stdout",
     "output_type": "stream",
     "text": [
      "PONU0327128-1 은 크롤링되지 않았습니다.\n"
     ]
    },
    {
     "name": "stderr",
     "output_type": "stream",
     "text": [
      "학습할 데이터 생성 중~:  72%|███████▏  | 53474/74548 [55:04<23:43, 14.81it/s]"
     ]
    },
    {
     "name": "stdout",
     "output_type": "stream",
     "text": [
      "MRKU9417051-1 은 크롤링되지 않았습니다.\n"
     ]
    },
    {
     "name": "stderr",
     "output_type": "stream",
     "text": [
      "학습할 데이터 생성 중~:  72%|███████▏  | 53507/74548 [55:06<22:36, 15.52it/s]"
     ]
    },
    {
     "name": "stdout",
     "output_type": "stream",
     "text": [
      "MRKU7323014-3 은 크롤링되지 않았습니다.\n"
     ]
    },
    {
     "name": "stderr",
     "output_type": "stream",
     "text": [
      "학습할 데이터 생성 중~:  72%|███████▏  | 53618/74548 [55:14<19:30, 17.88it/s]"
     ]
    },
    {
     "name": "stdout",
     "output_type": "stream",
     "text": [
      "GLDU7326406-1 은 크롤링되지 않았습니다.\n",
      "GLDU7272589-1 은 크롤링되지 않았습니다.\n",
      "GLDU7243600-1 은 크롤링되지 않았습니다.\n"
     ]
    },
    {
     "name": "stderr",
     "output_type": "stream",
     "text": [
      "학습할 데이터 생성 중~:  72%|███████▏  | 53726/74548 [55:22<23:20, 14.87it/s]"
     ]
    },
    {
     "name": "stdout",
     "output_type": "stream",
     "text": [
      "PONU0117564-3 은 크롤링되지 않았습니다.\n"
     ]
    },
    {
     "name": "stderr",
     "output_type": "stream",
     "text": [
      "학습할 데이터 생성 중~:  72%|███████▏  | 53757/74548 [55:24<23:05, 15.00it/s]"
     ]
    },
    {
     "name": "stdout",
     "output_type": "stream",
     "text": [
      "MSKU4201185-1 은 크롤링되지 않았습니다.\n"
     ]
    },
    {
     "name": "stderr",
     "output_type": "stream",
     "text": [
      "학습할 데이터 생성 중~:  72%|███████▏  | 53768/74548 [55:25<23:37, 14.66it/s]"
     ]
    },
    {
     "name": "stdout",
     "output_type": "stream",
     "text": [
      "MSKU3104576-1 은 크롤링되지 않았습니다.\n"
     ]
    },
    {
     "name": "stderr",
     "output_type": "stream",
     "text": [
      "학습할 데이터 생성 중~:  72%|███████▏  | 53863/74548 [55:32<25:08, 13.71it/s]"
     ]
    },
    {
     "name": "stdout",
     "output_type": "stream",
     "text": [
      "HDMU4773696-5 은 크롤링되지 않았습니다.\n",
      "HDMU4757988-2 은 크롤링되지 않았습니다.\n",
      "HDMU4640564-1 은 크롤링되지 않았습니다.\n"
     ]
    },
    {
     "name": "stderr",
     "output_type": "stream",
     "text": [
      "학습할 데이터 생성 중~:  72%|███████▏  | 54032/74548 [55:44<16:31, 20.69it/s]"
     ]
    },
    {
     "name": "stdout",
     "output_type": "stream",
     "text": [
      "MSKU9742979-1 은 크롤링되지 않았습니다.\n",
      "MSKU9725375-1 은 크롤링되지 않았습니다.\n",
      "MSKU9684234-1 은 크롤링되지 않았습니다.\n",
      "MSKU9664500-1 은 크롤링되지 않았습니다.\n",
      "MSKU9509123-1 은 크롤링되지 않았습니다.\n",
      "MSKU9430395-1 은 크롤링되지 않았습니다.\n",
      "MSKU9290842-2 은 크롤링되지 않았습니다.\n"
     ]
    },
    {
     "name": "stderr",
     "output_type": "stream",
     "text": [
      "학습할 데이터 생성 중~:  73%|███████▎  | 54091/74548 [55:48<22:30, 15.15it/s]"
     ]
    },
    {
     "name": "stdout",
     "output_type": "stream",
     "text": [
      "MSKU1753555-1 은 크롤링되지 않았습니다.\n"
     ]
    },
    {
     "name": "stderr",
     "output_type": "stream",
     "text": [
      "학습할 데이터 생성 중~:  73%|███████▎  | 54177/74548 [55:54<23:50, 14.24it/s]"
     ]
    },
    {
     "name": "stdout",
     "output_type": "stream",
     "text": [
      "MRKU9374920-2 은 크롤링되지 않았습니다.\n"
     ]
    },
    {
     "name": "stderr",
     "output_type": "stream",
     "text": [
      "학습할 데이터 생성 중~:  73%|███████▎  | 54232/74548 [55:58<21:09, 16.00it/s]"
     ]
    },
    {
     "name": "stdout",
     "output_type": "stream",
     "text": [
      "MRKU0193069-1 은 크롤링되지 않았습니다.\n",
      "MRKU0100024-1 은 크롤링되지 않았습니다.\n"
     ]
    },
    {
     "name": "stderr",
     "output_type": "stream",
     "text": [
      "학습할 데이터 생성 중~:  73%|███████▎  | 54243/74548 [55:59<21:52, 15.47it/s]"
     ]
    },
    {
     "name": "stdout",
     "output_type": "stream",
     "text": [
      "MNBU3231331-1 은 크롤링되지 않았습니다.\n"
     ]
    },
    {
     "name": "stderr",
     "output_type": "stream",
     "text": [
      "학습할 데이터 생성 중~:  73%|███████▎  | 54246/74548 [55:59<19:12, 17.61it/s]"
     ]
    },
    {
     "name": "stdout",
     "output_type": "stream",
     "text": [
      "MEDU9031005-1 은 크롤링되지 않았습니다.\n",
      "MEDU9000787-1 은 크롤링되지 않았습니다.\n",
      "MEDU8765658-1 은 크롤링되지 않았습니다.\n"
     ]
    },
    {
     "name": "stderr",
     "output_type": "stream",
     "text": [
      "학습할 데이터 생성 중~:  73%|███████▎  | 54260/74548 [56:00<21:06, 16.02it/s]"
     ]
    },
    {
     "name": "stdout",
     "output_type": "stream",
     "text": [
      "MEDU7795339-1 은 크롤링되지 않았습니다.\n",
      "MEDU7651938-1 은 크롤링되지 않았습니다.\n"
     ]
    },
    {
     "name": "stderr",
     "output_type": "stream",
     "text": [
      "학습할 데이터 생성 중~:  73%|███████▎  | 54281/74548 [56:02<24:43, 13.66it/s]"
     ]
    },
    {
     "name": "stdout",
     "output_type": "stream",
     "text": [
      "MEDU3756777-1 은 크롤링되지 않았습니다.\n"
     ]
    },
    {
     "name": "stderr",
     "output_type": "stream",
     "text": [
      "학습할 데이터 생성 중~:  73%|███████▎  | 54289/74548 [56:02<23:19, 14.48it/s]"
     ]
    },
    {
     "name": "stdout",
     "output_type": "stream",
     "text": [
      "MEDU2249145-1 은 크롤링되지 않았습니다.\n"
     ]
    },
    {
     "name": "stderr",
     "output_type": "stream",
     "text": [
      "학습할 데이터 생성 중~:  73%|███████▎  | 54354/74548 [56:07<20:50, 16.15it/s]"
     ]
    },
    {
     "name": "stdout",
     "output_type": "stream",
     "text": [
      "FSCU8051575-3 은 크롤링되지 않았습니다.\n",
      "FSCU8009889-2 은 크롤링되지 않았습니다.\n",
      "FSCU6743907-1 은 크롤링되지 않았습니다.\n"
     ]
    },
    {
     "name": "stderr",
     "output_type": "stream",
     "text": [
      "학습할 데이터 생성 중~:  73%|███████▎  | 54437/74548 [56:13<22:04, 15.19it/s]"
     ]
    },
    {
     "name": "stdout",
     "output_type": "stream",
     "text": [
      "BEAU4270830-1 은 크롤링되지 않았습니다.\n"
     ]
    },
    {
     "name": "stderr",
     "output_type": "stream",
     "text": [
      "학습할 데이터 생성 중~:  73%|███████▎  | 54443/74548 [56:13<19:10, 17.47it/s]"
     ]
    },
    {
     "name": "stdout",
     "output_type": "stream",
     "text": [
      "AMFU8526567-1 은 크롤링되지 않았습니다.\n",
      "AMFU3237690-3 은 크롤링되지 않았습니다.\n",
      "TTNU8222281-1 은 크롤링되지 않았습니다.\n"
     ]
    },
    {
     "name": "stderr",
     "output_type": "stream",
     "text": [
      "학습할 데이터 생성 중~:  73%|███████▎  | 54450/74548 [56:13<13:45, 24.34it/s]"
     ]
    },
    {
     "name": "stdout",
     "output_type": "stream",
     "text": [
      "TTNU8127807-1 은 크롤링되지 않았습니다.\n",
      "TTNU8112999-1 은 크롤링되지 않았습니다.\n",
      "TTNU5246778-1 은 크롤링되지 않았습니다.\n",
      "TTNU4610720-1 은 크롤링되지 않았습니다.\n",
      "TTNU4021967-1 은 크롤링되지 않았습니다.\n",
      "TRLU8159465-1 은 크롤링되지 않았습니다.\n"
     ]
    },
    {
     "name": "stderr",
     "output_type": "stream",
     "text": [
      "학습할 데이터 생성 중~:  73%|███████▎  | 54458/74548 [56:14<11:04, 30.24it/s]"
     ]
    },
    {
     "name": "stdout",
     "output_type": "stream",
     "text": [
      "TRLU8036922-1 은 크롤링되지 않았습니다.\n",
      "TRLU6790152-1 은 크롤링되지 않았습니다.\n",
      "TRIU8986725-1 은 크롤링되지 않았습니다.\n",
      "TRIU8855031-6 은 크롤링되지 않았습니다.\n",
      "TRIU8769294-1 은 크롤링되지 않았습니다.\n",
      "TRIU8509419-1 은 크롤링되지 않았습니다.\n",
      "TRHU2298172-1 은 크롤링되지 않았습니다.\n",
      "TGHU9286994-2 은 크롤링되지 않았습니다.\n"
     ]
    },
    {
     "name": "stderr",
     "output_type": "stream",
     "text": [
      "학습할 데이터 생성 중~:  73%|███████▎  | 54462/74548 [56:14<14:27, 23.16it/s]"
     ]
    },
    {
     "name": "stdout",
     "output_type": "stream",
     "text": [
      "TGHU8669957-1 은 크롤링되지 않았습니다.\n",
      "TGHU8654319-1 은 크롤링되지 않았습니다.\n"
     ]
    },
    {
     "name": "stderr",
     "output_type": "stream",
     "text": [
      "학습할 데이터 생성 중~:  73%|███████▎  | 54471/74548 [56:14<18:39, 17.94it/s]"
     ]
    },
    {
     "name": "stdout",
     "output_type": "stream",
     "text": [
      "TGHU4856348-1 은 크롤링되지 않았습니다.\n",
      "TGHU4792583-1 은 크롤링되지 않았습니다.\n",
      "TGHU3729360-1 은 크롤링되지 않았습니다.\n"
     ]
    },
    {
     "name": "stderr",
     "output_type": "stream",
     "text": [
      "학습할 데이터 생성 중~:  73%|███████▎  | 54493/74548 [56:16<24:21, 13.72it/s]"
     ]
    },
    {
     "name": "stdout",
     "output_type": "stream",
     "text": [
      "SZLU9259206-1 은 크롤링되지 않았습니다.\n"
     ]
    },
    {
     "name": "stderr",
     "output_type": "stream",
     "text": [
      "학습할 데이터 생성 중~:  73%|███████▎  | 54667/74548 [56:30<23:36, 14.04it/s]"
     ]
    },
    {
     "name": "stdout",
     "output_type": "stream",
     "text": [
      "CLHU4614210-1 은 크롤링되지 않았습니다.\n"
     ]
    },
    {
     "name": "stderr",
     "output_type": "stream",
     "text": [
      "학습할 데이터 생성 중~:  74%|███████▎  | 54918/74548 [56:49<22:41, 14.42it/s]"
     ]
    },
    {
     "name": "stdout",
     "output_type": "stream",
     "text": [
      "PONU1457548-1 은 크롤링되지 않았습니다.\n",
      "PONU1447920-3 은 크롤링되지 않았습니다.\n"
     ]
    },
    {
     "name": "stderr",
     "output_type": "stream",
     "text": [
      "학습할 데이터 생성 중~:  74%|███████▍  | 55010/74548 [56:56<21:33, 15.10it/s]"
     ]
    },
    {
     "name": "stdout",
     "output_type": "stream",
     "text": [
      "MRKU5017150-1 은 크롤링되지 않았습니다.\n"
     ]
    },
    {
     "name": "stderr",
     "output_type": "stream",
     "text": [
      "학습할 데이터 생성 중~:  74%|███████▍  | 55233/74548 [57:12<20:12, 15.93it/s]"
     ]
    },
    {
     "name": "stdout",
     "output_type": "stream",
     "text": [
      "MNBU3577582-1 은 크롤링되지 않았습니다.\n"
     ]
    },
    {
     "name": "stderr",
     "output_type": "stream",
     "text": [
      "학습할 데이터 생성 중~:  74%|███████▍  | 55270/74548 [57:15<21:31, 14.93it/s]"
     ]
    },
    {
     "name": "stdout",
     "output_type": "stream",
     "text": [
      "CAIU7216987-2 은 크롤링되지 않았습니다.\n"
     ]
    },
    {
     "name": "stderr",
     "output_type": "stream",
     "text": [
      "학습할 데이터 생성 중~:  74%|███████▍  | 55359/74548 [57:21<15:56, 20.05it/s]"
     ]
    },
    {
     "name": "stdout",
     "output_type": "stream",
     "text": [
      "TTNU1120919-1 은 크롤링되지 않았습니다.\n",
      "TTNU1120713-1 은 크롤링되지 않았습니다.\n",
      "TTNU1120082-1 은 크롤링되지 않았습니다.\n",
      "TTNU1119918-1 은 크롤링되지 않았습니다.\n",
      "TTNU1119250-1 은 크롤링되지 않았습니다.\n",
      "TTNU1118737-1 은 크롤링되지 않았습니다.\n"
     ]
    },
    {
     "name": "stderr",
     "output_type": "stream",
     "text": [
      "학습할 데이터 생성 중~:  74%|███████▍  | 55368/74548 [57:22<15:22, 20.80it/s]"
     ]
    },
    {
     "name": "stdout",
     "output_type": "stream",
     "text": [
      "TTLU2012300-1 은 크롤링되지 않았습니다.\n",
      "TTLU2012296-1 은 크롤링되지 않았습니다.\n",
      "TTLU2011915-1 은 크롤링되지 않았습니다.\n",
      "TTLU2010890-1 은 크롤링되지 않았습니다.\n",
      "TTLU2010462-1 은 크롤링되지 않았습니다.\n",
      "TRLU9753569-1 은 크롤링되지 않았습니다.\n"
     ]
    },
    {
     "name": "stderr",
     "output_type": "stream",
     "text": [
      "학습할 데이터 생성 중~:  74%|███████▍  | 55390/74548 [57:23<21:38, 14.76it/s]"
     ]
    },
    {
     "name": "stdout",
     "output_type": "stream",
     "text": [
      "TGHU2794904-1 은 크롤링되지 않았습니다.\n"
     ]
    },
    {
     "name": "stderr",
     "output_type": "stream",
     "text": [
      "학습할 데이터 생성 중~:  74%|███████▍  | 55443/74548 [57:27<21:13, 15.00it/s]"
     ]
    },
    {
     "name": "stdout",
     "output_type": "stream",
     "text": [
      "TCLU2408704-2 은 크롤링되지 않았습니다.\n"
     ]
    },
    {
     "name": "stderr",
     "output_type": "stream",
     "text": [
      "학습할 데이터 생성 중~:  74%|███████▍  | 55500/74548 [57:31<21:23, 14.84it/s]"
     ]
    },
    {
     "name": "stdout",
     "output_type": "stream",
     "text": [
      "PCIU3752911-1 은 크롤링되지 않았습니다.\n"
     ]
    },
    {
     "name": "stderr",
     "output_type": "stream",
     "text": [
      "학습할 데이터 생성 중~:  75%|███████▍  | 55593/74548 [57:38<21:38, 14.59it/s]"
     ]
    },
    {
     "name": "stdout",
     "output_type": "stream",
     "text": [
      "MSKU3323487-1 은 크롤링되지 않았습니다.\n"
     ]
    },
    {
     "name": "stderr",
     "output_type": "stream",
     "text": [
      "학습할 데이터 생성 중~:  75%|███████▍  | 55774/74548 [57:51<19:56, 15.69it/s]"
     ]
    },
    {
     "name": "stdout",
     "output_type": "stream",
     "text": [
      "MRKU0473157-1 은 크롤링되지 않았습니다.\n",
      "MRKU0451456-1 은 크롤링되지 않았습니다.\n"
     ]
    },
    {
     "name": "stderr",
     "output_type": "stream",
     "text": [
      "학습할 데이터 생성 중~:  75%|███████▍  | 55863/74548 [57:58<21:03, 14.79it/s]"
     ]
    },
    {
     "name": "stdout",
     "output_type": "stream",
     "text": [
      "FAMU9007267-1 은 크롤링되지 않았습니다.\n"
     ]
    },
    {
     "name": "stderr",
     "output_type": "stream",
     "text": [
      "학습할 데이터 생성 중~:  75%|███████▍  | 55879/74548 [57:59<22:06, 14.08it/s]"
     ]
    },
    {
     "name": "stdout",
     "output_type": "stream",
     "text": [
      "CRXU7680510-1 은 크롤링되지 않았습니다.\n"
     ]
    },
    {
     "name": "stderr",
     "output_type": "stream",
     "text": [
      "학습할 데이터 생성 중~:  75%|███████▌  | 55929/74548 [58:03<22:16, 13.94it/s]"
     ]
    },
    {
     "name": "stdout",
     "output_type": "stream",
     "text": [
      "BSBU2183983-1 은 크롤링되지 않았습니다.\n",
      "BSBU2183941-1 은 크롤링되지 않았습니다.\n"
     ]
    },
    {
     "name": "stderr",
     "output_type": "stream",
     "text": [
      "학습할 데이터 생성 중~:  75%|███████▌  | 56137/74548 [58:18<22:19, 13.74it/s]"
     ]
    },
    {
     "name": "stdout",
     "output_type": "stream",
     "text": [
      "MSKU0360960-1 은 크롤링되지 않았습니다.\n"
     ]
    },
    {
     "name": "stderr",
     "output_type": "stream",
     "text": [
      "학습할 데이터 생성 중~:  76%|███████▌  | 56730/74548 [59:02<19:29, 15.24it/s]"
     ]
    },
    {
     "name": "stdout",
     "output_type": "stream",
     "text": [
      "MSKU3055419-2 은 크롤링되지 않았습니다.\n"
     ]
    },
    {
     "name": "stderr",
     "output_type": "stream",
     "text": [
      "학습할 데이터 생성 중~:  77%|███████▋  | 57062/74548 [59:27<19:46, 14.73it/s]"
     ]
    },
    {
     "name": "stdout",
     "output_type": "stream",
     "text": [
      "MSKU6624843-2 은 크롤링되지 않았습니다.\n"
     ]
    },
    {
     "name": "stderr",
     "output_type": "stream",
     "text": [
      "학습할 데이터 생성 중~:  77%|███████▋  | 57479/74548 [1:00:00<15:13, 18.69it/s]"
     ]
    },
    {
     "name": "stdout",
     "output_type": "stream",
     "text": [
      "MEDU4039425-1 은 크롤링되지 않았습니다.\n",
      "MEDU4035395-1 은 크롤링되지 않았습니다.\n",
      "MEDU2800638-1 은 크롤링되지 않았습니다.\n",
      "MEDU2122145-1 은 크롤링되지 않았습니다.\n",
      "MEDU1437575-2 은 크롤링되지 않았습니다.\n"
     ]
    },
    {
     "name": "stderr",
     "output_type": "stream",
     "text": [
      "학습할 데이터 생성 중~:  77%|███████▋  | 57501/74548 [1:00:01<19:56, 14.25it/s]"
     ]
    },
    {
     "name": "stdout",
     "output_type": "stream",
     "text": [
      "INKU2355634-3 은 크롤링되지 않았습니다.\n"
     ]
    },
    {
     "name": "stderr",
     "output_type": "stream",
     "text": [
      "학습할 데이터 생성 중~:  77%|███████▋  | 57645/74548 [1:00:13<18:17, 15.40it/s]"
     ]
    },
    {
     "name": "stdout",
     "output_type": "stream",
     "text": [
      "TGBU5583360-1 은 크롤링되지 않았습니다.\n",
      "TGBU5583333-1 은 크롤링되지 않았습니다.\n"
     ]
    },
    {
     "name": "stderr",
     "output_type": "stream",
     "text": [
      "학습할 데이터 생성 중~:  77%|███████▋  | 57685/74548 [1:00:16<20:39, 13.60it/s]"
     ]
    },
    {
     "name": "stdout",
     "output_type": "stream",
     "text": [
      "TCLU7463833-1 은 크롤링되지 않았습니다.\n"
     ]
    },
    {
     "name": "stderr",
     "output_type": "stream",
     "text": [
      "학습할 데이터 생성 중~:  78%|███████▊  | 58047/74548 [1:00:44<21:03, 13.06it/s]"
     ]
    },
    {
     "name": "stdout",
     "output_type": "stream",
     "text": [
      "MRKU1074505-3 은 크롤링되지 않았습니다.\n"
     ]
    },
    {
     "name": "stderr",
     "output_type": "stream",
     "text": [
      "학습할 데이터 생성 중~:  78%|███████▊  | 58237/74548 [1:00:59<22:18, 12.18it/s]"
     ]
    },
    {
     "name": "stdout",
     "output_type": "stream",
     "text": [
      "INBU5165912-1 은 크롤링되지 않았습니다.\n"
     ]
    },
    {
     "name": "stderr",
     "output_type": "stream",
     "text": [
      "학습할 데이터 생성 중~:  79%|███████▊  | 58556/74548 [1:01:23<17:48, 14.97it/s]"
     ]
    },
    {
     "name": "stdout",
     "output_type": "stream",
     "text": [
      "TCLU5558930-1 은 크롤링되지 않았습니다.\n"
     ]
    },
    {
     "name": "stderr",
     "output_type": "stream",
     "text": [
      "학습할 데이터 생성 중~:  79%|███████▉  | 58744/74548 [1:01:37<18:40, 14.11it/s]"
     ]
    },
    {
     "name": "stdout",
     "output_type": "stream",
     "text": [
      "TTNU1121685-1 은 크롤링되지 않았습니다.\n"
     ]
    },
    {
     "name": "stderr",
     "output_type": "stream",
     "text": [
      "학습할 데이터 생성 중~:  79%|███████▉  | 59008/74548 [1:01:58<17:15, 15.01it/s]"
     ]
    },
    {
     "name": "stdout",
     "output_type": "stream",
     "text": [
      "MRKU2134907-1 은 크롤링되지 않았습니다.\n",
      "MRKU2127620-1 은 크롤링되지 않았습니다.\n"
     ]
    },
    {
     "name": "stderr",
     "output_type": "stream",
     "text": [
      "학습할 데이터 생성 중~:  79%|███████▉  | 59048/74548 [1:02:01<19:31, 13.23it/s]"
     ]
    },
    {
     "name": "stdout",
     "output_type": "stream",
     "text": [
      "MEDU2873660-1 은 크롤링되지 않았습니다.\n"
     ]
    },
    {
     "name": "stderr",
     "output_type": "stream",
     "text": [
      "학습할 데이터 생성 중~:  79%|███████▉  | 59068/74548 [1:02:03<18:54, 13.64it/s]"
     ]
    },
    {
     "name": "stdout",
     "output_type": "stream",
     "text": [
      "INKU6735972-2 은 크롤링되지 않았습니다.\n"
     ]
    },
    {
     "name": "stderr",
     "output_type": "stream",
     "text": [
      "학습할 데이터 생성 중~:  79%|███████▉  | 59072/74548 [1:02:03<16:20, 15.78it/s]"
     ]
    },
    {
     "name": "stdout",
     "output_type": "stream",
     "text": [
      "INBU3711402-1 은 크롤링되지 않았습니다.\n",
      "GLDU7547449-2 은 크롤링되지 않았습니다.\n"
     ]
    },
    {
     "name": "stderr",
     "output_type": "stream",
     "text": [
      "학습할 데이터 생성 중~:  79%|███████▉  | 59184/74548 [1:02:12<17:59, 14.24it/s]"
     ]
    },
    {
     "name": "stdout",
     "output_type": "stream",
     "text": [
      "TGHU4306070-1 은 크롤링되지 않았습니다.\n"
     ]
    },
    {
     "name": "stderr",
     "output_type": "stream",
     "text": [
      "학습할 데이터 생성 중~:  79%|███████▉  | 59244/74548 [1:02:16<18:13, 13.99it/s]"
     ]
    },
    {
     "name": "stdout",
     "output_type": "stream",
     "text": [
      "TCLU9518597-3 은 크롤링되지 않았습니다.\n"
     ]
    },
    {
     "name": "stderr",
     "output_type": "stream",
     "text": [
      "학습할 데이터 생성 중~:  80%|███████▉  | 59560/74548 [1:02:41<17:49, 14.01it/s]"
     ]
    },
    {
     "name": "stdout",
     "output_type": "stream",
     "text": [
      "MSCU4738220-2 은 크롤링되지 않았습니다.\n"
     ]
    },
    {
     "name": "stderr",
     "output_type": "stream",
     "text": [
      "학습할 데이터 생성 중~:  80%|███████▉  | 59606/74548 [1:02:44<17:16, 14.42it/s]"
     ]
    },
    {
     "name": "stdout",
     "output_type": "stream",
     "text": [
      "MRKU6251753-1 은 크롤링되지 않았습니다.\n"
     ]
    },
    {
     "name": "stderr",
     "output_type": "stream",
     "text": [
      "학습할 데이터 생성 중~:  81%|████████  | 60146/74548 [1:03:27<15:36, 15.37it/s]"
     ]
    },
    {
     "name": "stdout",
     "output_type": "stream",
     "text": [
      "TGCU5023517-1 은 크롤링되지 않았습니다.\n",
      "TGCU0140228-1 은 크롤링되지 않았습니다.\n"
     ]
    },
    {
     "name": "stderr",
     "output_type": "stream",
     "text": [
      "학습할 데이터 생성 중~:  81%|████████  | 60186/74548 [1:03:30<16:21, 14.64it/s]"
     ]
    },
    {
     "name": "stdout",
     "output_type": "stream",
     "text": [
      "TCNU7297072-1 은 크롤링되지 않았습니다.\n"
     ]
    },
    {
     "name": "stderr",
     "output_type": "stream",
     "text": [
      "학습할 데이터 생성 중~:  81%|████████  | 60189/74548 [1:03:31<16:02, 14.92it/s]"
     ]
    },
    {
     "name": "stdout",
     "output_type": "stream",
     "text": [
      "TCNU3281946-1 은 크롤링되지 않았습니다.\n",
      "TCNU3280641-1 은 크롤링되지 않았습니다.\n"
     ]
    },
    {
     "name": "stderr",
     "output_type": "stream",
     "text": [
      "학습할 데이터 생성 중~:  81%|████████  | 60249/74548 [1:03:35<16:54, 14.09it/s]"
     ]
    },
    {
     "name": "stdout",
     "output_type": "stream",
     "text": [
      "TCKU1349087-1 은 크롤링되지 않았습니다.\n"
     ]
    },
    {
     "name": "stderr",
     "output_type": "stream",
     "text": [
      "학습할 데이터 생성 중~:  81%|████████  | 60337/74548 [1:03:42<16:13, 14.60it/s]"
     ]
    },
    {
     "name": "stdout",
     "output_type": "stream",
     "text": [
      "MWCU6688956-1 은 크롤링되지 않았습니다.\n"
     ]
    },
    {
     "name": "stderr",
     "output_type": "stream",
     "text": [
      "학습할 데이터 생성 중~:  81%|████████  | 60413/74548 [1:03:48<17:15, 13.65it/s]"
     ]
    },
    {
     "name": "stdout",
     "output_type": "stream",
     "text": [
      "MSKU6695127-1 은 크롤링되지 않았습니다.\n"
     ]
    },
    {
     "name": "stderr",
     "output_type": "stream",
     "text": [
      "학습할 데이터 생성 중~:  81%|████████▏ | 60615/74548 [1:04:04<16:56, 13.70it/s]"
     ]
    },
    {
     "name": "stdout",
     "output_type": "stream",
     "text": [
      "MRSU3781264-1 은 크롤링되지 않았습니다.\n"
     ]
    },
    {
     "name": "stderr",
     "output_type": "stream",
     "text": [
      "학습할 데이터 생성 중~:  82%|████████▏ | 60935/74548 [1:04:29<15:40, 14.47it/s]"
     ]
    },
    {
     "name": "stdout",
     "output_type": "stream",
     "text": [
      "IPXU3920086-1 은 크롤링되지 않았습니다.\n"
     ]
    },
    {
     "name": "stderr",
     "output_type": "stream",
     "text": [
      "학습할 데이터 생성 중~:  82%|████████▏ | 61247/74548 [1:04:53<15:08, 14.64it/s]"
     ]
    },
    {
     "name": "stdout",
     "output_type": "stream",
     "text": [
      "TRLU6813540-7 은 크롤링되지 않았습니다.\n"
     ]
    },
    {
     "name": "stderr",
     "output_type": "stream",
     "text": [
      "학습할 데이터 생성 중~:  82%|████████▏ | 61462/74548 [1:05:09<13:47, 15.81it/s]"
     ]
    },
    {
     "name": "stdout",
     "output_type": "stream",
     "text": [
      "MSKU6472519-1 은 크롤링되지 않았습니다.\n",
      "MSKU6453289-1 은 크롤링되지 않았습니다.\n"
     ]
    },
    {
     "name": "stderr",
     "output_type": "stream",
     "text": [
      "학습할 데이터 생성 중~:  82%|████████▏ | 61468/74548 [1:05:09<14:44, 14.79it/s]"
     ]
    },
    {
     "name": "stdout",
     "output_type": "stream",
     "text": [
      "MSKU6255160-1 은 크롤링되지 않았습니다.\n"
     ]
    },
    {
     "name": "stderr",
     "output_type": "stream",
     "text": [
      "학습할 데이터 생성 중~:  83%|████████▎ | 61597/74548 [1:05:19<14:58, 14.41it/s]"
     ]
    },
    {
     "name": "stdout",
     "output_type": "stream",
     "text": [
      "MSCU4714044-1 은 크롤링되지 않았습니다.\n"
     ]
    },
    {
     "name": "stderr",
     "output_type": "stream",
     "text": [
      "학습할 데이터 생성 중~:  84%|████████▎ | 62417/74548 [1:06:22<12:50, 15.75it/s]"
     ]
    },
    {
     "name": "stdout",
     "output_type": "stream",
     "text": [
      "MSCU4737292-2 은 크롤링되지 않았습니다.\n",
      "MSCU4642900-1 은 크롤링되지 않았습니다.\n"
     ]
    },
    {
     "name": "stderr",
     "output_type": "stream",
     "text": [
      "학습할 데이터 생성 중~:  84%|████████▍ | 62625/74548 [1:06:38<09:48, 20.25it/s]"
     ]
    },
    {
     "name": "stdout",
     "output_type": "stream",
     "text": [
      "MEDU1444044-1 은 크롤링되지 않았습니다.\n",
      "MEDU1407040-1 은 크롤링되지 않았습니다.\n",
      "MEDU1352061-1 은 크롤링되지 않았습니다.\n",
      "MEDU1299202-2 은 크롤링되지 않았습니다.\n",
      "MEDU1287120-4 은 크롤링되지 않았습니다.\n"
     ]
    },
    {
     "name": "stderr",
     "output_type": "stream",
     "text": [
      "학습할 데이터 생성 중~:  84%|████████▍ | 62632/74548 [1:06:38<11:39, 17.03it/s]"
     ]
    },
    {
     "name": "stdout",
     "output_type": "stream",
     "text": [
      "MEDU1019791-1 은 크롤링되지 않았습니다.\n",
      "MAXU4519364-1 은 크롤링되지 않았습니다.\n"
     ]
    },
    {
     "name": "stderr",
     "output_type": "stream",
     "text": [
      "학습할 데이터 생성 중~:  84%|████████▍ | 62640/74548 [1:06:39<12:30, 15.87it/s]"
     ]
    },
    {
     "name": "stdout",
     "output_type": "stream",
     "text": [
      "IPXU3168786-1 은 크롤링되지 않았습니다.\n"
     ]
    },
    {
     "name": "stderr",
     "output_type": "stream",
     "text": [
      "학습할 데이터 생성 중~:  84%|████████▍ | 62644/74548 [1:06:39<12:29, 15.89it/s]"
     ]
    },
    {
     "name": "stdout",
     "output_type": "stream",
     "text": [
      "INKU6567293-2 은 크롤링되지 않았습니다.\n"
     ]
    },
    {
     "name": "stderr",
     "output_type": "stream",
     "text": [
      "학습할 데이터 생성 중~:  84%|████████▍ | 62915/74548 [1:06:59<13:06, 14.80it/s]"
     ]
    },
    {
     "name": "stdout",
     "output_type": "stream",
     "text": [
      "MRKU8639476-2 은 크롤링되지 않았습니다.\n"
     ]
    },
    {
     "name": "stderr",
     "output_type": "stream",
     "text": [
      "학습할 데이터 생성 중~:  84%|████████▍ | 62930/74548 [1:07:01<12:38, 15.32it/s]"
     ]
    },
    {
     "name": "stdout",
     "output_type": "stream",
     "text": [
      "MRKU7790889-1 은 크롤링되지 않았습니다.\n"
     ]
    },
    {
     "name": "stderr",
     "output_type": "stream",
     "text": [
      "학습할 데이터 생성 중~:  85%|████████▍ | 63038/74548 [1:07:09<13:15, 14.47it/s]"
     ]
    },
    {
     "name": "stdout",
     "output_type": "stream",
     "text": [
      "TCLU5878424-3 은 크롤링되지 않았습니다.\n"
     ]
    },
    {
     "name": "stderr",
     "output_type": "stream",
     "text": [
      "학습할 데이터 생성 중~:  85%|████████▍ | 63083/74548 [1:07:12<11:27, 16.68it/s]"
     ]
    },
    {
     "name": "stdout",
     "output_type": "stream",
     "text": [
      "MSKU9635939-1 은 크롤링되지 않았습니다.\n",
      "MSKU9510464-1 은 크롤링되지 않았습니다.\n",
      "MSKU9483667-2 은 크롤링되지 않았습니다.\n"
     ]
    },
    {
     "name": "stderr",
     "output_type": "stream",
     "text": [
      "학습할 데이터 생성 중~:  85%|████████▍ | 63122/74548 [1:07:15<12:30, 15.22it/s]"
     ]
    },
    {
     "name": "stdout",
     "output_type": "stream",
     "text": [
      "MSKU5088659-1 은 크롤링되지 않았습니다.\n"
     ]
    },
    {
     "name": "stderr",
     "output_type": "stream",
     "text": [
      "학습할 데이터 생성 중~:  85%|████████▍ | 63298/74548 [1:07:28<12:24, 15.11it/s]"
     ]
    },
    {
     "name": "stdout",
     "output_type": "stream",
     "text": [
      "MAEU4692049-1 은 크롤링되지 않았습니다.\n"
     ]
    },
    {
     "name": "stderr",
     "output_type": "stream",
     "text": [
      "학습할 데이터 생성 중~:  85%|████████▍ | 63344/74548 [1:07:31<12:47, 14.59it/s]"
     ]
    },
    {
     "name": "stdout",
     "output_type": "stream",
     "text": [
      "TGHU1593042-3 은 크롤링되지 않았습니다.\n"
     ]
    },
    {
     "name": "stderr",
     "output_type": "stream",
     "text": [
      "학습할 데이터 생성 중~:  85%|████████▌ | 63398/74548 [1:07:35<12:47, 14.52it/s]"
     ]
    },
    {
     "name": "stdout",
     "output_type": "stream",
     "text": [
      "MWCU5229490-2 은 크롤링되지 않았습니다.\n"
     ]
    },
    {
     "name": "stderr",
     "output_type": "stream",
     "text": [
      "학습할 데이터 생성 중~:  85%|████████▌ | 63522/74548 [1:07:45<11:47, 15.59it/s]"
     ]
    },
    {
     "name": "stdout",
     "output_type": "stream",
     "text": [
      "MRKU6755991-3 은 크롤링되지 않았습니다.\n",
      "MRKU6718679-4 은 크롤링되지 않았습니다.\n",
      "MRKU6576553-3 은 크롤링되지 않았습니다.\n"
     ]
    },
    {
     "name": "stderr",
     "output_type": "stream",
     "text": [
      "학습할 데이터 생성 중~:  85%|████████▌ | 63530/74548 [1:07:45<11:52, 15.46it/s]"
     ]
    },
    {
     "name": "stdout",
     "output_type": "stream",
     "text": [
      "MRKU6501390-2 은 크롤링되지 않았습니다.\n"
     ]
    },
    {
     "name": "stderr",
     "output_type": "stream",
     "text": [
      "학습할 데이터 생성 중~:  86%|████████▌ | 63744/74548 [1:08:01<13:07, 13.73it/s]"
     ]
    },
    {
     "name": "stdout",
     "output_type": "stream",
     "text": [
      "MRSU3668535-1 은 크롤링되지 않았습니다.\n"
     ]
    },
    {
     "name": "stderr",
     "output_type": "stream",
     "text": [
      "학습할 데이터 생성 중~:  86%|████████▌ | 64139/74548 [1:08:33<11:04, 15.67it/s]"
     ]
    },
    {
     "name": "stdout",
     "output_type": "stream",
     "text": [
      "MSKU8934616-1 은 크롤링되지 않았습니다.\n",
      "MSKU8905011-1 은 크롤링되지 않았습니다.\n"
     ]
    },
    {
     "name": "stderr",
     "output_type": "stream",
     "text": [
      "학습할 데이터 생성 중~:  86%|████████▌ | 64167/74548 [1:08:35<12:37, 13.71it/s]"
     ]
    },
    {
     "name": "stdout",
     "output_type": "stream",
     "text": [
      "MSKU6850440-1 은 크롤링되지 않았습니다.\n"
     ]
    },
    {
     "name": "stderr",
     "output_type": "stream",
     "text": [
      "학습할 데이터 생성 중~:  86%|████████▋ | 64472/74548 [1:08:59<10:21, 16.21it/s]"
     ]
    },
    {
     "name": "stdout",
     "output_type": "stream",
     "text": [
      "MRKU3867658-1 은 크롤링되지 않았습니다.\n",
      "MRKU3859462-2 은 크롤링되지 않았습니다.\n",
      "MRKU3859267-2 은 크롤링되지 않았습니다.\n"
     ]
    },
    {
     "name": "stderr",
     "output_type": "stream",
     "text": [
      "학습할 데이터 생성 중~:  86%|████████▋ | 64476/74548 [1:08:59<11:02, 15.21it/s]"
     ]
    },
    {
     "name": "stdout",
     "output_type": "stream",
     "text": [
      "MRKU3825483-2 은 크롤링되지 않았습니다.\n"
     ]
    },
    {
     "name": "stderr",
     "output_type": "stream",
     "text": [
      "학습할 데이터 생성 중~:  87%|████████▋ | 64894/74548 [1:09:32<11:23, 14.11it/s]"
     ]
    },
    {
     "name": "stdout",
     "output_type": "stream",
     "text": [
      "UETU2596230-1 은 크롤링되지 않았습니다.\n"
     ]
    },
    {
     "name": "stderr",
     "output_type": "stream",
     "text": [
      "학습할 데이터 생성 중~:  87%|████████▋ | 65038/74548 [1:09:43<11:37, 13.64it/s]"
     ]
    },
    {
     "name": "stdout",
     "output_type": "stream",
     "text": [
      "PONU0384529-3 은 크롤링되지 않았습니다.\n"
     ]
    },
    {
     "name": "stderr",
     "output_type": "stream",
     "text": [
      "학습할 데이터 생성 중~:  88%|████████▊ | 65263/74548 [1:10:00<10:39, 14.53it/s]"
     ]
    },
    {
     "name": "stdout",
     "output_type": "stream",
     "text": [
      "TCNU7040931-2 은 크롤링되지 않았습니다.\n"
     ]
    },
    {
     "name": "stderr",
     "output_type": "stream",
     "text": [
      "학습할 데이터 생성 중~:  88%|████████▊ | 65291/74548 [1:10:02<10:35, 14.57it/s]"
     ]
    },
    {
     "name": "stdout",
     "output_type": "stream",
     "text": [
      "MWCU6966980-2 은 크롤링되지 않았습니다.\n"
     ]
    },
    {
     "name": "stderr",
     "output_type": "stream",
     "text": [
      "학습할 데이터 생성 중~:  88%|████████▊ | 65739/74548 [1:10:37<10:35, 13.86it/s]"
     ]
    },
    {
     "name": "stdout",
     "output_type": "stream",
     "text": [
      "MSKU9148484-1 은 크롤링되지 않았습니다.\n"
     ]
    },
    {
     "name": "stderr",
     "output_type": "stream",
     "text": [
      "학습할 데이터 생성 중~:  88%|████████▊ | 65831/74548 [1:10:44<10:58, 13.24it/s]"
     ]
    },
    {
     "name": "stdout",
     "output_type": "stream",
     "text": [
      "MSCU7240545-1 은 크롤링되지 않았습니다.\n"
     ]
    },
    {
     "name": "stderr",
     "output_type": "stream",
     "text": [
      "학습할 데이터 생성 중~:  88%|████████▊ | 65885/74548 [1:10:48<10:30, 13.73it/s]"
     ]
    },
    {
     "name": "stdout",
     "output_type": "stream",
     "text": [
      "MRKU3608209-1 은 크롤링되지 않았습니다.\n"
     ]
    },
    {
     "name": "stderr",
     "output_type": "stream",
     "text": [
      "학습할 데이터 생성 중~:  89%|████████▉ | 66197/74548 [1:11:14<09:56, 13.99it/s]"
     ]
    },
    {
     "name": "stdout",
     "output_type": "stream",
     "text": [
      "MSKU6564533-1 은 크롤링되지 않았습니다.\n"
     ]
    },
    {
     "name": "stderr",
     "output_type": "stream",
     "text": [
      "학습할 데이터 생성 중~:  89%|████████▉ | 66219/74548 [1:11:16<10:07, 13.72it/s]"
     ]
    },
    {
     "name": "stdout",
     "output_type": "stream",
     "text": [
      "MSKU3808852-1 은 크롤링되지 않았습니다.\n"
     ]
    },
    {
     "name": "stderr",
     "output_type": "stream",
     "text": [
      "학습할 데이터 생성 중~:  89%|████████▉ | 66372/74548 [1:11:28<09:15, 14.73it/s]"
     ]
    },
    {
     "name": "stdout",
     "output_type": "stream",
     "text": [
      "MRKU4599061-1 은 크롤링되지 않았습니다.\n",
      "MRKU4329493-2 은 크롤링되지 않았습니다.\n"
     ]
    },
    {
     "name": "stderr",
     "output_type": "stream",
     "text": [
      "학습할 데이터 생성 중~:  89%|████████▉ | 66376/74548 [1:11:28<09:50, 13.84it/s]"
     ]
    },
    {
     "name": "stdout",
     "output_type": "stream",
     "text": [
      "MRKU3911046-1 은 크롤링되지 않았습니다.\n",
      "MRKU3858487-1 은 크롤링되지 않았습니다.\n",
      "MRKU3808629-1 은 크롤링되지 않았습니다.\n"
     ]
    },
    {
     "name": "stderr",
     "output_type": "stream",
     "text": [
      "학습할 데이터 생성 중~:  89%|████████▉ | 66613/74548 [1:11:47<09:53, 13.37it/s]"
     ]
    },
    {
     "name": "stdout",
     "output_type": "stream",
     "text": [
      "TCKU3432502-2 은 크롤링되지 않았습니다.\n"
     ]
    },
    {
     "name": "stderr",
     "output_type": "stream",
     "text": [
      "학습할 데이터 생성 중~:  90%|████████▉ | 66867/74548 [1:12:07<09:36, 13.33it/s]"
     ]
    },
    {
     "name": "stdout",
     "output_type": "stream",
     "text": [
      "MRSU3923142-1 은 크롤링되지 않았습니다.\n"
     ]
    },
    {
     "name": "stderr",
     "output_type": "stream",
     "text": [
      "학습할 데이터 생성 중~:  90%|████████▉ | 66961/74548 [1:12:15<09:55, 12.74it/s]"
     ]
    },
    {
     "name": "stdout",
     "output_type": "stream",
     "text": [
      "MRKU4512061-1 은 크롤링되지 않았습니다.\n"
     ]
    },
    {
     "name": "stderr",
     "output_type": "stream",
     "text": [
      "학습할 데이터 생성 중~:  90%|████████▉ | 66989/74548 [1:12:17<09:24, 13.39it/s]"
     ]
    },
    {
     "name": "stdout",
     "output_type": "stream",
     "text": [
      "MRKU2970091-1 은 크롤링되지 않았습니다.\n"
     ]
    },
    {
     "name": "stderr",
     "output_type": "stream",
     "text": [
      "학습할 데이터 생성 중~:  90%|████████▉ | 67009/74548 [1:12:19<08:25, 14.92it/s]"
     ]
    },
    {
     "name": "stdout",
     "output_type": "stream",
     "text": [
      "MRKU2332163-2 은 크롤링되지 않았습니다.\n",
      "MRKU2318231-1 은 크롤링되지 않았습니다.\n"
     ]
    },
    {
     "name": "stderr",
     "output_type": "stream",
     "text": [
      "학습할 데이터 생성 중~:  90%|█████████ | 67133/74548 [1:12:28<09:33, 12.93it/s]"
     ]
    },
    {
     "name": "stdout",
     "output_type": "stream",
     "text": [
      "MEDU1256427-1 은 크롤링되지 않았습니다.\n"
     ]
    },
    {
     "name": "stderr",
     "output_type": "stream",
     "text": [
      "학습할 데이터 생성 중~:  90%|█████████ | 67150/74548 [1:12:30<08:44, 14.11it/s]"
     ]
    },
    {
     "name": "stdout",
     "output_type": "stream",
     "text": [
      "HASU4883126-1 은 크롤링되지 않았습니다.\n"
     ]
    },
    {
     "name": "stderr",
     "output_type": "stream",
     "text": [
      "학습할 데이터 생성 중~:  90%|█████████ | 67156/74548 [1:12:30<09:19, 13.21it/s]"
     ]
    },
    {
     "name": "stdout",
     "output_type": "stream",
     "text": [
      "GSTU5353752-1 은 크롤링되지 않았습니다.\n"
     ]
    },
    {
     "name": "stderr",
     "output_type": "stream",
     "text": [
      "학습할 데이터 생성 중~:  90%|█████████ | 67442/74548 [1:12:53<07:52, 15.05it/s]"
     ]
    },
    {
     "name": "stdout",
     "output_type": "stream",
     "text": [
      "GLDU7390909-1 은 크롤링되지 않았습니다.\n",
      "GLDU7349171-1 은 크롤링되지 않았습니다.\n"
     ]
    },
    {
     "name": "stderr",
     "output_type": "stream",
     "text": [
      "학습할 데이터 생성 중~:  91%|█████████ | 67775/74548 [1:13:20<07:12, 15.65it/s]"
     ]
    },
    {
     "name": "stdout",
     "output_type": "stream",
     "text": [
      "MSKU0657080-1 은 크롤링되지 않았습니다.\n",
      "MSKU0598541-3 은 크롤링되지 않았습니다.\n",
      "MSKU0352590-1 은 크롤링되지 않았습니다.\n",
      "MSKU0053639-1 은 크롤링되지 않았습니다.\n"
     ]
    },
    {
     "name": "stderr",
     "output_type": "stream",
     "text": [
      "학습할 데이터 생성 중~:  91%|█████████ | 68017/74548 [1:13:40<08:05, 13.44it/s]"
     ]
    },
    {
     "name": "stdout",
     "output_type": "stream",
     "text": [
      "PONU0300960-3 은 크롤링되지 않았습니다.\n"
     ]
    },
    {
     "name": "stderr",
     "output_type": "stream",
     "text": [
      "학습할 데이터 생성 중~:  91%|█████████ | 68021/74548 [1:13:40<07:52, 13.81it/s]"
     ]
    },
    {
     "name": "stdout",
     "output_type": "stream",
     "text": [
      "PONU0018350-1 은 크롤링되지 않았습니다.\n"
     ]
    },
    {
     "name": "stderr",
     "output_type": "stream",
     "text": [
      "학습할 데이터 생성 중~:  91%|█████████▏| 68073/74548 [1:13:45<07:10, 15.03it/s]"
     ]
    },
    {
     "name": "stdout",
     "output_type": "stream",
     "text": [
      "MSKU9487940-1 은 크롤링되지 않았습니다.\n",
      "MSKU9474599-1 은 크롤링되지 않았습니다.\n"
     ]
    },
    {
     "name": "stderr",
     "output_type": "stream",
     "text": [
      "학습할 데이터 생성 중~:  91%|█████████▏| 68087/74548 [1:13:46<08:17, 13.00it/s]"
     ]
    },
    {
     "name": "stdout",
     "output_type": "stream",
     "text": [
      "MSKU8994960-1 은 크롤링되지 않았습니다.\n"
     ]
    },
    {
     "name": "stderr",
     "output_type": "stream",
     "text": [
      "학습할 데이터 생성 중~:  92%|█████████▏| 68279/74548 [1:14:01<07:37, 13.70it/s]"
     ]
    },
    {
     "name": "stdout",
     "output_type": "stream",
     "text": [
      "MRSU3734051-1 은 크롤링되지 않았습니다.\n"
     ]
    },
    {
     "name": "stderr",
     "output_type": "stream",
     "text": [
      "학습할 데이터 생성 중~:  92%|█████████▏| 68339/74548 [1:14:06<07:35, 13.64it/s]"
     ]
    },
    {
     "name": "stdout",
     "output_type": "stream",
     "text": [
      "MRKU7611319-1 은 크롤링되지 않았습니다.\n"
     ]
    },
    {
     "name": "stderr",
     "output_type": "stream",
     "text": [
      "학습할 데이터 생성 중~:  92%|█████████▏| 68707/74548 [1:14:36<07:16, 13.37it/s]"
     ]
    },
    {
     "name": "stdout",
     "output_type": "stream",
     "text": [
      "MRKU2266816-1 은 크롤링되지 않았습니다.\n"
     ]
    },
    {
     "name": "stderr",
     "output_type": "stream",
     "text": [
      "학습할 데이터 생성 중~:  92%|█████████▏| 68727/74548 [1:14:38<07:09, 13.56it/s]"
     ]
    },
    {
     "name": "stdout",
     "output_type": "stream",
     "text": [
      "TCKU3295713-1 은 크롤링되지 않았습니다.\n"
     ]
    },
    {
     "name": "stderr",
     "output_type": "stream",
     "text": [
      "학습할 데이터 생성 중~:  92%|█████████▏| 68893/74548 [1:14:51<06:43, 14.02it/s]"
     ]
    },
    {
     "name": "stdout",
     "output_type": "stream",
     "text": [
      "MNBU3546895-1 은 크롤링되지 않았습니다.\n"
     ]
    },
    {
     "name": "stderr",
     "output_type": "stream",
     "text": [
      "학습할 데이터 생성 중~:  93%|█████████▎| 69049/74548 [1:15:03<06:11, 14.82it/s]"
     ]
    },
    {
     "name": "stdout",
     "output_type": "stream",
     "text": [
      "TEMU0492610-1 은 크롤링되지 않았습니다.\n",
      "TEMU0458529-1 은 크롤링되지 않았습니다.\n"
     ]
    },
    {
     "name": "stderr",
     "output_type": "stream",
     "text": [
      "학습할 데이터 생성 중~:  93%|█████████▎| 69055/74548 [1:15:03<06:33, 13.97it/s]"
     ]
    },
    {
     "name": "stdout",
     "output_type": "stream",
     "text": [
      "TEMU0407856-1 은 크롤링되지 않았습니다.\n"
     ]
    },
    {
     "name": "stderr",
     "output_type": "stream",
     "text": [
      "학습할 데이터 생성 중~:  93%|█████████▎| 69093/74548 [1:15:06<06:55, 13.14it/s]"
     ]
    },
    {
     "name": "stdout",
     "output_type": "stream",
     "text": [
      "SEGU1870874-2 은 크롤링되지 않았습니다.\n"
     ]
    },
    {
     "name": "stderr",
     "output_type": "stream",
     "text": [
      "학습할 데이터 생성 중~:  93%|█████████▎| 69165/74548 [1:15:12<06:35, 13.60it/s]"
     ]
    },
    {
     "name": "stdout",
     "output_type": "stream",
     "text": [
      "TKRU3139078-1 은 크롤링되지 않았습니다.\n"
     ]
    },
    {
     "name": "stderr",
     "output_type": "stream",
     "text": [
      "학습할 데이터 생성 중~:  93%|█████████▎| 69261/74548 [1:15:19<06:26, 13.69it/s]"
     ]
    },
    {
     "name": "stdout",
     "output_type": "stream",
     "text": [
      "MSKU7016600-1 은 크롤링되지 않았습니다.\n"
     ]
    },
    {
     "name": "stderr",
     "output_type": "stream",
     "text": [
      "학습할 데이터 생성 중~:  93%|█████████▎| 69637/74548 [1:15:50<05:29, 14.91it/s]"
     ]
    },
    {
     "name": "stdout",
     "output_type": "stream",
     "text": [
      "MRKU7150285-2 은 크롤링되지 않았습니다.\n",
      "MRKU7053243-1 은 크롤링되지 않았습니다.\n"
     ]
    },
    {
     "name": "stderr",
     "output_type": "stream",
     "text": [
      "학습할 데이터 생성 중~:  93%|█████████▎| 69697/74548 [1:15:55<06:00, 13.46it/s]"
     ]
    },
    {
     "name": "stdout",
     "output_type": "stream",
     "text": [
      "TCNU7804027-2 은 크롤링되지 않았습니다.\n"
     ]
    },
    {
     "name": "stderr",
     "output_type": "stream",
     "text": [
      "학습할 데이터 생성 중~:  94%|█████████▍| 70115/74548 [1:16:28<05:27, 13.54it/s]"
     ]
    },
    {
     "name": "stdout",
     "output_type": "stream",
     "text": [
      "SZLU9351190-1 은 크롤링되지 않았습니다.\n"
     ]
    },
    {
     "name": "stderr",
     "output_type": "stream",
     "text": [
      "학습할 데이터 생성 중~:  94%|█████████▍| 70275/74548 [1:16:41<05:09, 13.83it/s]"
     ]
    },
    {
     "name": "stdout",
     "output_type": "stream",
     "text": [
      "MSKU6249634-1 은 크롤링되지 않았습니다.\n"
     ]
    },
    {
     "name": "stderr",
     "output_type": "stream",
     "text": [
      "학습할 데이터 생성 중~:  95%|█████████▍| 70467/74548 [1:16:57<05:16, 12.91it/s]"
     ]
    },
    {
     "name": "stdout",
     "output_type": "stream",
     "text": [
      "MNBU9021266-2 은 크롤링되지 않았습니다.\n"
     ]
    },
    {
     "name": "stderr",
     "output_type": "stream",
     "text": [
      "학습할 데이터 생성 중~:  95%|█████████▍| 70477/74548 [1:16:57<04:56, 13.74it/s]"
     ]
    },
    {
     "name": "stdout",
     "output_type": "stream",
     "text": [
      "MNBU3445708-2 은 크롤링되지 않았습니다.\n"
     ]
    },
    {
     "name": "stderr",
     "output_type": "stream",
     "text": [
      "학습할 데이터 생성 중~:  95%|█████████▍| 70595/74548 [1:17:07<05:00, 13.17it/s]"
     ]
    },
    {
     "name": "stdout",
     "output_type": "stream",
     "text": [
      "DRYU9075385-1 은 크롤링되지 않았습니다.\n"
     ]
    },
    {
     "name": "stderr",
     "output_type": "stream",
     "text": [
      "학습할 데이터 생성 중~:  95%|█████████▍| 70702/74548 [1:17:15<04:31, 14.18it/s]"
     ]
    },
    {
     "name": "stdout",
     "output_type": "stream",
     "text": [
      "TEMU0411990-7 은 크롤링되지 않았습니다.\n"
     ]
    },
    {
     "name": "stderr",
     "output_type": "stream",
     "text": [
      "학습할 데이터 생성 중~:  95%|█████████▌| 70838/74548 [1:17:26<04:37, 13.38it/s]"
     ]
    },
    {
     "name": "stdout",
     "output_type": "stream",
     "text": [
      "TLLU2221990-1 은 크롤링되지 않았습니다.\n"
     ]
    },
    {
     "name": "stderr",
     "output_type": "stream",
     "text": [
      "학습할 데이터 생성 중~:  95%|█████████▌| 70896/74548 [1:17:31<04:31, 13.44it/s]"
     ]
    },
    {
     "name": "stdout",
     "output_type": "stream",
     "text": [
      "TEMU5457227-1 은 크롤링되지 않았습니다.\n"
     ]
    },
    {
     "name": "stderr",
     "output_type": "stream",
     "text": [
      "학습할 데이터 생성 중~:  96%|█████████▌| 71618/74548 [1:18:29<03:41, 13.23it/s]"
     ]
    },
    {
     "name": "stdout",
     "output_type": "stream",
     "text": [
      "MNBU3433923-1 은 크롤링되지 않았습니다.\n"
     ]
    },
    {
     "name": "stderr",
     "output_type": "stream",
     "text": [
      "학습할 데이터 생성 중~:  96%|█████████▌| 71636/74548 [1:18:30<03:45, 12.94it/s]"
     ]
    },
    {
     "name": "stdout",
     "output_type": "stream",
     "text": [
      "MEDU9134092-1 은 크롤링되지 않았습니다.\n"
     ]
    },
    {
     "name": "stderr",
     "output_type": "stream",
     "text": [
      "학습할 데이터 생성 중~:  97%|█████████▋| 72104/74548 [1:19:07<03:06, 13.10it/s]"
     ]
    },
    {
     "name": "stdout",
     "output_type": "stream",
     "text": [
      "AXIU6103511-1 은 크롤링되지 않았습니다.\n"
     ]
    },
    {
     "name": "stderr",
     "output_type": "stream",
     "text": [
      "학습할 데이터 생성 중~:  97%|█████████▋| 72226/74548 [1:19:17<02:59, 12.95it/s]"
     ]
    },
    {
     "name": "stdout",
     "output_type": "stream",
     "text": [
      "TCNU5010882-7 은 크롤링되지 않았습니다.\n"
     ]
    },
    {
     "name": "stderr",
     "output_type": "stream",
     "text": [
      "학습할 데이터 생성 중~:  97%|█████████▋| 72470/74548 [1:19:37<02:20, 14.76it/s]"
     ]
    },
    {
     "name": "stdout",
     "output_type": "stream",
     "text": [
      "MSKU9304870-2 은 크롤링되지 않았습니다.\n",
      "MSKU9235320-2 은 크롤링되지 않았습니다.\n"
     ]
    },
    {
     "name": "stderr",
     "output_type": "stream",
     "text": [
      "학습할 데이터 생성 중~:  97%|█████████▋| 72482/74548 [1:19:38<02:32, 13.59it/s]"
     ]
    },
    {
     "name": "stdout",
     "output_type": "stream",
     "text": [
      "MSKU9156807-1 은 크롤링되지 않았습니다.\n"
     ]
    },
    {
     "name": "stderr",
     "output_type": "stream",
     "text": [
      "학습할 데이터 생성 중~:  98%|█████████▊| 72758/74548 [1:20:01<02:10, 13.70it/s]"
     ]
    },
    {
     "name": "stdout",
     "output_type": "stream",
     "text": [
      "MSKU0316062-1 은 크롤링되지 않았습니다.\n"
     ]
    },
    {
     "name": "stderr",
     "output_type": "stream",
     "text": [
      "학습할 데이터 생성 중~:  98%|█████████▊| 73350/74548 [1:20:48<01:28, 13.58it/s]"
     ]
    },
    {
     "name": "stdout",
     "output_type": "stream",
     "text": [
      "MEDU1167490-1 은 크롤링되지 않았습니다.\n"
     ]
    },
    {
     "name": "stderr",
     "output_type": "stream",
     "text": [
      "학습할 데이터 생성 중~:  99%|█████████▉| 73658/74548 [1:21:14<01:03, 13.92it/s]"
     ]
    },
    {
     "name": "stdout",
     "output_type": "stream",
     "text": [
      "MSKU2685835-1 은 크롤링되지 않았습니다.\n"
     ]
    },
    {
     "name": "stderr",
     "output_type": "stream",
     "text": [
      "학습할 데이터 생성 중~:  99%|█████████▉| 73718/74548 [1:21:18<01:01, 13.49it/s]"
     ]
    },
    {
     "name": "stdout",
     "output_type": "stream",
     "text": [
      "MRKU4860914-1 은 크롤링되지 않았습니다.\n"
     ]
    },
    {
     "name": "stderr",
     "output_type": "stream",
     "text": [
      "학습할 데이터 생성 중~:  99%|█████████▉| 73878/74548 [1:21:31<00:49, 13.59it/s]"
     ]
    },
    {
     "name": "stdout",
     "output_type": "stream",
     "text": [
      "MSKU5875145-1 은 크롤링되지 않았습니다.\n"
     ]
    },
    {
     "name": "stderr",
     "output_type": "stream",
     "text": [
      "학습할 데이터 생성 중~:  99%|█████████▉| 73898/74548 [1:21:32<00:45, 14.34it/s]"
     ]
    },
    {
     "name": "stdout",
     "output_type": "stream",
     "text": [
      "MSKU3650406-1 은 크롤링되지 않았습니다.\n"
     ]
    },
    {
     "name": "stderr",
     "output_type": "stream",
     "text": [
      "학습할 데이터 생성 중~:  99%|█████████▉| 73906/74548 [1:21:33<00:45, 14.15it/s]"
     ]
    },
    {
     "name": "stdout",
     "output_type": "stream",
     "text": [
      "MSKU2966787-1 은 크롤링되지 않았습니다.\n"
     ]
    },
    {
     "name": "stderr",
     "output_type": "stream",
     "text": [
      "학습할 데이터 생성 중~:  99%|█████████▉| 73910/74548 [1:21:33<00:43, 14.62it/s]"
     ]
    },
    {
     "name": "stdout",
     "output_type": "stream",
     "text": [
      "MSKU2405071-2 은 크롤링되지 않았습니다.\n"
     ]
    },
    {
     "name": "stderr",
     "output_type": "stream",
     "text": [
      "학습할 데이터 생성 중~:  99%|█████████▉| 73922/74548 [1:21:34<00:41, 14.96it/s]"
     ]
    },
    {
     "name": "stdout",
     "output_type": "stream",
     "text": [
      "MSKU1741620-2 은 크롤링되지 않았습니다.\n",
      "MSKU1592661-1 은 크롤링되지 않았습니다.\n"
     ]
    },
    {
     "name": "stderr",
     "output_type": "stream",
     "text": [
      "학습할 데이터 생성 중~:  99%|█████████▉| 73926/74548 [1:21:34<00:38, 16.31it/s]"
     ]
    },
    {
     "name": "stdout",
     "output_type": "stream",
     "text": [
      "MSKU1543271-2 은 크롤링되지 않았습니다.\n",
      "MSKU1346539-1 은 크롤링되지 않았습니다.\n"
     ]
    },
    {
     "name": "stderr",
     "output_type": "stream",
     "text": [
      "학습할 데이터 생성 중~:  99%|█████████▉| 73942/74548 [1:21:36<00:42, 14.27it/s]"
     ]
    },
    {
     "name": "stdout",
     "output_type": "stream",
     "text": [
      "MSKU0928788-1 은 크롤링되지 않았습니다.\n"
     ]
    },
    {
     "name": "stderr",
     "output_type": "stream",
     "text": [
      "학습할 데이터 생성 중~:  99%|█████████▉| 73958/74548 [1:21:37<00:39, 14.83it/s]"
     ]
    },
    {
     "name": "stdout",
     "output_type": "stream",
     "text": [
      "MSKU0270547-1 은 크롤링되지 않았습니다.\n",
      "MSKU0128419-2 은 크롤링되지 않았습니다.\n"
     ]
    },
    {
     "name": "stderr",
     "output_type": "stream",
     "text": [
      "학습할 데이터 생성 중~:  99%|█████████▉| 73982/74548 [1:21:39<00:40, 13.85it/s]"
     ]
    },
    {
     "name": "stdout",
     "output_type": "stream",
     "text": [
      "MRKU9945362-5 은 크롤링되지 않았습니다.\n"
     ]
    },
    {
     "name": "stderr",
     "output_type": "stream",
     "text": [
      "학습할 데이터 생성 중~:  99%|█████████▉| 73986/74548 [1:21:39<00:38, 14.52it/s]"
     ]
    },
    {
     "name": "stdout",
     "output_type": "stream",
     "text": [
      "MRKU9792411-2 은 크롤링되지 않았습니다.\n"
     ]
    },
    {
     "name": "stderr",
     "output_type": "stream",
     "text": [
      "학습할 데이터 생성 중~:  99%|█████████▉| 74034/74548 [1:21:43<00:36, 14.26it/s]"
     ]
    },
    {
     "name": "stdout",
     "output_type": "stream",
     "text": [
      "MRKU7279879-1 은 크롤링되지 않았습니다.\n"
     ]
    },
    {
     "name": "stderr",
     "output_type": "stream",
     "text": [
      "학습할 데이터 생성 중~:  99%|█████████▉| 74104/74548 [1:21:48<00:32, 13.85it/s]"
     ]
    },
    {
     "name": "stdout",
     "output_type": "stream",
     "text": [
      "MRKU3189720-1 은 크롤링되지 않았습니다.\n"
     ]
    },
    {
     "name": "stderr",
     "output_type": "stream",
     "text": [
      "학습할 데이터 생성 중~: 100%|█████████▉| 74214/74548 [1:21:57<00:25, 12.91it/s]"
     ]
    },
    {
     "name": "stdout",
     "output_type": "stream",
     "text": [
      "MWCU5732904-1 은 크롤링되지 않았습니다.\n"
     ]
    },
    {
     "name": "stderr",
     "output_type": "stream",
     "text": [
      "학습할 데이터 생성 중~: 100%|█████████▉| 74434/74548 [1:22:15<00:08, 13.41it/s]"
     ]
    },
    {
     "name": "stdout",
     "output_type": "stream",
     "text": [
      "MRKU4030223-1 은 크롤링되지 않았습니다.\n"
     ]
    },
    {
     "name": "stderr",
     "output_type": "stream",
     "text": [
      "학습할 데이터 생성 중~: 100%|██████████| 74548/74548 [1:22:25<00:00, 15.07it/s]\n"
     ]
    }
   ],
   "source": [
    "couldnot_crawl_num = 0\n",
    "\n",
    "# 데이터 프레임을 다시 학습할 수 있도록 데이터를 변환\n",
    "#! 사용한 Feature들은 파워포인트 참고\n",
    "\n",
    "container_list = list(data['CONTAINER_NO'].unique())\n",
    "# 여기에서 DWELL TIME은 Storage Time을 제외한 Moving Time만을 의미 \n",
    "# 빈 데이터 프레임 생성(최종 사용할 데이터)\n",
    "last_df = pd.DataFrame(columns=[\"CONTAINER_NO\", \"VESSEL_ID\", \"COUNTRY_POD\", \"CITY_POD\", \"Full/Empty\", \"BLOCK\", \"BAY\", \n",
    "                                \"YC_ID\", \"YT_ID\", \"QC_ID\", \"QUEUE_POSITION_NUMBER\", \"QUEUE_POSITION_HACK_DACK\", \"H_BOX\",\n",
    "                                \"WEIGHT\", \"SIZE\", \"FREEZE\", \"IMDG\", \"UNNO\", \"CARGO_MANAGEMENT_NUM\", \"SEAL_NUM\", \"COMPANY\", \"IMPORT/EXPORT\", \"T/S\",\n",
    "                                \"TEMPERATURE\", \"HUMIDITY\", \"RAIN\", \"WIND_SPEED\", \"PRECIPITATION\",\n",
    "                                # 일일 교통량과 TEU는 이후에 다시 추가                               \n",
    "                                \"DAY\", \"TRUCK IN PROCESS\", \"Moving Time\"])\n",
    "i = 0\n",
    "\n",
    "for container in tqdm(container_list, desc = \"학습할 데이터 생성 중~\") :\n",
    "    temp_df = data[data['CONTAINER_NO'] == container].reset_index(drop=True)\n",
    "    # 크롤링한 container 정보 호출\n",
    "    crawl_temp_df = crawling_ds_container[crawling_ds_container['CONTAINER_NO'] == container].reset_index(drop=True)\n",
    "    \n",
    "    \n",
    "    #! 먼저 이 데이터가 크롤링한 데이터와 연결이 되는지 확인하기 연결되지 못하면 통합을 하지 않는다\n",
    "    #! = 우리 데이터에는 있지만 사이트에서는 확인할 수 없던 container & vessel 조합 제거 \n",
    "    check_crawl = crawl_temp_df.loc[:, [\"SIZE\", \"WEIGHT\", \"FREEZE\", \"IMDG\", \"UNNO\", \"COMPANY\",'IMPORT/EXPORT', 'CARGO MANAGEMENT NUMBER', 'SEAL NUMBER', 'T/S']]\n",
    "    if(check_crawl.isnull().sum().sum() == 30) :\n",
    "        couldnot_crawl_num += 1\n",
    "        print(container, \"은 크롤링되지 않았습니다.\")\n",
    "        continue\n",
    "\n",
    "    #! 데이터가 잘 통합되었는지 데이터 확인\n",
    "    # CONTAINER_NO 확인\n",
    "    if (temp_df.loc[0, \"CONTAINER_NO\"] == temp_df.loc[1, \"CONTAINER_NO\"] == temp_df.loc[2, \"CONTAINER_NO\"]) :\n",
    "        pass \n",
    "    else :\n",
    "        print('컨테이너 데이터 오류')\n",
    "        break\n",
    "    \n",
    "    # VESSEL 확인\n",
    "    if (temp_df.loc[0, \"VESSEL\"] == temp_df.loc[1, \"VESSEL\"] == temp_df.loc[2, \"VESSEL\"]) :\n",
    "        pass \n",
    "    else :\n",
    "        print('선박 데이터 오류')\n",
    "        break\n",
    "    \n",
    "    # FULL/EMPTY 확인\n",
    "    if (temp_df.loc[0, \"FULL_EMPTY\"] == temp_df.loc[1, \"FULL_EMPTY\"] == temp_df.loc[2, \"FULL_EMPTY\"]) :\n",
    "        pass \n",
    "    else :\n",
    "        print('FULL/EMPTY 데이터 오류')\n",
    "        break\n",
    "    \n",
    "    # POD 확인\n",
    "    if (temp_df.loc[0, \"POD\"] == temp_df.loc[1, \"POD\"] == temp_df.loc[2, \"POD\"]) :\n",
    "        pass \n",
    "    else :\n",
    "        print('POD 데이터 오류')\n",
    "        break\n",
    "    \n",
    "    # BLOCK_BAY 확인\n",
    "    if (temp_df.loc[0, \"BLOCK_BAY\"] == temp_df.loc[1, \"BLOCK_BAY\"] == temp_df.loc[2, \"BLOCK_BAY\"]) :\n",
    "        pass \n",
    "    else :\n",
    "        print('BLOCK_BAY 데이터 오류')\n",
    "        break\n",
    "    \n",
    "    #! Moving Time 계산\n",
    "    moving_time = (temp_df.loc[2, \"JOB_END_DT\"] - temp_df.loc[0, \"JOB_START_DT\"]).seconds / 60\n",
    "    \n",
    "    #! CONTAINER_NO \n",
    "    container_no = temp_df.loc[0, \"CONTAINER_NO\"][:4]\n",
    "    \n",
    "    #! VESSEL\n",
    "    vessel = temp_df.loc[0, \"VESSEL\"][:4]\n",
    "    \n",
    "    #! 장비 IDs & 트럭 ID\n",
    "    qc_id = temp_df.loc[1, \"QC_ID\"]\n",
    "    yt_id = temp_df.loc[1, \"ITV_ID\"]\n",
    "    yc_id = temp_df.loc[1, \"CHE_ID\"]\n",
    "    \n",
    "    #! FULL_EMPTY\n",
    "    full_empty = temp_df.loc[0, \"FULL_EMPTY\"]\n",
    "    \n",
    "    #! 요일\n",
    "    if(temp_df.loc[0, 'JOB_START_DT'].day_name() == temp_df.loc[1, 'JOB_START_DT'].day_name() == temp_df.loc[2, 'JOB_START_DT'].day_name()) :\n",
    "        day = temp_df.loc[1, 'JOB_START_DT'].day_name()\n",
    "        \n",
    "    #! 국가 & 도시\n",
    "    pod_country = temp_df.loc[0, \"POD\"][:2]\n",
    "    pod_city = temp_df.loc[0, \"POD\"][2:]\n",
    "\n",
    "    \n",
    "    #! Block & Bay\n",
    "    if(\"-\" in temp_df.loc[0, \"BLOCK_BAY\"]) : \n",
    "            temp_block_bay = temp_df.loc[0, \"BLOCK_BAY\"].split('-')\n",
    "            block = str(int(temp_block_bay[0][:-1])) + temp_block_bay[0][-1]\n",
    "            bay = temp_block_bay[1]\n",
    "    else :\n",
    "        block = temp_df.loc[0, \"BLOCK_BAY\"]\n",
    "        bay = temp_df.loc[0, \"BLOCK_BAY\"]\n",
    "        \n",
    "    #! \"QUEUE_POSITION_NUMBER\", \"QUEUE_POSITION_HACK_DACK\", \"H_BOX\"\n",
    "    queue_temp = temp_df.loc[0, \"QUEUE_POSITION\"].split(\"-\")[0]\n",
    "    queue_position_number = queue_temp[:2]\n",
    "    queue_position_hack_deck = queue_temp[2]\n",
    "    h_box = temp_df.loc[0, \"H_BOX\"]\n",
    "    \n",
    "    \n",
    "    #! 컨테이너 관련\n",
    "    #! WEIGHT\n",
    "    weight = crawl_temp_df.loc[0, \"WEIGHT\"]\n",
    "    \n",
    "    #! SIZE\n",
    "    size = crawl_temp_df.loc[0, \"SIZE\"]\n",
    "    \n",
    "    #! TYPE\n",
    "    freeze = crawl_temp_df.loc[0, \"FREEZE\"]\n",
    "    imdg = crawl_temp_df.loc[0, \"IMDG\"] \n",
    "    unno  = crawl_temp_df.loc[0, \"UNNO\"]\n",
    "    \n",
    "    #! 그 외 정보들\n",
    "    company = crawl_temp_df.loc[0, \"COMPANY\"] \n",
    "    import_export = crawl_temp_df.loc[0, \"IMPORT/EXPORT\"]\n",
    "    cargo_management_num = crawl_temp_df.loc[0, \"CARGO MANAGEMENT NUMBER\"]\n",
    "    seal_num = crawl_temp_df.loc[0, \"SEAL NUMBER\"]\n",
    "    t_s = crawl_temp_df.loc[0, \"T/S\"]\n",
    "    \n",
    "    #! 날씨 정보\n",
    "    original_data_day = temp_df.loc[1, \"JOB_START_DT\"].day\n",
    "    original_data_hour = temp_df.loc[1, \"JOB_START_DT\"].hour\n",
    "    \n",
    "    weather_temp_df = crawling_weather[crawling_weather['DAY'] == original_data_day]\n",
    "    weather_temp_df = weather_temp_df[weather_temp_df['TIME'] == original_data_hour].reset_index(drop=True)\n",
    "    temperature = weather_temp_df.loc[0, \"기온(°C)\"]\n",
    "    humidity = weather_temp_df.loc[0, \"습도(%)\"]\n",
    "    # 비 여부\n",
    "    if(weather_temp_df.loc[0, \"강수량(mm)\"] != 0) : #0이 아니면 비가 온 거니\n",
    "        rain = 1\n",
    "    else : \n",
    "        rain = 0\n",
    "    wind_speed = weather_temp_df.loc[0, \"풍속(m/s)\"]\n",
    "    precipitation  = weather_temp_df.loc[0, \"강수량(mm)\"]\n",
    "\n",
    "    #! TRUCK IN PROCESS\n",
    "    truck_start = temp_df.loc[1, \"JOB_START_DT\"]\n",
    "    total_processing_truck = 0\n",
    "    temp_ds_move_df_1 = ds_move_df[(ds_move_df['JOB_START_DT'] > truck_start - timedelta(minutes=60)) & (ds_move_df['JOB_START_DT'] < truck_start)]\n",
    "    temp_ds_move_df_2 = ds_move_df[(ds_move_df['JOB_END_DT'] < truck_start + timedelta(minutes=60)) & (ds_move_df['JOB_END_DT'] > truck_start)]\n",
    "    temp_ds_move_df = pd.concat([temp_ds_move_df_1, temp_ds_move_df_2])\n",
    "    temp_ds_move_df = temp_ds_move_df.drop_duplicates('CONTAINER_NO')\n",
    "    temp_ds_move_df = temp_ds_move_df.reset_index(drop=True)\n",
    "    for index in range(len(temp_ds_move_df)) :\n",
    "        compare_truck_strat_time = temp_ds_move_df.loc[index, \"JOB_START_DT\"]\n",
    "        compare_truck_end_time = temp_ds_move_df.loc[index, \"JOB_END_DT\"]\n",
    "        # 다른 트럭이 작업 중이라면\n",
    "        if ((compare_truck_strat_time < truck_start) & (truck_start < compare_truck_end_time)) :\n",
    "            total_processing_truck += 1\n",
    "    \n",
    "\n",
    "    #! 전처리한 값 집어넣어주기\n",
    "    row_list = [container_no, vessel, pod_country, pod_city, full_empty, block, bay,\n",
    "                yc_id, yt_id, qc_id, queue_position_number, queue_position_hack_deck, h_box,\n",
    "                weight, size, freeze, imdg, unno, cargo_management_num, seal_num, company, import_export, t_s,\n",
    "                temperature, humidity, rain, wind_speed, precipitation, \n",
    "                day, total_processing_truck, moving_time]\n",
    "    last_df.loc[i, :] = row_list\n",
    "    i += 1"
   ]
  },
  {
   "cell_type": "code",
   "execution_count": null,
   "metadata": {},
   "outputs": [
    {
     "data": {
      "text/plain": [
       "74548"
      ]
     },
     "execution_count": 161,
     "metadata": {},
     "output_type": "execute_result"
    }
   ],
   "source": [
    "len(ds_move_df)"
   ]
  },
  {
   "cell_type": "code",
   "execution_count": 43,
   "metadata": {},
   "outputs": [
    {
     "name": "stdout",
     "output_type": "stream",
     "text": [
      "최종 Case 1 데이터 개수 : 73573\n"
     ]
    }
   ],
   "source": [
    "print('최종 Case 1 데이터 개수 :', len(last_df))\n",
    "last_df.to_csv('Training Case 1.csv', index=False, encoding='CP949')"
   ]
  },
  {
   "cell_type": "code",
   "execution_count": 26,
   "metadata": {},
   "outputs": [
    {
     "name": "stderr",
     "output_type": "stream",
     "text": [
      "데이터 통합 중: 100%|██████████| 74550/74550 [20:15<00:00, 61.35it/s]  \n"
     ]
    }
   ],
   "source": [
    "'''# DS MOVING TIME 분포 확인\n",
    "moving_time_list = []\n",
    "\n",
    "for container in tqdm(total_unique_container_list, desc = \"데이터 통합 중\") : \n",
    "    temp_df = data[data['CONTAINER_NO'] == container].reset_index(drop=True)\n",
    "    # YARDSIDE의 작업이 끝나는 시간 - MOVE가 시작하는 시간\n",
    "    start_time = temp_df.loc[1, 'JOB_START_DT']\n",
    "    end_time = temp_df.loc[2, \"JOB_END_DT\"]\n",
    "    moving_time = (end_time - start_time).seconds / 60\n",
    "    moving_time_list.append(moving_time)\n",
    "    '''"
   ]
  },
  {
   "cell_type": "code",
   "execution_count": 28,
   "metadata": {},
   "outputs": [
    {
     "data": {
      "image/png": "[encoded data removed]",
      "text/plain": [
       "<Figure size 500x500 with 1 Axes>"
      ]
     },
     "metadata": {},
     "output_type": "display_data"
    }
   ],
   "source": [
    "# 분포 확인\n",
    "import matplotlib.pyplot as plt\n",
    "import seaborn as sns\n",
    "sns.displot(moving_time_list, rug=True)\n",
    "plt.show()"
   ]
  },
  {
   "cell_type": "code",
   "execution_count": 33,
   "metadata": {},
   "outputs": [
    {
     "data": {
      "image/png": "[encoded data removed]",
      "text/plain": [
       "<Figure size 640x480 with 1 Axes>"
      ]
     },
     "metadata": {},
     "output_type": "display_data"
    }
   ],
   "source": [
    "n, bins, patches = plt.hist(moving_time_list, bins=100)\n",
    "plt.show()"
   ]
  },
  {
   "cell_type": "code",
   "execution_count": 34,
   "metadata": {},
   "outputs": [
    {
     "data": {
      "image/png": "[encoded data removed]",
      "text/plain": [
       "<Figure size 640x480 with 1 Axes>"
      ]
     },
     "metadata": {},
     "output_type": "display_data"
    }
   ],
   "source": [
    "# 박스 플롯 - 근데 이거는 한 곳에서 나온 경우가 아니기 떄문에 박스 플롯을 통하여 이상치라고 하면 안됨\n",
    "plt.boxplot(moving_time_list)\n",
    "plt.show()"
   ]
  }
 ],
 "metadata": {
  "kernelspec": {
   "display_name": "base",
   "language": "python",
   "name": "python3"
  },
  "language_info": {
   "codemirror_mode": {
    "name": "ipython",
    "version": 3
   },
   "file_extension": ".py",
   "mimetype": "text/x-python",
   "name": "python",
   "nbconvert_exporter": "python",
   "pygments_lexer": "ipython3",
   "version": "3.9.13"
  },
  "orig_nbformat": 4
 },
 "nbformat": 4,
 "nbformat_minor": 2
}
